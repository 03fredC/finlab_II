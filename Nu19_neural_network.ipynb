{
 "cells": [
  {
   "cell_type": "markdown",
   "metadata": {},
   "source": [
    "# 神經網路實做"
   ]
  },
  {
   "cell_type": "markdown",
   "metadata": {},
   "source": [
    "## 拿取加權指數資料"
   ]
  },
  {
   "cell_type": "code",
   "execution_count": 11,
   "metadata": {
    "slideshow": {
     "slide_type": "-"
    }
   },
   "outputs": [
    {
     "ename": "KeyError",
     "evalue": "'0050'",
     "output_type": "error",
     "traceback": [
      "\u001b[1;31m---------------------------------------------------------------------------\u001b[0m",
      "\u001b[1;31mKeyError\u001b[0m                                  Traceback (most recent call last)",
      "\u001b[1;32md:\\ProgramData\\Miniconda3\\envs\\finlab\\lib\\site-packages\\pandas\\core\\indexes\\base.py\u001b[0m in \u001b[0;36mget_loc\u001b[1;34m(self, key, method, tolerance)\u001b[0m\n\u001b[0;32m   2894\u001b[0m             \u001b[1;32mtry\u001b[0m\u001b[1;33m:\u001b[0m\u001b[1;33m\u001b[0m\u001b[1;33m\u001b[0m\u001b[0m\n\u001b[1;32m-> 2895\u001b[1;33m                 \u001b[1;32mreturn\u001b[0m \u001b[0mself\u001b[0m\u001b[1;33m.\u001b[0m\u001b[0m_engine\u001b[0m\u001b[1;33m.\u001b[0m\u001b[0mget_loc\u001b[0m\u001b[1;33m(\u001b[0m\u001b[0mcasted_key\u001b[0m\u001b[1;33m)\u001b[0m\u001b[1;33m\u001b[0m\u001b[1;33m\u001b[0m\u001b[0m\n\u001b[0m\u001b[0;32m   2896\u001b[0m             \u001b[1;32mexcept\u001b[0m \u001b[0mKeyError\u001b[0m \u001b[1;32mas\u001b[0m \u001b[0merr\u001b[0m\u001b[1;33m:\u001b[0m\u001b[1;33m\u001b[0m\u001b[1;33m\u001b[0m\u001b[0m\n",
      "\u001b[1;32mpandas\\_libs\\index.pyx\u001b[0m in \u001b[0;36mpandas._libs.index.IndexEngine.get_loc\u001b[1;34m()\u001b[0m\n",
      "\u001b[1;32mpandas\\_libs\\index.pyx\u001b[0m in \u001b[0;36mpandas._libs.index.IndexEngine.get_loc\u001b[1;34m()\u001b[0m\n",
      "\u001b[1;32mpandas\\_libs\\hashtable_class_helper.pxi\u001b[0m in \u001b[0;36mpandas._libs.hashtable.PyObjectHashTable.get_item\u001b[1;34m()\u001b[0m\n",
      "\u001b[1;32mpandas\\_libs\\hashtable_class_helper.pxi\u001b[0m in \u001b[0;36mpandas._libs.hashtable.PyObjectHashTable.get_item\u001b[1;34m()\u001b[0m\n",
      "\u001b[1;31mKeyError\u001b[0m: '0050'",
      "\nThe above exception was the direct cause of the following exception:\n",
      "\u001b[1;31mKeyError\u001b[0m                                  Traceback (most recent call last)",
      "\u001b[1;32m~\\AppData\\Local\\Temp\\ipykernel_11316\\2548199175.py\u001b[0m in \u001b[0;36m<module>\u001b[1;34m\u001b[0m\n\u001b[0;32m      4\u001b[0m \u001b[0mdata\u001b[0m \u001b[1;33m=\u001b[0m \u001b[0mData\u001b[0m\u001b[1;33m(\u001b[0m\u001b[1;33m)\u001b[0m\u001b[1;33m\u001b[0m\u001b[1;33m\u001b[0m\u001b[0m\n\u001b[0;32m      5\u001b[0m \u001b[0mtwii\u001b[0m \u001b[1;33m=\u001b[0m \u001b[0mdata\u001b[0m\u001b[1;33m.\u001b[0m\u001b[0mget\u001b[0m\u001b[1;33m(\u001b[0m\u001b[1;34m\"發行量加權股價指數\"\u001b[0m\u001b[1;33m)\u001b[0m\u001b[1;33m\u001b[0m\u001b[1;33m\u001b[0m\u001b[0m\n\u001b[1;32m----> 6\u001b[1;33m \u001b[0mtwii\u001b[0m \u001b[1;33m=\u001b[0m \u001b[0mtwii\u001b[0m\u001b[1;33m[\u001b[0m\u001b[1;34m'0050'\u001b[0m\u001b[1;33m]\u001b[0m\u001b[1;33m\u001b[0m\u001b[1;33m\u001b[0m\u001b[0m\n\u001b[0m\u001b[0;32m      7\u001b[0m \u001b[0mtwii\u001b[0m \u001b[1;33m=\u001b[0m \u001b[0mtwii\u001b[0m\u001b[1;33m[\u001b[0m\u001b[1;33m(\u001b[0m\u001b[0mtwii\u001b[0m\u001b[1;33m.\u001b[0m\u001b[0mindex\u001b[0m\u001b[1;33m.\u001b[0m\u001b[0mminute\u001b[0m \u001b[1;33m%\u001b[0m \u001b[1;36m15\u001b[0m \u001b[1;33m==\u001b[0m \u001b[1;36m0\u001b[0m\u001b[1;33m)\u001b[0m  \u001b[1;33m&\u001b[0m \u001b[1;33m(\u001b[0m\u001b[0mtwii\u001b[0m\u001b[1;33m.\u001b[0m\u001b[0mindex\u001b[0m\u001b[1;33m.\u001b[0m\u001b[0msecond\u001b[0m \u001b[1;33m==\u001b[0m \u001b[1;36m0\u001b[0m\u001b[1;33m)\u001b[0m\u001b[1;33m]\u001b[0m\u001b[1;33m\u001b[0m\u001b[1;33m\u001b[0m\u001b[0m\n\u001b[0;32m      8\u001b[0m \u001b[0mtwii\u001b[0m\u001b[1;33m.\u001b[0m\u001b[0mplot\u001b[0m\u001b[1;33m(\u001b[0m\u001b[1;33m)\u001b[0m\u001b[1;33m\u001b[0m\u001b[1;33m\u001b[0m\u001b[0m\n",
      "\u001b[1;32md:\\ProgramData\\Miniconda3\\envs\\finlab\\lib\\site-packages\\pandas\\core\\frame.py\u001b[0m in \u001b[0;36m__getitem__\u001b[1;34m(self, key)\u001b[0m\n\u001b[0;32m   2904\u001b[0m             \u001b[1;32mif\u001b[0m \u001b[0mself\u001b[0m\u001b[1;33m.\u001b[0m\u001b[0mcolumns\u001b[0m\u001b[1;33m.\u001b[0m\u001b[0mnlevels\u001b[0m \u001b[1;33m>\u001b[0m \u001b[1;36m1\u001b[0m\u001b[1;33m:\u001b[0m\u001b[1;33m\u001b[0m\u001b[1;33m\u001b[0m\u001b[0m\n\u001b[0;32m   2905\u001b[0m                 \u001b[1;32mreturn\u001b[0m \u001b[0mself\u001b[0m\u001b[1;33m.\u001b[0m\u001b[0m_getitem_multilevel\u001b[0m\u001b[1;33m(\u001b[0m\u001b[0mkey\u001b[0m\u001b[1;33m)\u001b[0m\u001b[1;33m\u001b[0m\u001b[1;33m\u001b[0m\u001b[0m\n\u001b[1;32m-> 2906\u001b[1;33m             \u001b[0mindexer\u001b[0m \u001b[1;33m=\u001b[0m \u001b[0mself\u001b[0m\u001b[1;33m.\u001b[0m\u001b[0mcolumns\u001b[0m\u001b[1;33m.\u001b[0m\u001b[0mget_loc\u001b[0m\u001b[1;33m(\u001b[0m\u001b[0mkey\u001b[0m\u001b[1;33m)\u001b[0m\u001b[1;33m\u001b[0m\u001b[1;33m\u001b[0m\u001b[0m\n\u001b[0m\u001b[0;32m   2907\u001b[0m             \u001b[1;32mif\u001b[0m \u001b[0mis_integer\u001b[0m\u001b[1;33m(\u001b[0m\u001b[0mindexer\u001b[0m\u001b[1;33m)\u001b[0m\u001b[1;33m:\u001b[0m\u001b[1;33m\u001b[0m\u001b[1;33m\u001b[0m\u001b[0m\n\u001b[0;32m   2908\u001b[0m                 \u001b[0mindexer\u001b[0m \u001b[1;33m=\u001b[0m \u001b[1;33m[\u001b[0m\u001b[0mindexer\u001b[0m\u001b[1;33m]\u001b[0m\u001b[1;33m\u001b[0m\u001b[1;33m\u001b[0m\u001b[0m\n",
      "\u001b[1;32md:\\ProgramData\\Miniconda3\\envs\\finlab\\lib\\site-packages\\pandas\\core\\indexes\\base.py\u001b[0m in \u001b[0;36mget_loc\u001b[1;34m(self, key, method, tolerance)\u001b[0m\n\u001b[0;32m   2895\u001b[0m                 \u001b[1;32mreturn\u001b[0m \u001b[0mself\u001b[0m\u001b[1;33m.\u001b[0m\u001b[0m_engine\u001b[0m\u001b[1;33m.\u001b[0m\u001b[0mget_loc\u001b[0m\u001b[1;33m(\u001b[0m\u001b[0mcasted_key\u001b[0m\u001b[1;33m)\u001b[0m\u001b[1;33m\u001b[0m\u001b[1;33m\u001b[0m\u001b[0m\n\u001b[0;32m   2896\u001b[0m             \u001b[1;32mexcept\u001b[0m \u001b[0mKeyError\u001b[0m \u001b[1;32mas\u001b[0m \u001b[0merr\u001b[0m\u001b[1;33m:\u001b[0m\u001b[1;33m\u001b[0m\u001b[1;33m\u001b[0m\u001b[0m\n\u001b[1;32m-> 2897\u001b[1;33m                 \u001b[1;32mraise\u001b[0m \u001b[0mKeyError\u001b[0m\u001b[1;33m(\u001b[0m\u001b[0mkey\u001b[0m\u001b[1;33m)\u001b[0m \u001b[1;32mfrom\u001b[0m \u001b[0merr\u001b[0m\u001b[1;33m\u001b[0m\u001b[1;33m\u001b[0m\u001b[0m\n\u001b[0m\u001b[0;32m   2898\u001b[0m \u001b[1;33m\u001b[0m\u001b[0m\n\u001b[0;32m   2899\u001b[0m         \u001b[1;32mif\u001b[0m \u001b[0mtolerance\u001b[0m \u001b[1;32mis\u001b[0m \u001b[1;32mnot\u001b[0m \u001b[1;32mNone\u001b[0m\u001b[1;33m:\u001b[0m\u001b[1;33m\u001b[0m\u001b[1;33m\u001b[0m\u001b[0m\n",
      "\u001b[1;31mKeyError\u001b[0m: '0050'"
     ]
    }
   ],
   "source": [
    "from finlab.data import Data\n",
    "%matplotlib inline\n",
    "\n",
    "data = Data()\n",
    "twii = data.get(\"發行量加權股價指數\")\n",
    "twii = twii['台股指數']\n",
    "twii = twii[(twii.index.minute % 15 == 0)  & (twii.index.second == 0)]\n",
    "twii.plot()"
   ]
  },
  {
   "cell_type": "markdown",
   "metadata": {},
   "source": [
    "## 製作features"
   ]
  },
  {
   "cell_type": "code",
   "execution_count": 2,
   "metadata": {},
   "outputs": [],
   "source": [
    "import talib\n",
    "import numpy as np\n",
    "import pandas as pd\n",
    "\n",
    "sma = talib.SMA(twii, timeperiod=120)\n",
    "wma = talib.WMA(twii, timeperiod=120)\n",
    "mom = talib.MOM(twii, timeperiod=120)\n",
    "k, d = talib.STOCH  (twii, twii, twii, fastk_period=120, slowk_period=60, slowd_period=60)\n",
    "k2, d2 = talib.STOCH(twii, twii, twii, fastk_period=240, slowk_period=120, slowd_period=120)\n",
    "k3, d3 = talib.STOCH(twii, twii, twii, fastk_period=360, slowk_period=180, slowd_period=180)\n",
    "k4, d4 = talib.STOCH(twii, twii, twii, fastk_period=480, slowk_period=240, slowd_period=240)\n",
    "k5, d5 = talib.STOCH(twii, twii, twii, fastk_period=640, slowk_period=320, slowd_period=320)\n",
    "k6, d6 = talib.STOCH(twii, twii, twii, fastk_period=720, slowk_period=360, slowd_period=360)\n",
    "k7, d7 = talib.STOCH(twii, twii, twii, fastk_period=840, slowk_period=420, slowd_period=420)\n",
    "k8, d8 = talib.STOCH(twii, twii, twii, fastk_period=960, slowk_period=480, slowd_period=480)\n",
    "\n",
    "rsi = talib.RSI (twii, timeperiod=120)\n",
    "rsi2 = talib.RSI(twii, timeperiod=240)\n",
    "rsi3 = talib.RSI(twii, timeperiod=480)\n",
    "rsi4 = talib.RSI(twii, timeperiod=640)\n",
    "rsi5 = talib.RSI(twii, timeperiod=720)\n",
    "rsi6 = talib.RSI(twii, timeperiod=840)\n",
    "\n",
    "macd1, macd2, macd3 = talib.MACD(twii, fastperiod=120, slowperiod=60, signalperiod=60)\n",
    "willr = talib.WILLR(twii, twii, twii, timeperiod=120)\n",
    "cci = talib.CCI(twii, twii, twii, timeperiod=120)\n",
    "\n",
    "dataset = pd.DataFrame({\n",
    "    'RSIb': rsi / 50,\n",
    "    'RSIb2': rsi2 / 50,\n",
    "    'RSIb3': rsi3 / 50,\n",
    "    'RSIb4': rsi4 / 50,\n",
    "    'RSIb5': rsi5 / 50,\n",
    "    'RSIb6': rsi6 / 50,\n",
    "    'MOMb': mom - 0,\n",
    "    'KDb': k - d,\n",
    "    'KDb2': k2 - d2,\n",
    "    'KDb3': k3 - d3,\n",
    "    'KDb4': k4 - d4,\n",
    "    'KDb5': k5 - d5,\n",
    "    'KDb6': k6 - d6,\n",
    "    'KDb7': k7 - d7,\n",
    "    'KDb8': k8 - d8,\n",
    "    \n",
    "    'a5':   (twii.rolling(5).mean()   / twii),\n",
    "    'a10':  (twii.rolling(10).mean()  / twii),\n",
    "    'a20':  (twii.rolling(20).mean()  / twii),\n",
    "    'a40':  (twii.rolling(40).mean()  / twii),\n",
    "    'a80':  (twii.rolling(80).mean()  / twii),\n",
    "    'a160': (twii.rolling(160).mean() / twii),\n",
    "    'a320': (twii.rolling(320).mean() / twii),\n",
    "    'a640': (twii.rolling(640).mean() / twii),\n",
    "    'a720': (twii.rolling(720).mean() / twii),\n",
    "    'a840': (twii.rolling(840).mean() / twii),\n",
    "    'a960': (twii.rolling(960).mean() / twii),\n",
    "    'a1024':(twii.rolling(1024).mean() / twii),\n",
    "    'b1': twii/twii.shift(50),\n",
    "    'b2': twii/twii.shift(100),\n",
    "    'b3': twii/twii.shift(150),\n",
    "    'b4': twii/twii.shift(200),\n",
    "    'b5': twii/twii.shift(250),\n",
    "    'b6': twii/twii.shift(300),\n",
    "    'b7': twii/twii.shift(350),\n",
    "    'LINEARREG_SLOPE0': talib.LINEARREG_SLOPE(twii, 60),\n",
    "    'LINEARREG_SLOPE1': talib.LINEARREG_SLOPE(twii, 120),\n",
    "\n",
    "    'ADXR0': talib.ADXR(twii, twii, twii, 60),\n",
    "    'ADXR1': talib.ADXR(twii, twii, twii, 120),\n",
    "    'ADXR2': talib.ADXR(twii, twii, twii, 240),\n",
    "    'ADXR3': talib.ADXR(twii, twii, twii, 360),\n",
    "    'ADXR4': talib.ADXR(twii, twii, twii, 480),\n",
    "    'ADXR5': talib.ADXR(twii, twii, twii, 640),\n",
    "\n",
    "    'return': twii.shift(-10) / twii,\n",
    "})\n",
    "\n",
    "feature_names = list(dataset.columns[:-1])"
   ]
  },
  {
   "cell_type": "markdown",
   "metadata": {},
   "source": [
    "## 刪除NaN"
   ]
  },
  {
   "cell_type": "code",
   "execution_count": 3,
   "metadata": {},
   "outputs": [
    {
     "name": "stdout",
     "output_type": "stream",
     "text": [
      "before dropping NaN (77691, 43)\n",
      "after dropping NaN (75763, 43)\n"
     ]
    }
   ],
   "source": [
    "print(\"before dropping NaN\", dataset.shape)\n",
    "dataset.dropna(inplace=True)\n",
    "print(\"after dropping NaN\", dataset.shape)\n"
   ]
  },
  {
   "cell_type": "markdown",
   "metadata": {},
   "source": [
    "## 神經網路Preprocessing"
   ]
  },
  {
   "cell_type": "code",
   "execution_count": 4,
   "metadata": {},
   "outputs": [
    {
     "data": {
      "text/html": [
       "<div>\n",
       "<style scoped>\n",
       "    .dataframe tbody tr th:only-of-type {\n",
       "        vertical-align: middle;\n",
       "    }\n",
       "\n",
       "    .dataframe tbody tr th {\n",
       "        vertical-align: top;\n",
       "    }\n",
       "\n",
       "    .dataframe thead th {\n",
       "        text-align: right;\n",
       "    }\n",
       "</style>\n",
       "<table border=\"1\" class=\"dataframe\">\n",
       "  <thead>\n",
       "    <tr style=\"text-align: right;\">\n",
       "      <th></th>\n",
       "      <th>RSIb</th>\n",
       "      <th>RSIb2</th>\n",
       "      <th>RSIb3</th>\n",
       "      <th>RSIb4</th>\n",
       "      <th>RSIb5</th>\n",
       "      <th>RSIb6</th>\n",
       "      <th>MOMb</th>\n",
       "      <th>KDb</th>\n",
       "      <th>KDb2</th>\n",
       "      <th>KDb3</th>\n",
       "      <th>...</th>\n",
       "      <th>b7</th>\n",
       "      <th>LINEARREG_SLOPE0</th>\n",
       "      <th>LINEARREG_SLOPE1</th>\n",
       "      <th>ADXR0</th>\n",
       "      <th>ADXR1</th>\n",
       "      <th>ADXR2</th>\n",
       "      <th>ADXR3</th>\n",
       "      <th>ADXR4</th>\n",
       "      <th>ADXR5</th>\n",
       "      <th>return</th>\n",
       "    </tr>\n",
       "  </thead>\n",
       "  <tbody>\n",
       "    <tr>\n",
       "      <th>count</th>\n",
       "      <td>7.576300e+04</td>\n",
       "      <td>7.576300e+04</td>\n",
       "      <td>7.576300e+04</td>\n",
       "      <td>7.576300e+04</td>\n",
       "      <td>7.576300e+04</td>\n",
       "      <td>7.576300e+04</td>\n",
       "      <td>7.576300e+04</td>\n",
       "      <td>7.576300e+04</td>\n",
       "      <td>7.576300e+04</td>\n",
       "      <td>7.576300e+04</td>\n",
       "      <td>...</td>\n",
       "      <td>7.576300e+04</td>\n",
       "      <td>7.576300e+04</td>\n",
       "      <td>7.576300e+04</td>\n",
       "      <td>7.576300e+04</td>\n",
       "      <td>7.576300e+04</td>\n",
       "      <td>7.576300e+04</td>\n",
       "      <td>7.576300e+04</td>\n",
       "      <td>7.576300e+04</td>\n",
       "      <td>7.576300e+04</td>\n",
       "      <td>75763.000000</td>\n",
       "    </tr>\n",
       "    <tr>\n",
       "      <th>mean</th>\n",
       "      <td>1.505078e-15</td>\n",
       "      <td>1.950699e-15</td>\n",
       "      <td>-3.094903e-16</td>\n",
       "      <td>-2.793607e-15</td>\n",
       "      <td>-7.500505e-15</td>\n",
       "      <td>-4.806838e-15</td>\n",
       "      <td>7.558332e-17</td>\n",
       "      <td>-6.852344e-18</td>\n",
       "      <td>-3.631473e-17</td>\n",
       "      <td>-6.890261e-18</td>\n",
       "      <td>...</td>\n",
       "      <td>-4.439585e-15</td>\n",
       "      <td>6.148628e-17</td>\n",
       "      <td>-2.225344e-16</td>\n",
       "      <td>1.383035e-17</td>\n",
       "      <td>-1.592270e-16</td>\n",
       "      <td>2.555053e-16</td>\n",
       "      <td>-1.127793e-16</td>\n",
       "      <td>8.775573e-16</td>\n",
       "      <td>-8.313931e-16</td>\n",
       "      <td>1.000138</td>\n",
       "    </tr>\n",
       "    <tr>\n",
       "      <th>std</th>\n",
       "      <td>1.000007e+00</td>\n",
       "      <td>1.000007e+00</td>\n",
       "      <td>1.000007e+00</td>\n",
       "      <td>1.000007e+00</td>\n",
       "      <td>1.000007e+00</td>\n",
       "      <td>1.000007e+00</td>\n",
       "      <td>1.000007e+00</td>\n",
       "      <td>1.000007e+00</td>\n",
       "      <td>1.000007e+00</td>\n",
       "      <td>1.000007e+00</td>\n",
       "      <td>...</td>\n",
       "      <td>1.000007e+00</td>\n",
       "      <td>1.000007e+00</td>\n",
       "      <td>1.000007e+00</td>\n",
       "      <td>1.000007e+00</td>\n",
       "      <td>1.000007e+00</td>\n",
       "      <td>1.000007e+00</td>\n",
       "      <td>1.000007e+00</td>\n",
       "      <td>1.000007e+00</td>\n",
       "      <td>1.000007e+00</td>\n",
       "      <td>0.008231</td>\n",
       "    </tr>\n",
       "    <tr>\n",
       "      <th>min</th>\n",
       "      <td>-4.415853e+00</td>\n",
       "      <td>-4.562894e+00</td>\n",
       "      <td>-4.838376e+00</td>\n",
       "      <td>-4.828735e+00</td>\n",
       "      <td>-4.799266e+00</td>\n",
       "      <td>-4.737193e+00</td>\n",
       "      <td>-9.051690e+00</td>\n",
       "      <td>-2.589794e+00</td>\n",
       "      <td>-2.684256e+00</td>\n",
       "      <td>-2.664737e+00</td>\n",
       "      <td>...</td>\n",
       "      <td>-5.514127e+00</td>\n",
       "      <td>-9.498110e+00</td>\n",
       "      <td>-7.224096e+00</td>\n",
       "      <td>-2.110911e+00</td>\n",
       "      <td>-2.011895e+00</td>\n",
       "      <td>-1.698352e+00</td>\n",
       "      <td>-1.602972e+00</td>\n",
       "      <td>-1.737890e+00</td>\n",
       "      <td>-1.782266e+00</td>\n",
       "      <td>0.924507</td>\n",
       "    </tr>\n",
       "    <tr>\n",
       "      <th>25%</th>\n",
       "      <td>-6.807060e-01</td>\n",
       "      <td>-6.814938e-01</td>\n",
       "      <td>-6.713389e-01</td>\n",
       "      <td>-6.629413e-01</td>\n",
       "      <td>-6.569944e-01</td>\n",
       "      <td>-6.448907e-01</td>\n",
       "      <td>-4.610438e-01</td>\n",
       "      <td>-6.440836e-01</td>\n",
       "      <td>-6.423878e-01</td>\n",
       "      <td>-6.314287e-01</td>\n",
       "      <td>...</td>\n",
       "      <td>-5.246878e-01</td>\n",
       "      <td>-4.647105e-01</td>\n",
       "      <td>-4.681407e-01</td>\n",
       "      <td>-7.409312e-01</td>\n",
       "      <td>-6.980066e-01</td>\n",
       "      <td>-7.494024e-01</td>\n",
       "      <td>-7.007467e-01</td>\n",
       "      <td>-6.809198e-01</td>\n",
       "      <td>-7.131947e-01</td>\n",
       "      <td>0.997006</td>\n",
       "    </tr>\n",
       "    <tr>\n",
       "      <th>50%</th>\n",
       "      <td>9.821825e-02</td>\n",
       "      <td>1.169217e-01</td>\n",
       "      <td>1.167841e-01</td>\n",
       "      <td>1.197610e-01</td>\n",
       "      <td>1.232137e-01</td>\n",
       "      <td>1.279876e-01</td>\n",
       "      <td>8.959081e-02</td>\n",
       "      <td>-1.306240e-02</td>\n",
       "      <td>-3.121181e-02</td>\n",
       "      <td>-8.729650e-03</td>\n",
       "      <td>...</td>\n",
       "      <td>1.158162e-01</td>\n",
       "      <td>7.876030e-02</td>\n",
       "      <td>8.157558e-02</td>\n",
       "      <td>-1.513265e-01</td>\n",
       "      <td>-2.309329e-01</td>\n",
       "      <td>-2.693715e-01</td>\n",
       "      <td>-2.514092e-01</td>\n",
       "      <td>-2.333005e-01</td>\n",
       "      <td>-2.162162e-01</td>\n",
       "      <td>1.000289</td>\n",
       "    </tr>\n",
       "    <tr>\n",
       "      <th>75%</th>\n",
       "      <td>7.222920e-01</td>\n",
       "      <td>7.120943e-01</td>\n",
       "      <td>6.839675e-01</td>\n",
       "      <td>6.885921e-01</td>\n",
       "      <td>6.867743e-01</td>\n",
       "      <td>6.848377e-01</td>\n",
       "      <td>5.730704e-01</td>\n",
       "      <td>6.591302e-01</td>\n",
       "      <td>6.701211e-01</td>\n",
       "      <td>6.055306e-01</td>\n",
       "      <td>...</td>\n",
       "      <td>5.770070e-01</td>\n",
       "      <td>5.652723e-01</td>\n",
       "      <td>5.725854e-01</td>\n",
       "      <td>5.924690e-01</td>\n",
       "      <td>4.696386e-01</td>\n",
       "      <td>4.983406e-01</td>\n",
       "      <td>4.825995e-01</td>\n",
       "      <td>4.714285e-01</td>\n",
       "      <td>5.579244e-01</td>\n",
       "      <td>1.003696</td>\n",
       "    </tr>\n",
       "    <tr>\n",
       "      <th>max</th>\n",
       "      <td>2.882471e+00</td>\n",
       "      <td>2.825632e+00</td>\n",
       "      <td>3.029526e+00</td>\n",
       "      <td>3.106174e+00</td>\n",
       "      <td>3.125650e+00</td>\n",
       "      <td>3.140234e+00</td>\n",
       "      <td>5.028344e+00</td>\n",
       "      <td>2.730969e+00</td>\n",
       "      <td>2.590297e+00</td>\n",
       "      <td>2.560186e+00</td>\n",
       "      <td>...</td>\n",
       "      <td>4.879413e+00</td>\n",
       "      <td>4.765493e+00</td>\n",
       "      <td>4.028595e+00</td>\n",
       "      <td>4.522804e+00</td>\n",
       "      <td>4.098208e+00</td>\n",
       "      <td>3.855652e+00</td>\n",
       "      <td>3.574469e+00</td>\n",
       "      <td>3.682900e+00</td>\n",
       "      <td>3.531953e+00</td>\n",
       "      <td>1.087726</td>\n",
       "    </tr>\n",
       "  </tbody>\n",
       "</table>\n",
       "<p>8 rows × 43 columns</p>\n",
       "</div>"
      ],
      "text/plain": [
       "               RSIb         RSIb2         RSIb3         RSIb4         RSIb5  \\\n",
       "count  7.576300e+04  7.576300e+04  7.576300e+04  7.576300e+04  7.576300e+04   \n",
       "mean   1.505078e-15  1.950699e-15 -3.094903e-16 -2.793607e-15 -7.500505e-15   \n",
       "std    1.000007e+00  1.000007e+00  1.000007e+00  1.000007e+00  1.000007e+00   \n",
       "min   -4.415853e+00 -4.562894e+00 -4.838376e+00 -4.828735e+00 -4.799266e+00   \n",
       "25%   -6.807060e-01 -6.814938e-01 -6.713389e-01 -6.629413e-01 -6.569944e-01   \n",
       "50%    9.821825e-02  1.169217e-01  1.167841e-01  1.197610e-01  1.232137e-01   \n",
       "75%    7.222920e-01  7.120943e-01  6.839675e-01  6.885921e-01  6.867743e-01   \n",
       "max    2.882471e+00  2.825632e+00  3.029526e+00  3.106174e+00  3.125650e+00   \n",
       "\n",
       "              RSIb6          MOMb           KDb          KDb2          KDb3  \\\n",
       "count  7.576300e+04  7.576300e+04  7.576300e+04  7.576300e+04  7.576300e+04   \n",
       "mean  -4.806838e-15  7.558332e-17 -6.852344e-18 -3.631473e-17 -6.890261e-18   \n",
       "std    1.000007e+00  1.000007e+00  1.000007e+00  1.000007e+00  1.000007e+00   \n",
       "min   -4.737193e+00 -9.051690e+00 -2.589794e+00 -2.684256e+00 -2.664737e+00   \n",
       "25%   -6.448907e-01 -4.610438e-01 -6.440836e-01 -6.423878e-01 -6.314287e-01   \n",
       "50%    1.279876e-01  8.959081e-02 -1.306240e-02 -3.121181e-02 -8.729650e-03   \n",
       "75%    6.848377e-01  5.730704e-01  6.591302e-01  6.701211e-01  6.055306e-01   \n",
       "max    3.140234e+00  5.028344e+00  2.730969e+00  2.590297e+00  2.560186e+00   \n",
       "\n",
       "       ...            b7  LINEARREG_SLOPE0  LINEARREG_SLOPE1         ADXR0  \\\n",
       "count  ...  7.576300e+04      7.576300e+04      7.576300e+04  7.576300e+04   \n",
       "mean   ... -4.439585e-15      6.148628e-17     -2.225344e-16  1.383035e-17   \n",
       "std    ...  1.000007e+00      1.000007e+00      1.000007e+00  1.000007e+00   \n",
       "min    ... -5.514127e+00     -9.498110e+00     -7.224096e+00 -2.110911e+00   \n",
       "25%    ... -5.246878e-01     -4.647105e-01     -4.681407e-01 -7.409312e-01   \n",
       "50%    ...  1.158162e-01      7.876030e-02      8.157558e-02 -1.513265e-01   \n",
       "75%    ...  5.770070e-01      5.652723e-01      5.725854e-01  5.924690e-01   \n",
       "max    ...  4.879413e+00      4.765493e+00      4.028595e+00  4.522804e+00   \n",
       "\n",
       "              ADXR1         ADXR2         ADXR3         ADXR4         ADXR5  \\\n",
       "count  7.576300e+04  7.576300e+04  7.576300e+04  7.576300e+04  7.576300e+04   \n",
       "mean  -1.592270e-16  2.555053e-16 -1.127793e-16  8.775573e-16 -8.313931e-16   \n",
       "std    1.000007e+00  1.000007e+00  1.000007e+00  1.000007e+00  1.000007e+00   \n",
       "min   -2.011895e+00 -1.698352e+00 -1.602972e+00 -1.737890e+00 -1.782266e+00   \n",
       "25%   -6.980066e-01 -7.494024e-01 -7.007467e-01 -6.809198e-01 -7.131947e-01   \n",
       "50%   -2.309329e-01 -2.693715e-01 -2.514092e-01 -2.333005e-01 -2.162162e-01   \n",
       "75%    4.696386e-01  4.983406e-01  4.825995e-01  4.714285e-01  5.579244e-01   \n",
       "max    4.098208e+00  3.855652e+00  3.574469e+00  3.682900e+00  3.531953e+00   \n",
       "\n",
       "             return  \n",
       "count  75763.000000  \n",
       "mean       1.000138  \n",
       "std        0.008231  \n",
       "min        0.924507  \n",
       "25%        0.997006  \n",
       "50%        1.000289  \n",
       "75%        1.003696  \n",
       "max        1.087726  \n",
       "\n",
       "[8 rows x 43 columns]"
      ]
     },
     "execution_count": 4,
     "metadata": {},
     "output_type": "execute_result"
    }
   ],
   "source": [
    "from sklearn.preprocessing import StandardScaler\n",
    "ss = StandardScaler()\n",
    "dataset_scaled = ss.fit_transform(dataset[feature_names])\n",
    "dataset_scaled = pd.DataFrame(dataset_scaled, index=dataset.index, columns=feature_names)\n",
    "dataset_scaled['return'] = dataset['return']\n",
    "dataset_scaled.describe()"
   ]
  },
  {
   "cell_type": "markdown",
   "metadata": {},
   "source": [
    "## 神經網路 Model"
   ]
  },
  {
   "cell_type": "code",
   "execution_count": 12,
   "metadata": {},
   "outputs": [
    {
     "name": "stdout",
     "output_type": "stream",
     "text": [
      "Model: \"sequential_1\"\n",
      "_________________________________________________________________\n",
      "Layer (type)                 Output Shape              Param #   \n",
      "=================================================================\n",
      "dense_2 (Dense)              (None, 100)               4300      \n",
      "_________________________________________________________________\n",
      "dense_3 (Dense)              (None, 100)               10100     \n",
      "_________________________________________________________________\n",
      "dense_4 (Dense)              (None, 1)                 101       \n",
      "=================================================================\n",
      "Total params: 14,501\n",
      "Trainable params: 14,501\n",
      "Non-trainable params: 0\n",
      "_________________________________________________________________\n"
     ]
    }
   ],
   "source": [
    "from tensorflow import keras\n",
    "from tensorflow.keras import layers\n",
    "\n",
    "model = keras.Sequential()\n",
    "model.add(layers.Dense(100, activation='relu', input_shape=(len(feature_names),)))\n",
    "model.add(layers.Dense(100, activation='relu'))\n",
    "model.add(layers.Dense(1, activation='sigmoid'))\n",
    "model.summary()\n",
    "\n",
    "model.compile(loss='binary_crossentropy', optimizer=\"adam\", )"
   ]
  },
  {
   "cell_type": "markdown",
   "metadata": {},
   "source": [
    "## 神經網路訓練"
   ]
  },
  {
   "cell_type": "code",
   "execution_count": 6,
   "metadata": {},
   "outputs": [
    {
     "name": "stdout",
     "output_type": "stream",
     "text": [
      "68477/68477 [==============================] - ETA: 52:21 - loss: 0.68 - ETA: 1:02 - loss: 0.7115 - ETA: 30s - loss: 0.709 - ETA: 19s - loss: 0.70 - ETA: 14s - loss: 0.70 - ETA: 12s - loss: 0.70 - ETA: 9s - loss: 0.7008 - ETA: 8s - loss: 0.699 - ETA: 7s - loss: 0.698 - ETA: 7s - loss: 0.698 - ETA: 6s - loss: 0.698 - ETA: 6s - loss: 0.698 - ETA: 6s - loss: 0.698 - ETA: 6s - loss: 0.698 - ETA: 5s - loss: 0.698 - ETA: 5s - loss: 0.698 - ETA: 4s - loss: 0.696 - ETA: 4s - loss: 0.696 - ETA: 3s - loss: 0.696 - ETA: 3s - loss: 0.695 - ETA: 3s - loss: 0.695 - ETA: 3s - loss: 0.694 - ETA: 2s - loss: 0.694 - ETA: 2s - loss: 0.694 - ETA: 2s - loss: 0.694 - ETA: 2s - loss: 0.694 - ETA: 2s - loss: 0.694 - ETA: 1s - loss: 0.693 - ETA: 1s - loss: 0.693 - ETA: 1s - loss: 0.693 - ETA: 1s - loss: 0.692 - ETA: 1s - loss: 0.692 - ETA: 1s - loss: 0.692 - ETA: 1s - loss: 0.691 - ETA: 0s - loss: 0.691 - ETA: 0s - loss: 0.691 - ETA: 0s - loss: 0.691 - ETA: 0s - loss: 0.691 - ETA: 0s - loss: 0.691 - ETA: 0s - loss: 0.691 - ETA: 0s - loss: 0.691 - ETA: 0s - loss: 0.691 - ETA: 0s - loss: 0.691 - ETA: 0s - loss: 0.691 - ETA: 0s - loss: 0.691 - ETA: 0s - loss: 0.690 - ETA: 0s - loss: 0.690 - ETA: 0s - loss: 0.690 - ETA: 0s - loss: 0.690 - ETA: 0s - loss: 0.690 - ETA: 0s - loss: 0.690 - ETA: 0s - loss: 0.690 - 4s 60us/sample - loss: 0.6906\n"
     ]
    },
    {
     "data": {
      "text/plain": [
       "<tensorflow.python.keras.callbacks.History at 0x200e6d7fe08>"
      ]
     },
     "execution_count": 6,
     "metadata": {},
     "output_type": "execute_result"
    }
   ],
   "source": [
    "dataset_scaled_train = dataset_scaled[:'2020']\n",
    "\n",
    "\n",
    "model.fit(dataset_scaled_train[feature_names], dataset_scaled_train['return'] > 1)"
   ]
  },
  {
   "cell_type": "markdown",
   "metadata": {},
   "source": [
    "## 回測"
   ]
  },
  {
   "cell_type": "code",
   "execution_count": 7,
   "metadata": {},
   "outputs": [],
   "source": [
    "ey = model.predict(dataset_scaled[feature_names])\n",
    "ey = pd.Series(ey.swapaxes(0, 1)[0], index=dataset.index)"
   ]
  },
  {
   "cell_type": "code",
   "execution_count": 8,
   "metadata": {},
   "outputs": [
    {
     "data": {
      "text/plain": [
       "<AxesSubplot:xlabel='date'>"
      ]
     },
     "execution_count": 8,
     "metadata": {},
     "output_type": "execute_result"
    },
    {
     "data": {
      "image/png": "[encoded data removed]",
      "text/plain": [
       "<Figure size 432x288 with 1 Axes>"
      ]
     },
     "metadata": {
      "needs_background": "light"
     },
     "output_type": "display_data"
    }
   ],
   "source": [
    "ey.plot()"
   ]
  },
  {
   "cell_type": "code",
   "execution_count": 9,
   "metadata": {},
   "outputs": [
    {
     "data": {
      "text/plain": [
       "<AxesSubplot:xlabel='date'>"
      ]
     },
     "execution_count": 9,
     "metadata": {},
     "output_type": "execute_result"
    },
    {
     "data": {
      "image/png": "[encoded data removed]",
      "text/plain": [
       "<Figure size 432x288 with 1 Axes>"
      ]
     },
     "metadata": {
      "needs_background": "light"
     },
     "output_type": "display_data"
    }
   ],
   "source": [
    "eq = twii[dataset.index]\n",
    "gain = (eq.shift(-1) - eq)\n",
    "\n",
    "signal = (ey > ey.quantile(0.7)).rolling(10).sum() > 0\n",
    "\n",
    "eq = (gain[signal]['2021':]).cumsum()\n",
    "eq.plot()"
   ]
  },
  {
   "cell_type": "code",
   "execution_count": 10,
   "metadata": {},
   "outputs": [
    {
     "data": {
      "text/plain": [
       "420.0"
      ]
     },
     "execution_count": 10,
     "metadata": {},
     "output_type": "execute_result"
    }
   ],
   "source": [
    "(signal.astype(int).diff().abs().fillna(0) * 3)['2021':].sum()"
   ]
  },
  {
   "cell_type": "code",
   "execution_count": null,
   "metadata": {},
   "outputs": [],
   "source": []
  }
 ],
 "metadata": {
  "kernelspec": {
   "display_name": "finlab",
   "language": "python",
   "name": "finlab"
  },
  "language_info": {
   "codemirror_mode": {
    "name": "ipython",
    "version": 3
   },
   "file_extension": ".py",
   "mimetype": "text/x-python",
   "name": "python",
   "nbconvert_exporter": "python",
   "pygments_lexer": "ipython3",
   "version": "3.7.13"
  }
 },
 "nbformat": 4,
 "nbformat_minor": 4
}

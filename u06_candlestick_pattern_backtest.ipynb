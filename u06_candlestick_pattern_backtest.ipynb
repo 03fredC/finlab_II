{
 "cells": [
  {
   "cell_type": "markdown",
   "metadata": {},
   "source": [
    "# 蠟燭線回測\n",
    "### 初始資料拿取"
   ]
  },
  {
   "cell_type": "code",
   "execution_count": 1,
   "metadata": {},
   "outputs": [
    {
     "ename": "ModuleNotFoundError",
     "evalue": "No module named 'talib'",
     "output_type": "error",
     "traceback": [
      "\u001b[1;31m---------------------------------------------------------------------------\u001b[0m",
      "\u001b[1;31mModuleNotFoundError\u001b[0m                       Traceback (most recent call last)",
      "Input \u001b[1;32mIn [1]\u001b[0m, in \u001b[0;36m<cell line: 3>\u001b[1;34m()\u001b[0m\n\u001b[0;32m      1\u001b[0m \u001b[38;5;28;01mimport\u001b[39;00m \u001b[38;5;21;01mnumpy\u001b[39;00m \u001b[38;5;28;01mas\u001b[39;00m \u001b[38;5;21;01mnp\u001b[39;00m\n\u001b[0;32m      2\u001b[0m \u001b[38;5;28;01mimport\u001b[39;00m \u001b[38;5;21;01mpandas\u001b[39;00m \u001b[38;5;28;01mas\u001b[39;00m \u001b[38;5;21;01mpd\u001b[39;00m\n\u001b[1;32m----> 3\u001b[0m \u001b[38;5;28;01mfrom\u001b[39;00m \u001b[38;5;21;01mtalib\u001b[39;00m \u001b[38;5;28;01mimport\u001b[39;00m abstract\n\u001b[0;32m      4\u001b[0m \u001b[38;5;28;01mfrom\u001b[39;00m \u001b[38;5;21;01mfinlab\u001b[39;00m\u001b[38;5;21;01m.\u001b[39;00m\u001b[38;5;21;01mdata\u001b[39;00m \u001b[38;5;28;01mimport\u001b[39;00m Data\n\u001b[0;32m      6\u001b[0m get_ipython()\u001b[38;5;241m.\u001b[39mrun_line_magic(\u001b[38;5;124m'\u001b[39m\u001b[38;5;124mmatplotlib\u001b[39m\u001b[38;5;124m'\u001b[39m, \u001b[38;5;124m'\u001b[39m\u001b[38;5;124minline\u001b[39m\u001b[38;5;124m'\u001b[39m)\n",
      "\u001b[1;31mModuleNotFoundError\u001b[0m: No module named 'talib'"
     ]
    }
   ],
   "source": [
    "import numpy as np\n",
    "import pandas as pd\n",
    "from talib import abstract\n",
    "from finlab.data import Data\n",
    "\n",
    "%matplotlib inline\n",
    "\n",
    "data = Data()\n",
    "\n",
    "signal = data.talib('CDLTRISTAR')\n",
    "\n",
    "close = data.get_adj('收盤價')\n",
    "open_ = data.get_adj('開盤價')"
   ]
  },
  {
   "cell_type": "markdown",
   "metadata": {},
   "source": [
    "### 計算買入時間"
   ]
  },
  {
   "cell_type": "code",
   "execution_count": 4,
   "metadata": {},
   "outputs": [
    {
     "ename": "NameError",
     "evalue": "name 'close' is not defined",
     "output_type": "error",
     "traceback": [
      "\u001b[1;31m---------------------------------------------------------------------------\u001b[0m",
      "\u001b[1;31mNameError\u001b[0m                                 Traceback (most recent call last)",
      "Input \u001b[1;32mIn [4]\u001b[0m, in \u001b[0;36m<cell line: 1>\u001b[1;34m()\u001b[0m\n\u001b[1;32m----> 1\u001b[0m sids \u001b[38;5;241m=\u001b[39m \u001b[43mclose\u001b[49m\u001b[38;5;241m.\u001b[39mcolumns[:\u001b[38;5;241m10\u001b[39m]\n\u001b[0;32m      3\u001b[0m signal \u001b[38;5;241m=\u001b[39m signal[sids]\n\u001b[0;32m      4\u001b[0m close \u001b[38;5;241m=\u001b[39m close[sids]\n",
      "\u001b[1;31mNameError\u001b[0m: name 'close' is not defined"
     ]
    }
   ],
   "source": [
    "sids = close.columns[:10]\n",
    "\n",
    "signal = signal[sids]\n",
    "close = close[sids]\n",
    "open_ = open_[sids]"
   ]
  },
  {
   "cell_type": "code",
   "execution_count": 3,
   "metadata": {},
   "outputs": [
    {
     "ename": "NameError",
     "evalue": "name 'signal' is not defined",
     "output_type": "error",
     "traceback": [
      "\u001b[1;31m---------------------------------------------------------------------------\u001b[0m",
      "\u001b[1;31mNameError\u001b[0m                                 Traceback (most recent call last)",
      "Input \u001b[1;32mIn [3]\u001b[0m, in \u001b[0;36m<cell line: 1>\u001b[1;34m()\u001b[0m\n\u001b[1;32m----> 1\u001b[0m buy \u001b[38;5;241m=\u001b[39m (\u001b[43msignal\u001b[49m \u001b[38;5;241m>\u001b[39m \u001b[38;5;241m0\u001b[39m)\n\u001b[0;32m      2\u001b[0m sell \u001b[38;5;241m=\u001b[39m close \u001b[38;5;241m<\u001b[39m close\u001b[38;5;241m.\u001b[39mrolling(\u001b[38;5;241m20\u001b[39m)\u001b[38;5;241m.\u001b[39mmean()\n\u001b[0;32m      4\u001b[0m hold \u001b[38;5;241m=\u001b[39m pd\u001b[38;5;241m.\u001b[39mDataFrame(np\u001b[38;5;241m.\u001b[39mnan, index\u001b[38;5;241m=\u001b[39mclose\u001b[38;5;241m.\u001b[39mindex, columns\u001b[38;5;241m=\u001b[39mclose\u001b[38;5;241m.\u001b[39mcolumns)\n",
      "\u001b[1;31mNameError\u001b[0m: name 'signal' is not defined"
     ]
    }
   ],
   "source": [
    "buy = (signal > 0)\n",
    "sell = close < close.rolling(20).mean()\n",
    "    \n",
    "hold = pd.DataFrame(np.nan, index=close.index, columns=close.columns)\n",
    "hold[buy] = 1\n",
    "hold[sell] = 0\n",
    "hold.ffill(inplace=True)\n",
    "hold.fillna(0, inplace=True)\n",
    "hold = hold.shift()\n",
    "\n",
    "import matplotlib.pyplot as plt\n",
    "plt.style.use('ggplot')\n",
    "plt.rcParams['figure.figsize'] = (10, 6)\n",
    "hold.plot()"
   ]
  },
  {
   "cell_type": "markdown",
   "metadata": {},
   "source": [
    "### 計算報酬率"
   ]
  },
  {
   "cell_type": "code",
   "execution_count": null,
   "metadata": {},
   "outputs": [],
   "source": [
    "import matplotlib.pyplot as plt\n",
    "\n",
    "gain = open_.shift(-1).ffill()[sids] / open_.ffill()[sids]\n",
    "eq = (gain[hold == 1].mean(axis=1)).fillna(1).cumprod()\n",
    "\n",
    "draw_df = hold.copy()\n",
    "draw_df['eq'] = eq\n",
    "\n",
    "draw_df.plot()"
   ]
  },
  {
   "cell_type": "markdown",
   "metadata": {},
   "source": [
    "### 不要每天都rebalance"
   ]
  },
  {
   "cell_type": "code",
   "execution_count": null,
   "metadata": {},
   "outputs": [],
   "source": [
    "rebalance = (hold.diff().abs().sum(axis=1) != 0).cumsum()\n",
    "rebalance_hold = hold[rebalance.diff() != 0]\n",
    "rebalance_gain = gain.groupby(rebalance.values).apply(lambda s:s.cumprod().iloc[-1])\n",
    "rebalance_gain.index = rebalance_hold.index\n",
    "\n",
    "# 手續費\n",
    "position_diff = rebalance_hold.div(rebalance_hold.sum(axis=1), axis=0).fillna(0).diff()\n",
    "tax_ratio = position_diff.copy()\n",
    "tax_ratio[tax_ratio < 0] *= (1.425/1000 + 3/1000)\n",
    "tax_ratio[tax_ratio > 0] *= (1.425/1000)\n",
    "tax_ratio = tax_ratio.abs().sum(axis=1)\n",
    "\n",
    "\n",
    "eq2 = (rebalance_gain[rebalance_hold == 1].mean(axis=1).fillna(1) * (1 - tax_ratio)).cumprod()\n",
    "eq2.plot()\n",
    "eq2.iloc[-1]"
   ]
  },
  {
   "cell_type": "markdown",
   "metadata": {},
   "source": [
    "## 考慮手續費"
   ]
  },
  {
   "cell_type": "code",
   "execution_count": null,
   "metadata": {},
   "outputs": [],
   "source": [
    "import pickle\n",
    "pickle.dump(eq, open('return_history.pkl', 'wb'))"
   ]
  }
 ],
 "metadata": {
  "kernelspec": {
   "display_name": "Python 3 (ipykernel)",
   "language": "python",
   "name": "python3"
  },
  "language_info": {
   "codemirror_mode": {
    "name": "ipython",
    "version": 3
   },
   "file_extension": ".py",
   "mimetype": "text/x-python",
   "name": "python",
   "nbconvert_exporter": "python",
   "pygments_lexer": "ipython3",
   "version": "3.9.12"
  }
 },
 "nbformat": 4,
 "nbformat_minor": 4
}

{
 "cells": [
  {
   "cell_type": "markdown",
   "metadata": {},
   "source": [
    "# Support Vector Machine (SVM)"
   ]
  },
  {
   "cell_type": "code",
   "execution_count": 1,
   "metadata": {},
   "outputs": [],
   "source": [
    "import warnings\n",
    "warnings.filterwarnings('ignore') #忽略錯誤訊息"
   ]
  },
  {
   "cell_type": "markdown",
   "metadata": {},
   "source": [
    "## features"
   ]
  },
  {
   "cell_type": "code",
   "execution_count": 2,
   "metadata": {},
   "outputs": [
    {
     "data": {
      "text/html": [
       "<div>\n",
       "<style scoped>\n",
       "    .dataframe tbody tr th:only-of-type {\n",
       "        vertical-align: middle;\n",
       "    }\n",
       "\n",
       "    .dataframe tbody tr th {\n",
       "        vertical-align: top;\n",
       "    }\n",
       "\n",
       "    .dataframe thead th {\n",
       "        text-align: right;\n",
       "    }\n",
       "</style>\n",
       "<table border=\"1\" class=\"dataframe\">\n",
       "  <thead>\n",
       "    <tr style=\"text-align: right;\">\n",
       "      <th></th>\n",
       "      <th></th>\n",
       "      <th>T3395營業利益</th>\n",
       "      <th>T7210營運現金流</th>\n",
       "      <th>T3950歸屬母公司淨利</th>\n",
       "      <th>T7211折舊</th>\n",
       "      <th>T0100流動資產</th>\n",
       "      <th>T1100流動負債</th>\n",
       "      <th>T7324取得不動產廠房及設備</th>\n",
       "      <th>T3970經常稅後淨利</th>\n",
       "      <th>R101_ROA稅後息前</th>\n",
       "      <th>R11V_ROA綜合損益</th>\n",
       "      <th>...</th>\n",
       "      <th>R409_淨值成長率</th>\n",
       "      <th>R501_流動比率</th>\n",
       "      <th>R502_速動比率</th>\n",
       "      <th>R503_利息支出率</th>\n",
       "      <th>R678_營運資金</th>\n",
       "      <th>R607_總資產週轉次數</th>\n",
       "      <th>R610_存貨週轉率</th>\n",
       "      <th>R612_固定資產週轉次數</th>\n",
       "      <th>R613_淨值週轉率次</th>\n",
       "      <th>R69B_自由現金流量</th>\n",
       "    </tr>\n",
       "    <tr>\n",
       "      <th>stock_id</th>\n",
       "      <th>date</th>\n",
       "      <th></th>\n",
       "      <th></th>\n",
       "      <th></th>\n",
       "      <th></th>\n",
       "      <th></th>\n",
       "      <th></th>\n",
       "      <th></th>\n",
       "      <th></th>\n",
       "      <th></th>\n",
       "      <th></th>\n",
       "      <th></th>\n",
       "      <th></th>\n",
       "      <th></th>\n",
       "      <th></th>\n",
       "      <th></th>\n",
       "      <th></th>\n",
       "      <th></th>\n",
       "      <th></th>\n",
       "      <th></th>\n",
       "      <th></th>\n",
       "      <th></th>\n",
       "    </tr>\n",
       "  </thead>\n",
       "  <tbody>\n",
       "    <tr>\n",
       "      <th rowspan=\"5\" valign=\"top\">9962</th>\n",
       "      <th>2021-05-15</th>\n",
       "      <td>8016.0</td>\n",
       "      <td>149610.0</td>\n",
       "      <td>6847.0</td>\n",
       "      <td>5027.0</td>\n",
       "      <td>699386.0</td>\n",
       "      <td>76254.0</td>\n",
       "      <td>-3081.0</td>\n",
       "      <td>6607.0</td>\n",
       "      <td>0.618888</td>\n",
       "      <td>0.636208</td>\n",
       "      <td>...</td>\n",
       "      <td>1.131801</td>\n",
       "      <td>917.179427</td>\n",
       "      <td>271.866394</td>\n",
       "      <td>1.005915</td>\n",
       "      <td>623132.0</td>\n",
       "      <td>0.380922</td>\n",
       "      <td>0.726929</td>\n",
       "      <td>1.533102</td>\n",
       "      <td>0.435345</td>\n",
       "      <td>37994.0</td>\n",
       "    </tr>\n",
       "    <tr>\n",
       "      <th>2021-08-14</th>\n",
       "      <td>40404.0</td>\n",
       "      <td>-155514.0</td>\n",
       "      <td>41534.0</td>\n",
       "      <td>4813.0</td>\n",
       "      <td>976044.0</td>\n",
       "      <td>274123.0</td>\n",
       "      <td>-2374.0</td>\n",
       "      <td>37397.0</td>\n",
       "      <td>3.243048</td>\n",
       "      <td>3.596651</td>\n",
       "      <td>...</td>\n",
       "      <td>7.003658</td>\n",
       "      <td>356.060601</td>\n",
       "      <td>110.054975</td>\n",
       "      <td>0.178902</td>\n",
       "      <td>701921.0</td>\n",
       "      <td>0.594034</td>\n",
       "      <td>1.150951</td>\n",
       "      <td>2.593983</td>\n",
       "      <td>0.710227</td>\n",
       "      <td>-34385.0</td>\n",
       "    </tr>\n",
       "    <tr>\n",
       "      <th>2021-11-14</th>\n",
       "      <td>48861.0</td>\n",
       "      <td>-435827.0</td>\n",
       "      <td>42439.0</td>\n",
       "      <td>4855.0</td>\n",
       "      <td>1420059.0</td>\n",
       "      <td>671731.0</td>\n",
       "      <td>-4677.0</td>\n",
       "      <td>40088.0</td>\n",
       "      <td>2.691891</td>\n",
       "      <td>2.839898</td>\n",
       "      <td>...</td>\n",
       "      <td>11.206472</td>\n",
       "      <td>211.402928</td>\n",
       "      <td>27.425413</td>\n",
       "      <td>0.432543</td>\n",
       "      <td>748328.0</td>\n",
       "      <td>0.428734</td>\n",
       "      <td>0.649981</td>\n",
       "      <td>2.435492</td>\n",
       "      <td>0.635698</td>\n",
       "      <td>2993.0</td>\n",
       "    </tr>\n",
       "    <tr>\n",
       "      <th>2022-03-31</th>\n",
       "      <td>66532.0</td>\n",
       "      <td>74308.0</td>\n",
       "      <td>57469.0</td>\n",
       "      <td>4541.0</td>\n",
       "      <td>1413495.0</td>\n",
       "      <td>581642.0</td>\n",
       "      <td>-8826.0</td>\n",
       "      <td>56074.0</td>\n",
       "      <td>3.352989</td>\n",
       "      <td>3.383973</td>\n",
       "      <td>...</td>\n",
       "      <td>15.804715</td>\n",
       "      <td>243.018042</td>\n",
       "      <td>39.386083</td>\n",
       "      <td>1.907177</td>\n",
       "      <td>831853.0</td>\n",
       "      <td>0.503416</td>\n",
       "      <td>0.661852</td>\n",
       "      <td>3.250884</td>\n",
       "      <td>0.808212</td>\n",
       "      <td>-14303.0</td>\n",
       "    </tr>\n",
       "    <tr>\n",
       "      <th>2022-05-15</th>\n",
       "      <td>44919.0</td>\n",
       "      <td>304147.0</td>\n",
       "      <td>39436.0</td>\n",
       "      <td>4397.0</td>\n",
       "      <td>1217003.0</td>\n",
       "      <td>352094.0</td>\n",
       "      <td>-1292.0</td>\n",
       "      <td>37016.0</td>\n",
       "      <td>2.371942</td>\n",
       "      <td>2.484802</td>\n",
       "      <td>...</td>\n",
       "      <td>19.138403</td>\n",
       "      <td>345.647185</td>\n",
       "      <td>85.204235</td>\n",
       "      <td>2.087938</td>\n",
       "      <td>864909.0</td>\n",
       "      <td>0.525429</td>\n",
       "      <td>0.758426</td>\n",
       "      <td>3.189613</td>\n",
       "      <td>0.753799</td>\n",
       "      <td>9429.0</td>\n",
       "    </tr>\n",
       "  </tbody>\n",
       "</table>\n",
       "<p>5 rows × 48 columns</p>\n",
       "</div>"
      ],
      "text/plain": [
       "                     T3395營業利益  T7210營運現金流  T3950歸屬母公司淨利  T7211折舊  T0100流動資產  \\\n",
       "stock_id date                                                                  \n",
       "9962     2021-05-15     8016.0    149610.0        6847.0   5027.0   699386.0   \n",
       "         2021-08-14    40404.0   -155514.0       41534.0   4813.0   976044.0   \n",
       "         2021-11-14    48861.0   -435827.0       42439.0   4855.0  1420059.0   \n",
       "         2022-03-31    66532.0     74308.0       57469.0   4541.0  1413495.0   \n",
       "         2022-05-15    44919.0    304147.0       39436.0   4397.0  1217003.0   \n",
       "\n",
       "                     T1100流動負債  T7324取得不動產廠房及設備  T3970經常稅後淨利  R101_ROA稅後息前  \\\n",
       "stock_id date                                                                \n",
       "9962     2021-05-15    76254.0          -3081.0       6607.0      0.618888   \n",
       "         2021-08-14   274123.0          -2374.0      37397.0      3.243048   \n",
       "         2021-11-14   671731.0          -4677.0      40088.0      2.691891   \n",
       "         2022-03-31   581642.0          -8826.0      56074.0      3.352989   \n",
       "         2022-05-15   352094.0          -1292.0      37016.0      2.371942   \n",
       "\n",
       "                     R11V_ROA綜合損益  ...  R409_淨值成長率   R501_流動比率   R502_速動比率  \\\n",
       "stock_id date                      ...                                       \n",
       "9962     2021-05-15      0.636208  ...    1.131801  917.179427  271.866394   \n",
       "         2021-08-14      3.596651  ...    7.003658  356.060601  110.054975   \n",
       "         2021-11-14      2.839898  ...   11.206472  211.402928   27.425413   \n",
       "         2022-03-31      3.383973  ...   15.804715  243.018042   39.386083   \n",
       "         2022-05-15      2.484802  ...   19.138403  345.647185   85.204235   \n",
       "\n",
       "                     R503_利息支出率  R678_營運資金  R607_總資產週轉次數  R610_存貨週轉率  \\\n",
       "stock_id date                                                          \n",
       "9962     2021-05-15    1.005915   623132.0      0.380922    0.726929   \n",
       "         2021-08-14    0.178902   701921.0      0.594034    1.150951   \n",
       "         2021-11-14    0.432543   748328.0      0.428734    0.649981   \n",
       "         2022-03-31    1.907177   831853.0      0.503416    0.661852   \n",
       "         2022-05-15    2.087938   864909.0      0.525429    0.758426   \n",
       "\n",
       "                     R612_固定資產週轉次數  R613_淨值週轉率次  R69B_自由現金流量  \n",
       "stock_id date                                                 \n",
       "9962     2021-05-15       1.533102     0.435345      37994.0  \n",
       "         2021-08-14       2.593983     0.710227     -34385.0  \n",
       "         2021-11-14       2.435492     0.635698       2993.0  \n",
       "         2022-03-31       3.250884     0.808212     -14303.0  \n",
       "         2022-05-15       3.189613     0.753799       9429.0  \n",
       "\n",
       "[5 rows x 48 columns]"
      ]
     },
     "execution_count": 2,
     "metadata": {},
     "output_type": "execute_result"
    }
   ],
   "source": [
    "import finlab.ml as ml\n",
    "\n",
    "dataset = ml.fundamental_features()\n",
    "dataset.tail()"
   ]
  },
  {
   "cell_type": "code",
   "execution_count": 3,
   "metadata": {},
   "outputs": [],
   "source": [
    "from finlab.data import Data\n",
    "data = Data()\n",
    "\n",
    "pe = data.get(\"本益比\")"
   ]
  },
  {
   "cell_type": "code",
   "execution_count": 4,
   "metadata": {},
   "outputs": [],
   "source": [
    "rev = data.get(\"當月營收\")\n",
    "def yoy(n):\n",
    "    return (rev.shift(n) / rev.shift(12+n)) -1\n",
    "\n",
    "def delta_yoy(n):\n",
    "    return (yoy(n)-yoy(n+1))\n",
    "\n",
    "ml.add_feature(dataset, 'delta_yoy', delta_yoy(1))"
   ]
  },
  {
   "cell_type": "code",
   "execution_count": 5,
   "metadata": {},
   "outputs": [
    {
     "data": {
      "text/plain": [
       "Index(['T3395營業利益', 'T7210營運現金流', 'T3950歸屬母公司淨利', 'T7211折舊', 'T0100流動資產',\n",
       "       'T1100流動負債', 'T7324取得不動產廠房及設備', 'T3970經常稅後淨利', 'R101_ROA稅後息前',\n",
       "       'R11V_ROA綜合損益', 'R103_ROE稅後', 'R11U_ROE綜合損益', 'R145_稅前息前折舊前淨利率',\n",
       "       'R105_營業毛利率', 'R106_營業利益率', 'R107_稅前淨利率', 'R108_稅後淨利率', 'R112_業外收支營收率',\n",
       "       'R179_貝里比率', 'R203_研究發展費用率', 'R205_現金流量比率', 'R207_稅率', 'R304_每股營業額',\n",
       "       'R305_每股營業利益', 'R303_每股現金流量', 'R306_每股稅前淨利', 'R314_每股綜合損益',\n",
       "       'R316_每股稅後淨利', 'R504_總負債除總淨值', 'R505_負債比率', 'R506_淨值除資產', 'R401_營收成長率',\n",
       "       'R402_營業毛利成長率', 'R403_營業利益成長率', 'R404_稅前淨利成長率', 'R405_稅後淨利成長率',\n",
       "       'R406_經常利益成長率', 'R408_資產總額成長率', 'R409_淨值成長率', 'R501_流動比率', 'R502_速動比率',\n",
       "       'R503_利息支出率', 'R678_營運資金', 'R607_總資產週轉次數', 'R610_存貨週轉率',\n",
       "       'R612_固定資產週轉次數', 'R613_淨值週轉率次', 'R69B_自由現金流量', 'delta_yoy', '本益比'],\n",
       "      dtype='object')"
      ]
     },
     "execution_count": 5,
     "metadata": {},
     "output_type": "execute_result"
    }
   ],
   "source": [
    "ml.add_feature(dataset, '本益比', pe)\n",
    "dataset.columns"
   ]
  },
  {
   "cell_type": "code",
   "execution_count": 6,
   "metadata": {},
   "outputs": [
    {
     "data": {
      "text/html": [
       "<div>\n",
       "<style scoped>\n",
       "    .dataframe tbody tr th:only-of-type {\n",
       "        vertical-align: middle;\n",
       "    }\n",
       "\n",
       "    .dataframe tbody tr th {\n",
       "        vertical-align: top;\n",
       "    }\n",
       "\n",
       "    .dataframe thead th {\n",
       "        text-align: right;\n",
       "    }\n",
       "</style>\n",
       "<table border=\"1\" class=\"dataframe\">\n",
       "  <thead>\n",
       "    <tr style=\"text-align: right;\">\n",
       "      <th></th>\n",
       "      <th></th>\n",
       "      <th>本益比</th>\n",
       "      <th>delta_yoy</th>\n",
       "    </tr>\n",
       "    <tr>\n",
       "      <th>stock_id</th>\n",
       "      <th>date</th>\n",
       "      <th></th>\n",
       "      <th></th>\n",
       "    </tr>\n",
       "  </thead>\n",
       "  <tbody>\n",
       "    <tr>\n",
       "      <th rowspan=\"10\" valign=\"top\">9962</th>\n",
       "      <th>2019-11-14</th>\n",
       "      <td>101.00</td>\n",
       "      <td>-0.300442</td>\n",
       "    </tr>\n",
       "    <tr>\n",
       "      <th>2020-03-31</th>\n",
       "      <td>58.69</td>\n",
       "      <td>0.105082</td>\n",
       "    </tr>\n",
       "    <tr>\n",
       "      <th>2020-05-15</th>\n",
       "      <td>72.73</td>\n",
       "      <td>-0.243422</td>\n",
       "    </tr>\n",
       "    <tr>\n",
       "      <th>2020-11-14</th>\n",
       "      <td>909.00</td>\n",
       "      <td>0.548681</td>\n",
       "    </tr>\n",
       "    <tr>\n",
       "      <th>2021-03-31</th>\n",
       "      <td>964.00</td>\n",
       "      <td>0.028844</td>\n",
       "    </tr>\n",
       "    <tr>\n",
       "      <th>2021-05-15</th>\n",
       "      <td>43.96</td>\n",
       "      <td>-0.081728</td>\n",
       "    </tr>\n",
       "    <tr>\n",
       "      <th>2021-08-14</th>\n",
       "      <td>29.39</td>\n",
       "      <td>1.142909</td>\n",
       "    </tr>\n",
       "    <tr>\n",
       "      <th>2021-11-14</th>\n",
       "      <td>16.46</td>\n",
       "      <td>0.167626</td>\n",
       "    </tr>\n",
       "    <tr>\n",
       "      <th>2022-03-31</th>\n",
       "      <td>13.32</td>\n",
       "      <td>0.073073</td>\n",
       "    </tr>\n",
       "    <tr>\n",
       "      <th>2022-05-15</th>\n",
       "      <td>8.94</td>\n",
       "      <td>0.924530</td>\n",
       "    </tr>\n",
       "  </tbody>\n",
       "</table>\n",
       "</div>"
      ],
      "text/plain": [
       "                        本益比  delta_yoy\n",
       "stock_id date                         \n",
       "9962     2019-11-14  101.00  -0.300442\n",
       "         2020-03-31   58.69   0.105082\n",
       "         2020-05-15   72.73  -0.243422\n",
       "         2020-11-14  909.00   0.548681\n",
       "         2021-03-31  964.00   0.028844\n",
       "         2021-05-15   43.96  -0.081728\n",
       "         2021-08-14   29.39   1.142909\n",
       "         2021-11-14   16.46   0.167626\n",
       "         2022-03-31   13.32   0.073073\n",
       "         2022-05-15    8.94   0.924530"
      ]
     },
     "execution_count": 6,
     "metadata": {},
     "output_type": "execute_result"
    }
   ],
   "source": [
    "dataset.columns\n",
    "TG_1 = '本益比'\n",
    "TG_2 = 'delta_yoy'\n",
    "features = [TG_1, TG_2] # ['R409_淨值成長率', 'R103_ROE稅後']\n",
    "dataset = dataset[features].dropna(how='any')\n",
    "dataset.tail(10)"
   ]
  },
  {
   "cell_type": "markdown",
   "metadata": {},
   "source": [
    "## add prediction"
   ]
  },
  {
   "cell_type": "code",
   "execution_count": 7,
   "metadata": {},
   "outputs": [
    {
     "data": {
      "text/html": [
       "<div>\n",
       "<style scoped>\n",
       "    .dataframe tbody tr th:only-of-type {\n",
       "        vertical-align: middle;\n",
       "    }\n",
       "\n",
       "    .dataframe tbody tr th {\n",
       "        vertical-align: top;\n",
       "    }\n",
       "\n",
       "    .dataframe thead th {\n",
       "        text-align: right;\n",
       "    }\n",
       "</style>\n",
       "<table border=\"1\" class=\"dataframe\">\n",
       "  <thead>\n",
       "    <tr style=\"text-align: right;\">\n",
       "      <th></th>\n",
       "      <th></th>\n",
       "      <th>本益比</th>\n",
       "      <th>delta_yoy</th>\n",
       "      <th>return</th>\n",
       "    </tr>\n",
       "    <tr>\n",
       "      <th>stock_id</th>\n",
       "      <th>date</th>\n",
       "      <th></th>\n",
       "      <th></th>\n",
       "      <th></th>\n",
       "    </tr>\n",
       "  </thead>\n",
       "  <tbody>\n",
       "    <tr>\n",
       "      <th rowspan=\"5\" valign=\"top\">9962</th>\n",
       "      <th>2021-05-15</th>\n",
       "      <td>43.96</td>\n",
       "      <td>-0.081728</td>\n",
       "      <td>2.086820</td>\n",
       "    </tr>\n",
       "    <tr>\n",
       "      <th>2021-08-14</th>\n",
       "      <td>29.39</td>\n",
       "      <td>1.142909</td>\n",
       "      <td>0.854637</td>\n",
       "    </tr>\n",
       "    <tr>\n",
       "      <th>2021-11-14</th>\n",
       "      <td>16.46</td>\n",
       "      <td>0.167626</td>\n",
       "      <td>1.202346</td>\n",
       "    </tr>\n",
       "    <tr>\n",
       "      <th>2022-03-31</th>\n",
       "      <td>13.32</td>\n",
       "      <td>0.073073</td>\n",
       "      <td>0.836585</td>\n",
       "    </tr>\n",
       "    <tr>\n",
       "      <th>2022-05-15</th>\n",
       "      <td>8.94</td>\n",
       "      <td>0.924530</td>\n",
       "      <td>NaN</td>\n",
       "    </tr>\n",
       "  </tbody>\n",
       "</table>\n",
       "</div>"
      ],
      "text/plain": [
       "                       本益比  delta_yoy    return\n",
       "stock_id date                                  \n",
       "9962     2021-05-15  43.96  -0.081728  2.086820\n",
       "         2021-08-14  29.39   1.142909  0.854637\n",
       "         2021-11-14  16.46   0.167626  1.202346\n",
       "         2022-03-31  13.32   0.073073  0.836585\n",
       "         2022-05-15   8.94   0.924530       NaN"
      ]
     },
     "execution_count": 7,
     "metadata": {},
     "output_type": "execute_result"
    }
   ],
   "source": [
    "ml.add_profit_prediction(dataset)\n",
    "dataset.tail()"
   ]
  },
  {
   "cell_type": "code",
   "execution_count": 8,
   "metadata": {},
   "outputs": [
    {
     "data": {
      "text/plain": [
       "<AxesSubplot:xlabel='本益比', ylabel='delta_yoy'>"
      ]
     },
     "execution_count": 8,
     "metadata": {},
     "output_type": "execute_result"
    },
    {
     "data": {
      "image/png": "[encoded data removed]",
      "text/plain": [
       "<Figure size 640x480 with 1 Axes>"
      ]
     },
     "metadata": {},
     "output_type": "display_data"
    }
   ],
   "source": [
    "\n",
    "\n",
    "%matplotlib inline\n",
    "dataset.plot.scatter(features[0], features[1])\n",
    "\n",
    "#plot.rcparams['font.sans-serif']=['SimHei'] #设置字体为黑体,解决Matplotlib中文乱码问题\n",
    "#plot.rcParams[' axes.unicode_minus']-False # 解决Matplotlib坐标轴负号·显示为方块的问题"
   ]
  },
  {
   "cell_type": "markdown",
   "metadata": {},
   "source": [
    "## remove outliers"
   ]
  },
  {
   "cell_type": "code",
   "execution_count": 9,
   "metadata": {},
   "outputs": [
    {
     "data": {
      "text/plain": [
       "<AxesSubplot:>"
      ]
     },
     "execution_count": 9,
     "metadata": {},
     "output_type": "execute_result"
    },
    {
     "data": {
      "image/png": "[encoded data removed]",
      "text/plain": [
       "<Figure size 640x480 with 1 Axes>"
      ]
     },
     "metadata": {},
     "output_type": "display_data"
    }
   ],
   "source": [
    "def is_valid(feature, nstd):\n",
    "    ub = feature.mean() + nstd * feature.std()\n",
    "    lb = feature.mean() - nstd * feature.std()\n",
    "\n",
    "    return (feature > lb) & (feature <ub)\n",
    "\n",
    "#valid =  is_valid(dataset[TG_2],10000000000)\n",
    "valid = is_valid(dataset[TG_1], 0.5) & is_valid(dataset[TG_2],0.006)\n",
    "\n",
    "dataset_rmoutliers = dataset[valid].dropna()\n",
    "\n",
    "\n",
    "#dataset_rmoutliers.plot.scatter(features[0], features[1])\n",
    "\n",
    "dataset_rmoutliers[TG_1].hist(bins=100)\n",
    "#dataset_rmoutliers['R402_營業毛利成長率'].hist(bins=100)"
   ]
  },
  {
   "cell_type": "markdown",
   "metadata": {},
   "source": [
    "## Scale features"
   ]
  },
  {
   "cell_type": "code",
   "execution_count": 10,
   "metadata": {},
   "outputs": [
    {
     "data": {
      "image/png": "[encoded data removed]",
      "text/plain": [
       "<Figure size 640x480 with 1 Axes>"
      ]
     },
     "metadata": {},
     "output_type": "display_data"
    }
   ],
   "source": [
    "import pandas as pd\n",
    "import sklearn.preprocessing as preprocessing\n",
    "\n",
    "dataset_scaled = pd.DataFrame(preprocessing.scale(dataset_rmoutliers), index=dataset_rmoutliers.index, columns=dataset_rmoutliers.columns)\n",
    "dataset_scaled.head()\n",
    "\n",
    "dataset_scaled[TG_1].hist(bins=100)\n",
    "dataset_scaled[TG_2].hist(bins=100, alpha=0.5)\n",
    "dataset_scaled['return'] = dataset_rmoutliers['return']\n"
   ]
  },
  {
   "cell_type": "markdown",
   "metadata": {},
   "source": [
    "## Training"
   ]
  },
  {
   "cell_type": "code",
   "execution_count": 16,
   "metadata": {},
   "outputs": [
    {
     "data": {
      "text/plain": [
       "SVC(gamma='auto', kernel='linear')"
      ]
     },
     "execution_count": 16,
     "metadata": {},
     "output_type": "execute_result"
    }
   ],
   "source": [
    "from sklearn.model_selection import train_test_split\n",
    "\n",
    "dataset_train, dataset_test = train_test_split(dataset_scaled, test_size=0.1, random_state=0)\n",
    "\n",
    "from sklearn.svm import SVC\n",
    "\n",
    "cf = SVC(C=1.0, cache_size=200, class_weight=None, coef0=0.0,\n",
    "     decision_function_shape='ovr', degree=3, gamma='auto',\n",
    "     kernel='linear', # {‘linear’, ‘poly’, ‘rbf’, ‘sigmoid’, ‘precomputed’}\n",
    "     max_iter=-1, probability=False, random_state=None,\n",
    "     shrinking=True, tol=0.001, verbose=False)\n",
    "\n",
    "cf.fit(dataset_train[features], dataset_train['return'] > dataset_train['return'].quantile(0.5))"
   ]
  },
  {
   "cell_type": "code",
   "execution_count": null,
   "metadata": {},
   "outputs": [],
   "source": [
    "cf.score(dataset_train[features], dataset_train['return'] > dataset_train['return'].quantile(0.5))\n",
    "# 這個function不會讓它學習，看看學習分數"
   ]
  },
  {
   "cell_type": "code",
   "execution_count": null,
   "metadata": {},
   "outputs": [],
   "source": [
    "from mlxtend.plotting import plot_decision_regions\n",
    "\n",
    "features_plot = dataset_test[features].values\n",
    "labels_plot = (dataset_test['return'] > dataset_test['return'].quantile(0.5)).astype(int).values\n",
    "\n",
    "plot_decision_regions(features_plot, labels_plot, cf)"
   ]
  },
  {
   "cell_type": "code",
   "execution_count": null,
   "metadata": {},
   "outputs": [],
   "source": [
    "features"
   ]
  },
  {
   "cell_type": "markdown",
   "metadata": {},
   "source": [
    "## backtest 回測"
   ]
  },
  {
   "cell_type": "code",
   "execution_count": null,
   "metadata": {},
   "outputs": [],
   "source": [
    "history = dataset_test.copy()\n",
    "history['svm prediction'] = cf.predict(dataset_test[features])\n",
    "history = history.reset_index()\n",
    "\n",
    "dates = sorted(list(set(history['date'])))\n",
    "\n",
    "seasonal_returns1 = []\n",
    "seasonal_returns2 = []\n",
    "for date in dates:\n",
    "    current_stocks = history[history['date'] == date]\n",
    "    buy_stocks = current_stocks[current_stocks['svm prediction'] == True]\n",
    "    sell_stocks = current_stocks[current_stocks['svm prediction'] == False]\n",
    "    \n",
    "    seasonal_return1 = buy_stocks['return'].mean()    #我們想買的股票報酬率，複利   buy_stocks\n",
    "    seasonal_returns1.append(seasonal_return1)\n",
    "    \n",
    "    seasonal_return2 = sell_stocks['return'].mean()    #我們不想買的股票報酬率\n",
    "    seasonal_returns2.append(seasonal_return2)\n",
    "\n",
    "import matplotlib.pyplot as plt\n",
    "plt.style.use(\"ggplot\")\n",
    "\n",
    "pd.Series(seasonal_returns1, index=dates).cumprod().plot(color='red')\n",
    "pd.Series(seasonal_returns2, index=dates).cumprod().plot(color='blue')"
   ]
  },
  {
   "cell_type": "code",
   "execution_count": null,
   "metadata": {},
   "outputs": [],
   "source": []
  }
 ],
 "metadata": {
  "kernelspec": {
   "display_name": "finlab",
   "language": "python",
   "name": "finlab"
  },
  "language_info": {
   "codemirror_mode": {
    "name": "ipython",
    "version": 3
   },
   "file_extension": ".py",
   "mimetype": "text/x-python",
   "name": "python",
   "nbconvert_exporter": "python",
   "pygments_lexer": "ipython3",
   "version": "3.7.13"
  }
 },
 "nbformat": 4,
 "nbformat_minor": 4
}

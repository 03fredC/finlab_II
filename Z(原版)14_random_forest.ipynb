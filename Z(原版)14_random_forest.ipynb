{
 "cells": [
  {
   "cell_type": "markdown",
   "metadata": {},
   "source": [
    "# Random Forest Classifier"
   ]
  },
  {
   "cell_type": "markdown",
   "metadata": {},
   "source": [
    "## Get dataset"
   ]
  },
  {
   "cell_type": "code",
   "execution_count": null,
   "metadata": {
    "scrolled": true
   },
   "outputs": [],
   "source": [
    "from finlab.ml import fundamental_features\n",
    "dataset = fundamental_features()\n",
    "dataset = dataset.dropna(thresh=int(len(dataset)*0.5), axis=1).dropna(how='any')\n",
    "dataset.head()"
   ]
  },
  {
   "cell_type": "markdown",
   "metadata": {},
   "source": [
    "## Add labels"
   ]
  },
  {
   "cell_type": "code",
   "execution_count": null,
   "metadata": {},
   "outputs": [],
   "source": [
    "features = dataset.columns\n",
    "\n",
    "import finlab.ml as ml\n",
    "\n",
    "ml.add_profit_prediction(dataset)\n",
    "dataset = dataset.dropna()\n",
    "dataset.head()"
   ]
  },
  {
   "cell_type": "markdown",
   "metadata": {},
   "source": [
    "## Split Train Test dataset"
   ]
  },
  {
   "cell_type": "code",
   "execution_count": 23,
   "metadata": {},
   "outputs": [],
   "source": [
    "select = dataset.index.get_level_values('date') < '2021'\n",
    "dataset_train = dataset[select]\n",
    "dataset_test = dataset[~select]"
   ]
  },
  {
   "cell_type": "markdown",
   "metadata": {},
   "source": [
    "## Training"
   ]
  },
  {
   "cell_type": "code",
   "execution_count": 24,
   "metadata": {},
   "outputs": [
    {
     "data": {
      "text/plain": [
       "RandomForestClassifier(n_estimators=200)"
      ]
     },
     "execution_count": 24,
     "metadata": {},
     "output_type": "execute_result"
    }
   ],
   "source": [
    "from sklearn.ensemble import RandomForestClassifier\n",
    "\n",
    "cf = RandomForestClassifier(200)\n",
    "cf.fit(dataset_train[features], dataset_train['return'] > 1)"
   ]
  },
  {
   "cell_type": "markdown",
   "metadata": {},
   "source": [
    "## Prediction"
   ]
  },
  {
   "cell_type": "code",
   "execution_count": 25,
   "metadata": {},
   "outputs": [],
   "source": [
    "import pandas as pd\n",
    "prediction = cf.predict(dataset_test[features])"
   ]
  },
  {
   "cell_type": "markdown",
   "metadata": {},
   "source": [
    "## Backtest"
   ]
  },
  {
   "cell_type": "code",
   "execution_count": 26,
   "metadata": {},
   "outputs": [
    {
     "data": {
      "text/plain": [
       "<AxesSubplot:xlabel='date'>"
      ]
     },
     "execution_count": 26,
     "metadata": {},
     "output_type": "execute_result"
    },
    {
     "data": {
      "image/png": "[encoded data removed]",
      "text/plain": [
       "<Figure size 432x288 with 1 Axes>"
      ]
     },
     "metadata": {
      "needs_background": "light"
     },
     "output_type": "display_data"
    }
   ],
   "source": [
    "import matplotlib.pyplot as plt\n",
    "plt.style.use(\"ggplot\")\n",
    "\n",
    "%matplotlib inline\n",
    "\n",
    "returns1 = dataset_test['return'][prediction == True]\n",
    "dates = returns1.index.get_level_values('date')\n",
    "returns1.groupby(dates).mean().cumprod().plot()\n",
    "\n",
    "returns2 = dataset_test['return'][prediction == False]\n",
    "dates = returns2.index.get_level_values('date')\n",
    "returns2.groupby(dates).mean().cumprod().plot()"
   ]
  },
  {
   "cell_type": "markdown",
   "metadata": {},
   "source": [
    "## Feature Importance"
   ]
  },
  {
   "cell_type": "code",
   "execution_count": 27,
   "metadata": {},
   "outputs": [
    {
     "data": {
      "text/plain": [
       "R409_淨值成長率         0.028375\n",
       "R408_資產總額成長率       0.025933\n",
       "R401_營收成長率         0.025348\n",
       "R403_營業利益成長率       0.024286\n",
       "R203_研究發展費用率       0.023751\n",
       "R112_業外收支營收率       0.023631\n",
       "R69B_自由現金流量        0.023301\n",
       "R402_營業毛利成長率       0.022930\n",
       "R503_利息支出率         0.022909\n",
       "R610_存貨週轉率         0.022294\n",
       "R303_每股現金流量        0.022259\n",
       "R101_ROA稅後息前       0.022126\n",
       "R205_現金流量比率        0.021954\n",
       "T7324取得不動產廠房及設備    0.021886\n",
       "R105_營業毛利率         0.021832\n",
       "R404_稅前淨利成長率       0.021519\n",
       "R179_貝里比率          0.021472\n",
       "R612_固定資產週轉次數      0.021199\n",
       "R405_稅後淨利成長率       0.020900\n",
       "R406_經常利益成長率       0.020847\n",
       "T7210營運現金流         0.020797\n",
       "T7211折舊            0.020561\n",
       "R305_每股營業利益        0.020347\n",
       "R607_總資產週轉次數       0.020191\n",
       "R501_流動比率          0.020159\n",
       "R106_營業利益率         0.020154\n",
       "R502_速動比率          0.020150\n",
       "T3395營業利益          0.020119\n",
       "R145_稅前息前折舊前淨利率    0.019882\n",
       "R103_ROE稅後         0.019666\n",
       "R11V_ROA綜合損益       0.019653\n",
       "R304_每股營業額         0.019645\n",
       "R678_營運資金          0.019635\n",
       "R11U_ROE綜合損益       0.019612\n",
       "R613_淨值週轉率次        0.019374\n",
       "T3950歸屬母公司淨利       0.019219\n",
       "T3970經常稅後淨利        0.019121\n",
       "T0100流動資產          0.019080\n",
       "R306_每股稅前淨利        0.019056\n",
       "R316_每股稅後淨利        0.018979\n",
       "R314_每股綜合損益        0.018786\n",
       "T1100流動負債          0.018686\n",
       "R107_稅前淨利率         0.018407\n",
       "R108_稅後淨利率         0.018075\n",
       "R207_稅率            0.018055\n",
       "R504_總負債除總淨值       0.017976\n",
       "R505_負債比率          0.017944\n",
       "R506_淨值除資產         0.017919\n",
       "dtype: float64"
      ]
     },
     "execution_count": 27,
     "metadata": {},
     "output_type": "execute_result"
    }
   ],
   "source": [
    "importance = pd.Series(cf.feature_importances_, index=features).sort_values(ascending=False)\n",
    "importance"
   ]
  },
  {
   "cell_type": "markdown",
   "metadata": {},
   "source": [
    "## New Strategy using feature importance"
   ]
  },
  {
   "cell_type": "code",
   "execution_count": 28,
   "metadata": {},
   "outputs": [
    {
     "data": {
      "text/html": [
       "<div>\n",
       "<style scoped>\n",
       "    .dataframe tbody tr th:only-of-type {\n",
       "        vertical-align: middle;\n",
       "    }\n",
       "\n",
       "    .dataframe tbody tr th {\n",
       "        vertical-align: top;\n",
       "    }\n",
       "\n",
       "    .dataframe thead th {\n",
       "        text-align: right;\n",
       "    }\n",
       "</style>\n",
       "<table border=\"1\" class=\"dataframe\">\n",
       "  <thead>\n",
       "    <tr style=\"text-align: right;\">\n",
       "      <th></th>\n",
       "      <th></th>\n",
       "      <th>T3395營業利益</th>\n",
       "      <th>T7210營運現金流</th>\n",
       "      <th>T3950歸屬母公司淨利</th>\n",
       "      <th>T7211折舊</th>\n",
       "      <th>T0100流動資產</th>\n",
       "      <th>T1100流動負債</th>\n",
       "      <th>T7324取得不動產廠房及設備</th>\n",
       "      <th>T3970經常稅後淨利</th>\n",
       "      <th>R101_ROA稅後息前</th>\n",
       "      <th>R11V_ROA綜合損益</th>\n",
       "      <th>...</th>\n",
       "      <th>R502_速動比率</th>\n",
       "      <th>R503_利息支出率</th>\n",
       "      <th>R678_營運資金</th>\n",
       "      <th>R607_總資產週轉次數</th>\n",
       "      <th>R610_存貨週轉率</th>\n",
       "      <th>R612_固定資產週轉次數</th>\n",
       "      <th>R613_淨值週轉率次</th>\n",
       "      <th>R69B_自由現金流量</th>\n",
       "      <th>return</th>\n",
       "      <th>bias</th>\n",
       "    </tr>\n",
       "    <tr>\n",
       "      <th>stock_id</th>\n",
       "      <th>date</th>\n",
       "      <th></th>\n",
       "      <th></th>\n",
       "      <th></th>\n",
       "      <th></th>\n",
       "      <th></th>\n",
       "      <th></th>\n",
       "      <th></th>\n",
       "      <th></th>\n",
       "      <th></th>\n",
       "      <th></th>\n",
       "      <th></th>\n",
       "      <th></th>\n",
       "      <th></th>\n",
       "      <th></th>\n",
       "      <th></th>\n",
       "      <th></th>\n",
       "      <th></th>\n",
       "      <th></th>\n",
       "      <th></th>\n",
       "      <th></th>\n",
       "      <th></th>\n",
       "    </tr>\n",
       "  </thead>\n",
       "  <tbody>\n",
       "    <tr>\n",
       "      <th rowspan=\"5\" valign=\"top\">1101</th>\n",
       "      <th>2014-05-15</th>\n",
       "      <td>3684224.0</td>\n",
       "      <td>6895832.0</td>\n",
       "      <td>4015175.0</td>\n",
       "      <td>1594505.0</td>\n",
       "      <td>92121458.0</td>\n",
       "      <td>74388787.0</td>\n",
       "      <td>-940633.0</td>\n",
       "      <td>2791235.0</td>\n",
       "      <td>-1.732411</td>\n",
       "      <td>1.630076</td>\n",
       "      <td>...</td>\n",
       "      <td>101.776758</td>\n",
       "      <td>-9.792979</td>\n",
       "      <td>17732671.0</td>\n",
       "      <td>0.093998</td>\n",
       "      <td>2.191306</td>\n",
       "      <td>0.245688</td>\n",
       "      <td>0.171327</td>\n",
       "      <td>4901868.0</td>\n",
       "      <td>1.073347</td>\n",
       "      <td>0.960967</td>\n",
       "    </tr>\n",
       "    <tr>\n",
       "      <th>2014-08-14</th>\n",
       "      <td>5938317.0</td>\n",
       "      <td>4452573.0</td>\n",
       "      <td>-754894.0</td>\n",
       "      <td>1573692.0</td>\n",
       "      <td>89163129.0</td>\n",
       "      <td>81190613.0</td>\n",
       "      <td>-465009.0</td>\n",
       "      <td>4828695.0</td>\n",
       "      <td>-0.952778</td>\n",
       "      <td>0.152556</td>\n",
       "      <td>...</td>\n",
       "      <td>91.450337</td>\n",
       "      <td>-17.435186</td>\n",
       "      <td>7972516.0</td>\n",
       "      <td>0.112552</td>\n",
       "      <td>2.381079</td>\n",
       "      <td>0.297377</td>\n",
       "      <td>0.208493</td>\n",
       "      <td>16542181.0</td>\n",
       "      <td>0.984816</td>\n",
       "      <td>1.021982</td>\n",
       "    </tr>\n",
       "    <tr>\n",
       "      <th>2014-11-14</th>\n",
       "      <td>5544164.0</td>\n",
       "      <td>3701961.0</td>\n",
       "      <td>3621052.0</td>\n",
       "      <td>1587492.0</td>\n",
       "      <td>89472928.0</td>\n",
       "      <td>78920574.0</td>\n",
       "      <td>-911057.0</td>\n",
       "      <td>4934486.0</td>\n",
       "      <td>-0.948101</td>\n",
       "      <td>2.168353</td>\n",
       "      <td>...</td>\n",
       "      <td>93.976558</td>\n",
       "      <td>-17.800651</td>\n",
       "      <td>10552354.0</td>\n",
       "      <td>0.106864</td>\n",
       "      <td>2.306032</td>\n",
       "      <td>0.282283</td>\n",
       "      <td>0.200028</td>\n",
       "      <td>4768224.0</td>\n",
       "      <td>0.969163</td>\n",
       "      <td>0.971380</td>\n",
       "    </tr>\n",
       "    <tr>\n",
       "      <th>2015-03-31</th>\n",
       "      <td>4690964.0</td>\n",
       "      <td>4936554.0</td>\n",
       "      <td>6459366.0</td>\n",
       "      <td>1575810.0</td>\n",
       "      <td>96605816.0</td>\n",
       "      <td>68632044.0</td>\n",
       "      <td>-1384489.0</td>\n",
       "      <td>4029460.0</td>\n",
       "      <td>-1.265106</td>\n",
       "      <td>3.002608</td>\n",
       "      <td>...</td>\n",
       "      <td>117.966121</td>\n",
       "      <td>-13.169666</td>\n",
       "      <td>27973772.0</td>\n",
       "      <td>0.103034</td>\n",
       "      <td>2.268994</td>\n",
       "      <td>0.275197</td>\n",
       "      <td>0.187942</td>\n",
       "      <td>-10525322.0</td>\n",
       "      <td>0.956818</td>\n",
       "      <td>1.040769</td>\n",
       "    </tr>\n",
       "    <tr>\n",
       "      <th>2015-05-15</th>\n",
       "      <td>1693508.0</td>\n",
       "      <td>5654152.0</td>\n",
       "      <td>349121.0</td>\n",
       "      <td>1711428.0</td>\n",
       "      <td>92471096.0</td>\n",
       "      <td>69579858.0</td>\n",
       "      <td>-818460.0</td>\n",
       "      <td>974518.0</td>\n",
       "      <td>-2.315297</td>\n",
       "      <td>0.069454</td>\n",
       "      <td>...</td>\n",
       "      <td>109.303861</td>\n",
       "      <td>-7.153186</td>\n",
       "      <td>22891238.0</td>\n",
       "      <td>0.073611</td>\n",
       "      <td>1.817298</td>\n",
       "      <td>0.195713</td>\n",
       "      <td>0.132250</td>\n",
       "      <td>8494249.0</td>\n",
       "      <td>0.850077</td>\n",
       "      <td>0.988372</td>\n",
       "    </tr>\n",
       "  </tbody>\n",
       "</table>\n",
       "<p>5 rows × 50 columns</p>\n",
       "</div>"
      ],
      "text/plain": [
       "                     T3395營業利益  T7210營運現金流  T3950歸屬母公司淨利    T7211折舊  \\\n",
       "stock_id date                                                         \n",
       "1101     2014-05-15  3684224.0   6895832.0     4015175.0  1594505.0   \n",
       "         2014-08-14  5938317.0   4452573.0     -754894.0  1573692.0   \n",
       "         2014-11-14  5544164.0   3701961.0     3621052.0  1587492.0   \n",
       "         2015-03-31  4690964.0   4936554.0     6459366.0  1575810.0   \n",
       "         2015-05-15  1693508.0   5654152.0      349121.0  1711428.0   \n",
       "\n",
       "                      T0100流動資產   T1100流動負債  T7324取得不動產廠房及設備  T3970經常稅後淨利  \\\n",
       "stock_id date                                                               \n",
       "1101     2014-05-15  92121458.0  74388787.0        -940633.0    2791235.0   \n",
       "         2014-08-14  89163129.0  81190613.0        -465009.0    4828695.0   \n",
       "         2014-11-14  89472928.0  78920574.0        -911057.0    4934486.0   \n",
       "         2015-03-31  96605816.0  68632044.0       -1384489.0    4029460.0   \n",
       "         2015-05-15  92471096.0  69579858.0        -818460.0     974518.0   \n",
       "\n",
       "                     R101_ROA稅後息前  R11V_ROA綜合損益  ...   R502_速動比率  R503_利息支出率  \\\n",
       "stock_id date                                    ...                           \n",
       "1101     2014-05-15     -1.732411      1.630076  ...  101.776758   -9.792979   \n",
       "         2014-08-14     -0.952778      0.152556  ...   91.450337  -17.435186   \n",
       "         2014-11-14     -0.948101      2.168353  ...   93.976558  -17.800651   \n",
       "         2015-03-31     -1.265106      3.002608  ...  117.966121  -13.169666   \n",
       "         2015-05-15     -2.315297      0.069454  ...  109.303861   -7.153186   \n",
       "\n",
       "                      R678_營運資金  R607_總資產週轉次數  R610_存貨週轉率  R612_固定資產週轉次數  \\\n",
       "stock_id date                                                              \n",
       "1101     2014-05-15  17732671.0      0.093998    2.191306       0.245688   \n",
       "         2014-08-14   7972516.0      0.112552    2.381079       0.297377   \n",
       "         2014-11-14  10552354.0      0.106864    2.306032       0.282283   \n",
       "         2015-03-31  27973772.0      0.103034    2.268994       0.275197   \n",
       "         2015-05-15  22891238.0      0.073611    1.817298       0.195713   \n",
       "\n",
       "                     R613_淨值週轉率次  R69B_自由現金流量    return      bias  \n",
       "stock_id date                                                      \n",
       "1101     2014-05-15     0.171327    4901868.0  1.073347  0.960967  \n",
       "         2014-08-14     0.208493   16542181.0  0.984816  1.021982  \n",
       "         2014-11-14     0.200028    4768224.0  0.969163  0.971380  \n",
       "         2015-03-31     0.187942  -10525322.0  0.956818  1.040769  \n",
       "         2015-05-15     0.132250    8494249.0  0.850077  0.988372  \n",
       "\n",
       "[5 rows x 50 columns]"
      ]
     },
     "execution_count": 28,
     "metadata": {},
     "output_type": "execute_result"
    }
   ],
   "source": [
    "from finlab.data import Data\n",
    "data = Data()\n",
    "close = data.get('收盤價')\n",
    "sma = close.rolling(60, min_periods=10).mean()\n",
    "bias = close / sma\n",
    "\n",
    "ml.add_feature(dataset, 'bias', bias)\n",
    "dataset.head()"
   ]
  },
  {
   "cell_type": "code",
   "execution_count": 29,
   "metadata": {},
   "outputs": [
    {
     "data": {
      "text/plain": [
       "<AxesSubplot:xlabel='date'>"
      ]
     },
     "execution_count": 29,
     "metadata": {},
     "output_type": "execute_result"
    },
    {
     "data": {
      "image/png": "[encoded data removed]",
      "text/plain": [
       "<Figure size 432x288 with 1 Axes>"
      ]
     },
     "metadata": {
      "needs_background": "light"
     },
     "output_type": "display_data"
    }
   ],
   "source": [
    "items = list(importance.index[:20])\n",
    "\n",
    "def select(df):\n",
    "    rank = df[items].rank(pct=True).sum(axis=1)\n",
    "    return df[rank > rank.quantile(0.9)]['return'][df['bias'] > 1].mean()\n",
    "\n",
    "dates = dataset.index.get_level_values('date')\n",
    "dataset.groupby(dates).apply(select).cumprod().plot()\n",
    "dataset['return'].groupby(dates).mean().cumprod().plot()"
   ]
  },
  {
   "cell_type": "code",
   "execution_count": null,
   "metadata": {},
   "outputs": [],
   "source": []
  }
 ],
 "metadata": {
  "kernelspec": {
   "display_name": "finlab",
   "language": "python",
   "name": "finlab"
  },
  "language_info": {
   "codemirror_mode": {
    "name": "ipython",
    "version": 3
   },
   "file_extension": ".py",
   "mimetype": "text/x-python",
   "name": "python",
   "nbconvert_exporter": "python",
   "pygments_lexer": "ipython3",
   "version": "3.7.13"
  }
 },
 "nbformat": 4,
 "nbformat_minor": 4
}

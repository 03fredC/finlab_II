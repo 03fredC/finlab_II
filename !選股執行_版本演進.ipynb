{
 "cells": [
  {
   "cell_type": "markdown",
   "id": "55a4ff47",
   "metadata": {},
   "source": [
    "# V1.02\n",
    "想要加入市值的計算，"
   ]
  },
  {
   "cell_type": "markdown",
   "id": "1fa9c5f7",
   "metadata": {},
   "source": [
    "# V1.01\n",
    "加入成交量的篩選，避免流動性問題造成無法順利換手。"
   ]
  },
  {
   "cell_type": "markdown",
   "id": "bee1e5d6",
   "metadata": {},
   "source": [
    "# V1.0\n",
    "首次建立"
   ]
  }
 ],
 "metadata": {
  "kernelspec": {
   "display_name": "finlab",
   "language": "python",
   "name": "finlab"
  },
  "language_info": {
   "codemirror_mode": {
    "name": "ipython",
    "version": 3
   },
   "file_extension": ".py",
   "mimetype": "text/x-python",
   "name": "python",
   "nbconvert_exporter": "python",
   "pygments_lexer": "ipython3",
   "version": "3.7.15"
  }
 },
 "nbformat": 4,
 "nbformat_minor": 5
}

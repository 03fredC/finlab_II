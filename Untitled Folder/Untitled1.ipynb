{
 "cells": [
  {
   "cell_type": "code",
   "execution_count": 1,
   "id": "326e0d0d",
   "metadata": {},
   "outputs": [
    {
     "name": "stdout",
     "output_type": "stream",
     "text": [
      "    name   age  gender isMarried\n",
      "a   John  20.0       0       yes\n",
      "b   Mike  32.0       0       yes\n",
      "c  Mozla  29.0       1        no\n",
      "d   Rose   NaN       1       yes\n",
      "e  David  15.0       0        no\n",
      "f  Marry  28.0       1        no\n",
      "g  Wansi  21.0       0        no\n",
      "h   Sidy  30.0       0       yes\n",
      "i   Jack  37.0       1        no\n",
      "j   Alic  25.0       1        no\n",
      "    name   age  gender isMarried\n",
      "a   John  20.0       0       yes\n",
      "b   Mike  32.0       0       yes\n",
      "c  Mozla  29.0       1        no\n",
      "d   Rose   NaN       1       yes\n"
     ]
    }
   ],
   "source": [
    "import numpy as np\n",
    "import pandas as pd\n",
    "#创建一组数据\n",
    "data = {'name': ['John', 'Mike', 'Mozla', 'Rose', 'David', 'Marry', 'Wansi', 'Sidy', 'Jack', 'Alic'],\n",
    "        'age': [20, 32, 29, np.nan, 15, 28, 21, 30, 37, 25],\n",
    "        'gender': [0, 0, 1, 1, 0, 1, 0, 0, 1, 1],\n",
    "        'isMarried': ['yes', 'yes', 'no', 'yes', 'no', 'no', 'no', 'yes', 'no', 'no']}\n",
    "label = ['a', 'b', 'c', 'd', 'e', 'f', 'g', 'h', 'i', 'j']\n",
    "df = pd.DataFrame(data, index=label)\n",
    "print(df)\n",
    "#对行操作\n",
    "print(df.loc['a':'d',:]) #等同于df.loc['a':'d']"
   ]
  },
  {
   "cell_type": "code",
   "execution_count": 3,
   "id": "cf42f0fe",
   "metadata": {},
   "outputs": [
    {
     "data": {
      "text/plain": [
       "name         Alic\n",
       "age            25\n",
       "gender          1\n",
       "isMarried      no\n",
       "Name: j, dtype: object"
      ]
     },
     "execution_count": 3,
     "metadata": {},
     "output_type": "execute_result"
    }
   ],
   "source": [
    "df.iloc[-1]"
   ]
  },
  {
   "cell_type": "code",
   "execution_count": 4,
   "id": "8ba42e33",
   "metadata": {},
   "outputs": [
    {
     "data": {
      "text/html": [
       "<div>\n",
       "<style scoped>\n",
       "    .dataframe tbody tr th:only-of-type {\n",
       "        vertical-align: middle;\n",
       "    }\n",
       "\n",
       "    .dataframe tbody tr th {\n",
       "        vertical-align: top;\n",
       "    }\n",
       "\n",
       "    .dataframe thead th {\n",
       "        text-align: right;\n",
       "    }\n",
       "</style>\n",
       "<table border=\"1\" class=\"dataframe\">\n",
       "  <thead>\n",
       "    <tr style=\"text-align: right;\">\n",
       "      <th></th>\n",
       "      <th>name</th>\n",
       "      <th>age</th>\n",
       "      <th>gender</th>\n",
       "      <th>isMarried</th>\n",
       "    </tr>\n",
       "  </thead>\n",
       "  <tbody>\n",
       "    <tr>\n",
       "      <th>a</th>\n",
       "      <td>John</td>\n",
       "      <td>20.0</td>\n",
       "      <td>0</td>\n",
       "      <td>yes</td>\n",
       "    </tr>\n",
       "    <tr>\n",
       "      <th>b</th>\n",
       "      <td>Mike</td>\n",
       "      <td>32.0</td>\n",
       "      <td>0</td>\n",
       "      <td>yes</td>\n",
       "    </tr>\n",
       "    <tr>\n",
       "      <th>c</th>\n",
       "      <td>Mozla</td>\n",
       "      <td>29.0</td>\n",
       "      <td>1</td>\n",
       "      <td>no</td>\n",
       "    </tr>\n",
       "    <tr>\n",
       "      <th>d</th>\n",
       "      <td>Rose</td>\n",
       "      <td>NaN</td>\n",
       "      <td>1</td>\n",
       "      <td>yes</td>\n",
       "    </tr>\n",
       "    <tr>\n",
       "      <th>e</th>\n",
       "      <td>David</td>\n",
       "      <td>15.0</td>\n",
       "      <td>0</td>\n",
       "      <td>no</td>\n",
       "    </tr>\n",
       "    <tr>\n",
       "      <th>f</th>\n",
       "      <td>Marry</td>\n",
       "      <td>28.0</td>\n",
       "      <td>1</td>\n",
       "      <td>no</td>\n",
       "    </tr>\n",
       "    <tr>\n",
       "      <th>g</th>\n",
       "      <td>Wansi</td>\n",
       "      <td>21.0</td>\n",
       "      <td>0</td>\n",
       "      <td>no</td>\n",
       "    </tr>\n",
       "    <tr>\n",
       "      <th>h</th>\n",
       "      <td>Sidy</td>\n",
       "      <td>30.0</td>\n",
       "      <td>0</td>\n",
       "      <td>yes</td>\n",
       "    </tr>\n",
       "    <tr>\n",
       "      <th>i</th>\n",
       "      <td>Jack</td>\n",
       "      <td>37.0</td>\n",
       "      <td>1</td>\n",
       "      <td>no</td>\n",
       "    </tr>\n",
       "    <tr>\n",
       "      <th>j</th>\n",
       "      <td>Alic</td>\n",
       "      <td>25.0</td>\n",
       "      <td>1</td>\n",
       "      <td>no</td>\n",
       "    </tr>\n",
       "  </tbody>\n",
       "</table>\n",
       "</div>"
      ],
      "text/plain": [
       "    name   age  gender isMarried\n",
       "a   John  20.0       0       yes\n",
       "b   Mike  32.0       0       yes\n",
       "c  Mozla  29.0       1        no\n",
       "d   Rose   NaN       1       yes\n",
       "e  David  15.0       0        no\n",
       "f  Marry  28.0       1        no\n",
       "g  Wansi  21.0       0        no\n",
       "h   Sidy  30.0       0       yes\n",
       "i   Jack  37.0       1        no\n",
       "j   Alic  25.0       1        no"
      ]
     },
     "execution_count": 4,
     "metadata": {},
     "output_type": "execute_result"
    }
   ],
   "source": [
    "df"
   ]
  },
  {
   "cell_type": "code",
   "execution_count": null,
   "id": "96bc8dab",
   "metadata": {},
   "outputs": [],
   "source": []
  }
 ],
 "metadata": {
  "kernelspec": {
   "display_name": "finlab",
   "language": "python",
   "name": "finlab"
  },
  "language_info": {
   "codemirror_mode": {
    "name": "ipython",
    "version": 3
   },
   "file_extension": ".py",
   "mimetype": "text/x-python",
   "name": "python",
   "nbconvert_exporter": "python",
   "pygments_lexer": "ipython3",
   "version": "3.7.13"
  }
 },
 "nbformat": 4,
 "nbformat_minor": 5
}

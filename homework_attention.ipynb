{
 "cells": [
  {
   "cell_type": "markdown",
   "metadata": {},
   "source": [
    "# 作業：全新的神經網路練習\n",
    "\n",
    "我們活在幸運的時代，機器學習被包裝成黑盒子，就算你完全不知到神經網路，也可以將 X, y 丟進神經網路去優化\n",
    "\n",
    "下方有兩個 cell 依序為：\n",
    "\n",
    "\n",
    "1. Attention 神經網路 layer\n",
    "2. 含有 Attention 的 model\n",
    "\n",
    "\n",
    "請將 u22-lstm.ipynb 當中的範例，全部複製過來，然後將當中的 LSTM 模型改成下方的神經網路模型，並且訓練、回測看看！\n",
    "\n",
    "\n",
    "可以先將model 當作黑盒子，先不用理解 Attention Layer 是在做什麼也沒關係喔！\n",
    "\n",
    "### 覺得想要深入研究再看 - Attention layer 的相關介紹：\n",
    "* [論文網址：Attention is all you need](https://papers.nips.cc/paper/7181-attention-is-all-you-need.pdf)\n",
    "* [比較簡單的文章介紹（中文）](https://www.itread01.com/content/1550070201.html)\n",
    "* [比較簡單的文章介紹（英文）](http://mlexplained.com/2017/12/29/attention-is-all-you-need-explained/)\n",
    "* [更簡單的文章介紹（中文）](https://medium.com/@cyeninesky3/attention-is-all-you-need-%E5%9F%BA%E6%96%BC%E6%B3%A8%E6%84%8F%E5%8A%9B%E6%A9%9F%E5%88%B6%E7%9A%84%E6%A9%9F%E5%99%A8%E7%BF%BB%E8%AD%AF%E6%A8%A1%E5%9E%8B-dcc12d251449)\n",
    "* [英文影音教學](https://www.youtube.com/watch?v=EgCPRvgltoE)"
   ]
  },
  {
   "cell_type": "markdown",
   "metadata": {},
   "source": [
    "# 開始寫作業囉！"
   ]
  },
  {
   "cell_type": "markdown",
   "metadata": {},
   "source": [
    "## u22 產生 feature 和 label 的程式碼(請自行填寫)"
   ]
  },
  {
   "cell_type": "code",
   "execution_count": 6,
   "metadata": {},
   "outputs": [
    {
     "name": "stdout",
     "output_type": "stream",
     "text": [
      "before dropping NaN (4248, 43)\n",
      "after dropping NaN (2320, 43)\n"
     ]
    },
    {
     "name": "stderr",
     "output_type": "stream",
     "text": [
      "C:\\Users\\orang\\.conda\\envs\\finlab\\lib\\site-packages\\ipykernel_launcher.py:118: TqdmDeprecationWarning: This function will be removed in tqdm==5.0.0\n",
      "Please use `tqdm.notebook.tqdm` instead of `tqdm.tqdm_notebook`\n"
     ]
    },
    {
     "data": {
      "application/vnd.jupyter.widget-view+json": {
       "model_id": "6f0c30b5ad1948608ef78d3922efcc02",
       "version_major": 2,
       "version_minor": 0
      },
      "text/plain": [
       "  0%|          | 0/2317 [00:00<?, ?it/s]"
      ]
     },
     "metadata": {},
     "output_type": "display_data"
    }
   ],
   "source": [
    "# u22-lstm.ipynb 當中的程式碼 （preprocessing）\n",
    "from finlab.data import Data\n",
    "import pandas as pd\n",
    "\n",
    "data = Data()\n",
    "twii = data.get(\"發行量加權股價指數\")\n",
    "twii = twii['台股指數'].resample(\"15T\").first().dropna()\n",
    "\n",
    "import talib\n",
    "import numpy as np\n",
    "import pandas as pd\n",
    "\n",
    "sma = talib.SMA(twii, timeperiod=120)\n",
    "wma = talib.WMA(twii, timeperiod=120)\n",
    "mom = talib.MOM(twii, timeperiod=120)\n",
    "k, d = talib.STOCH  (twii, twii, twii, fastk_period=120, slowk_period=60, slowd_period=60)\n",
    "k2, d2 = talib.STOCH(twii, twii, twii, fastk_period=240, slowk_period=120, slowd_period=120)\n",
    "k3, d3 = talib.STOCH(twii, twii, twii, fastk_period=360, slowk_period=180, slowd_period=180)\n",
    "k4, d4 = talib.STOCH(twii, twii, twii, fastk_period=480, slowk_period=240, slowd_period=240)\n",
    "k5, d5 = talib.STOCH(twii, twii, twii, fastk_period=640, slowk_period=320, slowd_period=320)\n",
    "k6, d6 = talib.STOCH(twii, twii, twii, fastk_period=720, slowk_period=360, slowd_period=360)\n",
    "k7, d7 = talib.STOCH(twii, twii, twii, fastk_period=840, slowk_period=420, slowd_period=420)\n",
    "k8, d8 = talib.STOCH(twii, twii, twii, fastk_period=960, slowk_period=480, slowd_period=480)\n",
    "\n",
    "rsi = talib.RSI (twii, timeperiod=120)\n",
    "rsi2 = talib.RSI(twii, timeperiod=240)\n",
    "rsi3 = talib.RSI(twii, timeperiod=480)\n",
    "rsi4 = talib.RSI(twii, timeperiod=640)\n",
    "rsi5 = talib.RSI(twii, timeperiod=720)\n",
    "rsi6 = talib.RSI(twii, timeperiod=840)\n",
    "\n",
    "macd1, macd2, macd3 = talib.MACD(twii, fastperiod=120, slowperiod=60, signalperiod=60)\n",
    "willr = talib.WILLR(twii, twii, twii, timeperiod=120)\n",
    "cci = talib.CCI(twii, twii, twii, timeperiod=120)\n",
    "\n",
    "dataset = pd.DataFrame({\n",
    "    'RSIb': rsi / 50,\n",
    "    'RSIb2': rsi2 / 50,\n",
    "    'RSIb3': rsi3 / 50,\n",
    "    'RSIb4': rsi4 / 50,\n",
    "    'RSIb5': rsi5 / 50,\n",
    "    'RSIb6': rsi6 / 50,\n",
    "    'MOMb': mom - 0,\n",
    "    'KDb': k - d,\n",
    "    'KDb2': k2 - d2,\n",
    "    'KDb3': k3 - d3,\n",
    "    'KDb4': k4 - d4,\n",
    "    'KDb5': k5 - d5,\n",
    "    'KDb6': k6 - d6,\n",
    "    'KDb7': k7 - d7,\n",
    "    'KDb8': k8 - d8,\n",
    "    \n",
    "    'a5':   (twii.rolling(5).mean()   / twii),\n",
    "    'a10':  (twii.rolling(10).mean()  / twii),\n",
    "    'a20':  (twii.rolling(20).mean()  / twii),\n",
    "    'a40':  (twii.rolling(40).mean()  / twii),\n",
    "    'a80':  (twii.rolling(80).mean()  / twii),\n",
    "    'a160': (twii.rolling(160).mean() / twii),\n",
    "    'a320': (twii.rolling(320).mean() / twii),\n",
    "    'a640': (twii.rolling(640).mean() / twii),\n",
    "    'a720': (twii.rolling(720).mean() / twii),\n",
    "    'a840': (twii.rolling(840).mean() / twii),\n",
    "    'a960': (twii.rolling(960).mean() / twii),\n",
    "    'a1024':(twii.rolling(1024).mean() / twii),\n",
    "    'b1': twii/twii.shift(50),\n",
    "    'b2': twii/twii.shift(100),\n",
    "    'b3': twii/twii.shift(150),\n",
    "    'b4': twii/twii.shift(200),\n",
    "    'b5': twii/twii.shift(250),\n",
    "    'b6': twii/twii.shift(300),\n",
    "    'b7': twii/twii.shift(350),\n",
    "    'LINEARREG_SLOPE0': talib.LINEARREG_SLOPE(twii, 60),\n",
    "    'LINEARREG_SLOPE1': talib.LINEARREG_SLOPE(twii, 120),\n",
    "\n",
    "    'ADXR0': talib.ADXR(twii, twii, twii, 60),\n",
    "    'ADXR1': talib.ADXR(twii, twii, twii, 120),\n",
    "    'ADXR2': talib.ADXR(twii, twii, twii, 240),\n",
    "    'ADXR3': talib.ADXR(twii, twii, twii, 360),\n",
    "    'ADXR4': talib.ADXR(twii, twii, twii, 480),\n",
    "    'ADXR5': talib.ADXR(twii, twii, twii, 640),\n",
    "\n",
    "    'return': twii.shift(-10) / twii,\n",
    "})\n",
    "\n",
    "feature_names = list(dataset.columns[:-1])\n",
    "\n",
    "print(\"before dropping NaN\", dataset.shape)\n",
    "dataset = dataset.dropna()\n",
    "print(\"after dropping NaN\", dataset.shape)\n",
    "\n",
    "import lightgbm as lgb\n",
    "dataset_train = dataset[:'2022']\n",
    "\n",
    "gbm = lgb.LGBMClassifier(n_estimators=100, random_state=5, learning_rate=0.01)\n",
    "\n",
    "gbm.fit(dataset_train[feature_names], dataset_train['return'] > 1)\n",
    "\n",
    "\n",
    "from sklearn.preprocessing import StandardScaler\n",
    "\n",
    "ss = StandardScaler()\n",
    "\n",
    "dataset_scaled = ss.fit_transform(dataset)\n",
    "dataset_scaled = pd.DataFrame(dataset_scaled, columns=dataset.columns, index=dataset.index)\n",
    "dataset_scaled['return'] = dataset['return']\n",
    "dataset_scaled.describe()\n",
    "\n",
    "\n",
    "import tqdm\n",
    "\n",
    "n = 3\n",
    "\n",
    "X = []\n",
    "y = []\n",
    "indexes = []\n",
    "dataset_scaled_x = dataset_scaled[feature_names]\n",
    "\n",
    "for i in tqdm.tqdm_notebook(range(0, len(dataset_scaled)-n)):\n",
    "    X.append(dataset_scaled_x.iloc[i:i+n].values)\n",
    "    y.append(dataset_scaled['return'].iloc[i+n-1])\n",
    "    indexes.append(dataset_scaled.index[i+n-1])\n",
    "#dataset_scaled.head()\n",
    "\n",
    "import numpy as np\n",
    "X = np.array(X)\n",
    "y = np.array(y)\n",
    "indexes = np.array(indexes)"
   ]
  },
  {
   "cell_type": "code",
   "execution_count": null,
   "metadata": {},
   "outputs": [],
   "source": []
  },
  {
   "cell_type": "markdown",
   "metadata": {},
   "source": [
    "## 神經網路 Model （完全不用改）"
   ]
  },
  {
   "cell_type": "code",
   "execution_count": 7,
   "metadata": {},
   "outputs": [],
   "source": [
    "# from tensorflow.keras.engine.topology import Layer\n",
    "from tensorflow.keras.layers import Layer\n",
    "from tensorflow.keras import initializers, regularizers, constraints\n",
    "from tensorflow.keras import backend as K\n",
    "\n",
    "\n",
    "class Attention(Layer):\n",
    "    def __init__(self, step_dim,\n",
    "                 W_regularizer=None, b_regularizer=None,\n",
    "                 W_constraint=None, b_constraint=None,\n",
    "                 bias=True, **kwargs):\n",
    "        self.supports_masking = True\n",
    "        self.init = initializers.get('glorot_uniform')\n",
    "\n",
    "        self.W_regularizer = regularizers.get(W_regularizer)\n",
    "        self.b_regularizer = regularizers.get(b_regularizer)\n",
    "\n",
    "        self.W_constraint = constraints.get(W_constraint)\n",
    "        self.b_constraint = constraints.get(b_constraint)\n",
    "\n",
    "        self.bias = bias\n",
    "        self.step_dim = step_dim\n",
    "        self.features_dim = 0\n",
    "        super(Attention, self).__init__(**kwargs)\n",
    "\n",
    "    def build(self, input_shape):\n",
    "        assert len(input_shape) == 3\n",
    "\n",
    "        self.W = self.add_weight(shape = (input_shape[-1],),\n",
    "                                 initializer=self.init,\n",
    "                                 name='{}_W'.format(self.name),\n",
    "                                 regularizer=self.W_regularizer,\n",
    "                                 constraint=self.W_constraint)\n",
    "        self.features_dim = input_shape[-1]\n",
    "\n",
    "        if self.bias:\n",
    "            self.b = self.add_weight(shape =(input_shape[1],),\n",
    "                                     initializer='zero',\n",
    "                                     name='{}_b'.format(self.name),\n",
    "                                     regularizer=self.b_regularizer,\n",
    "                                     constraint=self.b_constraint)\n",
    "        else:\n",
    "            self.b = None\n",
    "\n",
    "        self.built = True\n",
    "\n",
    "    def compute_mask(self, input, input_mask=None):\n",
    "        return None\n",
    "\n",
    "    def call(self, x, mask=None):\n",
    "        features_dim = self.features_dim\n",
    "        step_dim = self.step_dim\n",
    "\n",
    "        eij = K.reshape(K.dot(K.reshape(x, (-1, features_dim)),\n",
    "                        K.reshape(self.W, (features_dim, 1))), (-1, step_dim))\n",
    "\n",
    "        if self.bias:\n",
    "            eij += self.b\n",
    "\n",
    "        eij = K.tanh(eij)\n",
    "\n",
    "        a = K.exp(eij)\n",
    "\n",
    "        if mask is not None:\n",
    "            a *= K.cast(mask, K.floatx())\n",
    "\n",
    "        a /= K.cast(K.sum(a, axis=1, keepdims=True) + K.epsilon(), K.floatx())\n",
    "\n",
    "        a = K.expand_dims(a)\n",
    "        weighted_input = x * a\n",
    "        return K.sum(weighted_input, axis=1)\n",
    "\n",
    "    def compute_output_shape(self, input_shape):\n",
    "        return input_shape[0],  self.features_dim\n",
    "\n",
    "from tensorflow import keras\n",
    "\n",
    "input_shape = X[0].shape # 還沒有 X ，請自己試試看！（參考u22-lstm.ipynb）\n",
    "SEQ_LEN = input_shape[0]\n",
    "\n",
    "model = keras.models.Sequential()\n",
    "\n",
    "model.add(keras.layers.LSTM(128, input_shape=input_shape, return_sequences=True))\n",
    "#model.add(keras.layers.Dropout(0.8))\n",
    "#model.add(keras.layers.BatchNormalization())\n",
    "model.add(Attention(SEQ_LEN))\n",
    "model.add(keras.layers.Dense(32, activation=\"relu\"))\n",
    "#model.add(keras.layers.Dropout(0.8))\n",
    "model.add(keras.layers.Dense(1))\n",
    "model.compile(optimizer=keras.optimizers.Adam(0.0005), loss='binary_crossentropy' , metrics = ['accuracy'])\n",
    "\n"
   ]
  },
  {
   "cell_type": "markdown",
   "metadata": {},
   "source": [
    "## 神經網路訓練（完全不用改）"
   ]
  },
  {
   "cell_type": "code",
   "execution_count": 8,
   "metadata": {
    "scrolled": true
   },
   "outputs": [
    {
     "name": "stdout",
     "output_type": "stream",
     "text": [
      "Epoch 1/10\n",
      "1/1 [==============================] - 3s 3s/step - loss: 4.3112 - accuracy: 0.4122 - val_loss: 8.9519 - val_accuracy: 0.3005\n",
      "Epoch 2/10\n",
      "1/1 [==============================] - 0s 240ms/step - loss: 4.0025 - accuracy: 0.4140 - val_loss: 8.7580 - val_accuracy: 0.3005\n",
      "Epoch 3/10\n",
      "1/1 [==============================] - 0s 260ms/step - loss: 3.7299 - accuracy: 0.4276 - val_loss: 7.5738 - val_accuracy: 0.3005\n",
      "Epoch 4/10\n",
      "1/1 [==============================] - 0s 275ms/step - loss: 3.5500 - accuracy: 0.4467 - val_loss: 7.0219 - val_accuracy: 0.3005\n",
      "Epoch 5/10\n",
      "1/1 [==============================] - 0s 306ms/step - loss: 3.3007 - accuracy: 0.4498 - val_loss: 6.5625 - val_accuracy: 0.3005\n",
      "Epoch 6/10\n",
      "1/1 [==============================] - 0s 310ms/step - loss: 3.0253 - accuracy: 0.4689 - val_loss: 6.3740 - val_accuracy: 0.3005\n",
      "Epoch 7/10\n",
      "1/1 [==============================] - 0s 255ms/step - loss: 2.9130 - accuracy: 0.4701 - val_loss: 5.9114 - val_accuracy: 0.3005\n",
      "Epoch 8/10\n",
      "1/1 [==============================] - 0s 290ms/step - loss: 2.7429 - accuracy: 0.4781 - val_loss: 5.4640 - val_accuracy: 0.3005\n",
      "Epoch 9/10\n",
      "1/1 [==============================] - 0s 290ms/step - loss: 2.5416 - accuracy: 0.4978 - val_loss: 5.2088 - val_accuracy: 0.3005\n",
      "Epoch 10/10\n",
      "1/1 [==============================] - 0s 326ms/step - loss: 2.3225 - accuracy: 0.4929 - val_loss: 4.9579 - val_accuracy: 0.3005\n"
     ]
    }
   ],
   "source": [
    "import datetime\n",
    "X_train = X[indexes < datetime.datetime(2022, 1, 1)]\n",
    "y_train = y[indexes < datetime.datetime(2022, 1, 1)]\n",
    "\n",
    "\n",
    "get_best_model = keras.callbacks.ModelCheckpoint(\n",
    "    filepath=\"./tmp/checkpoint_hw_4_1\",\n",
    "    save_weights_only=True,\n",
    "    monitor='val_loss',\n",
    "    mode='min',\n",
    "    save_best_only=True)\n",
    "\n",
    "\n",
    "history = model.fit(\n",
    "    X_train,  \n",
    "    y_train > 1, \n",
    "    batch_size=2000, \n",
    "    epochs=10,\n",
    "    validation_split=0.2, \n",
    "    callbacks=[get_best_model])\n"
   ]
  },
  {
   "cell_type": "markdown",
   "metadata": {},
   "source": [
    "## u22-lstm.ipynb 的程式碼（驗證、回測）"
   ]
  },
  {
   "cell_type": "code",
   "execution_count": 9,
   "metadata": {},
   "outputs": [
    {
     "name": "stdout",
     "output_type": "stream",
     "text": [
      "73/73 [==============================] - 1s 2ms/step\n"
     ]
    },
    {
     "data": {
      "text/plain": [
       "<AxesSubplot:>"
      ]
     },
     "execution_count": 9,
     "metadata": {},
     "output_type": "execute_result"
    },
    {
     "data": {
      "image/png": "[encoded data removed]",
      "text/plain": [
       "<Figure size 640x480 with 1 Axes>"
      ]
     },
     "metadata": {},
     "output_type": "display_data"
    }
   ],
   "source": [
    "import matplotlib.pyplot as plt\n",
    "%matplotlib inline\n",
    "\n",
    "# u22-lstm 程式碼(evaluation and backtest)\n",
    "model.load_weights(\"./tmp/checkpoint_hw_4_1\")\n",
    "ey = model.predict(X)\n",
    "ey = pd.Series(ey.swapaxes(0,1)[0], index=indexes)\n",
    "ey.plot()\n"
   ]
  },
  {
   "cell_type": "code",
   "execution_count": 10,
   "metadata": {},
   "outputs": [
    {
     "data": {
      "text/plain": [
       "<AxesSubplot:xlabel='date'>"
      ]
     },
     "execution_count": 10,
     "metadata": {},
     "output_type": "execute_result"
    },
    {
     "data": {
      "image/png": "[encoded data removed]",
      "text/plain": [
       "<Figure size 640x480 with 1 Axes>"
      ]
     },
     "metadata": {},
     "output_type": "display_data"
    }
   ],
   "source": [
    "eq = twii[indexes]\n",
    "returns = (eq.shift(-1) - eq)\n",
    "\n",
    "signal = (ey > ey.quantile(0.6)).rolling(10).sum() > 0\n",
    "signal = signal.shift(1).fillna(False)\n",
    "\n",
    "eq = (returns[signal]['2022':]).cumsum()\n",
    "eq.plot()"
   ]
  },
  {
   "cell_type": "code",
   "execution_count": 19,
   "metadata": {},
   "outputs": [
    {
     "data": {
      "text/plain": [
       "2022-12-22    False\n",
       "2022-12-23    False\n",
       "2022-12-26    False\n",
       "2022-12-27    False\n",
       "2022-12-28    False\n",
       "2022-12-29    False\n",
       "2022-12-30    False\n",
       "2023-01-03    False\n",
       "2023-01-04     True\n",
       "2023-01-05     True\n",
       "2023-01-06     True\n",
       "2023-01-09     True\n",
       "2023-01-10     True\n",
       "2023-01-11     True\n",
       "2023-01-12     True\n",
       "2023-01-13     True\n",
       "2023-01-16     True\n",
       "2023-01-17     True\n",
       "2023-01-30     True\n",
       "2023-01-31     True\n",
       "2023-02-01     True\n",
       "2023-02-02     True\n",
       "2023-02-03     True\n",
       "2023-02-06     True\n",
       "2023-02-07     True\n",
       "2023-02-08    False\n",
       "2023-02-09    False\n",
       "2023-02-10    False\n",
       "2023-02-13    False\n",
       "2023-02-14    False\n",
       "2023-02-15    False\n",
       "2023-02-16    False\n",
       "2023-02-17    False\n",
       "2023-02-20    False\n",
       "2023-02-21    False\n",
       "2023-02-22    False\n",
       "2023-02-23    False\n",
       "2023-02-24    False\n",
       "2023-03-01    False\n",
       "2023-03-02    False\n",
       "2023-03-03    False\n",
       "2023-03-06    False\n",
       "2023-03-07    False\n",
       "2023-03-08    False\n",
       "2023-03-09    False\n",
       "2023-03-10    False\n",
       "2023-03-13    False\n",
       "2023-03-14    False\n",
       "2023-03-15    False\n",
       "2023-03-16    False\n",
       "dtype: bool"
      ]
     },
     "execution_count": 19,
     "metadata": {},
     "output_type": "execute_result"
    }
   ],
   "source": [
    "signal.tail(50)"
   ]
  },
  {
   "cell_type": "code",
   "execution_count": null,
   "metadata": {},
   "outputs": [],
   "source": []
  }
 ],
 "metadata": {
  "kernelspec": {
   "display_name": "finlab",
   "language": "python",
   "name": "finlab"
  },
  "language_info": {
   "codemirror_mode": {
    "name": "ipython",
    "version": 3
   },
   "file_extension": ".py",
   "mimetype": "text/x-python",
   "name": "python",
   "nbconvert_exporter": "python",
   "pygments_lexer": "ipython3",
   "version": "3.7.16"
  }
 },
 "nbformat": 4,
 "nbformat_minor": 4
}

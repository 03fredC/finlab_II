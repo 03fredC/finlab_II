{
 "cells": [
  {
   "cell_type": "code",
   "execution_count": null,
   "id": "6dde1686",
   "metadata": {},
   "outputs": [],
   "source": [
    "!conda install -c conda-forge jupyterlab-language-pack-zh-CN"
   ]
  },
  {
   "cell_type": "code",
   "execution_count": null,
   "id": "9ec4c47b",
   "metadata": {},
   "outputs": [],
   "source": []
  }
 ],
 "metadata": {
  "kernelspec": {
   "display_name": "finlab_N",
   "language": "python",
   "name": "finlab_n"
  },
  "language_info": {
   "codemirror_mode": {
    "name": "ipython",
    "version": 3
   },
   "file_extension": ".py",
   "mimetype": "text/x-python",
   "name": "python",
   "nbconvert_exporter": "python",
   "pygments_lexer": "ipython3",
   "version": "3.10.8"
  }
 },
 "nbformat": 4,
 "nbformat_minor": 5
}

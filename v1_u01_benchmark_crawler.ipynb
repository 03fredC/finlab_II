{
 "cells": [
  {
   "cell_type": "markdown",
   "metadata": {},
   "source": [
    "# 爬取大盤\n",
    "\n",
    "\n",
    "自從上一堂課開始後，同學開始想要新增新的數據到資料庫，但是其實有點難，\n",
    "\n",
    "這個單元將會分享如何新增爬蟲，並且將爬蟲加入 Finlab 所提供的 API 中"
   ]
  },
  {
   "cell_type": "markdown",
   "metadata": {},
   "source": [
    "### 爬蟲的網址\n",
    "\n",
    "我們想要爬取的網址如下：\n",
    "http://www.tse.com.tw/zh/page/trading/exchange/MI_5MINS_INDEX.html"
   ]
  },
  {
   "cell_type": "markdown",
   "metadata": {},
   "source": [
    "### 下載某天的資料"
   ]
  },
  {
   "cell_type": "code",
   "execution_count": 5,
   "metadata": {},
   "outputs": [
    {
     "data": {
      "text/plain": [
       "'\"111年11月24日每5秒指數統計\"\\r\\n\"時間\",\"發行量加權股價指數\",\"未含金融保險股指數\",\"未含電子股指數\",\"未含金融電子股指數\",\"水泥類指數\",\"食品類指數\",\"塑膠類指數\",\"紡織纖維類指數\",\"電機機械類指數\",\"電器電纜類指數\",\"化學生技醫療類指數\",\"化學類指數\",\"生技醫療類指數\",\"玻璃陶瓷類指數\",\"造紙類指數\",\"鋼鐵類指數\",\"橡膠類指數\",\"汽車類指數\",\"電子類指數\",\"半導體類指數\",\"電腦及週邊設備類指數\",\"光電類指數\",\"通信網路類指數\",\"電子零組件類指數\",\"電子通路類指數\",\"資訊服務類指數\",\"其他電子類指數\",\"建材營造類指數\",\"航運類指數\",\"觀光類指數\",\"金融保險類指數\",\"貿易百貨類指數\",\"油電燃氣類指數\",\"其他類指數\",\\r\\n=\"09:00:00\",\"14,608.54\",\"12,559.27\",\"16,873.39\",\"13,975.79\",\"150.60\",\"1,766.41\",\"245.14\",\"558.21\",\"215.28\",\"98.54\",\"111.23\",\"125.59\",\"67.20\",\"63.21\",\"304.65\",\"134.73\",\"230.49\",\"328.53\",\"684.27\",\"328.46\",\"120.84\",\"33.80\",\"122.62\",\"160.41\",\"167.85\",\"120.17\",\"94.87\",\"346.85\",\"154.24\",\"103.83\",\"1,512.15\",\"269.23\",\"109.18\",\"343.40\",\\r\\n=\"09:00:05\",\"14,649.80\",\"12,597.16\",\"16,903.68\",\"14,003.18\",\"151.03\",\"1,766.75\",\"245.23\",\"559.30\",\"215.48\",\"99.09\",\"111.57\",\"125.86\",\"67.46\",\"63.21\",\"305.67\",\"134.74\",\"231.33\",\"328.09\",\"686.66\",\"329.91\",\"121.21\",\"33.83\",\"122.73\",\"160.57\",\"167.70\",\"120.17\",\"95.25\",\"347.13\",\"154.48\",\"103.87\",\"1,514.30\",\"269.24\",\"110.'"
      ]
     },
     "execution_count": 5,
     "metadata": {},
     "output_type": "execute_result"
    }
   ],
   "source": [
    "import requests\n",
    "\n",
    "import datetime\n",
    "\n",
    "date = datetime.date(2022,11,24)\n",
    "datestr = date.strftime(\"%Y%m%d\")\n",
    "\n",
    "res = requests.get(\"http://www.twse.com.tw/exchangeReport/MI_5MINS_INDEX?response=csv&date=\"+datestr+\"&_=1552616075051\")\n",
    "\n",
    "res.text[:1000]"
   ]
  },
  {
   "cell_type": "markdown",
   "metadata": {},
   "source": [
    "### 將資料用pandas整理成表格(dataframe)\n",
    "\n",
    "Pandas 教學：\n",
    "http://pandas.pydata.org/pandas-docs/stable/getting_started/10min.html"
   ]
  },
  {
   "cell_type": "code",
   "execution_count": 4,
   "metadata": {},
   "outputs": [
    {
     "ename": "ModuleNotFoundError",
     "evalue": "No module named 'pandas'",
     "output_type": "error",
     "traceback": [
      "\u001b[0;31m---------------------------------------------------------------------------\u001b[0m",
      "\u001b[0;31mModuleNotFoundError\u001b[0m                       Traceback (most recent call last)",
      "Cell \u001b[0;32mIn [4], line 1\u001b[0m\n\u001b[0;32m----> 1\u001b[0m \u001b[38;5;28;01mimport\u001b[39;00m \u001b[38;5;21;01mpandas\u001b[39;00m \u001b[38;5;28;01mas\u001b[39;00m \u001b[38;5;21;01mpd\u001b[39;00m\n\u001b[1;32m      2\u001b[0m \u001b[38;5;28;01mimport\u001b[39;00m \u001b[38;5;21;01mio\u001b[39;00m\n\u001b[1;32m      3\u001b[0m df \u001b[38;5;241m=\u001b[39m pd\u001b[38;5;241m.\u001b[39mread_csv(io\u001b[38;5;241m.\u001b[39mStringIO(res\u001b[38;5;241m.\u001b[39mtext\u001b[38;5;241m.\u001b[39mreplace(\u001b[38;5;124m\"\u001b[39m\u001b[38;5;124m=\u001b[39m\u001b[38;5;124m\"\u001b[39m, \u001b[38;5;124m\"\u001b[39m\u001b[38;5;124m\"\u001b[39m)), header\u001b[38;5;241m=\u001b[39m\u001b[38;5;241m1\u001b[39m, index_col\u001b[38;5;241m=\u001b[39m\u001b[38;5;124m'\u001b[39m\u001b[38;5;124m時間\u001b[39m\u001b[38;5;124m'\u001b[39m)\n",
      "\u001b[0;31mModuleNotFoundError\u001b[0m: No module named 'pandas'"
     ]
    }
   ],
   "source": [
    "import pandas as pd\n",
    "import io\n",
    "df = pd.read_csv(io.StringIO(res.text.replace(\"=\", \"\")), header=1, index_col='時間')\n",
    "\n",
    "df"
   ]
  },
  {
   "cell_type": "markdown",
   "metadata": {},
   "source": [
    "### 資料處理\n",
    "1. 去除不需要的行、列\n",
    "2. 設定index為日期\n",
    "3. 將逗點「,」刪除，讓table裡面的字串(str)變成數字(float or int)"
   ]
  },
  {
   "cell_type": "code",
   "execution_count": null,
   "metadata": {},
   "outputs": [],
   "source": [
    "#df = df.dropna(how='all', axis=0).dropna(how='all', axis=1)\n",
    "#df.index = pd.to_datetime(datestr + ' ' + df.index)\n",
    "#df = df.applymap(lambda s: float(str(s).replace(\",\", \"\")))\n",
    "#df\n",
    "\n",
    "def abc(e):\n",
    "    ret = str(e)\n",
    "    ret = ret.replace(\",\", \"\")\n",
    "    ret = float(ret)\n",
    "    return ret#float(str(e).replace(\",\", \"\"))\n",
    "\n",
    "df = df.applymap(abc)\n",
    "df.head()"
   ]
  },
  {
   "cell_type": "markdown",
   "metadata": {},
   "source": [
    "### 全部加在一起"
   ]
  },
  {
   "cell_type": "code",
   "execution_count": null,
   "metadata": {},
   "outputs": [],
   "source": [
    "# 時間物件\n",
    "import datetime\n",
    "\n",
    "# 下載網頁用的\n",
    "import requests\n",
    "\n",
    "# 資料處理\n",
    "import pandas as pd\n",
    "\n",
    "# 檔案串流\n",
    "from io import StringIO\n",
    "\n",
    "\n",
    "# 下載某天的資料\n",
    "\n",
    "date = datetime.date(2018,1,3)\n",
    "date_str = date.strftime('%Y%m%d')\n",
    "res = requests.get(\"http://www.twse.com.tw/exchangeReport/MI_5MINS_INDEX?response=csv&date=\" + \n",
    "                   date_str + \"&_=1544020420045\")\n",
    "\n",
    "# 利用 pandas 將資料整理成表格\n",
    "\n",
    "df = pd.read_csv(StringIO(res.text.replace(\"=\",\"\")), header=1, index_col='時間')\n",
    "\n",
    "# 資料處理\n",
    "\n",
    "df = df.dropna(how='all', axis=0).dropna(how='all', axis=1)\n",
    "df.index = pd.to_datetime(date.strftime('%Y %m %d ') + pd.Series(df.index))\n",
    "df = df.apply(lambda s: s.astype(str).str.replace(\",\", \"\").astype(float))\n",
    "\n",
    "df.head()"
   ]
  },
  {
   "cell_type": "code",
   "execution_count": null,
   "metadata": {},
   "outputs": [],
   "source": [
    "import pandas as pd\n",
    "\n",
    "pd.__version__"
   ]
  },
  {
   "cell_type": "markdown",
   "metadata": {},
   "source": [
    "### 有了這個功能後，下一步呢？\n",
    "\n",
    "下一部我們要將這個資料整合進資料庫喔！\n",
    "\n",
    "讓資料庫變成超級豐富吧！"
   ]
  },
  {
   "cell_type": "code",
   "execution_count": null,
   "metadata": {},
   "outputs": [],
   "source": []
  }
 ],
 "metadata": {
  "kernelspec": {
   "display_name": "finlab",
   "language": "python",
   "name": "finlab"
  },
  "language_info": {
   "codemirror_mode": {
    "name": "ipython",
    "version": 3
   },
   "file_extension": ".py",
   "mimetype": "text/x-python",
   "name": "python",
   "nbconvert_exporter": "python",
   "pygments_lexer": "ipython3",
   "version": "3.7.15"
  }
 },
 "nbformat": 4,
 "nbformat_minor": 4
}

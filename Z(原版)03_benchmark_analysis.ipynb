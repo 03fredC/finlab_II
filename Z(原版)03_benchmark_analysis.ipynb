{
 "cells": [
  {
   "cell_type": "markdown",
   "metadata": {},
   "source": [
    "### 讀取大盤資料"
   ]
  },
  {
   "cell_type": "code",
   "execution_count": 2,
   "metadata": {},
   "outputs": [
    {
     "data": {
      "text/plain": [
       "date\n",
       "2006-01-02 09:00:00    6548.34\n",
       "2006-01-02 09:01:00    6457.61\n",
       "2006-01-02 09:02:00    6452.82\n",
       "2006-01-02 09:03:00    6452.39\n",
       "2006-01-02 09:04:00    6451.61\n",
       "Name: 台股指數, dtype: float64"
      ]
     },
     "execution_count": 2,
     "metadata": {},
     "output_type": "execute_result"
    }
   ],
   "source": [
    "from finlab.data import Data\n",
    "\n",
    "data = Data()\n",
    "\n",
    "twii = data.get(\"發行量加權股價指數\")\n",
    "\n",
    "twii = twii['台股指數']\n",
    "\n",
    "twii.head()"
   ]
  },
  {
   "cell_type": "markdown",
   "metadata": {},
   "source": [
    "### 整理加權指數 1分k"
   ]
  },
  {
   "cell_type": "code",
   "execution_count": 3,
   "metadata": {},
   "outputs": [],
   "source": [
    "\n",
    "twii = twii[twii.index.second == 0]"
   ]
  },
  {
   "cell_type": "markdown",
   "metadata": {},
   "source": [
    "### 畫的更美一點"
   ]
  },
  {
   "cell_type": "code",
   "execution_count": 4,
   "metadata": {},
   "outputs": [
    {
     "data": {
      "text/plain": [
       "<AxesSubplot:>"
      ]
     },
     "execution_count": 4,
     "metadata": {},
     "output_type": "execute_result"
    },
    {
     "data": {
      "image/png": "[encoded data removed]",
      "text/plain": [
       "<Figure size 640x480 with 1 Axes>"
      ]
     },
     "metadata": {},
     "output_type": "display_data"
    }
   ],
   "source": [
    "import matplotlib.pyplot as plt\n",
    "plt.style.use\n",
    "%matplotlib inline\n",
    "twii.hist()"
   ]
  },
  {
   "cell_type": "markdown",
   "metadata": {},
   "source": [
    "### DataFrame 小教室：groupby"
   ]
  },
  {
   "cell_type": "code",
   "execution_count": 5,
   "metadata": {},
   "outputs": [
    {
     "data": {
      "text/plain": [
       "0    15\n",
       "1    48\n",
       "dtype: int64"
      ]
     },
     "execution_count": 5,
     "metadata": {},
     "output_type": "execute_result"
    }
   ],
   "source": [
    "import pandas as pd\n",
    "\n",
    "s = pd.Series([1,2,3,4,5,6])\n",
    "s.groupby([0,1,0,1,0,1]).prod()"
   ]
  },
  {
   "cell_type": "code",
   "execution_count": 6,
   "metadata": {},
   "outputs": [
    {
     "data": {
      "text/html": [
       "<div>\n",
       "<style scoped>\n",
       "    .dataframe tbody tr th:only-of-type {\n",
       "        vertical-align: middle;\n",
       "    }\n",
       "\n",
       "    .dataframe tbody tr th {\n",
       "        vertical-align: top;\n",
       "    }\n",
       "\n",
       "    .dataframe thead th {\n",
       "        text-align: right;\n",
       "    }\n",
       "</style>\n",
       "<table border=\"1\" class=\"dataframe\">\n",
       "  <thead>\n",
       "    <tr style=\"text-align: right;\">\n",
       "      <th></th>\n",
       "      <th>a</th>\n",
       "      <th>b</th>\n",
       "    </tr>\n",
       "  </thead>\n",
       "  <tbody>\n",
       "    <tr>\n",
       "      <th>1</th>\n",
       "      <td>15</td>\n",
       "      <td>15</td>\n",
       "    </tr>\n",
       "    <tr>\n",
       "      <th>2</th>\n",
       "      <td>48</td>\n",
       "      <td>48</td>\n",
       "    </tr>\n",
       "  </tbody>\n",
       "</table>\n",
       "</div>"
      ],
      "text/plain": [
       "    a   b\n",
       "1  15  15\n",
       "2  48  48"
      ]
     },
     "execution_count": 6,
     "metadata": {},
     "output_type": "execute_result"
    }
   ],
   "source": [
    "df = pd.DataFrame({'a':s, 'b':s})\n",
    "df\n",
    "df.groupby([1,2,1,2,1,2]).prod()"
   ]
  },
  {
   "cell_type": "code",
   "execution_count": 7,
   "metadata": {},
   "outputs": [
    {
     "data": {
      "text/plain": [
       "date\n",
       "2006-01-02 09:00:00    6548.34\n",
       "2006-01-02 09:01:00    6457.61\n",
       "2006-01-02 09:02:00    6452.82\n",
       "2006-01-02 09:03:00    6452.39\n",
       "2006-01-02 09:04:00    6451.61\n",
       "Name: 台股指數, dtype: float64"
      ]
     },
     "execution_count": 7,
     "metadata": {},
     "output_type": "execute_result"
    }
   ],
   "source": [
    "twii.head()"
   ]
  },
  {
   "cell_type": "markdown",
   "metadata": {},
   "source": [
    "### 每月漲跌"
   ]
  },
  {
   "cell_type": "code",
   "execution_count": 8,
   "metadata": {},
   "outputs": [
    {
     "data": {
      "text/html": [
       "<div>\n",
       "<style scoped>\n",
       "    .dataframe tbody tr th:only-of-type {\n",
       "        vertical-align: middle;\n",
       "    }\n",
       "\n",
       "    .dataframe tbody tr th {\n",
       "        vertical-align: top;\n",
       "    }\n",
       "\n",
       "    .dataframe thead tr th {\n",
       "        text-align: left;\n",
       "    }\n",
       "\n",
       "    .dataframe thead tr:last-of-type th {\n",
       "        text-align: right;\n",
       "    }\n",
       "</style>\n",
       "<table border=\"1\" class=\"dataframe\">\n",
       "  <thead>\n",
       "    <tr>\n",
       "      <th></th>\n",
       "      <th colspan=\"12\" halign=\"left\">台股指數</th>\n",
       "    </tr>\n",
       "    <tr>\n",
       "      <th>month</th>\n",
       "      <th>1</th>\n",
       "      <th>2</th>\n",
       "      <th>3</th>\n",
       "      <th>4</th>\n",
       "      <th>5</th>\n",
       "      <th>6</th>\n",
       "      <th>7</th>\n",
       "      <th>8</th>\n",
       "      <th>9</th>\n",
       "      <th>10</th>\n",
       "      <th>11</th>\n",
       "      <th>12</th>\n",
       "    </tr>\n",
       "    <tr>\n",
       "      <th>year</th>\n",
       "      <th></th>\n",
       "      <th></th>\n",
       "      <th></th>\n",
       "      <th></th>\n",
       "      <th></th>\n",
       "      <th></th>\n",
       "      <th></th>\n",
       "      <th></th>\n",
       "      <th></th>\n",
       "      <th></th>\n",
       "      <th></th>\n",
       "      <th></th>\n",
       "    </tr>\n",
       "  </thead>\n",
       "  <tbody>\n",
       "    <tr>\n",
       "      <th>2006</th>\n",
       "      <td>0.997532</td>\n",
       "      <td>1.004508</td>\n",
       "      <td>1.007977</td>\n",
       "      <td>1.084337</td>\n",
       "      <td>0.954709</td>\n",
       "      <td>0.979182</td>\n",
       "      <td>0.962736</td>\n",
       "      <td>1.024353</td>\n",
       "      <td>1.041030</td>\n",
       "      <td>1.020088</td>\n",
       "      <td>1.077820</td>\n",
       "      <td>1.033828</td>\n",
       "    </tr>\n",
       "    <tr>\n",
       "      <th>2007</th>\n",
       "      <td>0.984141</td>\n",
       "      <td>1.026277</td>\n",
       "      <td>0.997779</td>\n",
       "      <td>0.998860</td>\n",
       "      <td>1.034224</td>\n",
       "      <td>1.090640</td>\n",
       "      <td>1.045484</td>\n",
       "      <td>0.967150</td>\n",
       "      <td>1.055038</td>\n",
       "      <td>1.024782</td>\n",
       "      <td>0.884159</td>\n",
       "      <td>0.990669</td>\n",
       "    </tr>\n",
       "    <tr>\n",
       "      <th>2008</th>\n",
       "      <td>0.884186</td>\n",
       "      <td>1.118550</td>\n",
       "      <td>1.018999</td>\n",
       "      <td>1.040516</td>\n",
       "      <td>0.966273</td>\n",
       "      <td>0.872894</td>\n",
       "      <td>0.933611</td>\n",
       "      <td>1.003139</td>\n",
       "      <td>0.811693</td>\n",
       "      <td>0.851621</td>\n",
       "      <td>0.915788</td>\n",
       "      <td>1.029308</td>\n",
       "    </tr>\n",
       "    <tr>\n",
       "      <th>2009</th>\n",
       "      <td>0.925238</td>\n",
       "      <td>1.072783</td>\n",
       "      <td>1.143443</td>\n",
       "      <td>1.150020</td>\n",
       "      <td>1.149831</td>\n",
       "      <td>0.933490</td>\n",
       "      <td>1.100363</td>\n",
       "      <td>0.964429</td>\n",
       "      <td>1.100092</td>\n",
       "      <td>0.977482</td>\n",
       "      <td>1.032987</td>\n",
       "      <td>1.079911</td>\n",
       "    </tr>\n",
       "    <tr>\n",
       "      <th>2010</th>\n",
       "      <td>0.933114</td>\n",
       "      <td>0.973255</td>\n",
       "      <td>1.065083</td>\n",
       "      <td>1.010630</td>\n",
       "      <td>0.921258</td>\n",
       "      <td>0.993950</td>\n",
       "      <td>1.058840</td>\n",
       "      <td>0.981400</td>\n",
       "      <td>1.081602</td>\n",
       "      <td>1.005986</td>\n",
       "      <td>1.010304</td>\n",
       "      <td>1.071666</td>\n",
       "    </tr>\n",
       "    <tr>\n",
       "      <th>2011</th>\n",
       "      <td>1.019264</td>\n",
       "      <td>0.940330</td>\n",
       "      <td>1.009727</td>\n",
       "      <td>1.037379</td>\n",
       "      <td>0.997887</td>\n",
       "      <td>0.962593</td>\n",
       "      <td>0.999028</td>\n",
       "      <td>0.895557</td>\n",
       "      <td>0.933348</td>\n",
       "      <td>1.050144</td>\n",
       "      <td>0.909911</td>\n",
       "      <td>1.024328</td>\n",
       "    </tr>\n",
       "    <tr>\n",
       "      <th>2012</th>\n",
       "      <td>1.062923</td>\n",
       "      <td>1.080398</td>\n",
       "      <td>0.976797</td>\n",
       "      <td>0.945635</td>\n",
       "      <td>0.973310</td>\n",
       "      <td>0.999285</td>\n",
       "      <td>0.996465</td>\n",
       "      <td>1.017409</td>\n",
       "      <td>1.043004</td>\n",
       "      <td>0.928827</td>\n",
       "      <td>1.057789</td>\n",
       "      <td>1.015742</td>\n",
       "    </tr>\n",
       "    <tr>\n",
       "      <th>2013</th>\n",
       "      <td>1.019549</td>\n",
       "      <td>1.006110</td>\n",
       "      <td>1.002612</td>\n",
       "      <td>1.022106</td>\n",
       "      <td>1.019909</td>\n",
       "      <td>0.976669</td>\n",
       "      <td>1.005672</td>\n",
       "      <td>0.989387</td>\n",
       "      <td>1.018946</td>\n",
       "      <td>1.033789</td>\n",
       "      <td>0.994884</td>\n",
       "      <td>1.024347</td>\n",
       "    </tr>\n",
       "    <tr>\n",
       "      <th>2014</th>\n",
       "      <td>0.982705</td>\n",
       "      <td>1.020917</td>\n",
       "      <td>1.024272</td>\n",
       "      <td>0.993464</td>\n",
       "      <td>1.032358</td>\n",
       "      <td>1.034945</td>\n",
       "      <td>0.991779</td>\n",
       "      <td>1.012926</td>\n",
       "      <td>0.950261</td>\n",
       "      <td>1.000874</td>\n",
       "      <td>1.023665</td>\n",
       "      <td>1.013074</td>\n",
       "    </tr>\n",
       "    <tr>\n",
       "      <th>2015</th>\n",
       "      <td>1.005872</td>\n",
       "      <td>1.027792</td>\n",
       "      <td>0.996294</td>\n",
       "      <td>1.024369</td>\n",
       "      <td>0.987884</td>\n",
       "      <td>0.961030</td>\n",
       "      <td>0.929456</td>\n",
       "      <td>0.943404</td>\n",
       "      <td>1.000773</td>\n",
       "      <td>1.045601</td>\n",
       "      <td>0.972680</td>\n",
       "      <td>1.002097</td>\n",
       "    </tr>\n",
       "    <tr>\n",
       "      <th>2016</th>\n",
       "      <td>0.976871</td>\n",
       "      <td>1.032651</td>\n",
       "      <td>1.039670</td>\n",
       "      <td>0.958040</td>\n",
       "      <td>1.018822</td>\n",
       "      <td>1.015346</td>\n",
       "      <td>1.036673</td>\n",
       "      <td>1.009399</td>\n",
       "      <td>1.010806</td>\n",
       "      <td>1.013447</td>\n",
       "      <td>0.994681</td>\n",
       "      <td>1.001384</td>\n",
       "    </tr>\n",
       "    <tr>\n",
       "      <th>2017</th>\n",
       "      <td>1.021014</td>\n",
       "      <td>1.032020</td>\n",
       "      <td>1.006261</td>\n",
       "      <td>1.006164</td>\n",
       "      <td>1.017091</td>\n",
       "      <td>1.035291</td>\n",
       "      <td>1.003103</td>\n",
       "      <td>1.015196</td>\n",
       "      <td>0.980933</td>\n",
       "      <td>1.039471</td>\n",
       "      <td>0.978380</td>\n",
       "      <td>1.007805</td>\n",
       "    </tr>\n",
       "    <tr>\n",
       "      <th>2018</th>\n",
       "      <td>1.043309</td>\n",
       "      <td>0.974034</td>\n",
       "      <td>1.009618</td>\n",
       "      <td>0.976042</td>\n",
       "      <td>1.020368</td>\n",
       "      <td>0.996501</td>\n",
       "      <td>1.020356</td>\n",
       "      <td>1.000582</td>\n",
       "      <td>0.994794</td>\n",
       "      <td>0.890589</td>\n",
       "      <td>1.008763</td>\n",
       "      <td>0.983756</td>\n",
       "    </tr>\n",
       "    <tr>\n",
       "      <th>2019</th>\n",
       "      <td>1.021059</td>\n",
       "      <td>1.046003</td>\n",
       "      <td>1.024244</td>\n",
       "      <td>1.030701</td>\n",
       "      <td>0.957216</td>\n",
       "      <td>1.022131</td>\n",
       "      <td>1.008665</td>\n",
       "      <td>0.980990</td>\n",
       "      <td>1.019931</td>\n",
       "      <td>1.048850</td>\n",
       "      <td>1.011521</td>\n",
       "      <td>1.044177</td>\n",
       "    </tr>\n",
       "    <tr>\n",
       "      <th>2020</th>\n",
       "      <td>0.958153</td>\n",
       "      <td>0.982346</td>\n",
       "      <td>0.859716</td>\n",
       "      <td>1.132269</td>\n",
       "      <td>0.995453</td>\n",
       "      <td>1.062061</td>\n",
       "      <td>1.089798</td>\n",
       "      <td>0.994208</td>\n",
       "      <td>0.993977</td>\n",
       "      <td>1.002455</td>\n",
       "      <td>1.093776</td>\n",
       "      <td>1.073573</td>\n",
       "    </tr>\n",
       "    <tr>\n",
       "      <th>2021</th>\n",
       "      <td>1.027543</td>\n",
       "      <td>1.053869</td>\n",
       "      <td>1.029920</td>\n",
       "      <td>1.069108</td>\n",
       "      <td>0.971638</td>\n",
       "      <td>1.040252</td>\n",
       "      <td>0.971386</td>\n",
       "      <td>1.014082</td>\n",
       "      <td>0.968238</td>\n",
       "      <td>1.003108</td>\n",
       "      <td>1.025922</td>\n",
       "      <td>1.045392</td>\n",
       "    </tr>\n",
       "    <tr>\n",
       "      <th>2022</th>\n",
       "      <td>0.970117</td>\n",
       "      <td>0.998743</td>\n",
       "      <td>1.002339</td>\n",
       "      <td>0.937757</td>\n",
       "      <td>1.012993</td>\n",
       "      <td>0.882076</td>\n",
       "      <td>1.011759</td>\n",
       "      <td>1.006358</td>\n",
       "      <td>0.889314</td>\n",
       "      <td>0.964630</td>\n",
       "      <td>NaN</td>\n",
       "      <td>NaN</td>\n",
       "    </tr>\n",
       "  </tbody>\n",
       "</table>\n",
       "</div>"
      ],
      "text/plain": [
       "           台股指數                                                              \\\n",
       "month        1         2         3         4         5         6         7    \n",
       "year                                                                          \n",
       "2006   0.997532  1.004508  1.007977  1.084337  0.954709  0.979182  0.962736   \n",
       "2007   0.984141  1.026277  0.997779  0.998860  1.034224  1.090640  1.045484   \n",
       "2008   0.884186  1.118550  1.018999  1.040516  0.966273  0.872894  0.933611   \n",
       "2009   0.925238  1.072783  1.143443  1.150020  1.149831  0.933490  1.100363   \n",
       "2010   0.933114  0.973255  1.065083  1.010630  0.921258  0.993950  1.058840   \n",
       "2011   1.019264  0.940330  1.009727  1.037379  0.997887  0.962593  0.999028   \n",
       "2012   1.062923  1.080398  0.976797  0.945635  0.973310  0.999285  0.996465   \n",
       "2013   1.019549  1.006110  1.002612  1.022106  1.019909  0.976669  1.005672   \n",
       "2014   0.982705  1.020917  1.024272  0.993464  1.032358  1.034945  0.991779   \n",
       "2015   1.005872  1.027792  0.996294  1.024369  0.987884  0.961030  0.929456   \n",
       "2016   0.976871  1.032651  1.039670  0.958040  1.018822  1.015346  1.036673   \n",
       "2017   1.021014  1.032020  1.006261  1.006164  1.017091  1.035291  1.003103   \n",
       "2018   1.043309  0.974034  1.009618  0.976042  1.020368  0.996501  1.020356   \n",
       "2019   1.021059  1.046003  1.024244  1.030701  0.957216  1.022131  1.008665   \n",
       "2020   0.958153  0.982346  0.859716  1.132269  0.995453  1.062061  1.089798   \n",
       "2021   1.027543  1.053869  1.029920  1.069108  0.971638  1.040252  0.971386   \n",
       "2022   0.970117  0.998743  1.002339  0.937757  1.012993  0.882076  1.011759   \n",
       "\n",
       "                                                         \n",
       "month        8         9         10        11        12  \n",
       "year                                                     \n",
       "2006   1.024353  1.041030  1.020088  1.077820  1.033828  \n",
       "2007   0.967150  1.055038  1.024782  0.884159  0.990669  \n",
       "2008   1.003139  0.811693  0.851621  0.915788  1.029308  \n",
       "2009   0.964429  1.100092  0.977482  1.032987  1.079911  \n",
       "2010   0.981400  1.081602  1.005986  1.010304  1.071666  \n",
       "2011   0.895557  0.933348  1.050144  0.909911  1.024328  \n",
       "2012   1.017409  1.043004  0.928827  1.057789  1.015742  \n",
       "2013   0.989387  1.018946  1.033789  0.994884  1.024347  \n",
       "2014   1.012926  0.950261  1.000874  1.023665  1.013074  \n",
       "2015   0.943404  1.000773  1.045601  0.972680  1.002097  \n",
       "2016   1.009399  1.010806  1.013447  0.994681  1.001384  \n",
       "2017   1.015196  0.980933  1.039471  0.978380  1.007805  \n",
       "2018   1.000582  0.994794  0.890589  1.008763  0.983756  \n",
       "2019   0.980990  1.019931  1.048850  1.011521  1.044177  \n",
       "2020   0.994208  0.993977  1.002455  1.093776  1.073573  \n",
       "2021   1.014082  0.968238  1.003108  1.025922  1.045392  \n",
       "2022   1.006358  0.889314  0.964630       NaN       NaN  "
      ]
     },
     "execution_count": 8,
     "metadata": {},
     "output_type": "execute_result"
    }
   ],
   "source": [
    "start_price = twii.groupby([twii.index.year, twii.index.month]).first()\n",
    "last_price = twii.groupby([twii.index.year, twii.index.month]).last()\n",
    "profit = (last_price/start_price)\n",
    "\n",
    "# pandas <1.0.3\n",
    "# profit.index.levels[0].name = 'year'\n",
    "# profit.index.levels[1].name = 'month'\n",
    "\n",
    "# pandas 1.0.3\n",
    "profit.index=profit.index.set_names(['year','month'], level=[0,1])\n",
    "profit = profit.reset_index()\n",
    "profit = profit.pivot(\"year\",\"month\")#['台股指數']\n",
    "profit\n",
    "#profit"
   ]
  },
  {
   "cell_type": "markdown",
   "metadata": {},
   "source": [
    "### 每月漲跌色溫圖"
   ]
  },
  {
   "cell_type": "code",
   "execution_count": 9,
   "metadata": {},
   "outputs": [
    {
     "name": "stderr",
     "output_type": "stream",
     "text": [
      "D:\\ProgramData\\Miniconda3\\envs\\finlab\\lib\\site-packages\\seaborn\\utils.py:80: UserWarning: Glyph 21488 (\\N{CJK UNIFIED IDEOGRAPH-53F0}) missing from current font.\n",
      "  fig.canvas.draw()\n",
      "D:\\ProgramData\\Miniconda3\\envs\\finlab\\lib\\site-packages\\seaborn\\utils.py:80: UserWarning: Glyph 32929 (\\N{CJK UNIFIED IDEOGRAPH-80A1}) missing from current font.\n",
      "  fig.canvas.draw()\n",
      "D:\\ProgramData\\Miniconda3\\envs\\finlab\\lib\\site-packages\\seaborn\\utils.py:80: UserWarning: Glyph 25351 (\\N{CJK UNIFIED IDEOGRAPH-6307}) missing from current font.\n",
      "  fig.canvas.draw()\n",
      "D:\\ProgramData\\Miniconda3\\envs\\finlab\\lib\\site-packages\\seaborn\\utils.py:80: UserWarning: Glyph 25976 (\\N{CJK UNIFIED IDEOGRAPH-6578}) missing from current font.\n",
      "  fig.canvas.draw()\n"
     ]
    },
    {
     "data": {
      "text/plain": [
       "<AxesSubplot:xlabel='None-month', ylabel='year'>"
      ]
     },
     "execution_count": 9,
     "metadata": {},
     "output_type": "execute_result"
    },
    {
     "name": "stderr",
     "output_type": "stream",
     "text": [
      "D:\\ProgramData\\Miniconda3\\envs\\finlab\\lib\\site-packages\\IPython\\core\\events.py:89: UserWarning: Glyph 21488 (\\N{CJK UNIFIED IDEOGRAPH-53F0}) missing from current font.\n",
      "  func(*args, **kwargs)\n",
      "D:\\ProgramData\\Miniconda3\\envs\\finlab\\lib\\site-packages\\IPython\\core\\events.py:89: UserWarning: Glyph 32929 (\\N{CJK UNIFIED IDEOGRAPH-80A1}) missing from current font.\n",
      "  func(*args, **kwargs)\n",
      "D:\\ProgramData\\Miniconda3\\envs\\finlab\\lib\\site-packages\\IPython\\core\\events.py:89: UserWarning: Glyph 25351 (\\N{CJK UNIFIED IDEOGRAPH-6307}) missing from current font.\n",
      "  func(*args, **kwargs)\n",
      "D:\\ProgramData\\Miniconda3\\envs\\finlab\\lib\\site-packages\\IPython\\core\\events.py:89: UserWarning: Glyph 25976 (\\N{CJK UNIFIED IDEOGRAPH-6578}) missing from current font.\n",
      "  func(*args, **kwargs)\n",
      "D:\\ProgramData\\Miniconda3\\envs\\finlab\\lib\\site-packages\\IPython\\core\\pylabtools.py:151: UserWarning: Glyph 21488 (\\N{CJK UNIFIED IDEOGRAPH-53F0}) missing from current font.\n",
      "  fig.canvas.print_figure(bytes_io, **kw)\n",
      "D:\\ProgramData\\Miniconda3\\envs\\finlab\\lib\\site-packages\\IPython\\core\\pylabtools.py:151: UserWarning: Glyph 32929 (\\N{CJK UNIFIED IDEOGRAPH-80A1}) missing from current font.\n",
      "  fig.canvas.print_figure(bytes_io, **kw)\n",
      "D:\\ProgramData\\Miniconda3\\envs\\finlab\\lib\\site-packages\\IPython\\core\\pylabtools.py:151: UserWarning: Glyph 25351 (\\N{CJK UNIFIED IDEOGRAPH-6307}) missing from current font.\n",
      "  fig.canvas.print_figure(bytes_io, **kw)\n",
      "D:\\ProgramData\\Miniconda3\\envs\\finlab\\lib\\site-packages\\IPython\\core\\pylabtools.py:151: UserWarning: Glyph 25976 (\\N{CJK UNIFIED IDEOGRAPH-6578}) missing from current font.\n",
      "  fig.canvas.print_figure(bytes_io, **kw)\n"
     ]
    },
    {
     "data": {
      "image/png": "[encoded data removed]",
      "text/plain": [
       "<Figure size 1000x1000 with 2 Axes>"
      ]
     },
     "metadata": {},
     "output_type": "display_data"
    }
   ],
   "source": [
    "import seaborn as sns\n",
    "import matplotlib.pyplot as plt\n",
    "\n",
    "plt.rcParams['figure.figsize'] = (10, 10)\n",
    "\n",
    "sns.heatmap(profit)"
   ]
  },
  {
   "cell_type": "markdown",
   "metadata": {},
   "source": [
    "### 均線分析"
   ]
  },
  {
   "cell_type": "code",
   "execution_count": 10,
   "metadata": {},
   "outputs": [
    {
     "data": {
      "text/html": [
       "<div>\n",
       "<style scoped>\n",
       "    .dataframe tbody tr th:only-of-type {\n",
       "        vertical-align: middle;\n",
       "    }\n",
       "\n",
       "    .dataframe tbody tr th {\n",
       "        vertical-align: top;\n",
       "    }\n",
       "\n",
       "    .dataframe thead th {\n",
       "        text-align: right;\n",
       "    }\n",
       "</style>\n",
       "<table border=\"1\" class=\"dataframe\">\n",
       "  <thead>\n",
       "    <tr style=\"text-align: right;\">\n",
       "      <th></th>\n",
       "      <th>price</th>\n",
       "      <th>sma</th>\n",
       "      <th>bias</th>\n",
       "      <th>profit</th>\n",
       "      <th>year</th>\n",
       "    </tr>\n",
       "  </thead>\n",
       "  <tbody>\n",
       "    <tr>\n",
       "      <th>2006-04-04</th>\n",
       "      <td>6665.60</td>\n",
       "      <td>6570.783000</td>\n",
       "      <td>1.014430</td>\n",
       "      <td>1.005822</td>\n",
       "      <td>2006</td>\n",
       "    </tr>\n",
       "    <tr>\n",
       "      <th>2006-04-06</th>\n",
       "      <td>6760.82</td>\n",
       "      <td>6575.762333</td>\n",
       "      <td>1.028142</td>\n",
       "      <td>0.993740</td>\n",
       "      <td>2006</td>\n",
       "    </tr>\n",
       "    <tr>\n",
       "      <th>2006-04-07</th>\n",
       "      <td>6781.94</td>\n",
       "      <td>6578.931833</td>\n",
       "      <td>1.030857</td>\n",
       "      <td>0.993006</td>\n",
       "      <td>2006</td>\n",
       "    </tr>\n",
       "    <tr>\n",
       "      <th>2006-04-10</th>\n",
       "      <td>6780.64</td>\n",
       "      <td>6581.668500</td>\n",
       "      <td>1.030231</td>\n",
       "      <td>0.982202</td>\n",
       "      <td>2006</td>\n",
       "    </tr>\n",
       "    <tr>\n",
       "      <th>2006-04-11</th>\n",
       "      <td>6757.17</td>\n",
       "      <td>6582.456833</td>\n",
       "      <td>1.026542</td>\n",
       "      <td>0.985482</td>\n",
       "      <td>2006</td>\n",
       "    </tr>\n",
       "  </tbody>\n",
       "</table>\n",
       "</div>"
      ],
      "text/plain": [
       "              price          sma      bias    profit  year\n",
       "2006-04-04  6665.60  6570.783000  1.014430  1.005822  2006\n",
       "2006-04-06  6760.82  6575.762333  1.028142  0.993740  2006\n",
       "2006-04-07  6781.94  6578.931833  1.030857  0.993006  2006\n",
       "2006-04-10  6780.64  6581.668500  1.030231  0.982202  2006\n",
       "2006-04-11  6757.17  6582.456833  1.026542  0.985482  2006"
      ]
     },
     "execution_count": 10,
     "metadata": {},
     "output_type": "execute_result"
    }
   ],
   "source": [
    "# 每日開盤價\n",
    "twii_daily = twii.groupby(twii.index.date).last()\n",
    "twii_daily.index = pd.to_datetime(twii_daily.index)\n",
    "\n",
    "# 60日平均\n",
    "twii_average = twii_daily.rolling(60).mean()\n",
    "\n",
    "# 乖離率\n",
    "twii_bias = twii_daily / twii_average\n",
    "\n",
    "# 後60日漲跌\n",
    "twii_profit = twii_daily.shift(-60) / twii_daily\n",
    "\n",
    "# 將資料合併（方便之後做圖）\n",
    "df = pd.DataFrame({\n",
    "    'price': twii_daily,\n",
    "    'sma': twii_average,\n",
    "    'bias': twii_bias,\n",
    "    'profit': twii_profit,\n",
    "    'year': twii_daily.index.year,\n",
    "})\n",
    "\n",
    "# 刪除NaN\n",
    "df = df.dropna(how='any')\n",
    "df.head()"
   ]
  },
  {
   "cell_type": "markdown",
   "metadata": {},
   "source": [
    "### 乖離率做圖"
   ]
  },
  {
   "cell_type": "code",
   "execution_count": 11,
   "metadata": {},
   "outputs": [
    {
     "data": {
      "text/plain": [
       "<AxesSubplot:xlabel='bias', ylabel='profit'>"
      ]
     },
     "execution_count": 11,
     "metadata": {},
     "output_type": "execute_result"
    },
    {
     "data": {
      "image/png": "[encoded data removed]",
      "text/plain": [
       "<Figure size 1000x1000 with 1 Axes>"
      ]
     },
     "metadata": {},
     "output_type": "display_data"
    }
   ],
   "source": [
    "sns.scatterplot(x=\"bias\", y=\"profit\", data=df.tail(200), hue=\"year\", palette=\"Accent\", legend=\"full\")"
   ]
  },
  {
   "cell_type": "markdown",
   "metadata": {},
   "source": [
    "### 查看當前的乖離率"
   ]
  },
  {
   "cell_type": "code",
   "execution_count": 12,
   "metadata": {},
   "outputs": [
    {
     "data": {
      "text/plain": [
       "2022-10-25    0.883992\n",
       "2022-10-26    0.890718\n",
       "2022-10-27    0.906450\n",
       "2022-10-28    0.898866\n",
       "2022-10-31    0.912078\n",
       "Name: 台股指數, dtype: float64"
      ]
     },
     "execution_count": 12,
     "metadata": {},
     "output_type": "execute_result"
    }
   ],
   "source": [
    "twii_bias.tail()"
   ]
  },
  {
   "cell_type": "code",
   "execution_count": null,
   "metadata": {},
   "outputs": [],
   "source": []
  }
 ],
 "metadata": {
  "kernelspec": {
   "display_name": "finlab",
   "language": "python",
   "name": "finlab"
  },
  "language_info": {
   "codemirror_mode": {
    "name": "ipython",
    "version": 3
   },
   "file_extension": ".py",
   "mimetype": "text/x-python",
   "name": "python",
   "nbconvert_exporter": "python",
   "pygments_lexer": "ipython3",
   "version": "3.7.13"
  }
 },
 "nbformat": 4,
 "nbformat_minor": 4
}

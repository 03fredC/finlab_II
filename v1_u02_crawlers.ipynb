{
 "cells": [
  {
   "cell_type": "markdown",
   "metadata": {},
   "source": [
    "# 新版資料庫\n",
    "\n",
    "搭啷！這個就是我們新版的資料庫，新增了\n",
    "* 殖利率\n",
    "* 三大法人\n",
    "* 上櫃所有股票\n",
    "* 更快速的存取方式"
   ]
  },
  {
   "cell_type": "code",
   "execution_count": 1,
   "metadata": {
    "scrolled": true,
    "tags": []
   },
   "outputs": [
    {
     "data": {
      "application/vnd.jupyter.widget-view+json": {
       "model_id": "754a0534c38241bc9797e9b7481bbfc0",
       "version_major": 2,
       "version_minor": 0
      },
      "text/plain": [
       "VBox(children=(Label(value='price | 2022-08-24 00:00:00 ~ 2022-11-21 00:00:00'), HBox(children=(DatePicker(val…"
      ]
     },
     "metadata": {},
     "output_type": "display_data"
    },
    {
     "data": {
      "application/vnd.jupyter.widget-view+json": {
       "model_id": "fdb126ec3399443da9a2c0a0432a8e36",
       "version_major": 2,
       "version_minor": 0
      },
      "text/plain": [
       "VBox(children=(Label(value='bargin_report | 2012-05-02 00:00:00 ~ 2022-11-21 00:00:00'), HBox(children=(DatePi…"
      ]
     },
     "metadata": {},
     "output_type": "display_data"
    },
    {
     "data": {
      "application/vnd.jupyter.widget-view+json": {
       "model_id": "22726d9d86474da098a5a58c9baa16b5",
       "version_major": 2,
       "version_minor": 0
      },
      "text/plain": [
       "VBox(children=(Label(value='pe | 2010-01-04 00:00:00 ~ 2022-11-21 00:00:00'), HBox(children=(DatePicker(value=…"
      ]
     },
     "metadata": {},
     "output_type": "display_data"
    },
    {
     "data": {
      "application/vnd.jupyter.widget-view+json": {
       "model_id": "fcc102ecc17a4355ac46fedd01efcc5b",
       "version_major": 2,
       "version_minor": 0
      },
      "text/plain": [
       "VBox(children=(Label(value='monthly_report | 2005-02-10 00:00:00 ~ 2022-11-10 00:00:00'), HBox(children=(DateP…"
      ]
     },
     "metadata": {},
     "output_type": "display_data"
    },
    {
     "data": {
      "application/vnd.jupyter.widget-view+json": {
       "model_id": "ca8eb38de70349a880b4f5efa27c6755",
       "version_major": 2,
       "version_minor": 0
      },
      "text/plain": [
       "VBox(children=(Label(value='benchmark | 2006-01-02 09:00:00 ~ 2022-11-21 13:30:00'), HBox(children=(DatePicker…"
      ]
     },
     "metadata": {},
     "output_type": "display_data"
    },
    {
     "data": {
      "application/vnd.jupyter.widget-view+json": {
       "model_id": "5bc626fbf8da49afa077bcbc819b7862",
       "version_major": 2,
       "version_minor": 0
      },
      "text/plain": [
       "VBox(children=(Label(value='financial_statement | 2013-05-15 00:00:00 ~ 2022-05-15 00:00:00'), HBox(children=(…"
      ]
     },
     "metadata": {},
     "output_type": "display_data"
    },
    {
     "data": {
      "application/vnd.jupyter.widget-view+json": {
       "model_id": "4e4a5f4e59a645f286fcd95b441c6672",
       "version_major": 2,
       "version_minor": 0
      },
      "text/plain": [
       "VBox(children=(Label(value='twse_divide_ratio | 2004-01-13 00:00:00 ~ 2022-10-31 00:00:00'), HBox(children=(Bu…"
      ]
     },
     "metadata": {},
     "output_type": "display_data"
    },
    {
     "data": {
      "application/vnd.jupyter.widget-view+json": {
       "model_id": "439010f43771476eb1f2c8c0fc558011",
       "version_major": 2,
       "version_minor": 0
      },
      "text/plain": [
       "VBox(children=(Label(value='otc_divide_ratio | 2008-01-10 00:00:00 ~ 2022-10-25 00:00:00'), HBox(children=(But…"
      ]
     },
     "metadata": {},
     "output_type": "display_data"
    },
    {
     "data": {
      "application/vnd.jupyter.widget-view+json": {
       "model_id": "87eb605b7e9948fcafcb05966953d1c6",
       "version_major": 2,
       "version_minor": 0
      },
      "text/plain": [
       "VBox(children=(Label(value='twse_cap_reduction | 2011-01-25 00:00:00 ~ 2022-10-31 00:00:00'), HBox(children=(B…"
      ]
     },
     "metadata": {},
     "output_type": "display_data"
    },
    {
     "data": {
      "application/vnd.jupyter.widget-view+json": {
       "model_id": "66e9375580ed4e60a1a711473d755489",
       "version_major": 2,
       "version_minor": 0
      },
      "text/plain": [
       "VBox(children=(Label(value='otc_cap_reduction | 2013-01-16 00:00:00 ~ 2022-10-31 00:00:00'), HBox(children=(Bu…"
      ]
     },
     "metadata": {},
     "output_type": "display_data"
    },
    {
     "data": {
      "application/vnd.jupyter.widget-view+json": {
       "model_id": "c895f7d76ab0438da5709d2a38625e54",
       "version_major": 2,
       "version_minor": 0
      },
      "text/plain": [
       "Output(layout=Layout(border='1px solid black'))"
      ]
     },
     "metadata": {},
     "output_type": "display_data"
    }
   ],
   "source": [
    "from finlab.crawler import (\n",
    "\n",
    "    # 爬蟲們\n",
    "    crawl_price,\n",
    "    crawl_bargin,\n",
    "    crawl_pe,\n",
    "    crawl_monthly_report,\n",
    "    crawl_finance_statement_by_date,\n",
    "    crawl_twse_divide_ratio,\n",
    "    crawl_otc_divide_ratio,\n",
    "    crawl_twse_cap_reduction,\n",
    "    crawl_otc_cap_reduction,\n",
    "    crawl_benchmark,\n",
    "    \n",
    "    # 時間的range\n",
    "    date_range,\n",
    "    month_range,\n",
    "    season_range,\n",
    "    \n",
    "    # GUI介面\n",
    "    widget, out,\n",
    ")\n",
    "\n",
    "widget('price', crawl_price, date_range)\n",
    "widget('bargin_report', crawl_bargin, date_range)\n",
    "widget('pe', crawl_pe, date_range)\n",
    "widget('monthly_report', crawl_monthly_report, month_range)\n",
    "widget('benchmark', crawl_benchmark, date_range)\n",
    "widget('financial_statement', crawl_finance_statement_by_date, season_range)\n",
    "widget('twse_divide_ratio', crawl_twse_divide_ratio)\n",
    "widget('otc_divide_ratio', crawl_otc_divide_ratio)\n",
    "widget('twse_cap_reduction', crawl_twse_cap_reduction)\n",
    "widget('otc_cap_reduction', crawl_otc_cap_reduction)\n",
    "\n",
    "out.clear_output()\n",
    "display(out)"
   ]
  },
  {
   "cell_type": "code",
   "execution_count": 2,
   "metadata": {
    "scrolled": true,
    "tags": []
   },
   "outputs": [
    {
     "name": "stdout",
     "output_type": "stream",
     "text": [
      "已經成功commit過 balance_sheet 了，跳過！\n",
      "已經成功commit過 bargin_report 了，跳過！\n",
      "已經成功commit過 benchmark 了，跳過！\n",
      "已經成功commit過 cash_flows 了，跳過！\n",
      "已經成功commit過 forign_hold_ratio 了，跳過！\n",
      "已經成功commit過 income_sheet 了，跳過！\n",
      "已經成功commit過 income_sheet_cumulate 了，跳過！\n",
      "已經成功commit過 monthly_report 了，跳過！\n",
      "已經成功commit過 otc_cap_reduction 了，跳過！\n",
      "已經成功commit過 otc_divide_ratio 了，跳過！\n",
      "已經成功commit過 pe 了，跳過！\n",
      "已經成功commit過 price 了，跳過！\n",
      "已經成功commit過 twse_cap_reduction 了，跳過！\n",
      "已經成功commit過 twse_divide_ratio 了，跳過！\n"
     ]
    }
   ],
   "source": [
    "from finlab.crawler import commit\n",
    "commit()"
   ]
  },
  {
   "cell_type": "code",
   "execution_count": 4,
   "metadata": {},
   "outputs": [
    {
     "data": {
      "text/html": [
       "<div>\n",
       "<style scoped>\n",
       "    .dataframe tbody tr th:only-of-type {\n",
       "        vertical-align: middle;\n",
       "    }\n",
       "\n",
       "    .dataframe tbody tr th {\n",
       "        vertical-align: top;\n",
       "    }\n",
       "\n",
       "    .dataframe thead th {\n",
       "        text-align: right;\n",
       "    }\n",
       "</style>\n",
       "<table border=\"1\" class=\"dataframe\">\n",
       "  <thead>\n",
       "    <tr style=\"text-align: right;\">\n",
       "      <th>stock_id</th>\n",
       "      <th>0015</th>\n",
       "      <th>0050</th>\n",
       "      <th>0051</th>\n",
       "      <th>0052</th>\n",
       "      <th>0053</th>\n",
       "      <th>0054</th>\n",
       "      <th>0055</th>\n",
       "      <th>0056</th>\n",
       "      <th>0057</th>\n",
       "      <th>0058</th>\n",
       "      <th>...</th>\n",
       "      <th>9944</th>\n",
       "      <th>9945</th>\n",
       "      <th>9946</th>\n",
       "      <th>9949</th>\n",
       "      <th>9950</th>\n",
       "      <th>9951</th>\n",
       "      <th>9955</th>\n",
       "      <th>9958</th>\n",
       "      <th>9960</th>\n",
       "      <th>9962</th>\n",
       "    </tr>\n",
       "    <tr>\n",
       "      <th>date</th>\n",
       "      <th></th>\n",
       "      <th></th>\n",
       "      <th></th>\n",
       "      <th></th>\n",
       "      <th></th>\n",
       "      <th></th>\n",
       "      <th></th>\n",
       "      <th></th>\n",
       "      <th></th>\n",
       "      <th></th>\n",
       "      <th></th>\n",
       "      <th></th>\n",
       "      <th></th>\n",
       "      <th></th>\n",
       "      <th></th>\n",
       "      <th></th>\n",
       "      <th></th>\n",
       "      <th></th>\n",
       "      <th></th>\n",
       "      <th></th>\n",
       "      <th></th>\n",
       "    </tr>\n",
       "  </thead>\n",
       "  <tbody>\n",
       "    <tr>\n",
       "      <th>2007-04-23</th>\n",
       "      <td>9.54</td>\n",
       "      <td>57.85</td>\n",
       "      <td>32.83</td>\n",
       "      <td>38.40</td>\n",
       "      <td>NaN</td>\n",
       "      <td>NaN</td>\n",
       "      <td>NaN</td>\n",
       "      <td>NaN</td>\n",
       "      <td>NaN</td>\n",
       "      <td>NaN</td>\n",
       "      <td>...</td>\n",
       "      <td>31.0</td>\n",
       "      <td>30.35</td>\n",
       "      <td>9.78</td>\n",
       "      <td>73.6</td>\n",
       "      <td>13.25</td>\n",
       "      <td>51.3</td>\n",
       "      <td>72.4</td>\n",
       "      <td>NaN</td>\n",
       "      <td>46.0</td>\n",
       "      <td>49.6</td>\n",
       "    </tr>\n",
       "    <tr>\n",
       "      <th>2007-04-24</th>\n",
       "      <td>9.54</td>\n",
       "      <td>58.10</td>\n",
       "      <td>32.99</td>\n",
       "      <td>38.65</td>\n",
       "      <td>NaN</td>\n",
       "      <td>NaN</td>\n",
       "      <td>NaN</td>\n",
       "      <td>NaN</td>\n",
       "      <td>NaN</td>\n",
       "      <td>NaN</td>\n",
       "      <td>...</td>\n",
       "      <td>32.0</td>\n",
       "      <td>30.50</td>\n",
       "      <td>9.91</td>\n",
       "      <td>75.0</td>\n",
       "      <td>13.25</td>\n",
       "      <td>50.5</td>\n",
       "      <td>71.6</td>\n",
       "      <td>NaN</td>\n",
       "      <td>45.9</td>\n",
       "      <td>50.4</td>\n",
       "    </tr>\n",
       "    <tr>\n",
       "      <th>2007-04-25</th>\n",
       "      <td>9.52</td>\n",
       "      <td>57.60</td>\n",
       "      <td>32.80</td>\n",
       "      <td>38.59</td>\n",
       "      <td>NaN</td>\n",
       "      <td>NaN</td>\n",
       "      <td>NaN</td>\n",
       "      <td>NaN</td>\n",
       "      <td>NaN</td>\n",
       "      <td>NaN</td>\n",
       "      <td>...</td>\n",
       "      <td>32.3</td>\n",
       "      <td>29.50</td>\n",
       "      <td>10.10</td>\n",
       "      <td>74.6</td>\n",
       "      <td>13.30</td>\n",
       "      <td>49.9</td>\n",
       "      <td>71.6</td>\n",
       "      <td>NaN</td>\n",
       "      <td>49.1</td>\n",
       "      <td>49.1</td>\n",
       "    </tr>\n",
       "    <tr>\n",
       "      <th>2007-04-26</th>\n",
       "      <td>9.59</td>\n",
       "      <td>57.70</td>\n",
       "      <td>32.80</td>\n",
       "      <td>38.60</td>\n",
       "      <td>NaN</td>\n",
       "      <td>NaN</td>\n",
       "      <td>NaN</td>\n",
       "      <td>NaN</td>\n",
       "      <td>NaN</td>\n",
       "      <td>NaN</td>\n",
       "      <td>...</td>\n",
       "      <td>31.6</td>\n",
       "      <td>29.15</td>\n",
       "      <td>10.80</td>\n",
       "      <td>74.5</td>\n",
       "      <td>13.25</td>\n",
       "      <td>49.5</td>\n",
       "      <td>71.0</td>\n",
       "      <td>NaN</td>\n",
       "      <td>48.9</td>\n",
       "      <td>48.0</td>\n",
       "    </tr>\n",
       "    <tr>\n",
       "      <th>2007-04-27</th>\n",
       "      <td>9.55</td>\n",
       "      <td>57.50</td>\n",
       "      <td>32.72</td>\n",
       "      <td>38.40</td>\n",
       "      <td>NaN</td>\n",
       "      <td>NaN</td>\n",
       "      <td>NaN</td>\n",
       "      <td>NaN</td>\n",
       "      <td>NaN</td>\n",
       "      <td>NaN</td>\n",
       "      <td>...</td>\n",
       "      <td>31.4</td>\n",
       "      <td>28.50</td>\n",
       "      <td>11.55</td>\n",
       "      <td>75.7</td>\n",
       "      <td>13.15</td>\n",
       "      <td>48.8</td>\n",
       "      <td>69.5</td>\n",
       "      <td>NaN</td>\n",
       "      <td>48.6</td>\n",
       "      <td>46.5</td>\n",
       "    </tr>\n",
       "  </tbody>\n",
       "</table>\n",
       "<p>5 rows × 1954 columns</p>\n",
       "</div>"
      ],
      "text/plain": [
       "stock_id    0015   0050   0051   0052  0053  0054  0055  0056  0057  0058  \\\n",
       "date                                                                        \n",
       "2007-04-23  9.54  57.85  32.83  38.40   NaN   NaN   NaN   NaN   NaN   NaN   \n",
       "2007-04-24  9.54  58.10  32.99  38.65   NaN   NaN   NaN   NaN   NaN   NaN   \n",
       "2007-04-25  9.52  57.60  32.80  38.59   NaN   NaN   NaN   NaN   NaN   NaN   \n",
       "2007-04-26  9.59  57.70  32.80  38.60   NaN   NaN   NaN   NaN   NaN   NaN   \n",
       "2007-04-27  9.55  57.50  32.72  38.40   NaN   NaN   NaN   NaN   NaN   NaN   \n",
       "\n",
       "stock_id    ...  9944   9945   9946  9949   9950  9951  9955  9958  9960  9962  \n",
       "date        ...                                                                 \n",
       "2007-04-23  ...  31.0  30.35   9.78  73.6  13.25  51.3  72.4   NaN  46.0  49.6  \n",
       "2007-04-24  ...  32.0  30.50   9.91  75.0  13.25  50.5  71.6   NaN  45.9  50.4  \n",
       "2007-04-25  ...  32.3  29.50  10.10  74.6  13.30  49.9  71.6   NaN  49.1  49.1  \n",
       "2007-04-26  ...  31.6  29.15  10.80  74.5  13.25  49.5  71.0   NaN  48.9  48.0  \n",
       "2007-04-27  ...  31.4  28.50  11.55  75.7  13.15  48.8  69.5   NaN  48.6  46.5  \n",
       "\n",
       "[5 rows x 1954 columns]"
      ]
     },
     "execution_count": 4,
     "metadata": {},
     "output_type": "execute_result"
    }
   ],
   "source": [
    "from finlab.data import Data\n",
    "\n",
    "data = Data()\n",
    "\n",
    "close = data.get('收盤價')\n",
    "close.head()"
   ]
  },
  {
   "cell_type": "markdown",
   "metadata": {},
   "source": [
    "## 1. 資料調用"
   ]
  },
  {
   "cell_type": "code",
   "execution_count": 4,
   "metadata": {},
   "outputs": [
    {
     "data": {
      "text/html": [
       "<div>\n",
       "<style scoped>\n",
       "    .dataframe tbody tr th:only-of-type {\n",
       "        vertical-align: middle;\n",
       "    }\n",
       "\n",
       "    .dataframe tbody tr th {\n",
       "        vertical-align: top;\n",
       "    }\n",
       "\n",
       "    .dataframe thead th {\n",
       "        text-align: right;\n",
       "    }\n",
       "</style>\n",
       "<table border=\"1\" class=\"dataframe\">\n",
       "  <thead>\n",
       "    <tr style=\"text-align: right;\">\n",
       "      <th></th>\n",
       "      <th></th>\n",
       "      <th>成交股數</th>\n",
       "      <th>成交筆數</th>\n",
       "      <th>成交金額</th>\n",
       "      <th>收盤價</th>\n",
       "      <th>開盤價</th>\n",
       "      <th>最低價</th>\n",
       "      <th>最高價</th>\n",
       "      <th>最後揭示買價</th>\n",
       "      <th>最後揭示賣價</th>\n",
       "    </tr>\n",
       "    <tr>\n",
       "      <th>stock_id</th>\n",
       "      <th>date</th>\n",
       "      <th></th>\n",
       "      <th></th>\n",
       "      <th></th>\n",
       "      <th></th>\n",
       "      <th></th>\n",
       "      <th></th>\n",
       "      <th></th>\n",
       "      <th></th>\n",
       "      <th></th>\n",
       "    </tr>\n",
       "  </thead>\n",
       "  <tbody>\n",
       "    <tr>\n",
       "      <th rowspan=\"5\" valign=\"top\">9962 有益</th>\n",
       "      <th>2022-11-15</th>\n",
       "      <td>862484</td>\n",
       "      <td>437</td>\n",
       "      <td>14452669</td>\n",
       "      <td>16.90</td>\n",
       "      <td>16.50</td>\n",
       "      <td>16.50</td>\n",
       "      <td>16.90</td>\n",
       "      <td>16.85</td>\n",
       "      <td>16.90</td>\n",
       "    </tr>\n",
       "    <tr>\n",
       "      <th>2022-11-16</th>\n",
       "      <td>851482</td>\n",
       "      <td>377</td>\n",
       "      <td>14217344</td>\n",
       "      <td>16.70</td>\n",
       "      <td>16.90</td>\n",
       "      <td>16.40</td>\n",
       "      <td>17.00</td>\n",
       "      <td>16.70</td>\n",
       "      <td>16.75</td>\n",
       "    </tr>\n",
       "    <tr>\n",
       "      <th>2022-11-17</th>\n",
       "      <td>243307</td>\n",
       "      <td>128</td>\n",
       "      <td>4047117</td>\n",
       "      <td>16.65</td>\n",
       "      <td>16.65</td>\n",
       "      <td>16.55</td>\n",
       "      <td>16.80</td>\n",
       "      <td>16.60</td>\n",
       "      <td>16.65</td>\n",
       "    </tr>\n",
       "    <tr>\n",
       "      <th>2022-11-18</th>\n",
       "      <td>255168</td>\n",
       "      <td>145</td>\n",
       "      <td>4206113</td>\n",
       "      <td>16.40</td>\n",
       "      <td>16.65</td>\n",
       "      <td>16.40</td>\n",
       "      <td>16.65</td>\n",
       "      <td>16.35</td>\n",
       "      <td>16.40</td>\n",
       "    </tr>\n",
       "    <tr>\n",
       "      <th>2022-11-21</th>\n",
       "      <td>116657</td>\n",
       "      <td>92</td>\n",
       "      <td>1904937</td>\n",
       "      <td>16.30</td>\n",
       "      <td>16.35</td>\n",
       "      <td>16.25</td>\n",
       "      <td>16.40</td>\n",
       "      <td>16.30</td>\n",
       "      <td>16.35</td>\n",
       "    </tr>\n",
       "  </tbody>\n",
       "</table>\n",
       "</div>"
      ],
      "text/plain": [
       "                       成交股數 成交筆數      成交金額    收盤價    開盤價    最低價    最高價 最後揭示買價  \\\n",
       "stock_id date                                                                   \n",
       "9962 有益  2022-11-15  862484  437  14452669  16.90  16.50  16.50  16.90  16.85   \n",
       "         2022-11-16  851482  377  14217344  16.70  16.90  16.40  17.00  16.70   \n",
       "         2022-11-17  243307  128   4047117  16.65  16.65  16.55  16.80  16.60   \n",
       "         2022-11-18  255168  145   4206113  16.40  16.65  16.40  16.65  16.35   \n",
       "         2022-11-21  116657   92   1904937  16.30  16.35  16.25  16.40  16.30   \n",
       "\n",
       "                    最後揭示賣價  \n",
       "stock_id date               \n",
       "9962 有益  2022-11-15  16.90  \n",
       "         2022-11-16  16.75  \n",
       "         2022-11-17  16.65  \n",
       "         2022-11-18  16.40  \n",
       "         2022-11-21  16.35  "
      ]
     },
     "execution_count": 4,
     "metadata": {},
     "output_type": "execute_result"
    }
   ],
   "source": [
    "import pandas as pd\n",
    "df = pd.read_pickle(\"history/tables/price.pkl\")\n",
    "df.tail()"
   ]
  },
  {
   "cell_type": "markdown",
   "metadata": {},
   "source": [
    "## 2. 分解上述的功能"
   ]
  },
  {
   "cell_type": "markdown",
   "metadata": {},
   "source": [
    "### 2.A 分解其中的功能 crawl_function"
   ]
  },
  {
   "cell_type": "code",
   "execution_count": 5,
   "metadata": {},
   "outputs": [
    {
     "name": "stdout",
     "output_type": "stream",
     "text": [
      "1 None\n"
     ]
    },
    {
     "name": "stderr",
     "output_type": "stream",
     "text": [
      "D:\\Finlab\\用 Python 理財：打造自己的 AI 股票理專\\finlab\\crawler.py:826: FutureWarning: Index.__and__ operating as a set operation is deprecated, in the future this will be a logical operation matching Series.__and__.  Use index.intersection(other) instead\n",
      "  twe = twe[otc.columns & twe.columns]\n"
     ]
    },
    {
     "data": {
      "text/html": [
       "<div>\n",
       "<style scoped>\n",
       "    .dataframe tbody tr th:only-of-type {\n",
       "        vertical-align: middle;\n",
       "    }\n",
       "\n",
       "    .dataframe tbody tr th {\n",
       "        vertical-align: top;\n",
       "    }\n",
       "\n",
       "    .dataframe thead th {\n",
       "        text-align: right;\n",
       "    }\n",
       "</style>\n",
       "<table border=\"1\" class=\"dataframe\">\n",
       "  <thead>\n",
       "    <tr style=\"text-align: right;\">\n",
       "      <th></th>\n",
       "      <th></th>\n",
       "      <th>成交股數</th>\n",
       "      <th>成交筆數</th>\n",
       "      <th>成交金額</th>\n",
       "      <th>收盤價</th>\n",
       "      <th>開盤價</th>\n",
       "      <th>最低價</th>\n",
       "      <th>最高價</th>\n",
       "      <th>最後揭示買價</th>\n",
       "      <th>最後揭示賣價</th>\n",
       "    </tr>\n",
       "    <tr>\n",
       "      <th>stock_id</th>\n",
       "      <th>date</th>\n",
       "      <th></th>\n",
       "      <th></th>\n",
       "      <th></th>\n",
       "      <th></th>\n",
       "      <th></th>\n",
       "      <th></th>\n",
       "      <th></th>\n",
       "      <th></th>\n",
       "      <th></th>\n",
       "    </tr>\n",
       "  </thead>\n",
       "  <tbody>\n",
       "    <tr>\n",
       "      <th>9950 萬國通</th>\n",
       "      <th>2019-01-02</th>\n",
       "      <td>3000</td>\n",
       "      <td>3</td>\n",
       "      <td>40250</td>\n",
       "      <td>13.40</td>\n",
       "      <td>13.45</td>\n",
       "      <td>13.40</td>\n",
       "      <td>13.45</td>\n",
       "      <td>13.40</td>\n",
       "      <td>13.60</td>\n",
       "    </tr>\n",
       "    <tr>\n",
       "      <th>9951 皇田</th>\n",
       "      <th>2019-01-02</th>\n",
       "      <td>254063</td>\n",
       "      <td>231</td>\n",
       "      <td>20228019</td>\n",
       "      <td>79.00</td>\n",
       "      <td>80.10</td>\n",
       "      <td>79.00</td>\n",
       "      <td>80.10</td>\n",
       "      <td>79.00</td>\n",
       "      <td>79.20</td>\n",
       "    </tr>\n",
       "    <tr>\n",
       "      <th>9960 邁達康</th>\n",
       "      <th>2019-01-02</th>\n",
       "      <td>2036</td>\n",
       "      <td>36</td>\n",
       "      <td>62030</td>\n",
       "      <td>29.95</td>\n",
       "      <td>31.00</td>\n",
       "      <td>29.95</td>\n",
       "      <td>31.00</td>\n",
       "      <td>29.80</td>\n",
       "      <td>30.85</td>\n",
       "    </tr>\n",
       "    <tr>\n",
       "      <th>9962 有益</th>\n",
       "      <th>2019-01-02</th>\n",
       "      <td>81000</td>\n",
       "      <td>27</td>\n",
       "      <td>920850</td>\n",
       "      <td>11.45</td>\n",
       "      <td>11.55</td>\n",
       "      <td>11.30</td>\n",
       "      <td>11.55</td>\n",
       "      <td>11.40</td>\n",
       "      <td>11.45</td>\n",
       "    </tr>\n",
       "    <tr>\n",
       "      <th>4415 台原藥</th>\n",
       "      <th>2019-01-02</th>\n",
       "      <td>0</td>\n",
       "      <td>0</td>\n",
       "      <td>0</td>\n",
       "      <td>---</td>\n",
       "      <td>---</td>\n",
       "      <td>---</td>\n",
       "      <td>---</td>\n",
       "      <td>3.71</td>\n",
       "      <td>4.05</td>\n",
       "    </tr>\n",
       "  </tbody>\n",
       "</table>\n",
       "</div>"
      ],
      "text/plain": [
       "                       成交股數 成交筆數      成交金額    收盤價    開盤價    最低價    最高價 最後揭示買價  \\\n",
       "stock_id date                                                                   \n",
       "9950 萬國通 2019-01-02    3000    3     40250  13.40  13.45  13.40  13.45  13.40   \n",
       "9951 皇田  2019-01-02  254063  231  20228019  79.00  80.10  79.00  80.10  79.00   \n",
       "9960 邁達康 2019-01-02    2036   36     62030  29.95  31.00  29.95  31.00  29.80   \n",
       "9962 有益  2019-01-02   81000   27    920850  11.45  11.55  11.30  11.55  11.40   \n",
       "4415 台原藥 2019-01-02       0    0         0    ---    ---    ---    ---   3.71   \n",
       "\n",
       "                    最後揭示賣價  \n",
       "stock_id date               \n",
       "9950 萬國通 2019-01-02  13.60  \n",
       "9951 皇田  2019-01-02  79.20  \n",
       "9960 邁達康 2019-01-02  30.85  \n",
       "9962 有益  2019-01-02  11.45  \n",
       "4415 台原藥 2019-01-02   4.05  "
      ]
     },
     "execution_count": 5,
     "metadata": {},
     "output_type": "execute_result"
    }
   ],
   "source": [
    "import datetime\n",
    "from finlab.crawler import crawl_price\n",
    "df = crawl_price(datetime.date(2019,1,2))\n",
    "df.tail()"
   ]
  },
  {
   "cell_type": "markdown",
   "metadata": {},
   "source": [
    "### 2.B 分解其中功能 time_range"
   ]
  },
  {
   "cell_type": "code",
   "execution_count": 7,
   "metadata": {},
   "outputs": [
    {
     "data": {
      "text/plain": [
       "[datetime.date(2018, 3, 31),\n",
       " datetime.date(2018, 5, 15),\n",
       " datetime.date(2018, 8, 14),\n",
       " datetime.date(2018, 11, 14)]"
      ]
     },
     "execution_count": 7,
     "metadata": {},
     "output_type": "execute_result"
    }
   ],
   "source": [
    "season_range(datetime.date(2018,1,2), datetime.date(2019,1,10))"
   ]
  },
  {
   "cell_type": "markdown",
   "metadata": {},
   "source": [
    "### 2.C 將功能組裝起來 widget"
   ]
  },
  {
   "cell_type": "code",
   "execution_count": 6,
   "metadata": {},
   "outputs": [
    {
     "data": {
      "application/vnd.jupyter.widget-view+json": {
       "model_id": "9f6decc2ecd64137ae04e8aae3447775",
       "version_major": 2,
       "version_minor": 0
      },
      "text/plain": [
       "VBox(children=(Label(value='price | 2022-08-24 00:00:00 ~ 2022-11-21 00:00:00'), HBox(children=(DatePicker(val…"
      ]
     },
     "metadata": {},
     "output_type": "display_data"
    }
   ],
   "source": [
    "widget(\"price\", crawl_price, date_range)"
   ]
  },
  {
   "cell_type": "markdown",
   "metadata": {},
   "source": [
    "## 3. 做一些小修改，方便我們之後做財經資料研究"
   ]
  },
  {
   "cell_type": "code",
   "execution_count": 9,
   "metadata": {},
   "outputs": [
    {
     "name": "stdout",
     "output_type": "stream",
     "text": [
      "已經成功commit過 twse_divide_ratio 了，跳過！\n",
      "已經成功commit過 income_sheet 了，跳過！\n",
      "已經成功commit過 twse_cap_reduction 了，跳過！\n",
      "已經成功commit過 otc_cap_reduction 了，跳過！\n",
      "已經成功commit過 bargin_report 了，跳過！\n",
      "已經成功commit過 price 了，跳過！\n",
      "已經成功commit過 pe 了，跳過！\n",
      "已經成功commit過 benchmark 了，跳過！\n",
      "已經成功commit過 cash_flows 了，跳過！\n",
      "已經成功commit過 income_sheet_cumulate 了，跳過！\n",
      "已經成功commit過 otc_divide_ratio 了，跳過！\n",
      "已經成功commit過 monthly_report 了，跳過！\n",
      "已經成功commit過 balance_sheet 了，跳過！\n"
     ]
    }
   ],
   "source": [
    "from finlab.crawler import commit\n",
    "\n",
    "commit()"
   ]
  },
  {
   "cell_type": "markdown",
   "metadata": {},
   "source": [
    "## 4. 將做完修改的資料拿出來"
   ]
  },
  {
   "cell_type": "code",
   "execution_count": 7,
   "metadata": {},
   "outputs": [
    {
     "data": {
      "text/html": [
       "<div>\n",
       "<style scoped>\n",
       "    .dataframe tbody tr th:only-of-type {\n",
       "        vertical-align: middle;\n",
       "    }\n",
       "\n",
       "    .dataframe tbody tr th {\n",
       "        vertical-align: top;\n",
       "    }\n",
       "\n",
       "    .dataframe thead th {\n",
       "        text-align: right;\n",
       "    }\n",
       "</style>\n",
       "<table border=\"1\" class=\"dataframe\">\n",
       "  <thead>\n",
       "    <tr style=\"text-align: right;\">\n",
       "      <th>stock_id</th>\n",
       "      <th>0050</th>\n",
       "      <th>0051</th>\n",
       "      <th>0052</th>\n",
       "      <th>0053</th>\n",
       "      <th>0055</th>\n",
       "      <th>0056</th>\n",
       "      <th>0057</th>\n",
       "      <th>0061</th>\n",
       "      <th>1101</th>\n",
       "      <th>1102</th>\n",
       "      <th>...</th>\n",
       "      <th>9944</th>\n",
       "      <th>9945</th>\n",
       "      <th>9946</th>\n",
       "      <th>9949</th>\n",
       "      <th>9950</th>\n",
       "      <th>9951</th>\n",
       "      <th>9955</th>\n",
       "      <th>9958</th>\n",
       "      <th>9960</th>\n",
       "      <th>9962</th>\n",
       "    </tr>\n",
       "    <tr>\n",
       "      <th>date</th>\n",
       "      <th></th>\n",
       "      <th></th>\n",
       "      <th></th>\n",
       "      <th></th>\n",
       "      <th></th>\n",
       "      <th></th>\n",
       "      <th></th>\n",
       "      <th></th>\n",
       "      <th></th>\n",
       "      <th></th>\n",
       "      <th></th>\n",
       "      <th></th>\n",
       "      <th></th>\n",
       "      <th></th>\n",
       "      <th></th>\n",
       "      <th></th>\n",
       "      <th></th>\n",
       "      <th></th>\n",
       "      <th></th>\n",
       "      <th></th>\n",
       "      <th></th>\n",
       "    </tr>\n",
       "  </thead>\n",
       "  <tbody>\n",
       "    <tr>\n",
       "      <th>2022-11-15</th>\n",
       "      <td>114.70</td>\n",
       "      <td>54.35</td>\n",
       "      <td>98.05</td>\n",
       "      <td>56.60</td>\n",
       "      <td>22.38</td>\n",
       "      <td>25.55</td>\n",
       "      <td>81.65</td>\n",
       "      <td>18.25</td>\n",
       "      <td>33.85</td>\n",
       "      <td>40.75</td>\n",
       "      <td>...</td>\n",
       "      <td>20.50</td>\n",
       "      <td>45.50</td>\n",
       "      <td>11.80</td>\n",
       "      <td>18.70</td>\n",
       "      <td>11.5</td>\n",
       "      <td>60.7</td>\n",
       "      <td>18.35</td>\n",
       "      <td>81.8</td>\n",
       "      <td>25.50</td>\n",
       "      <td>16.90</td>\n",
       "    </tr>\n",
       "    <tr>\n",
       "      <th>2022-11-16</th>\n",
       "      <td>114.50</td>\n",
       "      <td>51.70</td>\n",
       "      <td>98.50</td>\n",
       "      <td>55.05</td>\n",
       "      <td>21.32</td>\n",
       "      <td>25.53</td>\n",
       "      <td>81.75</td>\n",
       "      <td>18.16</td>\n",
       "      <td>32.90</td>\n",
       "      <td>40.50</td>\n",
       "      <td>...</td>\n",
       "      <td>20.30</td>\n",
       "      <td>44.25</td>\n",
       "      <td>11.70</td>\n",
       "      <td>18.95</td>\n",
       "      <td>10.8</td>\n",
       "      <td>60.7</td>\n",
       "      <td>18.05</td>\n",
       "      <td>81.9</td>\n",
       "      <td>25.55</td>\n",
       "      <td>16.70</td>\n",
       "    </tr>\n",
       "    <tr>\n",
       "      <th>2022-11-17</th>\n",
       "      <td>114.55</td>\n",
       "      <td>51.80</td>\n",
       "      <td>98.50</td>\n",
       "      <td>54.90</td>\n",
       "      <td>21.18</td>\n",
       "      <td>25.58</td>\n",
       "      <td>81.70</td>\n",
       "      <td>17.86</td>\n",
       "      <td>34.25</td>\n",
       "      <td>41.45</td>\n",
       "      <td>...</td>\n",
       "      <td>20.45</td>\n",
       "      <td>43.95</td>\n",
       "      <td>11.75</td>\n",
       "      <td>NaN</td>\n",
       "      <td>11.1</td>\n",
       "      <td>61.9</td>\n",
       "      <td>18.50</td>\n",
       "      <td>82.0</td>\n",
       "      <td>25.65</td>\n",
       "      <td>16.65</td>\n",
       "    </tr>\n",
       "    <tr>\n",
       "      <th>2022-11-18</th>\n",
       "      <td>114.25</td>\n",
       "      <td>51.75</td>\n",
       "      <td>98.45</td>\n",
       "      <td>55.15</td>\n",
       "      <td>21.03</td>\n",
       "      <td>25.43</td>\n",
       "      <td>81.45</td>\n",
       "      <td>17.95</td>\n",
       "      <td>33.30</td>\n",
       "      <td>41.25</td>\n",
       "      <td>...</td>\n",
       "      <td>20.50</td>\n",
       "      <td>44.45</td>\n",
       "      <td>11.70</td>\n",
       "      <td>18.95</td>\n",
       "      <td>10.7</td>\n",
       "      <td>62.6</td>\n",
       "      <td>18.35</td>\n",
       "      <td>79.5</td>\n",
       "      <td>25.45</td>\n",
       "      <td>16.40</td>\n",
       "    </tr>\n",
       "    <tr>\n",
       "      <th>2022-11-21</th>\n",
       "      <td>113.85</td>\n",
       "      <td>51.60</td>\n",
       "      <td>97.70</td>\n",
       "      <td>54.70</td>\n",
       "      <td>21.13</td>\n",
       "      <td>25.22</td>\n",
       "      <td>80.80</td>\n",
       "      <td>17.65</td>\n",
       "      <td>32.85</td>\n",
       "      <td>41.05</td>\n",
       "      <td>...</td>\n",
       "      <td>20.25</td>\n",
       "      <td>44.10</td>\n",
       "      <td>11.70</td>\n",
       "      <td>18.80</td>\n",
       "      <td>11.2</td>\n",
       "      <td>62.5</td>\n",
       "      <td>18.35</td>\n",
       "      <td>86.3</td>\n",
       "      <td>25.15</td>\n",
       "      <td>16.30</td>\n",
       "    </tr>\n",
       "  </tbody>\n",
       "</table>\n",
       "<p>5 rows × 1786 columns</p>\n",
       "</div>"
      ],
      "text/plain": [
       "stock_id      0050   0051   0052   0053   0055   0056   0057   0061   1101  \\\n",
       "date                                                                         \n",
       "2022-11-15  114.70  54.35  98.05  56.60  22.38  25.55  81.65  18.25  33.85   \n",
       "2022-11-16  114.50  51.70  98.50  55.05  21.32  25.53  81.75  18.16  32.90   \n",
       "2022-11-17  114.55  51.80  98.50  54.90  21.18  25.58  81.70  17.86  34.25   \n",
       "2022-11-18  114.25  51.75  98.45  55.15  21.03  25.43  81.45  17.95  33.30   \n",
       "2022-11-21  113.85  51.60  97.70  54.70  21.13  25.22  80.80  17.65  32.85   \n",
       "\n",
       "stock_id     1102  ...   9944   9945   9946   9949  9950  9951   9955  9958  \\\n",
       "date               ...                                                        \n",
       "2022-11-15  40.75  ...  20.50  45.50  11.80  18.70  11.5  60.7  18.35  81.8   \n",
       "2022-11-16  40.50  ...  20.30  44.25  11.70  18.95  10.8  60.7  18.05  81.9   \n",
       "2022-11-17  41.45  ...  20.45  43.95  11.75    NaN  11.1  61.9  18.50  82.0   \n",
       "2022-11-18  41.25  ...  20.50  44.45  11.70  18.95  10.7  62.6  18.35  79.5   \n",
       "2022-11-21  41.05  ...  20.25  44.10  11.70  18.80  11.2  62.5  18.35  86.3   \n",
       "\n",
       "stock_id     9960   9962  \n",
       "date                      \n",
       "2022-11-15  25.50  16.90  \n",
       "2022-11-16  25.55  16.70  \n",
       "2022-11-17  25.65  16.65  \n",
       "2022-11-18  25.45  16.40  \n",
       "2022-11-21  25.15  16.30  \n",
       "\n",
       "[5 rows x 1786 columns]"
      ]
     },
     "execution_count": 7,
     "metadata": {},
     "output_type": "execute_result"
    }
   ],
   "source": [
    "df = pd.read_pickle(\"history/items/price/收盤價.pkl\")\n",
    "df.tail()"
   ]
  },
  {
   "cell_type": "code",
   "execution_count": 11,
   "metadata": {},
   "outputs": [
    {
     "ename": "NameError",
     "evalue": "name 'data' is not defined",
     "output_type": "error",
     "traceback": [
      "\u001b[1;31m---------------------------------------------------------------------------\u001b[0m",
      "\u001b[1;31mNameError\u001b[0m                                 Traceback (most recent call last)",
      "\u001b[1;32m~\\AppData\\Local\\Temp\\ipykernel_9160\\2121784881.py\u001b[0m in \u001b[0;36m<module>\u001b[1;34m\u001b[0m\n\u001b[1;32m----> 1\u001b[1;33m \u001b[0mclose\u001b[0m \u001b[1;33m=\u001b[0m \u001b[0mdata\u001b[0m\u001b[1;33m.\u001b[0m\u001b[0mget\u001b[0m\u001b[1;33m(\u001b[0m\u001b[1;34m\"收盤價\"\u001b[0m\u001b[1;33m)\u001b[0m\u001b[1;33m\u001b[0m\u001b[1;33m\u001b[0m\u001b[0m\n\u001b[0m\u001b[0;32m      2\u001b[0m \u001b[0mclose\u001b[0m\u001b[1;33m\u001b[0m\u001b[1;33m\u001b[0m\u001b[0m\n",
      "\u001b[1;31mNameError\u001b[0m: name 'data' is not defined"
     ]
    }
   ],
   "source": [
    "close = data.get(\"收盤價\")\n",
    "close"
   ]
  },
  {
   "cell_type": "markdown",
   "metadata": {},
   "source": [
    "# AUTO update 每日自動執行更新\n",
    "\n",
    "有時候你可能會希望將所有的程式\n",
    "\n",
    "每天自動執行就好，不然還要開jupyter -> 啟動notebook -> 執行GUI -> 點擊好幾次GUI\n",
    "\n",
    "才能完成更新的動作\n",
    ".\n",
    "接下來我們就來教怎麼樣直接一次更新吧！"
   ]
  },
  {
   "cell_type": "code",
   "execution_count": 1,
   "metadata": {
    "scrolled": true
   },
   "outputs": [
    {
     "name": "stdout",
     "output_type": "stream",
     "text": [
      "price\n",
      "bargin_report\n",
      "pe\n",
      "monthly_report\n",
      "twse_divide_ratio\n",
      "read pickle\n",
      "append pickle\n",
      "remove duplicates\n",
      "sort index\n",
      "save pickle\n",
      "save date\n",
      "twse_divide_ratio\n",
      "twse_divide_ratio -- 資料日期\n",
      "twse_divide_ratio -- 股票代號\n",
      "twse_divide_ratio -- 股票名稱\n",
      "twse_divide_ratio -- 除權息前收盤價\n",
      "twse_divide_ratio -- 除權息參考價\n",
      "twse_divide_ratio -- 權值+息值\n",
      "twse_divide_ratio -- 權/息\n",
      "twse_divide_ratio -- 漲停價格\n",
      "twse_divide_ratio -- 跌停價格\n",
      "twse_divide_ratio -- 開盤競價基準\n",
      "twse_divide_ratio -- 減除股利參考價\n",
      "twse_divide_ratio -- 詳細資料\n",
      "twse_divide_ratio -- 最近一次申報資料 季別/日期\n",
      "twse_divide_ratio -- 最近一次申報每股 (單位)淨值\n",
      "twse_divide_ratio -- 最近一次申報每股 (單位)盈餘\n",
      "twse_divide_ratio -- twse_divide_ratio\n",
      "otc_divide_ratio\n",
      "read pickle\n",
      "append pickle\n",
      "remove duplicates\n",
      "sort index\n",
      "save pickle\n",
      "save date\n",
      "otc_divide_ratio\n",
      "otc_divide_ratio -- 除權息日期\n",
      "otc_divide_ratio -- 代號\n",
      "otc_divide_ratio -- 名稱\n",
      "otc_divide_ratio -- 除權息前收盤價\n",
      "otc_divide_ratio -- 除權息參考價\n",
      "otc_divide_ratio -- 權值\n",
      "otc_divide_ratio -- 息值\n",
      "otc_divide_ratio -- 權+息值\n",
      "otc_divide_ratio -- 權/息\n",
      "otc_divide_ratio -- 漲停價格\n",
      "otc_divide_ratio -- 跌停價格\n",
      "otc_divide_ratio -- 開盤競價基準\n",
      "otc_divide_ratio -- 減除股利參考價\n",
      "otc_divide_ratio -- 現金股利\n",
      "otc_divide_ratio -- 每千股無償配股\n",
      "otc_divide_ratio -- -\n",
      "otc_divide_ratio -- 現金增資股數\n",
      "otc_divide_ratio -- 現金增資認購價\n",
      "otc_divide_ratio -- 公開承銷股數\n",
      "otc_divide_ratio -- 員工認購股數\n",
      "otc_divide_ratio -- 原股東認購數\n",
      "otc_divide_ratio -- 按持股比例千股認購\n",
      "otc_divide_ratio -- otc_divide_ratio\n",
      "twse_cap_reduction\n",
      "read pickle\n",
      "append pickle\n",
      "remove duplicates\n",
      "sort index\n",
      "save pickle\n",
      "save date\n",
      "twse_cap_reduction\n",
      "twse_cap_reduction -- 恢復買賣日期\n",
      "twse_cap_reduction -- 股票代號\n",
      "twse_cap_reduction -- 名稱\n",
      "twse_cap_reduction -- 停止買賣前收盤價格\n",
      "twse_cap_reduction -- 恢復買賣參考價\n",
      "twse_cap_reduction -- 漲停價格\n",
      "twse_cap_reduction -- 跌停價格\n",
      "twse_cap_reduction -- 開盤競價基準\n",
      "twse_cap_reduction -- 除權參考價\n",
      "twse_cap_reduction -- 減資原因\n",
      "twse_cap_reduction -- 詳細資料\n",
      "twse_cap_reduction -- twse_cap_divide_ratio\n",
      "otc_cap_reduction\n",
      "read pickle\n",
      "append pickle\n",
      "remove duplicates\n",
      "sort index\n",
      "save pickle\n",
      "save date\n",
      "otc_cap_reduction\n",
      "otc_cap_reduction -- 恢復買賣日期\n",
      "otc_cap_reduction -- 股票代號\n",
      "otc_cap_reduction -- 股票名稱\n",
      "otc_cap_reduction -- 最後交易之收盤價格\n",
      "otc_cap_reduction -- 減資恢復買賣開始日參考價格\n",
      "otc_cap_reduction -- 漲停價格\n",
      "otc_cap_reduction -- 跌停價格\n",
      "otc_cap_reduction -- 開始交易基準價\n",
      "otc_cap_reduction -- 除權參考價\n",
      "otc_cap_reduction -- 減資源因\n",
      "otc_cap_reduction -- 詳細資料\n",
      "otc_cap_reduction -- otc_cap_divide_ratio\n",
      "已經成功commit過 balance_sheet 了，跳過！\n",
      "已經成功commit過 bargin_report 了，跳過！\n",
      "已經成功commit過 benchmark 了，跳過！\n",
      "已經成功commit過 cash_flows 了，跳過！\n",
      "已經成功commit過 forign_hold_ratio 了，跳過！\n",
      "已經成功commit過 income_sheet 了，跳過！\n",
      "已經成功commit過 income_sheet_cumulate 了，跳過！\n",
      "已經成功commit過 monthly_report 了，跳過！\n",
      "已經成功commit過 otc_cap_reduction 了，跳過！\n",
      "已經成功commit過 otc_divide_ratio 了，跳過！\n",
      "已經成功commit過 pe 了，跳過！\n",
      "已經成功commit過 price 了，跳過！\n",
      "已經成功commit過 twse_cap_reduction 了，跳過！\n",
      "已經成功commit過 twse_divide_ratio 了，跳過！\n"
     ]
    }
   ],
   "source": [
    "from finlab.crawler import table_date_range, update_table, to_pickle, commit\n",
    "import datetime\n",
    "from inspect import signature\n",
    "from finlab.crawler import (\n",
    "\n",
    "    # 爬蟲們\n",
    "    crawl_price,\n",
    "    crawl_bargin,\n",
    "    crawl_pe,\n",
    "    crawl_monthly_report,\n",
    "    crawl_finance_statement_by_date,\n",
    "    crawl_twse_divide_ratio,\n",
    "    crawl_otc_divide_ratio,\n",
    "    crawl_twse_cap_reduction,\n",
    "    crawl_otc_cap_reduction,\n",
    "    crawl_benchmark,\n",
    "    \n",
    "    # 時間的range\n",
    "    date_range,\n",
    "    month_range,\n",
    "    season_range,\n",
    "    \n",
    "    # GUI介面\n",
    "    widget, out,\n",
    ")\n",
    "\n",
    "def auto_update(table_name, crawl_function, time_range=None):\n",
    "\n",
    "    sig = signature(crawl_function)\n",
    "    print(table_name)\n",
    "\n",
    "    if len(sig.parameters) != 0:\n",
    "        first_date, last_date = table_date_range(table_name)\n",
    "        dates = time_range(last_date, datetime.datetime.now())\n",
    "        if dates:\n",
    "            update_table(table_name, crawl_function, dates)\n",
    "    else:\n",
    "        df = crawl_function()\n",
    "        to_pickle(df, table_name)\n",
    "        \n",
    "\n",
    "auto_update('price', crawl_price, date_range)\n",
    "auto_update('bargin_report', crawl_bargin, date_range)\n",
    "auto_update('pe', crawl_pe, date_range)\n",
    "auto_update('monthly_report', crawl_monthly_report, month_range)\n",
    "auto_update('twse_divide_ratio', crawl_twse_divide_ratio)\n",
    "auto_update('otc_divide_ratio', crawl_otc_divide_ratio)\n",
    "auto_update('twse_cap_reduction', crawl_twse_cap_reduction)\n",
    "auto_update('otc_cap_reduction', crawl_otc_cap_reduction)\n",
    "\n",
    "commit()"
   ]
  },
  {
   "cell_type": "markdown",
   "metadata": {},
   "source": [
    "## 加入新的benchmark data"
   ]
  },
  {
   "cell_type": "code",
   "execution_count": null,
   "metadata": {},
   "outputs": [],
   "source": [
    "# 時間物件\n",
    "import datetime\n",
    "import requests\n",
    "import pandas as pd\n",
    "from io import StringIO\n",
    "\n",
    "\n",
    "# 下載某天的資料\n",
    "\n",
    "date = datetime.date(2018,1,3)\n",
    "\n",
    "def crawl_benchmark(date):\n",
    "    date_str = date.strftime('%Y%m%d')\n",
    "    res = requests.get(\"http://www.twse.com.tw/exchangeReport/MI_5MINS_INDEX?response=csv&date=\" + \n",
    "                       date_str + \"&_=1544020420045\")\n",
    "    \n",
    "    if len(res.text) < 100:\n",
    "        print('holiday')\n",
    "        return pd.DataFrame()\n",
    "\n",
    "    # 利用 pandas 將資料整理成表格\n",
    "    df = pd.read_csv(StringIO(res.text.replace(\"=\",\"\")), header=1, index_col='時間')\n",
    "\n",
    "    # 資料處理\n",
    "    df = df.dropna(how='all', axis=0).dropna(how='all', axis=1)\n",
    "    df.index = pd.to_datetime(date.strftime('%Y %m %d ') + pd.Series(df.index))\n",
    "    df = df.apply(lambda s: s.astype(str).str.replace(\",\", \"\").astype(float))\n",
    "\n",
    "    df.head()\n",
    "\n",
    "    df.index.name = 'date'\n",
    "    df = df.reset_index()\n",
    "    df['stock_id'] = '台股指數'\n",
    "    df = df.set_index(['stock_id', 'date'])\n",
    "    return df\n",
    "\n",
    "from finlab.crawler import widget, date_range, out\n",
    "\n",
    "widget('benchmark', crawl_benchmark, date_range)\n",
    "\n",
    "out.clear_output()\n",
    "display(out)"
   ]
  },
  {
   "cell_type": "markdown",
   "metadata": {},
   "source": [
    "## 查看存放好的benchmark data"
   ]
  },
  {
   "cell_type": "code",
   "execution_count": null,
   "metadata": {
    "scrolled": true,
    "tags": []
   },
   "outputs": [],
   "source": [
    "from finlab.crawler import commit\n",
    "\n",
    "commit()"
   ]
  },
  {
   "cell_type": "code",
   "execution_count": null,
   "metadata": {},
   "outputs": [],
   "source": [
    "from finlab.data import Data\n",
    "\n",
    "data = Data()\n",
    "\n",
    "df = data.get(\"發行量加權股價指數\")\n",
    "df.head()"
   ]
  }
 ],
 "metadata": {
  "kernelspec": {
   "display_name": "finlab",
   "language": "python",
   "name": "finlab"
  },
  "language_info": {
   "codemirror_mode": {
    "name": "ipython",
    "version": 3
   },
   "file_extension": ".py",
   "mimetype": "text/x-python",
   "name": "python",
   "nbconvert_exporter": "python",
   "pygments_lexer": "ipython3",
   "version": "3.7.13"
  }
 },
 "nbformat": 4,
 "nbformat_minor": 4
}

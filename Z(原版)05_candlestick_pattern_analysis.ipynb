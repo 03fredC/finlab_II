{
 "cells": [
  {
   "cell_type": "markdown",
   "metadata": {},
   "source": [
    "# K線型態哪種最有用？"
   ]
  },
  {
   "cell_type": "markdown",
   "metadata": {},
   "source": [
    "## 取得價格資料、計算獲利"
   ]
  },
  {
   "cell_type": "code",
   "execution_count": 7,
   "metadata": {},
   "outputs": [
    {
     "name": "stderr",
     "output_type": "stream",
     "text": [
      "D:\\Finlab\\用 Python 理財：打造自己的 AI 股票理專\\finlab\\data.py:103: FutureWarning: Index.__or__ operating as a set operation is deprecated, in the future this will be a logical operation matching Series.__or__.  Use index.union(other) instead\n",
      "  all_index = (df.index | item.index).sort_values()\n",
      "D:\\Finlab\\用 Python 理財：打造自己的 AI 股票理專\\finlab\\data.py:103: FutureWarning: Index.__or__ operating as a set operation is deprecated, in the future this will be a logical operation matching Series.__or__.  Use index.union(other) instead\n",
      "  all_index = (df.index | item.index).sort_values()\n",
      "D:\\Finlab\\用 Python 理財：打造自己的 AI 股票理專\\finlab\\data.py:103: FutureWarning: Index.__or__ operating as a set operation is deprecated, in the future this will be a logical operation matching Series.__or__.  Use index.union(other) instead\n",
      "  all_index = (df.index | item.index).sort_values()\n",
      "D:\\Finlab\\用 Python 理財：打造自己的 AI 股票理專\\finlab\\data.py:103: FutureWarning: Index.__or__ operating as a set operation is deprecated, in the future this will be a logical operation matching Series.__or__.  Use index.union(other) instead\n",
      "  all_index = (df.index | item.index).sort_values()\n"
     ]
    }
   ],
   "source": [
    "from finlab.data import Data\n",
    "\n",
    "data = Data()\n",
    "open_adj = data.get_adj('開盤價')\n",
    "\n",
    "profit1 =  open_adj.shift(-2) / open_adj.shift(-1)\n",
    "profit5 =  open_adj.shift(-6) / open_adj.shift(-1)\n",
    "profit10 = open_adj.shift(-11) / open_adj.shift(-1)\n",
    "profit60 = open_adj.shift(-61) / open_adj.shift(-1)\n",
    "\n",
    "profit1 = profit1.unstack()\n",
    "profit5 = profit5.unstack()\n",
    "profit10 = profit10.unstack()\n",
    "profit60 = profit60.unstack()"
   ]
  },
  {
   "cell_type": "markdown",
   "metadata": {},
   "source": [
    "## 計算K線型態"
   ]
  },
  {
   "cell_type": "code",
   "execution_count": 8,
   "metadata": {},
   "outputs": [
    {
     "data": {
      "text/plain": [
       "1.0061589627081318"
      ]
     },
     "execution_count": 8,
     "metadata": {},
     "output_type": "execute_result"
    }
   ],
   "source": [
    "df = data.talib('CDL2CROWS')\n",
    "df = df.unstack()\n",
    "\n",
    "profit10[df < 0].mean()"
   ]
  },
  {
   "cell_type": "code",
   "execution_count": 9,
   "metadata": {},
   "outputs": [
    {
     "data": {
      "text/plain": [
       "1.0044109989776333"
      ]
     },
     "execution_count": 9,
     "metadata": {},
     "output_type": "execute_result"
    }
   ],
   "source": [
    "profit5[df < 0].mean() #訊號出現的的日期\n",
    "#profit5.mean() #同時間全部股票的漲幅"
   ]
  },
  {
   "cell_type": "markdown",
   "metadata": {},
   "source": [
    "## 計算每一種K線型態的獲利"
   ]
  },
  {
   "cell_type": "code",
   "execution_count": 10,
   "metadata": {
    "scrolled": true
   },
   "outputs": [
    {
     "name": "stdout",
     "output_type": "stream",
     "text": [
      "CDL2CROWS\n",
      "CDL3BLACKCROWS\n",
      "CDL3INSIDE\n",
      "CDL3LINESTRIKE\n",
      "CDL3OUTSIDE\n",
      "CDL3STARSINSOUTH\n",
      "CDL3WHITESOLDIERS\n",
      "CDLABANDONEDBABY\n",
      "CDLADVANCEBLOCK\n",
      "CDLBELTHOLD\n",
      "CDLBREAKAWAY\n",
      "CDLCLOSINGMARUBOZU\n",
      "CDLCONCEALBABYSWALL\n",
      "CDLCOUNTERATTACK\n",
      "CDLDARKCLOUDCOVER\n",
      "CDLDOJI\n",
      "CDLDOJISTAR\n",
      "CDLDRAGONFLYDOJI\n",
      "CDLENGULFING\n",
      "CDLEVENINGDOJISTAR\n",
      "CDLEVENINGSTAR\n",
      "CDLGAPSIDESIDEWHITE\n",
      "CDLGRAVESTONEDOJI\n",
      "CDLHAMMER\n",
      "CDLHANGINGMAN\n",
      "CDLHARAMI\n",
      "CDLHARAMICROSS\n",
      "CDLHIGHWAVE\n",
      "CDLHIKKAKE\n",
      "CDLHIKKAKEMOD\n",
      "CDLHOMINGPIGEON\n",
      "CDLIDENTICAL3CROWS\n",
      "CDLINNECK\n",
      "CDLINVERTEDHAMMER\n",
      "CDLKICKING\n",
      "CDLKICKINGBYLENGTH\n",
      "CDLLADDERBOTTOM\n",
      "CDLLONGLEGGEDDOJI\n",
      "CDLLONGLINE\n",
      "CDLMARUBOZU\n",
      "CDLMATCHINGLOW\n",
      "CDLMATHOLD\n",
      "CDLMORNINGDOJISTAR\n",
      "CDLMORNINGSTAR\n",
      "CDLONNECK\n",
      "CDLPIERCING\n",
      "CDLRICKSHAWMAN\n",
      "CDLRISEFALL3METHODS\n",
      "CDLSEPARATINGLINES\n",
      "CDLSHOOTINGSTAR\n",
      "CDLSHORTLINE\n",
      "CDLSPINNINGTOP\n",
      "CDLSTALLEDPATTERN\n",
      "CDLSTICKSANDWICH\n",
      "CDLTAKURI\n",
      "CDLTASUKIGAP\n",
      "CDLTHRUSTING\n",
      "CDLTRISTAR\n",
      "CDLUNIQUE3RIVER\n",
      "CDLUPSIDEGAP2CROWS\n",
      "CDLXSIDEGAP3METHODS\n"
     ]
    }
   ],
   "source": [
    "results = {}\n",
    "counts = {}\n",
    "from talib import abstract\n",
    "\n",
    "for fname in [fname for fname in dir(abstract) if fname[:3] == 'CDL']:\n",
    "    df = data.talib(fname)\n",
    "    df = df.unstack()\n",
    "    pos = df > 0\n",
    "    neg = df < 0\n",
    "    \n",
    "    results['NEG_' + fname] = {\n",
    "        'profit1': profit1 [neg].mean(),\n",
    "        'profit5': profit5 [neg].mean(),\n",
    "        'profit10':profit10[neg].mean(),\n",
    "        'profit60':profit60[neg].mean(),\n",
    "        'count': sum(neg),\n",
    "    }\n",
    "    results['POS_' + fname] = {\n",
    "        'profit1': profit1 [pos].mean(),\n",
    "        'profit5': profit5 [pos].mean(),\n",
    "        'profit10':profit10[pos].mean(),\n",
    "        'profit60':profit60[pos].mean(),\n",
    "        'count': sum(pos),\n",
    "    }\n",
    "    print(fname)\n",
    "    "
   ]
  },
  {
   "cell_type": "markdown",
   "metadata": {},
   "source": [
    "## 哪一種蠟燭型態最好？\n",
    " * 找出數量多 + 績效好的 型態"
   ]
  },
  {
   "cell_type": "code",
   "execution_count": 11,
   "metadata": {},
   "outputs": [
    {
     "ename": "NameError",
     "evalue": "name 'pd' is not defined",
     "output_type": "error",
     "traceback": [
      "\u001b[1;31m---------------------------------------------------------------------------\u001b[0m",
      "\u001b[1;31mNameError\u001b[0m                                 Traceback (most recent call last)",
      "\u001b[1;32m~\\AppData\\Local\\Temp\\ipykernel_4008\\1379169323.py\u001b[0m in \u001b[0;36m<module>\u001b[1;34m\u001b[0m\n\u001b[1;32m----> 1\u001b[1;33m \u001b[0mpd\u001b[0m\u001b[1;33m.\u001b[0m\u001b[0mDataFrame\u001b[0m\u001b[1;33m(\u001b[0m\u001b[0mresults\u001b[0m\u001b[1;33m)\u001b[0m\u001b[1;33m\u001b[0m\u001b[1;33m\u001b[0m\u001b[0m\n\u001b[0m",
      "\u001b[1;31mNameError\u001b[0m: name 'pd' is not defined"
     ]
    }
   ],
   "source": [
    "pd.DataFrame(results)"
   ]
  },
  {
   "cell_type": "code",
   "execution_count": null,
   "metadata": {},
   "outputs": [],
   "source": [
    "import pandas as pd\n",
    "import matplotlib.pyplot as plt\n",
    "plt.style.use(\"ggplot\")\n",
    "%matplotlib inline\n",
    "plt.rcParams['figure.figsize'] = (15,9)\n",
    "\n",
    "df_result = pd.DataFrame(results).transpose()\n",
    "\n",
    "profit_names = ['profit1', 'profit5', 'profit10', 'profit60']\n",
    "df = pd.DataFrame({name:df_result[name] for name in profit_names}).dropna()\n",
    "df.sort_values('profit10')"
   ]
  },
  {
   "cell_type": "code",
   "execution_count": null,
   "metadata": {},
   "outputs": [],
   "source": [
    "plt.rcParams['figure.figsize'] = (15*1.5,9*1.5)\n",
    "#(df_result).plot.bar()\n",
    "(df_result-1).corr #相關性係數\n",
    "#df_result"
   ]
  },
  {
   "cell_type": "markdown",
   "metadata": {},
   "source": [
    "## 蠟燭型態歷史資料繪製"
   ]
  },
  {
   "cell_type": "code",
   "execution_count": null,
   "metadata": {},
   "outputs": [],
   "source": [
    "# 開高低收成交量\n",
    "high = data.get(\"最高價\")\n",
    "low = data.get(\"最低價\")\n",
    "open_ = data.get(\"開盤價\")\n",
    "close = data.get(\"收盤價\")\n",
    "volume = data.get(\"成交股數\")\n",
    "\n",
    "# 找到蠟燭型態\n",
    "df = data.talib(\"CDLTRISTAR\")\n",
    "signals = (df > 0) & (volume.rolling(10).mean() > 100000)\n",
    "signals = signals.unstack()\n",
    "signals = signals[signals > 0]\n",
    "signals.index = signals.index.set_names(['stock_id', 'date'])\n",
    "signals = signals.reset_index()"
   ]
  },
  {
   "cell_type": "code",
   "execution_count": null,
   "metadata": {},
   "outputs": [],
   "source": [
    "\n",
    "ind = 6\n",
    "stock_id = signals['stock_id'].iloc[ind]\n",
    "date = signals['date'].iloc[ind]\n",
    "\n",
    "import matplotlib.pyplot as plt\n",
    "\n",
    "o = open_[stock_id].loc[:date].tail(10)\n",
    "h = high[stock_id].loc[:date].tail(10)\n",
    "l = low[stock_id].loc[:date].tail(10)\n",
    "c = close[stock_id].loc[:date].tail(10)\n",
    "v = volume[stock_id].loc[:date].tail(10)\n",
    "\n",
    "df = pd.DataFrame({'open':o, 'high':h, 'close':c, 'low':l, 'volume':v}).dropna(how='all')\n",
    "\n",
    "from finlab.plot_candles import plot_candles\n",
    "plot_candles(start_time=o.index[0], end_time=o.index[-1], pricing=df,)\n",
    "\n",
    "df"
   ]
  },
  {
   "cell_type": "code",
   "execution_count": null,
   "metadata": {},
   "outputs": [],
   "source": []
  }
 ],
 "metadata": {
  "kernelspec": {
   "display_name": "finlab",
   "language": "python",
   "name": "finlab"
  },
  "language_info": {
   "codemirror_mode": {
    "name": "ipython",
    "version": 3
   },
   "file_extension": ".py",
   "mimetype": "text/x-python",
   "name": "python",
   "nbconvert_exporter": "python",
   "pygments_lexer": "ipython3",
   "version": "3.7.13"
  }
 },
 "nbformat": 4,
 "nbformat_minor": 4
}

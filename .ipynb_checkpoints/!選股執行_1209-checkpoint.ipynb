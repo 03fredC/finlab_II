{
 "cells": [
  {
   "cell_type": "markdown",
   "metadata": {},
   "source": [
    "# Final Project"
   ]
  },
  {
   "cell_type": "code",
   "execution_count": 1,
   "metadata": {},
   "outputs": [],
   "source": [
    "# 移除不必要的警告\n",
    "import warnings\n",
    "warnings.filterwarnings('ignore')"
   ]
  },
  {
   "cell_type": "markdown",
   "metadata": {},
   "source": [
    "### 獲取歷史資料"
   ]
  },
  {
   "cell_type": "code",
   "execution_count": 2,
   "metadata": {
    "scrolled": true
   },
   "outputs": [],
   "source": [
    "from finlab.data import Data\n",
    "#from finlab.ml import fundamental_features\n",
    "#fdf = fundamental_features()\n",
    "\n",
    "data = Data()\n",
    "\n",
    "close = data.get(\"收盤價\")\n",
    "open_ = data.get(\"開盤價\")\n",
    "high = data.get(\"最高價\")\n",
    "low = data.get(\"最低價\")\n",
    "vol = data.get(\"成交股數\")\n",
    "\n",
    "PB = data.get(\"股價淨值比\")\n",
    "pe = data.get(\"本益比\")\n",
    "\n",
    "#bi = data.get(\"營業利益\")\n",
    "\n",
    "\n",
    "#close = data.get_adj(\"收盤價\").round(2)\n",
    "\n",
    "#財務指標\n",
    "rev = data.get(\"當月營收\")\n",
    "l_rev = data.get(\"去年當月營收\")\n",
    "\n",
    "#t123 = data.get('土地')\n",
    "\n",
    "bargin_i=data.get(\"投信買賣超股數\")/data.get(\"成交股數\")\n",
    "bargin_f=data.get(\"外資自營商買賣超股數\")/data.get(\"成交股數\")\n",
    "bargin_s=data.get(\"自營商買賣超股數(自行買賣)\")/data.get(\"成交股數\")\n",
    "#\n",
    "\n",
    "vol=data.get('成交股數')/1000\n",
    "vol_ma5=vol.rolling(5).mean()\n",
    "\n",
    "rev.index = rev.index.shift(5, \"d\")         #每月頻率\n",
    "#周頻率"
   ]
  },
  {
   "cell_type": "markdown",
   "metadata": {},
   "source": [
    "### 計算features"
   ]
  },
  {
   "cell_type": "code",
   "execution_count": 3,
   "metadata": {},
   "outputs": [],
   "source": [
    "#MFI  = data.talib(\"MFI\")\n",
    "##MFI.tail()\n",
    "#ub,mb,lb =data.talib(\"BBANDS\")"
   ]
  },
  {
   "cell_type": "markdown",
   "metadata": {},
   "source": [
    "#### 營收相關"
   ]
  },
  {
   "cell_type": "code",
   "execution_count": 4,
   "metadata": {},
   "outputs": [],
   "source": [
    "##############################################　　　自己加入的　　　##############################################\n",
    "import pandas as pd\n",
    "from finlab.__init__ import talib_all_stock\n",
    "from talib import abstract"
   ]
  },
  {
   "cell_type": "code",
   "execution_count": 5,
   "metadata": {},
   "outputs": [],
   "source": [
    "def bias(n):\n",
    "    return close / close.rolling(n, min_periods=1).mean()\n",
    "\n",
    "def acc(n):\n",
    "    return close.shift(n) / (close.shift(2*n) + close) * 2\n",
    "\n",
    "def rsv(n):\n",
    "    l = close.rolling(n, min_periods=1).min() \n",
    "    h = close.rolling(n, min_periods=1).max()\n",
    "    \n",
    "    return (close - l) / (h - l)\n",
    "\n",
    "def mom(n):\n",
    "    return (rev / rev.shift(1)).shift(n)\n",
    "\n",
    "def yoy(n):\n",
    "    return (rev.shift(n) / rev.shift(12+n)) -1\n",
    "\n",
    "def bi(n):\n",
    "    return bargin_i/bargin_i.rolling(n).mean()\n",
    "\n",
    "def bf(n):\n",
    "    return bargin_f/bargin_f.rolling(n).mean()\n",
    "    \n",
    "def bs(n):\n",
    "    return bargin_s/bargin_s.rolling(n).mean()\n",
    "\n",
    "#-------------------------------------------\n",
    "\n",
    "features = {\n",
    "    'mom1': mom(1),\n",
    "    'mom2': mom(2),\n",
    "    'mom3': mom(3),\n",
    "    'mom4': mom(4),\n",
    "    'mom5': mom(5),\n",
    "    'mom6': mom(6),\n",
    "    'mom7': mom(7),\n",
    "    'mom8': mom(8),\n",
    "    'mom9': mom(9),\n",
    "\n",
    "    \n",
    "    'bias5': bias(5),\n",
    "    'bias10': bias(10),\n",
    "    'bias20': bias(20),\n",
    "    'bias60': bias(60),\n",
    "    'bias120': bias(120),\n",
    "    'bias240': bias(240),\n",
    "    \n",
    "    'acc5': acc(5),\n",
    "    'acc10': acc(10),\n",
    "    'acc20': acc(20),\n",
    "    'acc60': acc(60),\n",
    "    'acc120': acc(120),\n",
    "    'acc240': acc(240),\n",
    "    \n",
    "    'rsv5': rsv(5),\n",
    "    'rsv10': rsv(10),\n",
    "    'rsv20': rsv(20),\n",
    "    'rsv60': rsv(60),\n",
    "    'rsv120': rsv(120),\n",
    "    'rsv240': rsv(240),\n",
    "###############################################\n",
    "    'yoy': yoy(1),\n",
    "    'delta_yoy':yoy(1)-yoy(2),\n",
    "    \n",
    "    'PB':PB,\n",
    "    'PE':pe,  \n",
    "    \n",
    "   #'bi5' : bi(5),\n",
    "   #'bi10' : bi(10),\n",
    "   #'bi20' : bi(20),\n",
    "   #'bi60' : bi(60),\n",
    "   # \n",
    "   #'bf5' : bf(5),\n",
    "   # #'bf10' : bf(10),\n",
    "   # #'bf20' : bf(20),\n",
    "   # #'bf60' : bf(60),\n",
    "   # \n",
    "   # 'bs5' : bs(5),\n",
    "   # 'bs10' : bs(10),\n",
    "   # 'bs20' : bs(20),\n",
    "   # 'bs60' : bs(60),\n",
    "    \n",
    "}\n"
   ]
  },
  {
   "cell_type": "code",
   "execution_count": 6,
   "metadata": {},
   "outputs": [],
   "source": [
    "#bi(60).dropna(how='all')"
   ]
  },
  {
   "cell_type": "markdown",
   "metadata": {},
   "source": [
    "#### 財報指標"
   ]
  },
  {
   "cell_type": "markdown",
   "metadata": {},
   "source": [
    "兩個feature結合[[連結網址]](https://hahow.in/courses/5b9d3a6dca498a001e917383/discussions/5d18b63eac23d80020ae4ce7)\n",
    "\n",
    "---\n",
    "```python\n",
    "from finlab import ml\n",
    "from finlab.data import Data\n",
    "\n",
    "data = Data()\n",
    "rsi = data.talib(\"RSI\")\n",
    "\n",
    "dataset = ml.fundamental_features()\n",
    "ml.add_feature(dataset, 'RSI', rsi)\n",
    "```"
   ]
  },
  {
   "cell_type": "code",
   "execution_count": 7,
   "metadata": {},
   "outputs": [],
   "source": [
    "from finlab.ml import fundamental_features\n",
    "dataset_fundamental = fundamental_features()"
   ]
  },
  {
   "cell_type": "code",
   "execution_count": 8,
   "metadata": {},
   "outputs": [],
   "source": [
    "#dataset_fundamental"
   ]
  },
  {
   "cell_type": "markdown",
   "metadata": {},
   "source": [
    "#### 技術指標"
   ]
  },
  {
   "cell_type": "raw",
   "metadata": {},
   "source": [
    "# https://zhuanlan.zhihu.com/p/342075180 talib函数功能一览表\n",
    "\n",
    "def bias(n):\n",
    "    return close / close.rolling(n, min_periods=1).mean()\n",
    "\n",
    "def acc(n):\n",
    "    return close.shift(n) / (close.shift(2*n) + close) * 2\n",
    "\n",
    "def rsv(n):\n",
    "    l = close.rolling(n, min_periods=1).min()\n",
    "    h = close.rolling(n, min_periods=1).max()\n",
    "    \n",
    "    return (close - l) / (h - l)\n",
    "\n",
    "def mom(n):\n",
    "    return (rev / rev.shift(1)).shift(n)\n",
    "\n",
    "\n",
    "def bi_(n):\n",
    "    return (bargin_i / vol.shift(1)).shift(n)\n",
    "\n",
    "def bf(n):\n",
    "    return (bargin_f / vol.shift(1)).shift(n)\n",
    "    \n",
    "def bs(n):\n",
    "    return (bargin_s / vol.shift(1)).shift(n)\n",
    "\n",
    "def rsi(n):\n",
    "    #return talib_all_stock(ndays=10000, func=abstract.RSI, timeperiod=n)\n",
    "    return data.talib(\"RSI\",timeperiod=n)\n",
    "\n",
    "def MFI(n):\n",
    "    return data.talib(\"MFI\",timeperiod=n)\n",
    "\n",
    "def obv(n):\n",
    "    return data.talib(\"OBV\",timeperiod=n)\n",
    "\n",
    "\n",
    "\n",
    "features = {\n",
    "    \n",
    "    #'ATR14':data.talib(\"ATR\",timeperiod=14),\n",
    "    #'NATR14':data.talib('NATR',timeperiod=14),\n",
    "    #'TRANGE':data.talib('TRANGE'),\n",
    "    #'Adosc3':data.talib('ADOSC',timeperiod=3),\n",
    "    \n",
    "    #\"MFI5\":MFI(5),\n",
    "    #\"MFI10\":MFI(10),\n",
    "    \n",
    "    #'rsi6': rsi(6),  #DataFrame\n",
    "    #'rsi10': rsi(10),  #DataFrame\n",
    "    #'rsi14': rsi(14),  #DataFrame\n",
    "    #'rsi20': rsi(20),  #DataFrame\n",
    "    #'rsi50': rsi(50),  #DataFrame\n",
    "   \n",
    "    'mom1': mom(1),\n",
    "    'mom2': mom(2),\n",
    "    'mom3': mom(3),\n",
    "    'mom4': mom(4),\n",
    "    'mom5': mom(5),\n",
    "    'mom6': mom(6),\n",
    "    'mom7': mom(7),\n",
    "    'mom8': mom(8),\n",
    "    'mom9': mom(9),\n",
    "    \n",
    "    'yoy': yoy(1),\n",
    "    'delta_yoy':yoy(1)-yoy(2),\n",
    "    \n",
    "#    'ff':ff,\n",
    "    'PB':PB,\n",
    "    'PE':pe,   \n",
    "#  \n",
    "    'bias5': bias(5),\n",
    "    'bias10': bias(10),\n",
    "    'bias20': bias(20),\n",
    "    'bias60': bias(60),\n",
    "    'bias120': bias(120),\n",
    "    'bias240': bias(240),\n",
    "    \n",
    "    'acc5': acc(5),\n",
    "    'acc10': acc(10),\n",
    "    'acc20': acc(20),\n",
    "    'acc60': acc(60),\n",
    "    'acc120': acc(120),\n",
    "    'acc240': acc(240),\n",
    "    \n",
    "    #'rsv5': rsv(5),\n",
    "    #'rsv10': rsv(10),\n",
    "    #'rsv20': rsv(20),\n",
    "    #'rsv60': rsv(60),\n",
    "    #'rsv120': rsv(120),\n",
    "    #'rsv240': rsv(240),\n",
    "}\n"
   ]
  },
  {
   "cell_type": "raw",
   "metadata": {},
   "source": [
    "```\n",
    "https://www.twblogs.net/a/5d3f3173bd9eee517422735f\n",
    "W-WED\n",
    "https://docs.python.org/zh-tw/3/library/calendar.html\n",
    "```"
   ]
  },
  {
   "cell_type": "markdown",
   "metadata": {},
   "source": [
    "加入其他features\n",
    "* http://finlabcourse.imotor.com/viewthread.php?tid=660&extra=page%3D1\n",
    "\n",
    "```python\n",
    "from finlab import ml\n",
    "from finlab.data import Data\n",
    "\n",
    "data = Data()\n",
    "rsi = data.talib(\"RSI\")\n",
    "\n",
    "dataset = ml.fundamental_features()\n",
    "ml.add_feature(dataset, 'RSI', rsi)\n",
    "```"
   ]
  },
  {
   "cell_type": "markdown",
   "metadata": {},
   "source": [
    "#### 組合dataset"
   ]
  },
  {
   "cell_type": "code",
   "execution_count": 9,
   "metadata": {},
   "outputs": [],
   "source": [
    "import pandas as pd"
   ]
  },
  {
   "cell_type": "markdown",
   "metadata": {},
   "source": [
    "#### 確認各指標清單"
   ]
  },
  {
   "cell_type": "code",
   "execution_count": 10,
   "metadata": {},
   "outputs": [],
   "source": [
    "#t1 = data.talib(\"NATR\",timeperiod=14)\n",
    "#t1.to_csv('myfile.csv')"
   ]
  },
  {
   "cell_type": "markdown",
   "metadata": {},
   "source": [
    "### 製作dataset\n",
    "\n",
    "##### 設定買賣頻率"
   ]
  },
  {
   "cell_type": "code",
   "execution_count": 11,
   "metadata": {},
   "outputs": [
    {
     "data": {
      "text/plain": [
       "DatetimeIndex(['2005-02-15', '2005-03-15', '2005-04-15', '2005-05-15',\n",
       "               '2005-06-15', '2005-07-15', '2005-08-15', '2005-09-15',\n",
       "               '2005-10-15', '2005-11-15',\n",
       "               ...\n",
       "               '2022-04-15', '2022-05-15', '2022-06-15', '2022-07-15',\n",
       "               '2022-08-15', '2022-09-15', '2022-10-15', '2022-11-15',\n",
       "               '2022-12-15', '2023-01-15'],\n",
       "              dtype='datetime64[ns]', name='date', length=216, freq=None)"
      ]
     },
     "execution_count": 11,
     "metadata": {},
     "output_type": "execute_result"
    }
   ],
   "source": [
    "#rev.index = rev.index.tz_localize(\"Asia/Taipei\")\n",
    "every_month = rev.index\n",
    "every_month"
   ]
  },
  {
   "cell_type": "markdown",
   "metadata": {},
   "source": [
    "#### 將dataframe 組裝起來"
   ]
  },
  {
   "cell_type": "code",
   "execution_count": 12,
   "metadata": {},
   "outputs": [],
   "source": [
    "# features['bias20'].reindex(every_month, method='ffill')\n",
    "\n",
    "for name, f in features.items():\n",
    "    features[name] = f.reindex(every_month, method='ffill')"
   ]
  },
  {
   "cell_type": "code",
   "execution_count": 13,
   "metadata": {},
   "outputs": [],
   "source": [
    "for name, f in features.items():\n",
    "    features[name] = f.unstack()"
   ]
  },
  {
   "cell_type": "code",
   "execution_count": 14,
   "metadata": {},
   "outputs": [],
   "source": [
    "import pandas as pd\n",
    "dataset = pd.DataFrame(features)"
   ]
  },
  {
   "cell_type": "code",
   "execution_count": 15,
   "metadata": {},
   "outputs": [],
   "source": [
    "feature_names = list(dataset.columns)"
   ]
  },
  {
   "cell_type": "code",
   "execution_count": null,
   "metadata": {},
   "outputs": [],
   "source": []
  },
  {
   "cell_type": "code",
   "execution_count": 16,
   "metadata": {},
   "outputs": [
    {
     "data": {
      "text/html": [
       "<div>\n",
       "<style scoped>\n",
       "    .dataframe tbody tr th:only-of-type {\n",
       "        vertical-align: middle;\n",
       "    }\n",
       "\n",
       "    .dataframe tbody tr th {\n",
       "        vertical-align: top;\n",
       "    }\n",
       "\n",
       "    .dataframe thead th {\n",
       "        text-align: right;\n",
       "    }\n",
       "</style>\n",
       "<table border=\"1\" class=\"dataframe\">\n",
       "  <thead>\n",
       "    <tr style=\"text-align: right;\">\n",
       "      <th></th>\n",
       "      <th></th>\n",
       "      <th>mom1</th>\n",
       "      <th>mom2</th>\n",
       "      <th>mom3</th>\n",
       "      <th>mom4</th>\n",
       "      <th>mom5</th>\n",
       "      <th>mom6</th>\n",
       "      <th>mom7</th>\n",
       "      <th>mom8</th>\n",
       "      <th>mom9</th>\n",
       "      <th>bias5</th>\n",
       "      <th>...</th>\n",
       "      <th>rsv10</th>\n",
       "      <th>rsv20</th>\n",
       "      <th>rsv60</th>\n",
       "      <th>rsv120</th>\n",
       "      <th>rsv240</th>\n",
       "      <th>yoy</th>\n",
       "      <th>delta_yoy</th>\n",
       "      <th>PB</th>\n",
       "      <th>PE</th>\n",
       "      <th>vol_ma5</th>\n",
       "    </tr>\n",
       "    <tr>\n",
       "      <th>stock_id</th>\n",
       "      <th>date</th>\n",
       "      <th></th>\n",
       "      <th></th>\n",
       "      <th></th>\n",
       "      <th></th>\n",
       "      <th></th>\n",
       "      <th></th>\n",
       "      <th></th>\n",
       "      <th></th>\n",
       "      <th></th>\n",
       "      <th></th>\n",
       "      <th></th>\n",
       "      <th></th>\n",
       "      <th></th>\n",
       "      <th></th>\n",
       "      <th></th>\n",
       "      <th></th>\n",
       "      <th></th>\n",
       "      <th></th>\n",
       "      <th></th>\n",
       "      <th></th>\n",
       "      <th></th>\n",
       "    </tr>\n",
       "  </thead>\n",
       "  <tbody>\n",
       "    <tr>\n",
       "      <th rowspan=\"5\" valign=\"top\">0015</th>\n",
       "      <th>2005-02-15</th>\n",
       "      <td>NaN</td>\n",
       "      <td>NaN</td>\n",
       "      <td>NaN</td>\n",
       "      <td>NaN</td>\n",
       "      <td>NaN</td>\n",
       "      <td>NaN</td>\n",
       "      <td>NaN</td>\n",
       "      <td>NaN</td>\n",
       "      <td>NaN</td>\n",
       "      <td>NaN</td>\n",
       "      <td>...</td>\n",
       "      <td>NaN</td>\n",
       "      <td>NaN</td>\n",
       "      <td>NaN</td>\n",
       "      <td>NaN</td>\n",
       "      <td>NaN</td>\n",
       "      <td>NaN</td>\n",
       "      <td>NaN</td>\n",
       "      <td>NaN</td>\n",
       "      <td>NaN</td>\n",
       "      <td>NaN</td>\n",
       "    </tr>\n",
       "    <tr>\n",
       "      <th>2005-03-15</th>\n",
       "      <td>NaN</td>\n",
       "      <td>NaN</td>\n",
       "      <td>NaN</td>\n",
       "      <td>NaN</td>\n",
       "      <td>NaN</td>\n",
       "      <td>NaN</td>\n",
       "      <td>NaN</td>\n",
       "      <td>NaN</td>\n",
       "      <td>NaN</td>\n",
       "      <td>NaN</td>\n",
       "      <td>...</td>\n",
       "      <td>NaN</td>\n",
       "      <td>NaN</td>\n",
       "      <td>NaN</td>\n",
       "      <td>NaN</td>\n",
       "      <td>NaN</td>\n",
       "      <td>NaN</td>\n",
       "      <td>NaN</td>\n",
       "      <td>NaN</td>\n",
       "      <td>NaN</td>\n",
       "      <td>NaN</td>\n",
       "    </tr>\n",
       "    <tr>\n",
       "      <th>2005-04-15</th>\n",
       "      <td>NaN</td>\n",
       "      <td>NaN</td>\n",
       "      <td>NaN</td>\n",
       "      <td>NaN</td>\n",
       "      <td>NaN</td>\n",
       "      <td>NaN</td>\n",
       "      <td>NaN</td>\n",
       "      <td>NaN</td>\n",
       "      <td>NaN</td>\n",
       "      <td>NaN</td>\n",
       "      <td>...</td>\n",
       "      <td>NaN</td>\n",
       "      <td>NaN</td>\n",
       "      <td>NaN</td>\n",
       "      <td>NaN</td>\n",
       "      <td>NaN</td>\n",
       "      <td>NaN</td>\n",
       "      <td>NaN</td>\n",
       "      <td>NaN</td>\n",
       "      <td>NaN</td>\n",
       "      <td>NaN</td>\n",
       "    </tr>\n",
       "    <tr>\n",
       "      <th>2005-05-15</th>\n",
       "      <td>NaN</td>\n",
       "      <td>NaN</td>\n",
       "      <td>NaN</td>\n",
       "      <td>NaN</td>\n",
       "      <td>NaN</td>\n",
       "      <td>NaN</td>\n",
       "      <td>NaN</td>\n",
       "      <td>NaN</td>\n",
       "      <td>NaN</td>\n",
       "      <td>NaN</td>\n",
       "      <td>...</td>\n",
       "      <td>NaN</td>\n",
       "      <td>NaN</td>\n",
       "      <td>NaN</td>\n",
       "      <td>NaN</td>\n",
       "      <td>NaN</td>\n",
       "      <td>NaN</td>\n",
       "      <td>NaN</td>\n",
       "      <td>NaN</td>\n",
       "      <td>NaN</td>\n",
       "      <td>NaN</td>\n",
       "    </tr>\n",
       "    <tr>\n",
       "      <th>2005-06-15</th>\n",
       "      <td>NaN</td>\n",
       "      <td>NaN</td>\n",
       "      <td>NaN</td>\n",
       "      <td>NaN</td>\n",
       "      <td>NaN</td>\n",
       "      <td>NaN</td>\n",
       "      <td>NaN</td>\n",
       "      <td>NaN</td>\n",
       "      <td>NaN</td>\n",
       "      <td>NaN</td>\n",
       "      <td>...</td>\n",
       "      <td>NaN</td>\n",
       "      <td>NaN</td>\n",
       "      <td>NaN</td>\n",
       "      <td>NaN</td>\n",
       "      <td>NaN</td>\n",
       "      <td>NaN</td>\n",
       "      <td>NaN</td>\n",
       "      <td>NaN</td>\n",
       "      <td>NaN</td>\n",
       "      <td>NaN</td>\n",
       "    </tr>\n",
       "    <tr>\n",
       "      <th>...</th>\n",
       "      <th>...</th>\n",
       "      <td>...</td>\n",
       "      <td>...</td>\n",
       "      <td>...</td>\n",
       "      <td>...</td>\n",
       "      <td>...</td>\n",
       "      <td>...</td>\n",
       "      <td>...</td>\n",
       "      <td>...</td>\n",
       "      <td>...</td>\n",
       "      <td>...</td>\n",
       "      <td>...</td>\n",
       "      <td>...</td>\n",
       "      <td>...</td>\n",
       "      <td>...</td>\n",
       "      <td>...</td>\n",
       "      <td>...</td>\n",
       "      <td>...</td>\n",
       "      <td>...</td>\n",
       "      <td>...</td>\n",
       "      <td>...</td>\n",
       "      <td>...</td>\n",
       "    </tr>\n",
       "    <tr>\n",
       "      <th rowspan=\"5\" valign=\"top\">9962</th>\n",
       "      <th>2022-09-15</th>\n",
       "      <td>0.641536</td>\n",
       "      <td>1.694666</td>\n",
       "      <td>0.917472</td>\n",
       "      <td>0.678559</td>\n",
       "      <td>1.435387</td>\n",
       "      <td>1.209077</td>\n",
       "      <td>0.859901</td>\n",
       "      <td>0.729493</td>\n",
       "      <td>1.238664</td>\n",
       "      <td>1.022514</td>\n",
       "      <td>...</td>\n",
       "      <td>1.000000</td>\n",
       "      <td>1.000000</td>\n",
       "      <td>1.000000</td>\n",
       "      <td>0.391111</td>\n",
       "      <td>0.391111</td>\n",
       "      <td>0.286455</td>\n",
       "      <td>0.045911</td>\n",
       "      <td>1.35</td>\n",
       "      <td>7.50</td>\n",
       "      <td>825.8902</td>\n",
       "    </tr>\n",
       "    <tr>\n",
       "      <th>2022-10-15</th>\n",
       "      <td>1.280940</td>\n",
       "      <td>0.641536</td>\n",
       "      <td>1.694666</td>\n",
       "      <td>0.917472</td>\n",
       "      <td>0.678559</td>\n",
       "      <td>1.435387</td>\n",
       "      <td>1.209077</td>\n",
       "      <td>0.859901</td>\n",
       "      <td>0.729493</td>\n",
       "      <td>0.956989</td>\n",
       "      <td>...</td>\n",
       "      <td>0.187500</td>\n",
       "      <td>0.142857</td>\n",
       "      <td>0.130435</td>\n",
       "      <td>0.198582</td>\n",
       "      <td>0.124444</td>\n",
       "      <td>0.725788</td>\n",
       "      <td>0.439333</td>\n",
       "      <td>1.10</td>\n",
       "      <td>6.12</td>\n",
       "      <td>638.6044</td>\n",
       "    </tr>\n",
       "    <tr>\n",
       "      <th>2022-11-15</th>\n",
       "      <td>0.830797</td>\n",
       "      <td>1.280940</td>\n",
       "      <td>0.641536</td>\n",
       "      <td>1.694666</td>\n",
       "      <td>0.917472</td>\n",
       "      <td>0.678559</td>\n",
       "      <td>1.435387</td>\n",
       "      <td>1.209077</td>\n",
       "      <td>0.859901</td>\n",
       "      <td>1.024242</td>\n",
       "      <td>...</td>\n",
       "      <td>1.000000</td>\n",
       "      <td>1.000000</td>\n",
       "      <td>1.000000</td>\n",
       "      <td>0.933962</td>\n",
       "      <td>0.440000</td>\n",
       "      <td>0.003516</td>\n",
       "      <td>-0.722271</td>\n",
       "      <td>1.33</td>\n",
       "      <td>7.01</td>\n",
       "      <td>462.1834</td>\n",
       "    </tr>\n",
       "    <tr>\n",
       "      <th>2022-12-15</th>\n",
       "      <td>1.163303</td>\n",
       "      <td>0.830797</td>\n",
       "      <td>1.280940</td>\n",
       "      <td>0.641536</td>\n",
       "      <td>1.694666</td>\n",
       "      <td>0.917472</td>\n",
       "      <td>0.678559</td>\n",
       "      <td>1.435387</td>\n",
       "      <td>1.209077</td>\n",
       "      <td>1.024939</td>\n",
       "      <td>...</td>\n",
       "      <td>1.000000</td>\n",
       "      <td>1.000000</td>\n",
       "      <td>0.987500</td>\n",
       "      <td>0.989899</td>\n",
       "      <td>0.435556</td>\n",
       "      <td>0.129923</td>\n",
       "      <td>0.126406</td>\n",
       "      <td>1.32</td>\n",
       "      <td>6.99</td>\n",
       "      <td>632.1574</td>\n",
       "    </tr>\n",
       "    <tr>\n",
       "      <th>2023-01-15</th>\n",
       "      <td>1.004024</td>\n",
       "      <td>1.163303</td>\n",
       "      <td>0.830797</td>\n",
       "      <td>1.280940</td>\n",
       "      <td>0.641536</td>\n",
       "      <td>1.694666</td>\n",
       "      <td>0.917472</td>\n",
       "      <td>0.678559</td>\n",
       "      <td>1.435387</td>\n",
       "      <td>1.004331</td>\n",
       "      <td>...</td>\n",
       "      <td>0.852941</td>\n",
       "      <td>0.895833</td>\n",
       "      <td>0.943820</td>\n",
       "      <td>0.957627</td>\n",
       "      <td>0.586667</td>\n",
       "      <td>-0.084119</td>\n",
       "      <td>-0.214041</td>\n",
       "      <td>1.46</td>\n",
       "      <td>7.70</td>\n",
       "      <td>3007.9848</td>\n",
       "    </tr>\n",
       "  </tbody>\n",
       "</table>\n",
       "<p>442800 rows × 32 columns</p>\n",
       "</div>"
      ],
      "text/plain": [
       "                         mom1      mom2      mom3      mom4      mom5  \\\n",
       "stock_id date                                                           \n",
       "0015     2005-02-15       NaN       NaN       NaN       NaN       NaN   \n",
       "         2005-03-15       NaN       NaN       NaN       NaN       NaN   \n",
       "         2005-04-15       NaN       NaN       NaN       NaN       NaN   \n",
       "         2005-05-15       NaN       NaN       NaN       NaN       NaN   \n",
       "         2005-06-15       NaN       NaN       NaN       NaN       NaN   \n",
       "...                       ...       ...       ...       ...       ...   \n",
       "9962     2022-09-15  0.641536  1.694666  0.917472  0.678559  1.435387   \n",
       "         2022-10-15  1.280940  0.641536  1.694666  0.917472  0.678559   \n",
       "         2022-11-15  0.830797  1.280940  0.641536  1.694666  0.917472   \n",
       "         2022-12-15  1.163303  0.830797  1.280940  0.641536  1.694666   \n",
       "         2023-01-15  1.004024  1.163303  0.830797  1.280940  0.641536   \n",
       "\n",
       "                         mom6      mom7      mom8      mom9     bias5  ...  \\\n",
       "stock_id date                                                          ...   \n",
       "0015     2005-02-15       NaN       NaN       NaN       NaN       NaN  ...   \n",
       "         2005-03-15       NaN       NaN       NaN       NaN       NaN  ...   \n",
       "         2005-04-15       NaN       NaN       NaN       NaN       NaN  ...   \n",
       "         2005-05-15       NaN       NaN       NaN       NaN       NaN  ...   \n",
       "         2005-06-15       NaN       NaN       NaN       NaN       NaN  ...   \n",
       "...                       ...       ...       ...       ...       ...  ...   \n",
       "9962     2022-09-15  1.209077  0.859901  0.729493  1.238664  1.022514  ...   \n",
       "         2022-10-15  1.435387  1.209077  0.859901  0.729493  0.956989  ...   \n",
       "         2022-11-15  0.678559  1.435387  1.209077  0.859901  1.024242  ...   \n",
       "         2022-12-15  0.917472  0.678559  1.435387  1.209077  1.024939  ...   \n",
       "         2023-01-15  1.694666  0.917472  0.678559  1.435387  1.004331  ...   \n",
       "\n",
       "                        rsv10     rsv20     rsv60    rsv120    rsv240  \\\n",
       "stock_id date                                                           \n",
       "0015     2005-02-15       NaN       NaN       NaN       NaN       NaN   \n",
       "         2005-03-15       NaN       NaN       NaN       NaN       NaN   \n",
       "         2005-04-15       NaN       NaN       NaN       NaN       NaN   \n",
       "         2005-05-15       NaN       NaN       NaN       NaN       NaN   \n",
       "         2005-06-15       NaN       NaN       NaN       NaN       NaN   \n",
       "...                       ...       ...       ...       ...       ...   \n",
       "9962     2022-09-15  1.000000  1.000000  1.000000  0.391111  0.391111   \n",
       "         2022-10-15  0.187500  0.142857  0.130435  0.198582  0.124444   \n",
       "         2022-11-15  1.000000  1.000000  1.000000  0.933962  0.440000   \n",
       "         2022-12-15  1.000000  1.000000  0.987500  0.989899  0.435556   \n",
       "         2023-01-15  0.852941  0.895833  0.943820  0.957627  0.586667   \n",
       "\n",
       "                          yoy  delta_yoy    PB    PE    vol_ma5  \n",
       "stock_id date                                                    \n",
       "0015     2005-02-15       NaN        NaN   NaN   NaN        NaN  \n",
       "         2005-03-15       NaN        NaN   NaN   NaN        NaN  \n",
       "         2005-04-15       NaN        NaN   NaN   NaN        NaN  \n",
       "         2005-05-15       NaN        NaN   NaN   NaN        NaN  \n",
       "         2005-06-15       NaN        NaN   NaN   NaN        NaN  \n",
       "...                       ...        ...   ...   ...        ...  \n",
       "9962     2022-09-15  0.286455   0.045911  1.35  7.50   825.8902  \n",
       "         2022-10-15  0.725788   0.439333  1.10  6.12   638.6044  \n",
       "         2022-11-15  0.003516  -0.722271  1.33  7.01   462.1834  \n",
       "         2022-12-15  0.129923   0.126406  1.32  6.99   632.1574  \n",
       "         2023-01-15 -0.084119  -0.214041  1.46  7.70  3007.9848  \n",
       "\n",
       "[442800 rows x 32 columns]"
      ]
     },
     "execution_count": 16,
     "metadata": {},
     "output_type": "execute_result"
    }
   ],
   "source": [
    "from finlab import ml\n",
    "ml.add_feature(dataset, 'vol_ma5', vol_ma5)\n",
    "\n",
    "dataset"
   ]
  },
  {
   "cell_type": "code",
   "execution_count": 17,
   "metadata": {},
   "outputs": [],
   "source": [
    "##############################################　　　自己加入的　　　##############################################\n",
    "dataset.index = dataset.index.set_names(['stock_id','date'], level=[0,1])\n",
    "\n",
    "\n",
    "#dataset.index.levels[1].name = 'date'\n",
    "#dataset.index.levels[0].name = 'stock_id'\n",
    "\n",
    "#因為你pandas更新到新版了\n",
    "## profit.index.levels[0].name = 'year'\n",
    "## profit.index.levels[1].name = 'month'\n",
    "#這兩行的語法被棄用，請改成\n",
    "#profit.index=profit.index.set_names('year', level=0)\n",
    "#profit.index=profit.index.set_names('month', level=1)\n",
    "#or profit.index=profit.index.set_names(['year','month'], level=[0,1])\n",
    "#直接一行\n",
    "#就可以了"
   ]
  },
  {
   "cell_type": "code",
   "execution_count": 18,
   "metadata": {
    "scrolled": true
   },
   "outputs": [],
   "source": [
    "#list(dataset_fundamental.columns)"
   ]
  },
  {
   "cell_type": "code",
   "execution_count": 19,
   "metadata": {
    "scrolled": true
   },
   "outputs": [],
   "source": [
    "#dataset_fundamental.reindex(dataset.index).dropna()"
   ]
  },
  {
   "cell_type": "markdown",
   "metadata": {},
   "source": [
    "data[組合](https://hahow.in/courses/5b9d3a6dca498a001e917383/discussions/5d18b63eac23d80020ae4ce7)\n",
    "```python\n",
    "new_df = pd.concat([dataset_fundamental['R402_營業毛利成長率'],dataset],axis=1).dropna(how='any')\n",
    "```"
   ]
  },
  {
   "cell_type": "code",
   "execution_count": 20,
   "metadata": {},
   "outputs": [],
   "source": [
    "#new_df = pd.concat([dataset_fundamental,dataset],axis=1).dropna(how='all').fillna(method='ffill')"
   ]
  },
  {
   "cell_type": "code",
   "execution_count": 21,
   "metadata": {},
   "outputs": [],
   "source": [
    "#dataset = new_df"
   ]
  },
  {
   "cell_type": "code",
   "execution_count": 22,
   "metadata": {},
   "outputs": [],
   "source": [
    "#new_df = pd.concat([dataset_fundamental,dataset],axis=1).dropna(how='any')\n",
    "#dataset1 = new_df.fillna(method='ffill')#[(new_df.index.get_level_values('stock_id')=='2330')]\n",
    "##dataset = dataset1"
   ]
  },
  {
   "cell_type": "code",
   "execution_count": 23,
   "metadata": {
    "scrolled": true
   },
   "outputs": [],
   "source": [
    "#feature_names=list(dataset1.columns)\n",
    "#feature_names"
   ]
  },
  {
   "cell_type": "markdown",
   "metadata": {},
   "source": [
    "### 新增 label(績效/排名)\n",
    " - 定義一下要比績效還是要比排名"
   ]
  },
  {
   "cell_type": "code",
   "execution_count": 24,
   "metadata": {},
   "outputs": [],
   "source": [
    "from finlab import ml\n",
    "\n",
    "ml.add_profit_prediction(dataset)\n",
    "ml.add_rank_prediction(dataset)"
   ]
  },
  {
   "cell_type": "code",
   "execution_count": 25,
   "metadata": {},
   "outputs": [],
   "source": [
    "#profit(return) rank\n",
    "predi_target = 'rank'"
   ]
  },
  {
   "cell_type": "markdown",
   "metadata": {},
   "source": [
    "### 刪除太大太小的歷史資料"
   ]
  },
  {
   "cell_type": "code",
   "execution_count": 26,
   "metadata": {},
   "outputs": [
    {
     "name": "stdout",
     "output_type": "stream",
     "text": [
      "(442800, 34)\n",
      "(383188, 34)\n"
     ]
    }
   ],
   "source": [
    "print(dataset.shape)\n",
    "\n",
    "def drop_extreme_case(dataset, feature_names, thresh=0.01):\n",
    "    \n",
    "    extreme_cases = pd.Series(False, index=dataset.index)\n",
    "    for f in feature_names:\n",
    "        tf = dataset[f]\n",
    "        extreme_cases = extreme_cases | (tf < tf.quantile(thresh)) | (tf > tf.quantile(1-thresh))\n",
    "    dataset = dataset[~extreme_cases]\n",
    "    return dataset\n",
    "\n",
    "dataset_drop_extreme_case = drop_extreme_case(dataset , feature_names , thresh=0.01)\n",
    "\n",
    "print(dataset_drop_extreme_case.shape)\n",
    "\n",
    "##(436988, 34)\n",
    "##(377968, 34)"
   ]
  },
  {
   "cell_type": "code",
   "execution_count": 27,
   "metadata": {},
   "outputs": [],
   "source": [
    "dataset_dropna = dataset_drop_extreme_case.dropna(how='any')\n",
    "dataset_dropna = dataset_dropna.reset_index().set_index(\"date\")"
   ]
  },
  {
   "cell_type": "code",
   "execution_count": 29,
   "metadata": {},
   "outputs": [],
   "source": [
    "#dataset_drop_extreme_case.index.get_level_values(\"date\")"
   ]
  },
  {
   "cell_type": "code",
   "execution_count": 30,
   "metadata": {},
   "outputs": [],
   "source": [
    "##################################################################################################################\n",
    "##############################################　　　自己加入的　　　##############################################\n",
    "##################################################################################################################\n",
    "\n",
    "dataset_dropna.index = pd.to_datetime(dataset_dropna.index)\n",
    "dataset_dropna = dataset_dropna.sort_index()\n",
    "\n",
    "#修復＜class ‘numpy.ndarray‘＞　https://blog.csdn.net/lxbin/article/details/114005757"
   ]
  },
  {
   "cell_type": "markdown",
   "metadata": {},
   "source": [
    "## Split Train Test dataset"
   ]
  },
  {
   "cell_type": "code",
   "execution_count": 31,
   "metadata": {},
   "outputs": [],
   "source": [
    "dataset_train = dataset_dropna.loc[:'2021-12']\n",
    "dataset_test = dataset_dropna.loc['2022-01':]\n",
    "\n",
    "#date_arr = dataset.index.get_level_values('date') < '2020'\n",
    "#dataset_train = dataset[date_arr]\n",
    "#dataset_test = dataset[~date_arr]"
   ]
  },
  {
   "cell_type": "code",
   "execution_count": 32,
   "metadata": {},
   "outputs": [],
   "source": [
    "train = dataset_train[feature_names] , dataset_train['return'] > 1\n",
    "test = dataset_test[feature_names] , dataset_test['return'] > 1 "
   ]
  },
  {
   "cell_type": "markdown",
   "metadata": {},
   "source": [
    "### 機器學習\n",
    " - 目前只有三個，技術指標也要再增加一下feature_names"
   ]
  },
  {
   "cell_type": "code",
   "execution_count": 33,
   "metadata": {},
   "outputs": [],
   "source": [
    "#feature_names = feature_names1"
   ]
  },
  {
   "cell_type": "code",
   "execution_count": 34,
   "metadata": {},
   "outputs": [
    {
     "data": {
      "text/plain": [
       "DatetimeIndex(['2010-01-15', '2010-01-15', '2010-01-15', '2010-01-15',\n",
       "               '2010-01-15', '2010-01-15', '2010-01-15', '2010-01-15',\n",
       "               '2010-01-15', '2010-01-15',\n",
       "               ...\n",
       "               '2021-12-15', '2021-12-15', '2021-12-15', '2021-12-15',\n",
       "               '2021-12-15', '2021-12-15', '2021-12-15', '2021-12-15',\n",
       "               '2021-12-15', '2021-12-15'],\n",
       "              dtype='datetime64[ns]', name='date', length=125386, freq=None)"
      ]
     },
     "execution_count": 34,
     "metadata": {},
     "output_type": "execute_result"
    }
   ],
   "source": [
    "dataset_train.index"
   ]
  },
  {
   "cell_type": "markdown",
   "metadata": {},
   "source": [
    "#### kerascolumns"
   ]
  },
  {
   "cell_type": "code",
   "execution_count": 35,
   "metadata": {
    "scrolled": true
   },
   "outputs": [
    {
     "name": "stdout",
     "output_type": "stream",
     "text": [
      "Model: \"sequential\"\n",
      "_________________________________________________________________\n",
      " Layer (type)                Output Shape              Param #   \n",
      "=================================================================\n",
      " dense (Dense)               (None, 100)               3200      \n",
      "                                                                 \n",
      " dense_1 (Dense)             (None, 100)               10100     \n",
      "                                                                 \n",
      " dropout (Dropout)           (None, 100)               0         \n",
      "                                                                 \n",
      " dense_2 (Dense)             (None, 1)                 101       \n",
      "                                                                 \n",
      "=================================================================\n",
      "Total params: 13,401\n",
      "Trainable params: 13,401\n",
      "Non-trainable params: 0\n",
      "_________________________________________________________________\n",
      "start fitting\n",
      "Epoch 1/225\n",
      "113/113 [==============================] - 2s 9ms/step - loss: 0.1144 - val_loss: 0.0720\n",
      "Epoch 2/225\n",
      "113/113 [==============================] - 1s 8ms/step - loss: 0.0734 - val_loss: 0.0720\n",
      "Epoch 3/225\n",
      "113/113 [==============================] - 1s 6ms/step - loss: 0.0733 - val_loss: 0.0720\n",
      "Epoch 4/225\n",
      "113/113 [==============================] - 1s 7ms/step - loss: 0.0733 - val_loss: 0.0719\n",
      "Epoch 5/225\n",
      "113/113 [==============================] - 1s 6ms/step - loss: 0.0733 - val_loss: 0.0719\n",
      "Epoch 6/225\n",
      "113/113 [==============================] - 1s 7ms/step - loss: 0.0732 - val_loss: 0.0719\n",
      "Epoch 7/225\n",
      "113/113 [==============================] - 1s 7ms/step - loss: 0.0732 - val_loss: 0.0718\n",
      "Epoch 8/225\n",
      "113/113 [==============================] - 1s 8ms/step - loss: 0.0732 - val_loss: 0.0718\n",
      "Epoch 9/225\n",
      "113/113 [==============================] - 1s 7ms/step - loss: 0.0732 - val_loss: 0.0718\n",
      "Epoch 10/225\n",
      "113/113 [==============================] - 1s 8ms/step - loss: 0.0731 - val_loss: 0.0717\n",
      "Epoch 11/225\n",
      "113/113 [==============================] - 1s 9ms/step - loss: 0.0731 - val_loss: 0.0717\n",
      "Epoch 12/225\n",
      "113/113 [==============================] - 1s 7ms/step - loss: 0.0731 - val_loss: 0.0717\n",
      "Epoch 13/225\n",
      "113/113 [==============================] - 1s 8ms/step - loss: 0.0731 - val_loss: 0.0717\n",
      "Epoch 14/225\n",
      "113/113 [==============================] - 1s 7ms/step - loss: 0.0731 - val_loss: 0.0717\n",
      "Epoch 15/225\n",
      "113/113 [==============================] - 1s 8ms/step - loss: 0.0731 - val_loss: 0.0717\n",
      "Epoch 16/225\n",
      "113/113 [==============================] - 1s 6ms/step - loss: 0.0731 - val_loss: 0.0717\n",
      "Epoch 17/225\n",
      "113/113 [==============================] - 1s 7ms/step - loss: 0.0730 - val_loss: 0.0716\n",
      "Epoch 18/225\n",
      "113/113 [==============================] - 1s 9ms/step - loss: 0.0731 - val_loss: 0.0716\n",
      "Epoch 19/225\n",
      "113/113 [==============================] - 1s 9ms/step - loss: 0.0731 - val_loss: 0.0716\n",
      "Epoch 20/225\n",
      "113/113 [==============================] - 1s 10ms/step - loss: 0.0731 - val_loss: 0.0716\n",
      "Epoch 21/225\n",
      "113/113 [==============================] - 1s 9ms/step - loss: 0.0730 - val_loss: 0.0716\n",
      "Epoch 22/225\n",
      "113/113 [==============================] - 1s 9ms/step - loss: 0.0731 - val_loss: 0.0716\n",
      "Epoch 23/225\n",
      "113/113 [==============================] - 1s 7ms/step - loss: 0.0730 - val_loss: 0.0717\n",
      "Epoch 24/225\n",
      "113/113 [==============================] - 1s 7ms/step - loss: 0.0730 - val_loss: 0.0716\n",
      "Epoch 25/225\n",
      "113/113 [==============================] - 1s 8ms/step - loss: 0.0730 - val_loss: 0.0717\n",
      "Epoch 26/225\n",
      "113/113 [==============================] - 1s 7ms/step - loss: 0.0730 - val_loss: 0.0715\n",
      "Epoch 27/225\n",
      "113/113 [==============================] - 1s 7ms/step - loss: 0.0730 - val_loss: 0.0715\n",
      "Epoch 28/225\n",
      "113/113 [==============================] - 1s 9ms/step - loss: 0.0730 - val_loss: 0.0716\n",
      "Epoch 29/225\n",
      "113/113 [==============================] - 1s 7ms/step - loss: 0.0730 - val_loss: 0.0716\n",
      "Epoch 30/225\n",
      "113/113 [==============================] - 1s 9ms/step - loss: 0.0729 - val_loss: 0.0716\n",
      "Epoch 31/225\n",
      "113/113 [==============================] - 1s 9ms/step - loss: 0.0729 - val_loss: 0.0715\n",
      "Epoch 32/225\n",
      "113/113 [==============================] - 1s 9ms/step - loss: 0.0729 - val_loss: 0.0714\n",
      "Epoch 33/225\n",
      "113/113 [==============================] - 1s 8ms/step - loss: 0.0730 - val_loss: 0.0715\n",
      "Epoch 34/225\n",
      "113/113 [==============================] - 1s 9ms/step - loss: 0.0730 - val_loss: 0.0715\n",
      "Epoch 35/225\n",
      "113/113 [==============================] - 1s 9ms/step - loss: 0.0730 - val_loss: 0.0715\n",
      "Epoch 36/225\n",
      "113/113 [==============================] - 1s 9ms/step - loss: 0.0729 - val_loss: 0.0715\n",
      "Epoch 37/225\n",
      "113/113 [==============================] - 1s 8ms/step - loss: 0.0729 - val_loss: 0.0715\n",
      "Epoch 38/225\n",
      "113/113 [==============================] - 1s 6ms/step - loss: 0.0729 - val_loss: 0.0716\n",
      "Epoch 39/225\n",
      "113/113 [==============================] - 1s 6ms/step - loss: 0.0729 - val_loss: 0.0715\n",
      "Epoch 40/225\n",
      "113/113 [==============================] - 1s 8ms/step - loss: 0.0729 - val_loss: 0.0714\n",
      "Epoch 41/225\n",
      "113/113 [==============================] - 1s 8ms/step - loss: 0.0729 - val_loss: 0.0714\n",
      "Epoch 42/225\n",
      "113/113 [==============================] - 1s 8ms/step - loss: 0.0729 - val_loss: 0.0714\n",
      "Epoch 43/225\n",
      "113/113 [==============================] - 1s 7ms/step - loss: 0.0729 - val_loss: 0.0714\n",
      "Epoch 44/225\n",
      "113/113 [==============================] - 1s 7ms/step - loss: 0.0728 - val_loss: 0.0714\n",
      "Epoch 45/225\n",
      "113/113 [==============================] - 1s 7ms/step - loss: 0.0728 - val_loss: 0.0713\n",
      "Epoch 46/225\n",
      "113/113 [==============================] - 1s 6ms/step - loss: 0.0728 - val_loss: 0.0716\n",
      "Epoch 47/225\n",
      "113/113 [==============================] - 1s 7ms/step - loss: 0.0728 - val_loss: 0.0714\n",
      "Epoch 48/225\n",
      "113/113 [==============================] - 1s 6ms/step - loss: 0.0728 - val_loss: 0.0715\n",
      "Epoch 49/225\n",
      "113/113 [==============================] - 1s 7ms/step - loss: 0.0728 - val_loss: 0.0713\n",
      "Epoch 50/225\n",
      "113/113 [==============================] - 1s 8ms/step - loss: 0.0728 - val_loss: 0.0714\n",
      "Epoch 51/225\n",
      "113/113 [==============================] - 1s 7ms/step - loss: 0.0728 - val_loss: 0.0713\n",
      "Epoch 52/225\n",
      "113/113 [==============================] - 1s 7ms/step - loss: 0.0727 - val_loss: 0.0713\n",
      "Epoch 53/225\n",
      "113/113 [==============================] - 1s 9ms/step - loss: 0.0728 - val_loss: 0.0714\n",
      "Epoch 54/225\n",
      "113/113 [==============================] - 1s 9ms/step - loss: 0.0728 - val_loss: 0.0715\n",
      "Epoch 55/225\n",
      "113/113 [==============================] - 1s 8ms/step - loss: 0.0728 - val_loss: 0.0713\n",
      "Epoch 56/225\n",
      "113/113 [==============================] - 1s 8ms/step - loss: 0.0728 - val_loss: 0.0714\n",
      "Epoch 57/225\n",
      "113/113 [==============================] - 1s 9ms/step - loss: 0.0728 - val_loss: 0.0713\n",
      "Epoch 58/225\n",
      "113/113 [==============================] - 1s 6ms/step - loss: 0.0728 - val_loss: 0.0713\n",
      "Epoch 59/225\n",
      "113/113 [==============================] - 1s 7ms/step - loss: 0.0727 - val_loss: 0.0713\n",
      "Epoch 60/225\n",
      "113/113 [==============================] - 1s 8ms/step - loss: 0.0727 - val_loss: 0.0713\n",
      "Epoch 61/225\n",
      "113/113 [==============================] - 1s 7ms/step - loss: 0.0727 - val_loss: 0.0713\n",
      "Epoch 62/225\n",
      "113/113 [==============================] - 1s 9ms/step - loss: 0.0728 - val_loss: 0.0713\n",
      "Epoch 63/225\n",
      "113/113 [==============================] - 1s 6ms/step - loss: 0.0727 - val_loss: 0.0713\n",
      "Epoch 64/225\n",
      "113/113 [==============================] - 1s 7ms/step - loss: 0.0727 - val_loss: 0.0714\n",
      "Epoch 65/225\n",
      "113/113 [==============================] - 1s 7ms/step - loss: 0.0727 - val_loss: 0.0714\n",
      "Epoch 66/225\n",
      "113/113 [==============================] - 1s 8ms/step - loss: 0.0726 - val_loss: 0.0713\n",
      "Epoch 67/225\n",
      "113/113 [==============================] - 1s 9ms/step - loss: 0.0727 - val_loss: 0.0716\n",
      "Epoch 68/225\n",
      "113/113 [==============================] - 1s 9ms/step - loss: 0.0727 - val_loss: 0.0713\n",
      "Epoch 69/225\n",
      "113/113 [==============================] - 1s 7ms/step - loss: 0.0727 - val_loss: 0.0713\n",
      "Epoch 70/225\n",
      "113/113 [==============================] - 1s 7ms/step - loss: 0.0727 - val_loss: 0.0714\n",
      "Epoch 71/225\n",
      "113/113 [==============================] - 1s 9ms/step - loss: 0.0726 - val_loss: 0.0713\n",
      "Epoch 72/225\n",
      "113/113 [==============================] - 1s 7ms/step - loss: 0.0726 - val_loss: 0.0713\n",
      "Epoch 73/225\n",
      "113/113 [==============================] - 1s 7ms/step - loss: 0.0727 - val_loss: 0.0713\n",
      "Epoch 74/225\n",
      "113/113 [==============================] - 1s 8ms/step - loss: 0.0726 - val_loss: 0.0713\n",
      "Epoch 75/225\n",
      "113/113 [==============================] - 1s 10ms/step - loss: 0.0727 - val_loss: 0.0713\n",
      "Epoch 76/225\n",
      "113/113 [==============================] - 1s 9ms/step - loss: 0.0725 - val_loss: 0.0713\n",
      "Epoch 77/225\n",
      "113/113 [==============================] - 1s 9ms/step - loss: 0.0726 - val_loss: 0.0712\n",
      "Epoch 78/225\n",
      "113/113 [==============================] - 1s 9ms/step - loss: 0.0726 - val_loss: 0.0712\n",
      "Epoch 79/225\n",
      "113/113 [==============================] - 1s 9ms/step - loss: 0.0726 - val_loss: 0.0714\n",
      "Epoch 80/225\n",
      "113/113 [==============================] - 1s 9ms/step - loss: 0.0726 - val_loss: 0.0712\n",
      "Epoch 81/225\n",
      "113/113 [==============================] - 1s 8ms/step - loss: 0.0726 - val_loss: 0.0713\n",
      "Epoch 82/225\n",
      "113/113 [==============================] - 1s 9ms/step - loss: 0.0726 - val_loss: 0.0712\n",
      "Epoch 83/225\n",
      "113/113 [==============================] - 1s 9ms/step - loss: 0.0725 - val_loss: 0.0712\n",
      "Epoch 84/225\n",
      "113/113 [==============================] - 1s 6ms/step - loss: 0.0726 - val_loss: 0.0713\n",
      "Epoch 85/225\n",
      "113/113 [==============================] - 1s 6ms/step - loss: 0.0725 - val_loss: 0.0713\n",
      "Epoch 86/225\n",
      "113/113 [==============================] - 1s 6ms/step - loss: 0.0726 - val_loss: 0.0713\n",
      "Epoch 87/225\n",
      "113/113 [==============================] - 1s 9ms/step - loss: 0.0726 - val_loss: 0.0713\n",
      "Epoch 88/225\n",
      "113/113 [==============================] - 1s 9ms/step - loss: 0.0726 - val_loss: 0.0712\n",
      "Epoch 89/225\n",
      "113/113 [==============================] - 1s 9ms/step - loss: 0.0725 - val_loss: 0.0712\n",
      "Epoch 90/225\n",
      "113/113 [==============================] - 1s 9ms/step - loss: 0.0726 - val_loss: 0.0712\n",
      "Epoch 91/225\n",
      "113/113 [==============================] - 1s 9ms/step - loss: 0.0726 - val_loss: 0.0713\n",
      "Epoch 92/225\n",
      "113/113 [==============================] - 1s 9ms/step - loss: 0.0725 - val_loss: 0.0713\n",
      "Epoch 93/225\n",
      "113/113 [==============================] - 1s 8ms/step - loss: 0.0725 - val_loss: 0.0713\n",
      "Epoch 94/225\n",
      "113/113 [==============================] - 1s 7ms/step - loss: 0.0725 - val_loss: 0.0713\n",
      "Epoch 95/225\n",
      "113/113 [==============================] - 1s 8ms/step - loss: 0.0725 - val_loss: 0.0712\n",
      "Epoch 96/225\n",
      "113/113 [==============================] - 1s 8ms/step - loss: 0.0724 - val_loss: 0.0712\n",
      "Epoch 97/225\n",
      "113/113 [==============================] - 1s 10ms/step - loss: 0.0725 - val_loss: 0.0712\n",
      "Epoch 98/225\n",
      "113/113 [==============================] - 1s 9ms/step - loss: 0.0725 - val_loss: 0.0713\n",
      "Epoch 99/225\n",
      "113/113 [==============================] - 1s 9ms/step - loss: 0.0726 - val_loss: 0.0712\n",
      "Epoch 100/225\n",
      "113/113 [==============================] - 1s 9ms/step - loss: 0.0724 - val_loss: 0.0713\n",
      "Epoch 101/225\n",
      "113/113 [==============================] - 1s 9ms/step - loss: 0.0725 - val_loss: 0.0714\n",
      "Epoch 102/225\n",
      "113/113 [==============================] - 1s 10ms/step - loss: 0.0724 - val_loss: 0.0712\n",
      "Epoch 103/225\n",
      "113/113 [==============================] - 1s 8ms/step - loss: 0.0724 - val_loss: 0.0712\n",
      "Epoch 104/225\n",
      "113/113 [==============================] - 1s 9ms/step - loss: 0.0725 - val_loss: 0.0712\n",
      "Epoch 105/225\n",
      "113/113 [==============================] - 1s 9ms/step - loss: 0.0724 - val_loss: 0.0713\n",
      "Epoch 106/225\n",
      "113/113 [==============================] - 1s 9ms/step - loss: 0.0724 - val_loss: 0.0714\n",
      "Epoch 107/225\n",
      "113/113 [==============================] - 1s 9ms/step - loss: 0.0724 - val_loss: 0.0711\n",
      "Epoch 108/225\n",
      "113/113 [==============================] - 1s 9ms/step - loss: 0.0724 - val_loss: 0.0713\n",
      "Epoch 109/225\n",
      "113/113 [==============================] - 1s 9ms/step - loss: 0.0724 - val_loss: 0.0712\n",
      "Epoch 110/225\n",
      "113/113 [==============================] - 1s 9ms/step - loss: 0.0724 - val_loss: 0.0711\n",
      "Epoch 111/225\n",
      "113/113 [==============================] - 1s 9ms/step - loss: 0.0724 - val_loss: 0.0713\n",
      "Epoch 112/225\n",
      "113/113 [==============================] - 1s 9ms/step - loss: 0.0724 - val_loss: 0.0712\n",
      "Epoch 113/225\n",
      "113/113 [==============================] - 1s 9ms/step - loss: 0.0724 - val_loss: 0.0713\n",
      "Epoch 114/225\n",
      "113/113 [==============================] - 1s 10ms/step - loss: 0.0724 - val_loss: 0.0713\n",
      "Epoch 115/225\n",
      "113/113 [==============================] - 1s 9ms/step - loss: 0.0724 - val_loss: 0.0713\n",
      "Epoch 116/225\n",
      "113/113 [==============================] - 1s 9ms/step - loss: 0.0724 - val_loss: 0.0712\n",
      "Epoch 117/225\n",
      "113/113 [==============================] - 1s 10ms/step - loss: 0.0724 - val_loss: 0.0712\n",
      "Epoch 118/225\n",
      "113/113 [==============================] - 1s 9ms/step - loss: 0.0724 - val_loss: 0.0712\n",
      "Epoch 119/225\n",
      "113/113 [==============================] - 1s 9ms/step - loss: 0.0724 - val_loss: 0.0712\n",
      "Epoch 120/225\n",
      "113/113 [==============================] - 1s 9ms/step - loss: 0.0724 - val_loss: 0.0712\n",
      "Epoch 121/225\n",
      "113/113 [==============================] - 1s 9ms/step - loss: 0.0723 - val_loss: 0.0711\n",
      "Epoch 122/225\n",
      "113/113 [==============================] - 1s 9ms/step - loss: 0.0724 - val_loss: 0.0712\n",
      "Epoch 123/225\n",
      "113/113 [==============================] - 1s 9ms/step - loss: 0.0723 - val_loss: 0.0712\n",
      "Epoch 124/225\n",
      "113/113 [==============================] - 1s 9ms/step - loss: 0.0724 - val_loss: 0.0714\n",
      "Epoch 125/225\n",
      "113/113 [==============================] - 1s 9ms/step - loss: 0.0723 - val_loss: 0.0712\n",
      "Epoch 126/225\n",
      "113/113 [==============================] - 1s 8ms/step - loss: 0.0723 - val_loss: 0.0712\n",
      "Epoch 127/225\n",
      "113/113 [==============================] - 1s 9ms/step - loss: 0.0723 - val_loss: 0.0711\n",
      "Epoch 128/225\n",
      "113/113 [==============================] - 1s 8ms/step - loss: 0.0723 - val_loss: 0.0712\n",
      "Epoch 129/225\n",
      "113/113 [==============================] - 1s 8ms/step - loss: 0.0722 - val_loss: 0.0714\n",
      "Epoch 130/225\n",
      "113/113 [==============================] - 1s 8ms/step - loss: 0.0723 - val_loss: 0.0712\n",
      "Epoch 131/225\n",
      "113/113 [==============================] - 1s 8ms/step - loss: 0.0722 - val_loss: 0.0713\n",
      "Epoch 132/225\n",
      "113/113 [==============================] - 1s 8ms/step - loss: 0.0723 - val_loss: 0.0712\n",
      "Epoch 133/225\n",
      "113/113 [==============================] - 1s 9ms/step - loss: 0.0723 - val_loss: 0.0712\n",
      "Epoch 134/225\n",
      "113/113 [==============================] - 1s 8ms/step - loss: 0.0722 - val_loss: 0.0713\n",
      "Epoch 135/225\n",
      "113/113 [==============================] - 1s 9ms/step - loss: 0.0723 - val_loss: 0.0712\n",
      "Epoch 136/225\n",
      "113/113 [==============================] - 1s 9ms/step - loss: 0.0723 - val_loss: 0.0712\n",
      "Epoch 137/225\n",
      "113/113 [==============================] - 1s 9ms/step - loss: 0.0723 - val_loss: 0.0712\n",
      "Epoch 138/225\n",
      "113/113 [==============================] - 1s 9ms/step - loss: 0.0722 - val_loss: 0.0713\n",
      "Epoch 139/225\n",
      "113/113 [==============================] - 1s 8ms/step - loss: 0.0723 - val_loss: 0.0712\n",
      "Epoch 140/225\n",
      "113/113 [==============================] - 1s 9ms/step - loss: 0.0722 - val_loss: 0.0712\n",
      "Epoch 141/225\n",
      "113/113 [==============================] - 1s 8ms/step - loss: 0.0722 - val_loss: 0.0712\n",
      "Epoch 142/225\n",
      "113/113 [==============================] - 1s 9ms/step - loss: 0.0722 - val_loss: 0.0712\n",
      "Epoch 143/225\n",
      "113/113 [==============================] - 1s 9ms/step - loss: 0.0722 - val_loss: 0.0712\n",
      "Epoch 144/225\n",
      "113/113 [==============================] - 1s 8ms/step - loss: 0.0722 - val_loss: 0.0713\n",
      "Epoch 145/225\n",
      "113/113 [==============================] - 1s 8ms/step - loss: 0.0722 - val_loss: 0.0712\n",
      "Epoch 146/225\n",
      "113/113 [==============================] - 1s 9ms/step - loss: 0.0722 - val_loss: 0.0712\n",
      "Epoch 147/225\n",
      "113/113 [==============================] - 1s 9ms/step - loss: 0.0722 - val_loss: 0.0713\n",
      "Epoch 148/225\n",
      "113/113 [==============================] - 1s 8ms/step - loss: 0.0722 - val_loss: 0.0713\n",
      "Epoch 149/225\n",
      "113/113 [==============================] - 1s 9ms/step - loss: 0.0722 - val_loss: 0.0712\n",
      "Epoch 150/225\n",
      "113/113 [==============================] - 1s 8ms/step - loss: 0.0722 - val_loss: 0.0712\n",
      "Epoch 151/225\n",
      "113/113 [==============================] - 1s 9ms/step - loss: 0.0722 - val_loss: 0.0711\n",
      "Epoch 152/225\n",
      "113/113 [==============================] - 1s 8ms/step - loss: 0.0721 - val_loss: 0.0712\n",
      "Epoch 153/225\n",
      "113/113 [==============================] - 1s 7ms/step - loss: 0.0721 - val_loss: 0.0713\n",
      "Epoch 154/225\n",
      "113/113 [==============================] - 1s 8ms/step - loss: 0.0721 - val_loss: 0.0713\n",
      "Epoch 155/225\n",
      "113/113 [==============================] - 1s 8ms/step - loss: 0.0721 - val_loss: 0.0711\n",
      "Epoch 156/225\n",
      "113/113 [==============================] - 1s 8ms/step - loss: 0.0722 - val_loss: 0.0712\n",
      "Epoch 157/225\n",
      "113/113 [==============================] - 1s 9ms/step - loss: 0.0721 - val_loss: 0.0713\n",
      "Epoch 158/225\n",
      "113/113 [==============================] - 1s 9ms/step - loss: 0.0721 - val_loss: 0.0712\n",
      "Epoch 159/225\n",
      "113/113 [==============================] - 1s 9ms/step - loss: 0.0721 - val_loss: 0.0713\n",
      "Epoch 160/225\n",
      "113/113 [==============================] - 1s 9ms/step - loss: 0.0721 - val_loss: 0.0712\n",
      "Epoch 161/225\n",
      "113/113 [==============================] - 1s 9ms/step - loss: 0.0721 - val_loss: 0.0713\n",
      "Epoch 162/225\n",
      "113/113 [==============================] - 1s 8ms/step - loss: 0.0721 - val_loss: 0.0713\n",
      "Epoch 163/225\n",
      "113/113 [==============================] - 1s 9ms/step - loss: 0.0720 - val_loss: 0.0713\n",
      "Epoch 164/225\n",
      "113/113 [==============================] - 1s 9ms/step - loss: 0.0721 - val_loss: 0.0712\n",
      "Epoch 165/225\n",
      "113/113 [==============================] - 1s 9ms/step - loss: 0.0721 - val_loss: 0.0711\n",
      "Epoch 166/225\n",
      "113/113 [==============================] - 1s 8ms/step - loss: 0.0721 - val_loss: 0.0712\n",
      "Epoch 167/225\n",
      "113/113 [==============================] - 1s 8ms/step - loss: 0.0720 - val_loss: 0.0711\n",
      "Epoch 168/225\n",
      "113/113 [==============================] - 1s 8ms/step - loss: 0.0720 - val_loss: 0.0713\n",
      "Epoch 169/225\n",
      "113/113 [==============================] - 1s 8ms/step - loss: 0.0721 - val_loss: 0.0711\n",
      "Epoch 170/225\n",
      "113/113 [==============================] - 1s 9ms/step - loss: 0.0721 - val_loss: 0.0712\n",
      "Epoch 171/225\n",
      "113/113 [==============================] - 1s 9ms/step - loss: 0.0720 - val_loss: 0.0712\n",
      "Epoch 172/225\n",
      "113/113 [==============================] - 1s 8ms/step - loss: 0.0720 - val_loss: 0.0711\n",
      "Epoch 173/225\n",
      "113/113 [==============================] - 1s 8ms/step - loss: 0.0720 - val_loss: 0.0711\n",
      "Epoch 174/225\n",
      "113/113 [==============================] - 1s 8ms/step - loss: 0.0721 - val_loss: 0.0712\n",
      "Epoch 175/225\n",
      "113/113 [==============================] - 1s 9ms/step - loss: 0.0720 - val_loss: 0.0713\n",
      "Epoch 176/225\n",
      "113/113 [==============================] - 1s 8ms/step - loss: 0.0720 - val_loss: 0.0712\n",
      "Epoch 177/225\n",
      "113/113 [==============================] - 1s 8ms/step - loss: 0.0720 - val_loss: 0.0713\n",
      "Epoch 178/225\n",
      "113/113 [==============================] - 1s 9ms/step - loss: 0.0721 - val_loss: 0.0711\n",
      "Epoch 179/225\n",
      "113/113 [==============================] - 1s 8ms/step - loss: 0.0719 - val_loss: 0.0711\n",
      "Epoch 180/225\n",
      "113/113 [==============================] - 1s 8ms/step - loss: 0.0720 - val_loss: 0.0712\n",
      "Epoch 181/225\n",
      "113/113 [==============================] - 1s 8ms/step - loss: 0.0720 - val_loss: 0.0712\n",
      "Epoch 182/225\n",
      "113/113 [==============================] - 1s 8ms/step - loss: 0.0720 - val_loss: 0.0713\n",
      "Epoch 183/225\n",
      "113/113 [==============================] - 1s 8ms/step - loss: 0.0720 - val_loss: 0.0712\n",
      "Epoch 184/225\n",
      "113/113 [==============================] - 1s 8ms/step - loss: 0.0720 - val_loss: 0.0712\n",
      "Epoch 185/225\n",
      "113/113 [==============================] - 1s 8ms/step - loss: 0.0720 - val_loss: 0.0712\n",
      "Epoch 186/225\n",
      "113/113 [==============================] - 1s 8ms/step - loss: 0.0720 - val_loss: 0.0713\n",
      "Epoch 187/225\n",
      "113/113 [==============================] - 1s 8ms/step - loss: 0.0720 - val_loss: 0.0712\n",
      "Epoch 188/225\n",
      "113/113 [==============================] - 1s 8ms/step - loss: 0.0720 - val_loss: 0.0713\n",
      "Epoch 189/225\n",
      "113/113 [==============================] - 1s 8ms/step - loss: 0.0720 - val_loss: 0.0712\n",
      "Epoch 190/225\n",
      "113/113 [==============================] - 1s 8ms/step - loss: 0.0719 - val_loss: 0.0712\n",
      "Epoch 191/225\n",
      "113/113 [==============================] - 1s 7ms/step - loss: 0.0720 - val_loss: 0.0713\n",
      "Epoch 192/225\n",
      "113/113 [==============================] - 1s 8ms/step - loss: 0.0719 - val_loss: 0.0713\n",
      "Epoch 193/225\n",
      "113/113 [==============================] - 1s 8ms/step - loss: 0.0719 - val_loss: 0.0713\n",
      "Epoch 194/225\n",
      "113/113 [==============================] - 1s 7ms/step - loss: 0.0720 - val_loss: 0.0711\n",
      "Epoch 195/225\n",
      "113/113 [==============================] - 1s 8ms/step - loss: 0.0720 - val_loss: 0.0711\n",
      "Epoch 196/225\n",
      "113/113 [==============================] - 1s 8ms/step - loss: 0.0720 - val_loss: 0.0713\n",
      "Epoch 197/225\n",
      "113/113 [==============================] - 1s 7ms/step - loss: 0.0719 - val_loss: 0.0713\n",
      "Epoch 198/225\n",
      "113/113 [==============================] - 1s 7ms/step - loss: 0.0719 - val_loss: 0.0712\n",
      "Epoch 199/225\n",
      "113/113 [==============================] - 1s 8ms/step - loss: 0.0720 - val_loss: 0.0712\n",
      "Epoch 200/225\n",
      "113/113 [==============================] - 1s 8ms/step - loss: 0.0719 - val_loss: 0.0713\n",
      "Epoch 201/225\n",
      "113/113 [==============================] - 1s 7ms/step - loss: 0.0719 - val_loss: 0.0713\n",
      "Epoch 202/225\n",
      "113/113 [==============================] - 1s 8ms/step - loss: 0.0719 - val_loss: 0.0713\n",
      "Epoch 203/225\n",
      "113/113 [==============================] - 1s 7ms/step - loss: 0.0719 - val_loss: 0.0712\n",
      "Epoch 204/225\n",
      "113/113 [==============================] - 1s 8ms/step - loss: 0.0719 - val_loss: 0.0713\n",
      "Epoch 205/225\n",
      "113/113 [==============================] - 1s 8ms/step - loss: 0.0719 - val_loss: 0.0713\n",
      "Epoch 206/225\n",
      "113/113 [==============================] - 1s 8ms/step - loss: 0.0719 - val_loss: 0.0713\n",
      "Epoch 207/225\n",
      "113/113 [==============================] - 1s 8ms/step - loss: 0.0719 - val_loss: 0.0712\n",
      "Epoch 208/225\n",
      "113/113 [==============================] - 1s 7ms/step - loss: 0.0719 - val_loss: 0.0713\n",
      "Epoch 209/225\n",
      "113/113 [==============================] - 1s 8ms/step - loss: 0.0719 - val_loss: 0.0714\n",
      "Epoch 210/225\n",
      "113/113 [==============================] - 1s 8ms/step - loss: 0.0719 - val_loss: 0.0714\n",
      "Epoch 211/225\n",
      "113/113 [==============================] - 1s 8ms/step - loss: 0.0718 - val_loss: 0.0712\n",
      "Epoch 212/225\n",
      "113/113 [==============================] - 1s 9ms/step - loss: 0.0718 - val_loss: 0.0712\n",
      "Epoch 213/225\n",
      "113/113 [==============================] - 1s 8ms/step - loss: 0.0718 - val_loss: 0.0713\n",
      "Epoch 214/225\n",
      "113/113 [==============================] - 1s 8ms/step - loss: 0.0719 - val_loss: 0.0712\n",
      "Epoch 215/225\n",
      "113/113 [==============================] - 1s 8ms/step - loss: 0.0718 - val_loss: 0.0712\n",
      "Epoch 216/225\n",
      "113/113 [==============================] - 1s 8ms/step - loss: 0.0718 - val_loss: 0.0713\n",
      "Epoch 217/225\n",
      "113/113 [==============================] - 1s 8ms/step - loss: 0.0718 - val_loss: 0.0713\n",
      "Epoch 218/225\n",
      "113/113 [==============================] - 1s 8ms/step - loss: 0.0718 - val_loss: 0.0713\n",
      "Epoch 219/225\n",
      "113/113 [==============================] - 1s 7ms/step - loss: 0.0717 - val_loss: 0.0713\n",
      "Epoch 220/225\n",
      "113/113 [==============================] - 1s 7ms/step - loss: 0.0718 - val_loss: 0.0712\n",
      "Epoch 221/225\n",
      "113/113 [==============================] - 1s 8ms/step - loss: 0.0718 - val_loss: 0.0712\n",
      "Epoch 222/225\n",
      "113/113 [==============================] - 1s 7ms/step - loss: 0.0718 - val_loss: 0.0715\n",
      "Epoch 223/225\n",
      "113/113 [==============================] - 1s 8ms/step - loss: 0.0718 - val_loss: 0.0713\n",
      "Epoch 224/225\n",
      "113/113 [==============================] - 1s 8ms/step - loss: 0.0718 - val_loss: 0.0713\n",
      "Epoch 225/225\n",
      "113/113 [==============================] - 1s 8ms/step - loss: 0.0718 - val_loss: 0.0714\n"
     ]
    }
   ],
   "source": [
    "from tensorflow import keras\n",
    "from tensorflow.keras import layers\n",
    "from tensorflow.keras import initializers\n",
    "\n",
    "import os\n",
    "\n",
    "\n",
    "os.environ['KMP_DUPLICATE_LIB_OK']='True'\n",
    "\n",
    "model = keras.models.Sequential()\n",
    "model.add(layers.Dense(100, activation='relu',\n",
    "                      input_shape=(len(feature_names),),\n",
    "                      kernel_initializer=initializers.he_normal(seed=0)))\n",
    "model.add(layers.Dense(100, activation='relu',\n",
    "                      kernel_initializer=initializers.he_normal(seed=0)))\n",
    "model.add(layers.Dropout(0.7))\n",
    "model.add(layers.Dense(1, activation='sigmoid'))\n",
    "\n",
    "\n",
    "model.summary()\n",
    "\n",
    "model.compile(loss='mean_squared_error',\n",
    "              optimizer=\"adam\",)\n",
    "\n",
    "print('start fitting')\n",
    "history = model.fit(dataset_train[feature_names], dataset_train[predi_target],\n",
    "                    batch_size=1000,         #1000  #每一个batch的大小\n",
    "                    epochs=225, #225          #迭代次数\n",
    "                    verbose=1,\n",
    "                    validation_split=0.1,\n",
    "                    #validation_data =        #(测试集的输入特征，测试集的标签），\n",
    "                    #validation_split =       # 从测试集中划分多少比例给训练集，\n",
    "                    #validation_freq = 20        #测试的epoch间隔数                     \n",
    "                   )"
   ]
  },
  {
   "cell_type": "markdown",
   "metadata": {},
   "source": [
    "##### 結果"
   ]
  },
  {
   "cell_type": "code",
   "execution_count": 36,
   "metadata": {},
   "outputs": [
    {
     "data": {
      "text/plain": [
       "[<matplotlib.lines.Line2D at 0x27d93e180a0>]"
      ]
     },
     "execution_count": 36,
     "metadata": {},
     "output_type": "execute_result"
    },
    {
     "data": {
      "image/png": "[encoded data removed]",
      "text/plain": [
       "<Figure size 640x480 with 1 Axes>"
      ]
     },
     "metadata": {},
     "output_type": "display_data"
    }
   ],
   "source": [
    "import matplotlib.pyplot as plt\n",
    "%matplotlib inline\n",
    "plt.plot(history.history['val_loss'][1:])\n",
    "plt.plot(history.history['loss'][1:])"
   ]
  },
  {
   "cell_type": "markdown",
   "metadata": {},
   "source": [
    "#### lightgbm Model"
   ]
  },
  {
   "cell_type": "code",
   "execution_count": 37,
   "metadata": {
    "scrolled": true
   },
   "outputs": [
    {
     "name": "stdout",
     "output_type": "stream",
     "text": [
      "---cf.fit---\n",
      "LGBMRegressor(n_estimators=5000)\n",
      "---cf.score---\n",
      "-0.09778870622812796\n",
      "---predict---\n",
      "[0.71332364 0.31518508 0.48044066 ... 0.58647324 0.31259949 0.44795674]\n"
     ]
    }
   ],
   "source": [
    "##############################################　　　自己加入的　　　##############################################\n",
    "import lightgbm as lgb\n",
    "\n",
    "cf = lgb.LGBMRegressor(n_estimators=5000)\n",
    "\n",
    "print('---cf.fit---')\n",
    "print(cf.fit(*train))\n",
    "print('---cf.score---')\n",
    "print(cf.score(*test))\n",
    "print('---predict---')\n",
    "print(cf.predict(test[0]))"
   ]
  },
  {
   "cell_type": "markdown",
   "metadata": {},
   "source": [
    "##### 參數優化_1110"
   ]
  },
  {
   "cell_type": "code",
   "execution_count": 38,
   "metadata": {
    "scrolled": true
   },
   "outputs": [],
   "source": [
    "#import lightgbm\n",
    "\n",
    "fit_params={\"early_stopping_rounds\":30, \n",
    "            \"eval_metric\" : 'auc', \n",
    "            \"eval_set\" : [test],\n",
    "            'eval_names': ['valid'],\n",
    "            'verbose': 100,\n",
    "            'categorical_feature': 'auto'}\n",
    "\n",
    "from scipy.stats import randint as sp_randint\n",
    "from scipy.stats import uniform as sp_uniform\n",
    "\n",
    "param_test ={'num_leaves': sp_randint(6, 50), \n",
    "             'min_child_samples': sp_randint(100, 500), \n",
    "             'min_child_weight': [1e-5, 1e-3, 1e-2, 1e-1, 1, 1e1, 1e2, 1e3, 1e4],\n",
    "             'subsample': sp_uniform(loc=0.2, scale=0.8), \n",
    "             'colsample_bytree': sp_uniform(loc=0.4, scale=0.6),\n",
    "             'reg_alpha': [0, 1e-1, 1, 2, 5, 7, 10, 50, 100],\n",
    "             'reg_lambda': [0, 1e-1, 1, 5, 10, 20, 50, 100]}\n",
    "\n",
    "#This parameter defines the number of HP points to be tested\n",
    "n_HP_points_to_test = 100\n",
    "\n",
    "import lightgbm as lgb\n",
    "from sklearn.model_selection import RandomizedSearchCV, GridSearchCV\n",
    "\n",
    "#n_estimators is set to a \"large value\". The actual number of trees build will depend on early stopping and 5000 define only the absolute maximum\n",
    "clf = lgb.LGBMClassifier(max_depth=-1, random_state=314, silent=True, metric='None', n_jobs=4, n_estimators=5000)\n",
    "gs = RandomizedSearchCV(\n",
    "    estimator=clf, param_distributions=param_test, \n",
    "    n_iter=n_HP_points_to_test,\n",
    "    scoring='roc_auc',\n",
    "    cv=3,\n",
    "    refit=True,\n",
    "    random_state=314,\n",
    "    verbose=True)"
   ]
  },
  {
   "cell_type": "code",
   "execution_count": 39,
   "metadata": {
    "scrolled": true,
    "tags": []
   },
   "outputs": [
    {
     "name": "stdout",
     "output_type": "stream",
     "text": [
      "Fitting 3 folds for each of 100 candidates, totalling 300 fits\n",
      "[100]\tvalid's auc: 0.538311\n",
      "[100]\tvalid's auc: 0.536774\n",
      "[100]\tvalid's auc: 0.528216\n",
      "[100]\tvalid's auc: 0.530513\n",
      "[100]\tvalid's auc: 0.524825\n",
      "[100]\tvalid's auc: 0.530044\n",
      "[100]\tvalid's auc: 0.534299\n",
      "[200]\tvalid's auc: 0.539202\n",
      "[100]\tvalid's auc: 0.5262\n",
      "[100]\tvalid's auc: 0.533522\n",
      "[100]\tvalid's auc: 0.530362\n",
      "[100]\tvalid's auc: 0.529356\n",
      "[100]\tvalid's auc: 0.529182\n",
      "[100]\tvalid's auc: 0.539252\n",
      "[100]\tvalid's auc: 0.529654\n",
      "[200]\tvalid's auc: 0.538674\n",
      "[100]\tvalid's auc: 0.527615\n",
      "[100]\tvalid's auc: 0.536377\n",
      "[200]\tvalid's auc: 0.541129\n",
      "[100]\tvalid's auc: 0.529652\n",
      "[100]\tvalid's auc: 0.521528\n",
      "[100]\tvalid's auc: 0.524775\n",
      "[100]\tvalid's auc: 0.541227\n",
      "[100]\tvalid's auc: 0.533715\n",
      "[100]\tvalid's auc: 0.523194\n",
      "[100]\tvalid's auc: 0.52724\n",
      "[200]\tvalid's auc: 0.536196\n",
      "[100]\tvalid's auc: 0.522753\n",
      "[100]\tvalid's auc: 0.534841\n",
      "[100]\tvalid's auc: 0.529065\n",
      "[100]\tvalid's auc: 0.533495\n",
      "[100]\tvalid's auc: 0.530362\n",
      "[100]\tvalid's auc: 0.534787\n",
      "[100]\tvalid's auc: 0.488899\n",
      "[200]\tvalid's auc: 0.495741\n",
      "[100]\tvalid's auc: 0.534901\n",
      "[100]\tvalid's auc: 0.525545\n",
      "[100]\tvalid's auc: 0.535534\n",
      "[100]\tvalid's auc: 0.533234\n",
      "[100]\tvalid's auc: 0.53917\n",
      "[100]\tvalid's auc: 0.536884\n",
      "[100]\tvalid's auc: 0.531263\n",
      "[100]\tvalid's auc: 0.531101\n",
      "[100]\tvalid's auc: 0.531349\n",
      "[200]\tvalid's auc: 0.536316\n",
      "[100]\tvalid's auc: 0.526135\n",
      "[100]\tvalid's auc: 0.538297\n",
      "[100]\tvalid's auc: 0.526406\n",
      "[100]\tvalid's auc: 0.53634\n",
      "[100]\tvalid's auc: 0.537973\n",
      "[100]\tvalid's auc: 0.538451\n",
      "[100]\tvalid's auc: 0.530441\n",
      "[200]\tvalid's auc: 0.53255\n",
      "[100]\tvalid's auc: 0.535246\n",
      "[100]\tvalid's auc: 0.532761\n",
      "[100]\tvalid's auc: 0.528607\n",
      "[100]\tvalid's auc: 0.527608\n",
      "[100]\tvalid's auc: 0.533928\n",
      "[100]\tvalid's auc: 0.535131\n",
      "[100]\tvalid's auc: 0.527233\n",
      "[100]\tvalid's auc: 0.527642\n",
      "[200]\tvalid's auc: 0.53432\n",
      "[100]\tvalid's auc: 0.538227\n",
      "[100]\tvalid's auc: 0.531509\n",
      "[100]\tvalid's auc: 0.535576\n",
      "[100]\tvalid's auc: 0.525194\n",
      "[100]\tvalid's auc: 0.522746\n",
      "[100]\tvalid's auc: 0.537513\n",
      "[100]\tvalid's auc: 0.530643\n",
      "[200]\tvalid's auc: 0.540461\n",
      "[100]\tvalid's auc: 0.534885\n",
      "[100]\tvalid's auc: 0.528079\n",
      "[100]\tvalid's auc: 0.521003\n",
      "[100]\tvalid's auc: 0.519496\n",
      "[200]\tvalid's auc: 0.530576\n",
      "[100]\tvalid's auc: 0.536446\n",
      "[100]\tvalid's auc: 0.53626\n",
      "[100]\tvalid's auc: 0.533208\n",
      "[100]\tvalid's auc: 0.527355\n",
      "[200]\tvalid's auc: 0.53258\n",
      "[100]\tvalid's auc: 0.53482\n",
      "[100]\tvalid's auc: 0.535168\n",
      "[100]\tvalid's auc: 0.53123\n",
      "[100]\tvalid's auc: 0.539743\n",
      "[100]\tvalid's auc: 0.535505\n",
      "[100]\tvalid's auc: 0.532305\n",
      "[100]\tvalid's auc: 0.533018\n",
      "[100]\tvalid's auc: 0.531452\n",
      "[100]\tvalid's auc: 0.531513\n",
      "[100]\tvalid's auc: 0.52761\n",
      "[100]\tvalid's auc: 0.528871\n",
      "[100]\tvalid's auc: 0.531436\n",
      "[100]\tvalid's auc: 0.535237\n",
      "[100]\tvalid's auc: 0.527502\n",
      "[100]\tvalid's auc: 0.527743\n",
      "[100]\tvalid's auc: 0.518278\n",
      "[100]\tvalid's auc: 0.526535\n",
      "[100]\tvalid's auc: 0.533025\n",
      "[100]\tvalid's auc: 0.529857\n"
     ]
    },
    {
     "data": {
      "text/plain": [
       "RandomizedSearchCV(cv=3,\n",
       "                   estimator=LGBMClassifier(metric='None', n_estimators=5000,\n",
       "                                            n_jobs=4, random_state=314,\n",
       "                                            silent=True),\n",
       "                   n_iter=100,\n",
       "                   param_distributions={'colsample_bytree': <scipy.stats._distn_infrastructure.rv_continuous_frozen object at 0x0000027D9488FB20>,\n",
       "                                        'min_child_samples': <scipy.stats._distn_infrastructure.rv_discrete_frozen object at 0x0000027D9488F...\n",
       "                                        'min_child_weight': [1e-05, 0.001, 0.01,\n",
       "                                                             0.1, 1, 10.0,\n",
       "                                                             100.0, 1000.0,\n",
       "                                                             10000.0],\n",
       "                                        'num_leaves': <scipy.stats._distn_infrastructure.rv_discrete_frozen object at 0x0000027D93FDB5B0>,\n",
       "                                        'reg_alpha': [0, 0.1, 1, 2, 5, 7, 10,\n",
       "                                                      50, 100],\n",
       "                                        'reg_lambda': [0, 0.1, 1, 5, 10, 20, 50,\n",
       "                                                       100],\n",
       "                                        'subsample': <scipy.stats._distn_infrastructure.rv_continuous_frozen object at 0x0000027D9488FFA0>},\n",
       "                   random_state=314, scoring='roc_auc', verbose=True)"
      ]
     },
     "execution_count": 39,
     "metadata": {},
     "output_type": "execute_result"
    }
   ],
   "source": [
    "gs.fit(*train, **fit_params)"
   ]
  },
  {
   "cell_type": "code",
   "execution_count": 40,
   "metadata": {},
   "outputs": [
    {
     "data": {
      "text/plain": [
       "LGBMClassifier(colsample_bytree=0.9814699062881641, metric='None',\n",
       "               min_child_samples=409, min_child_weight=100.0, n_estimators=5000,\n",
       "               n_jobs=4, num_leaves=42, random_state=314, reg_alpha=50,\n",
       "               reg_lambda=50, silent=True, subsample=0.9731705626566958)"
      ]
     },
     "execution_count": 40,
     "metadata": {},
     "output_type": "execute_result"
    }
   ],
   "source": [
    "gs.best_estimator_"
   ]
  },
  {
   "cell_type": "code",
   "execution_count": 41,
   "metadata": {},
   "outputs": [],
   "source": [
    "#\n",
    "#gs.best_estimator_\n",
    "#LGBMClassifier(colsample_bytree=0.6433117836032942, metric='None',\n",
    "#               min_child_samples=224, min_child_weight=1e-05, n_estimators=5000,\n",
    "#               n_jobs=4, num_leaves=20, random_state=314, reg_alpha=10,\n",
    "#               reg_lambda=10, subsample=0.8945613420997809)"
   ]
  },
  {
   "cell_type": "code",
   "execution_count": 42,
   "metadata": {
    "scrolled": true
   },
   "outputs": [
    {
     "name": "stdout",
     "output_type": "stream",
     "text": [
      "[100]\tvalid's auc: 0.52836\n"
     ]
    },
    {
     "data": {
      "text/plain": [
       "-0.012342757982001018"
      ]
     },
     "execution_count": 42,
     "metadata": {},
     "output_type": "execute_result"
    }
   ],
   "source": [
    "cf = lgb.LGBMRegressor(colsample_bytree=0.9814699062881641, metric='None',\n",
    "               min_child_samples=409, min_child_weight=100.0, n_estimators=5000,\n",
    "               n_jobs=4, num_leaves=42, random_state=314, reg_alpha=50,\n",
    "               reg_lambda=50, silent=True, subsample=0.9731705626566958)\n",
    "\n",
    "cf.fit(dataset_train[feature_names],dataset_train['return'] > 1, **fit_params)\n",
    "cf.score(dataset_test[feature_names],dataset_test['return'] > 1)"
   ]
  },
  {
   "cell_type": "code",
   "execution_count": 43,
   "metadata": {},
   "outputs": [
    {
     "data": {
      "text/plain": [
       "array([51, 47, 29, 38, 52, 35, 55, 26, 47, 73, 13, 34, 68, 35, 48, 50, 32,\n",
       "       32, 35, 23, 40, 19, 10, 42,  7,  5, 30, 23, 13, 29, 37])"
      ]
     },
     "execution_count": 43,
     "metadata": {},
     "output_type": "execute_result"
    }
   ],
   "source": [
    "cf.feature_importances_"
   ]
  },
  {
   "cell_type": "code",
   "execution_count": 44,
   "metadata": {},
   "outputs": [
    {
     "data": {
      "text/plain": [
       "<AxesSubplot: xlabel='Value', ylabel='Feature'>"
      ]
     },
     "execution_count": 44,
     "metadata": {},
     "output_type": "execute_result"
    },
    {
     "data": {
      "image/png": "[encoded data removed]",
      "text/plain": [
       "<Figure size 640x480 with 1 Axes>"
      ]
     },
     "metadata": {},
     "output_type": "display_data"
    }
   ],
   "source": [
    "feature_imp = pd.DataFrame(zip(cf.feature_importances_, feature_names), \n",
    "                           columns=['Value','Feature']).sort_values('Value', ascending=False)\n",
    "feature_imp\n",
    "\n",
    "%matplotlib inline\n",
    "import seaborn as sns\n",
    "sns.barplot(x=\"Value\", y=\"Feature\", data=feature_imp)"
   ]
  },
  {
   "cell_type": "raw",
   "metadata": {},
   "source": [
    "Training until validation scores don't improve for 30 rounds.\n",
    "[100]\tvalid's auc: 0.551389\n",
    "Early stopping, best iteration is:\n",
    "[89]\tvalid's auc: 0.553699\n",
    "0.003857956228475623"
   ]
  },
  {
   "cell_type": "code",
   "execution_count": 45,
   "metadata": {},
   "outputs": [],
   "source": [
    "#print(cf.fit(*train))"
   ]
  },
  {
   "cell_type": "code",
   "execution_count": 46,
   "metadata": {},
   "outputs": [],
   "source": [
    "#import lightgbm as lgb\n",
    "#gbm = lgb.LGBMClassifier(n_estimators=100, random_state=5, learning_rate=0.01)\n",
    "#gbm.fit(dataset_train[feature_names], dataset_train['return'] > 1)"
   ]
  },
  {
   "cell_type": "code",
   "execution_count": 47,
   "metadata": {},
   "outputs": [],
   "source": [
    "#import tqdm\n",
    "#\n",
    "#n = 3\n",
    "#\n",
    "#X = []\n",
    "#y = []\n",
    "#indexes = []\n",
    "#dataset_scaled_x = dataset_scaled[feature_names]\n",
    "#\n",
    "#for i in tqdm.tqdm_notebook(range(0, len(dataset_scaled)-n)):\n",
    "#    X.append(dataset_scaled_x.iloc[i:i+n].values)\n",
    "#    y.append(dataset_scaled['return'].iloc[i+n-1])\n",
    "#    indexes.append(dataset_scaled.index[i+n-1])\n",
    "##dataset_scaled.head()"
   ]
  },
  {
   "cell_type": "code",
   "execution_count": 48,
   "metadata": {},
   "outputs": [],
   "source": [
    "#import numpy as np\n",
    "#X = np.array(X)\n",
    "#y = np.array(y)"
   ]
  },
  {
   "cell_type": "code",
   "execution_count": null,
   "metadata": {},
   "outputs": [],
   "source": []
  },
  {
   "cell_type": "code",
   "execution_count": 49,
   "metadata": {},
   "outputs": [],
   "source": [
    "##import lightgbm as lgb\n",
    "#cf = lgb.LGBMRegressor(colsample_bytree=0.7740467183023685, metric='None',\n",
    "#               min_child_samples=395, min_child_weight=0.01, n_estimators=5000,\n",
    "#               n_jobs=4, num_leaves=9, random_state=314, reg_alpha=5,\n",
    "#               reg_lambda=10, subsample=0.4643892520208455)\n",
    "#    \n",
    "#cf.fit(dataset_train[feature_names].astype(float), dataset_train['rank'])"
   ]
  },
  {
   "cell_type": "markdown",
   "metadata": {},
   "source": [
    "#### Random Forest Model"
   ]
  },
  {
   "cell_type": "code",
   "execution_count": 50,
   "metadata": {},
   "outputs": [
    {
     "data": {
      "text/plain": [
       "RandomForestRegressor()"
      ]
     },
     "execution_count": 50,
     "metadata": {},
     "output_type": "execute_result"
    }
   ],
   "source": [
    "from sklearn.ensemble import RandomForestRegressor\n",
    "\n",
    "cf2 = RandomForestRegressor(n_estimators=100)\n",
    "cf2.fit(dataset_train[feature_names].astype(float), dataset_train[predi_target])  "
   ]
  },
  {
   "cell_type": "markdown",
   "metadata": {},
   "source": [
    "##### 參數優化_1110"
   ]
  },
  {
   "cell_type": "code",
   "execution_count": 51,
   "metadata": {},
   "outputs": [],
   "source": [
    "#from scipy.stats import randint as sp_randint \n",
    "#from sklearn.model_selection import RandomizedSearchCV \n",
    "## build a classifier \n",
    "#clf = RandomForestRegressor(n_estimators=100) \n",
    "## specify parameters and distributions to sample from \n",
    "#param_dist = {\"max_depth\": [3, None], \n",
    "#              \"max_features\": sp_randint(1, 11), \n",
    "#              \"min_samples_split\": sp_randint(2, 11), \n",
    "#              \"min_samples_leaf\": sp_randint(1, 11), \n",
    "#              \"bootstrap\": [True, False], \n",
    "#              \"criterion\": [\"mse\", \"mae\"]} \n",
    "## run randomized search \n",
    "#n_iter_search = 20 \n",
    "#rs = RandomizedSearchCV(clf, param_distributions=param_dist, \n",
    "#                                   n_iter=n_iter_search) "
   ]
  },
  {
   "cell_type": "code",
   "execution_count": 52,
   "metadata": {},
   "outputs": [],
   "source": [
    "#rs.fit(dataset_train[features], dataset_train['return'] > 1)"
   ]
  },
  {
   "cell_type": "markdown",
   "metadata": {},
   "source": [
    "##### Split Train Test dataset"
   ]
  },
  {
   "cell_type": "code",
   "execution_count": 53,
   "metadata": {},
   "outputs": [
    {
     "data": {
      "text/plain": [
       "<AxesSubplot: xlabel='Value', ylabel='Feature'>"
      ]
     },
     "execution_count": 53,
     "metadata": {},
     "output_type": "execute_result"
    },
    {
     "data": {
      "image/png": "[encoded data removed]",
      "text/plain": [
       "<Figure size 640x480 with 1 Axes>"
      ]
     },
     "metadata": {},
     "output_type": "display_data"
    }
   ],
   "source": [
    "feature_imp = pd.DataFrame(zip(cf2.feature_importances_, feature_names), \n",
    "                           columns=['Value','Feature']).sort_values('Value', ascending=False)\n",
    "feature_imp\n",
    "\n",
    "%matplotlib inline\n",
    "import seaborn as sns\n",
    "sns.barplot(x=\"Value\", y=\"Feature\", data=feature_imp)"
   ]
  },
  {
   "cell_type": "code",
   "execution_count": 54,
   "metadata": {},
   "outputs": [],
   "source": [
    "select = dataset.index.get_level_values('date') < '2021-12'\n",
    "dataset_train = dataset[select]\n",
    "dataset_test = dataset[~select]"
   ]
  },
  {
   "cell_type": "markdown",
   "metadata": {},
   "source": [
    "### Ensemble learning"
   ]
  },
  {
   "cell_type": "code",
   "execution_count": 55,
   "metadata": {},
   "outputs": [
    {
     "name": "stdout",
     "output_type": "stream",
     "text": [
      "5022/5022 [==============================] - 5s 984us/step\n"
     ]
    }
   ],
   "source": [
    "dataset_drop = dataset.dropna(subset=feature_names+['return'])\n",
    "\n",
    "vals = model.predict(dataset_drop[feature_names].astype(float))\n",
    "dataset_drop['result1'] = pd.Series(vals.swapaxes(0,1)[0], dataset_drop.index)\n",
    "\n",
    "vals = cf.predict(dataset_drop[feature_names].astype(float))\n",
    "dataset_drop['result2'] = pd.Series(vals, dataset_drop.index)\n",
    "\n",
    "vals = cf2.predict(dataset_drop[feature_names].astype(float))\n",
    "dataset_drop['result3'] = pd.Series(vals, dataset_drop.index)\n",
    "\n",
    "dataset_drop = dataset_drop.reset_index().set_index(\"date\")"
   ]
  },
  {
   "cell_type": "markdown",
   "metadata": {},
   "source": [
    "## backtest"
   ]
  },
  {
   "cell_type": "markdown",
   "metadata": {},
   "source": [
    "## 把量加進來做篩選\n",
    " * https://hahow.in/courses/5b9d3a6dca498a001e917383/shapeussions/60c96f5b018697e8a6131cbc"
   ]
  },
  {
   "cell_type": "code",
   "execution_count": 56,
   "metadata": {},
   "outputs": [],
   "source": [
    "#把量加進來\n",
    "vol=data.get('成交股數')/1000\n",
    "vol_ma5=vol.rolling(5).mean()\n",
    "\n",
    "vol_filter=vol_ma5>1000\n",
    "vol_filter=vol_filter[vol_filter].fillna(0)\n",
    "#vol_filter\n",
    "t1 = vol_filter"
   ]
  },
  {
   "cell_type": "code",
   "execution_count": 57,
   "metadata": {},
   "outputs": [],
   "source": [
    "#t1"
   ]
  },
  {
   "cell_type": "code",
   "execution_count": 58,
   "metadata": {},
   "outputs": [],
   "source": [
    "vol_filter = t1.reindex(every_month, method='ffill')#.loc['2010-02-15']\n",
    "#vol_filter.loc['2010-02-15']"
   ]
  },
  {
   "cell_type": "code",
   "execution_count": 59,
   "metadata": {
    "scrolled": true
   },
   "outputs": [],
   "source": [
    "#t1 = vol_ma5.iloc[-1].dropna()\n",
    "#t1.to_csv('./tmp/132.csv')\n",
    "#t1.hist(bins=10)"
   ]
  },
  {
   "cell_type": "code",
   "execution_count": 60,
   "metadata": {},
   "outputs": [],
   "source": [
    "vol = 100"
   ]
  },
  {
   "cell_type": "code",
   "execution_count": 68,
   "metadata": {},
   "outputs": [
    {
     "data": {
      "text/plain": [
       "<AxesSubplot: xlabel='date'>"
      ]
     },
     "execution_count": 68,
     "metadata": {},
     "output_type": "execute_result"
    },
    {
     "data": {
      "image/png": "[encoded data removed]",
      "text/plain": [
       "<Figure size 640x480 with 1 Axes>"
      ]
     },
     "metadata": {},
     "output_type": "display_data"
    }
   ],
   "source": [
    "import math\n",
    "\n",
    "\n",
    "dates = sorted(list(set(dataset_drop.index)))\n",
    "\n",
    "rs = []\n",
    "for d in dates:\n",
    "    #print(d)\n",
    "    dataset_time = dataset_drop.loc[d]\n",
    "    \n",
    "    dataset_time = drop_extreme_case(dataset_time , feature_names , thresh=0.01)\n",
    "    \n",
    "    #print(dataset_time)\n",
    "    \n",
    "    predi_target = dataset_time['result1'] + dataset_time['result2'] + dataset_time['result3'] \n",
    "            ###\n",
    "    predi_target = predi_target * (dataset_time['vol_ma5'] >vol).astype(float)\n",
    "            ###\n",
    "\n",
    "    condition = (predi_target >= predi_target.nlargest(20).iloc[-1]) \n",
    "    \n",
    "    #print(vol_filter.loc[d])\n",
    "    #print(condition)\n",
    "    \n",
    "    r = dataset_time['return'][condition].mean()\n",
    "\n",
    "    rs.append(r * (1-3/1000-1.425/1000*2*0.6))\n",
    "\n",
    "rs = pd.Series(rs, index=dates)['2022-01':].cumprod()\n",
    "\n",
    "s0050 = close['0050']['2022-01':]\n",
    "\n",
    "pd.DataFrame({'nn strategy return':rs.reindex(s0050.index, method='ffill'), '0050 return':s0050/s0050[0]}).plot()\n",
    "\n"
   ]
  },
  {
   "cell_type": "code",
   "execution_count": 62,
   "metadata": {},
   "outputs": [],
   "source": [
    "#import pickle\n",
    "#\n",
    "#return_history_1026 = pd.Series(rs, index=dates)['2021':].cumprod()\n",
    "##eq = (gain[hold == 1].mean(axis=1)).fillna(1).cumprod()\n",
    "#\n",
    "#pickle.dump(rs, open('return_history_1026.pkl', 'wb'))"
   ]
  },
  {
   "cell_type": "code",
   "execution_count": 63,
   "metadata": {},
   "outputs": [],
   "source": [
    "#import pyfolio as pf\n",
    "#import pandas as pd\n",
    "#\n",
    "#close.index = close.index.tz_localize(\"Asia/Taipei\")\n",
    "##pf.create_returns_tear_sheet(close['0050'].pct_change())\n",
    "#\n",
    "## 得到 上一個單元的 回測結果\n",
    "#ret = pickle.load(open(\"return_history_1026.pkl\", \"rb\"))\n",
    "#\n",
    "## 將回測報酬率取出來\n",
    "#ret = ret.pct_change().dropna()\n",
    "#ret.index = pd.to_datetime(ret.index).tz_localize('Asia/Taipei')\n",
    "#\n",
    "## 利用pyfolio 比較報酬率\n",
    "#pf.create_returns_tear_sheet(ret, benchmark_rets=close['0050'].pct_change())"
   ]
  },
  {
   "cell_type": "markdown",
   "metadata": {},
   "source": [
    "### 當月持股狀況"
   ]
  },
  {
   "cell_type": "code",
   "execution_count": 64,
   "metadata": {},
   "outputs": [
    {
     "name": "stdout",
     "output_type": "stream",
     "text": [
      "34/34 [==============================] - 0s 1ms/step\n"
     ]
    },
    {
     "data": {
      "image/png": "[encoded data removed]",
      "text/plain": [
       "<Figure size 640x480 with 1 Axes>"
      ]
     },
     "metadata": {},
     "output_type": "display_data"
    }
   ],
   "source": [
    "# get the latest dataset\n",
    "last_date = dataset.index.levels[1].max()#\"2022-10-15\"\n",
    "is_last_date = dataset.index.get_level_values('date') == last_date\n",
    "last_dataset = dataset[is_last_date].copy()\n",
    "\n",
    "\n",
    "last_dataset = drop_extreme_case(last_dataset, feature_names , thresh=0.01)\n",
    "t1 = last_dataset\n",
    "\n",
    "# remove NaN testcases\n",
    "last_dataset = last_dataset.dropna(subset=feature_names)\n",
    "\n",
    "# predict\n",
    "\n",
    "vals = model.predict(last_dataset[feature_names].astype(float))\n",
    "last_dataset['result1'] = pd.Series(vals.swapaxes(0,1)[0], last_dataset.index)\n",
    "\n",
    "vals = cf.predict(last_dataset[feature_names].astype(float))\n",
    "last_dataset['result2'] = pd.Series(vals, last_dataset.index)\n",
    "\n",
    "vals = cf2.predict(last_dataset[feature_names].astype(float))\n",
    "last_dataset['result3'] = pd.Series(vals, last_dataset.index)\n",
    "\n",
    "\n",
    "# calculate score\n",
    "\n",
    "predi_target = last_dataset['result1'] + last_dataset['result2'] + last_dataset['result3']\n",
    "\n",
    "#\n",
    "##predi_target = predi_target * vol_filter.iloc[-1] #******加上量的濾網\n",
    "predi_target = predi_target * (last_dataset['vol_ma5'] >vol).astype(float)\n",
    "\n",
    "\n",
    "\n",
    "condition = (predi_target >= predi_target.nlargest(20).iloc[-1])\n",
    "#vol_filter\n",
    "\n",
    "# plot rank distribution\n",
    "predi_target[predi_target!=0].hist(bins=20)\n",
    "\n",
    "\n",
    "# show the best 20 stocks\n",
    "slist1 = predi_target[condition].reset_index()['stock_id']\n",
    "\n",
    "#https://keras-cn.readthedocs.io/en/latest/models/model/"
   ]
  },
  {
   "cell_type": "code",
   "execution_count": 65,
   "metadata": {},
   "outputs": [],
   "source": [
    "last_date = dataset.index.levels[1].max()#\"2022-10-15\"\n",
    "is_last_date = dataset.index.get_level_values('date') == last_date\n",
    "last_dataset = dataset[is_last_date].copy()"
   ]
  },
  {
   "cell_type": "code",
   "execution_count": 66,
   "metadata": {},
   "outputs": [],
   "source": [
    "#rank.sort_values(ascending=False).head(20)"
   ]
  },
  {
   "cell_type": "markdown",
   "metadata": {},
   "source": [
    "## 平均分配資產於股票之中"
   ]
  },
  {
   "cell_type": "code",
   "execution_count": 67,
   "metadata": {},
   "outputs": [
    {
     "name": "stdout",
     "output_type": "stream",
     "text": [
      "股票平分張數:\n"
     ]
    },
    {
     "data": {
      "text/plain": [
       "stock_id\n",
       "1104    0.130719\n",
       "1108    0.271493\n",
       "1336    0.125000\n",
       "2392    0.081411\n",
       "2471    0.106762\n",
       "2834    0.225564\n",
       "2845    0.260870\n",
       "2852    0.185185\n",
       "3052    0.287081\n",
       "3090    0.056604\n",
       "3711    0.029703\n",
       "4438    0.024590\n",
       "4552    0.098684\n",
       "5315    0.163488\n",
       "6024    0.078431\n",
       "6227    0.071514\n",
       "6670    0.013825\n",
       "8131    0.076046\n",
       "8271    0.071259\n",
       "8930    0.175953\n",
       "Name: 2023-01-13 00:00:00, dtype: float64"
      ]
     },
     "execution_count": 67,
     "metadata": {},
     "output_type": "execute_result"
    }
   ],
   "source": [
    "close = data.get(\"收盤價\")\n",
    "\n",
    "money = 60000\n",
    "stock_prices = close[slist1].iloc[-1]\n",
    "\n",
    "\n",
    "print(\"股票平分張數:\")\n",
    "money / len(stock_prices) / stock_prices / 1000\n"
   ]
  },
  {
   "cell_type": "markdown",
   "metadata": {},
   "source": [
    "---\n",
    "[移動窗格最佳化](https://hahow.in/courses/5b9d3a6dca498a001e917383/discussions/61b4c90147843d0006cf2593)\n",
    "***************"
   ]
  },
  {
   "cell_type": "markdown",
   "metadata": {},
   "source": [
    "## import lightgbm as lgb\n",
    "\n",
    "from sklearn.metrics import mean_squared_error\n",
    "\n",
    "import matplotlib.pyplot as plt\n",
    "\n",
    "import numpy as np\n",
    "\n",
    "%matplotlib inline\n",
    "\n",
    "def select(df):\n",
    "\n",
    "    rank = df['pre']\n",
    "\n",
    "    condition1 = (rank >= rank.nlargest(1).iloc[-1])\n",
    "\n",
    "    return df['return'][condition1].mean() * (1-3/1000-1.425/1000*2*0.6)\n",
    "\n",
    "end = 5\n",
    "\n",
    "cf = lgb.LGBMRegressor(n_estimators=500)\n",
    "\n",
    "\n",
    "\n",
    "train_time = ['2015','2016','2017','2018','2019']\n",
    "\n",
    "s_time = ['2007','2008','2009','2010','2011']\n",
    "\n",
    "test_time = ['2016','2017','2018','2019','2020']\n",
    "\n",
    "#dataset_copy = dataset_dropna.copy()\n",
    "\n",
    "store_mse = []\n",
    "\n",
    "\n",
    "for time in range(end):\n",
    "\n",
    "    print('%d 次執行中'%(time))\n",
    "\n",
    "    dataset_dropna2_train = dataset_copy.loc[s_time[time]:train_time[time]] #2007~ 2015   2008~2016   2009~2017  2010~2018  ....\n",
    "\n",
    "    dataset_dropna2_test = dataset_copy.loc[test_time[time]:test_time[time]]#            2016                2017               2018              2019  .....\n",
    "\n",
    "    \n",
    " cf.fit(dataset_dropna2_train[feature_names].astype(float), dataset_dropna2_train['rank'])\n",
    "\n",
    "    \n",
    " predict = cf.predict(dataset_dropna2_test[feature_names])\n",
    "\n",
    "    dataset_dropna2_test['pre'] = predict\n",
    "\n",
    "dates = dataset_dropna2_test.index.get_level_values('date')\n",
    "\n",
    "b = dataset_dropna2_test.groupby(dates).apply(select).cumprod()\n",
    "\n",
    "s0050 = close['0050'][test_time[time]:test_time[time]]\n",
    "\n",
    "s0056 = close['0056'][test_time[time]:test_time[time]]\n",
    "\n",
    "pd.DataFrame({'Best 1 stocks return(include handling fee)':b.reindex(s0050.index, method='ffill'), \n",
    "\n",
    "              '0050':s0050/s0050[0],'0056':s0056/s0056[0]}).plot()\n",
    "\n",
    "plt.ylabel('return')"
   ]
  },
  {
   "cell_type": "code",
   "execution_count": null,
   "metadata": {},
   "outputs": [],
   "source": []
  }
 ],
 "metadata": {
  "@deathbeds/ipydrawio": {
   "xml": "<mxfile host=\"17-0536659-02\" modified=\"2022-10-27T03:01:05.740Z\" agent=\"5.0 (Windows NT 10.0; Win64; x64) AppleWebKit/537.36 (KHTML, like Gecko) Chrome/106.0.0.0 Safari/537.36\" etag=\"8bODyUWCdQaexky56D9k\" version=\"20.2.8\" type=\"embed\"><diagram id=\"9nsO6hMlLNMTvIbReD-d\" name=\"第1頁\"><mxGraphModel dx=\"1458\" dy=\"721\" grid=\"1\" gridSize=\"10\" guides=\"1\" tooltips=\"1\" connect=\"1\" arrows=\"1\" fold=\"1\" page=\"1\" pageScale=\"1\" pageWidth=\"827\" pageHeight=\"1169\" math=\"0\" shadow=\"0\"><root><mxCell id=\"0\"/><mxCell id=\"1\" parent=\"0\"/><UserObject label=\"Tree Root\" treeRoot=\"1\" id=\"2\"><mxCell style=\"align=center;collapsible=0;container=1;recursiveResize=0;\" parent=\"1\" vertex=\"1\"><mxGeometry x=\"40\" y=\"40\" width=\"120\" height=\"60\" as=\"geometry\"/></mxCell></UserObject></root></mxGraphModel></diagram></mxfile>"
  },
  "kernelspec": {
   "display_name": "finlab_N",
   "language": "python",
   "name": "finlab_n"
  },
  "language_info": {
   "codemirror_mode": {
    "name": "ipython",
    "version": 3
   },
   "file_extension": ".py",
   "mimetype": "text/x-python",
   "name": "python",
   "nbconvert_exporter": "python",
   "pygments_lexer": "ipython3",
   "version": "3.10.8"
  },
  "toc-autonumbering": false,
  "toc-showcode": false,
  "toc-showmarkdowntxt": false,
  "toc-showtags": false
 },
 "nbformat": 4,
 "nbformat_minor": 4
}

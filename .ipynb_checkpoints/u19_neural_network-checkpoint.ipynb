{
 "cells": [
  {
   "cell_type": "markdown",
   "metadata": {},
   "source": [
    "# 神經網路實做"
   ]
  },
  {
   "cell_type": "markdown",
   "metadata": {},
   "source": [
    "## 拿取加權指數資料"
   ]
  },
  {
   "cell_type": "code",
   "execution_count": 177,
   "metadata": {
    "slideshow": {
     "slide_type": "-"
    }
   },
   "outputs": [
    {
     "data": {
      "text/plain": [
       "<AxesSubplot:xlabel='date'>"
      ]
     },
     "execution_count": 177,
     "metadata": {},
     "output_type": "execute_result"
    },
    {
     "data": {
      "image/png": "[encoded data removed]",
      "text/plain": [
       "<Figure size 432x288 with 1 Axes>"
      ]
     },
     "metadata": {
      "needs_background": "light"
     },
     "output_type": "display_data"
    }
   ],
   "source": [
    "from finlab.data import Data\n",
    "%matplotlib inline\n",
    "\n",
    "data = Data()\n",
    "twii = data.get(\"發行量加權股價指數\")\n",
    "twii = twii['台股指數']\n",
    "twii = twii[(twii.index.minute % 15 == 0)  & (twii.index.second == 0)]\n",
    "twii.plot()"
   ]
  },
  {
   "cell_type": "markdown",
   "metadata": {},
   "source": [
    "## 製作features"
   ]
  },
  {
   "cell_type": "code",
   "execution_count": 178,
   "metadata": {},
   "outputs": [],
   "source": [
    "import talib\n",
    "import numpy as np\n",
    "import pandas as pd\n",
    "\n",
    "sma = talib.SMA(twii, timeperiod=120)\n",
    "wma = talib.WMA(twii, timeperiod=120)\n",
    "mom = talib.MOM(twii, timeperiod=120)\n",
    "k, d = talib.STOCH  (twii, twii, twii, fastk_period=120, slowk_period=60, slowd_period=60)\n",
    "k2, d2 = talib.STOCH(twii, twii, twii, fastk_period=240, slowk_period=120, slowd_period=120)\n",
    "k3, d3 = talib.STOCH(twii, twii, twii, fastk_period=360, slowk_period=180, slowd_period=180)\n",
    "k4, d4 = talib.STOCH(twii, twii, twii, fastk_period=480, slowk_period=240, slowd_period=240)\n",
    "k5, d5 = talib.STOCH(twii, twii, twii, fastk_period=640, slowk_period=320, slowd_period=320)\n",
    "k6, d6 = talib.STOCH(twii, twii, twii, fastk_period=720, slowk_period=360, slowd_period=360)\n",
    "k7, d7 = talib.STOCH(twii, twii, twii, fastk_period=840, slowk_period=420, slowd_period=420)\n",
    "k8, d8 = talib.STOCH(twii, twii, twii, fastk_period=960, slowk_period=480, slowd_period=480)\n",
    "\n",
    "rsi = talib.RSI (twii, timeperiod=120)\n",
    "rsi2 = talib.RSI(twii, timeperiod=240)\n",
    "rsi3 = talib.RSI(twii, timeperiod=480)\n",
    "rsi4 = talib.RSI(twii, timeperiod=640)\n",
    "rsi5 = talib.RSI(twii, timeperiod=720)\n",
    "rsi6 = talib.RSI(twii, timeperiod=840)\n",
    "\n",
    "macd1, macd2, macd3 = talib.MACD(twii, fastperiod=120, slowperiod=60, signalperiod=60)\n",
    "willr = talib.WILLR(twii, twii, twii, timeperiod=120)\n",
    "cci = talib.CCI(twii, twii, twii, timeperiod=120)\n",
    "\n",
    "dataset = pd.DataFrame({\n",
    "    'RSIb': rsi / 50,\n",
    "    'RSIb2': rsi2 / 50,\n",
    "    'RSIb3': rsi3 / 50,\n",
    "    'RSIb4': rsi4 / 50,\n",
    "    'RSIb5': rsi5 / 50,\n",
    "    'RSIb6': rsi6 / 50,\n",
    "    'MOMb': mom - 0,\n",
    "    'KDb': k - d,\n",
    "    'KDb2': k2 - d2,\n",
    "    'KDb3': k3 - d3,\n",
    "    'KDb4': k4 - d4,\n",
    "    'KDb5': k5 - d5,\n",
    "    'KDb6': k6 - d6,\n",
    "    'KDb7': k7 - d7,\n",
    "    'KDb8': k8 - d8,\n",
    "    \n",
    "    'a5':   (twii.rolling(5).mean()   / twii),\n",
    "    'a10':  (twii.rolling(10).mean()  / twii),\n",
    "    'a20':  (twii.rolling(20).mean()  / twii),\n",
    "    'a40':  (twii.rolling(40).mean()  / twii),\n",
    "    'a80':  (twii.rolling(80).mean()  / twii),\n",
    "    'a160': (twii.rolling(160).mean() / twii),\n",
    "    'a320': (twii.rolling(320).mean() / twii),\n",
    "    'a640': (twii.rolling(640).mean() / twii),\n",
    "    'a720': (twii.rolling(720).mean() / twii),\n",
    "    'a840': (twii.rolling(840).mean() / twii),\n",
    "    'a960': (twii.rolling(960).mean() / twii),\n",
    "    'a1024':(twii.rolling(1024).mean() / twii),\n",
    "    'b1': twii/twii.shift(50),\n",
    "    'b2': twii/twii.shift(100),\n",
    "    'b3': twii/twii.shift(150),\n",
    "    'b4': twii/twii.shift(200),\n",
    "    'b5': twii/twii.shift(250),\n",
    "    'b6': twii/twii.shift(300),\n",
    "    'b7': twii/twii.shift(350),\n",
    "    'LINEARREG_SLOPE0': talib.LINEARREG_SLOPE(twii, 60),\n",
    "    'LINEARREG_SLOPE1': talib.LINEARREG_SLOPE(twii, 120),\n",
    "\n",
    "    'ADXR0': talib.ADXR(twii, twii, twii, 60),\n",
    "    'ADXR1': talib.ADXR(twii, twii, twii, 120),\n",
    "    'ADXR2': talib.ADXR(twii, twii, twii, 240),\n",
    "    'ADXR3': talib.ADXR(twii, twii, twii, 360),\n",
    "    'ADXR4': talib.ADXR(twii, twii, twii, 480),\n",
    "    'ADXR5': talib.ADXR(twii, twii, twii, 640),\n",
    "\n",
    "    'return': twii.shift(-10) / twii,\n",
    "})\n",
    "\n",
    "feature_names = list(dataset.columns[:-1])"
   ]
  },
  {
   "cell_type": "markdown",
   "metadata": {},
   "source": [
    "## 刪除NaN"
   ]
  },
  {
   "cell_type": "code",
   "execution_count": 179,
   "metadata": {},
   "outputs": [
    {
     "name": "stdout",
     "output_type": "stream",
     "text": [
      "before dropping NaN (77748, 43)\n",
      "after dropping NaN (75820, 43)\n"
     ]
    }
   ],
   "source": [
    "print(\"before dropping NaN\", dataset.shape)\n",
    "dataset.dropna(inplace=True)\n",
    "print(\"after dropping NaN\", dataset.shape)\n"
   ]
  },
  {
   "cell_type": "markdown",
   "metadata": {},
   "source": [
    "## 神經網路Preprocessing"
   ]
  },
  {
   "cell_type": "code",
   "execution_count": 180,
   "metadata": {},
   "outputs": [
    {
     "data": {
      "text/html": [
       "<div>\n",
       "<style scoped>\n",
       "    .dataframe tbody tr th:only-of-type {\n",
       "        vertical-align: middle;\n",
       "    }\n",
       "\n",
       "    .dataframe tbody tr th {\n",
       "        vertical-align: top;\n",
       "    }\n",
       "\n",
       "    .dataframe thead th {\n",
       "        text-align: right;\n",
       "    }\n",
       "</style>\n",
       "<table border=\"1\" class=\"dataframe\">\n",
       "  <thead>\n",
       "    <tr style=\"text-align: right;\">\n",
       "      <th></th>\n",
       "      <th>RSIb</th>\n",
       "      <th>RSIb2</th>\n",
       "      <th>RSIb3</th>\n",
       "      <th>RSIb4</th>\n",
       "      <th>RSIb5</th>\n",
       "      <th>RSIb6</th>\n",
       "      <th>MOMb</th>\n",
       "      <th>KDb</th>\n",
       "      <th>KDb2</th>\n",
       "      <th>KDb3</th>\n",
       "      <th>...</th>\n",
       "      <th>b7</th>\n",
       "      <th>LINEARREG_SLOPE0</th>\n",
       "      <th>LINEARREG_SLOPE1</th>\n",
       "      <th>ADXR0</th>\n",
       "      <th>ADXR1</th>\n",
       "      <th>ADXR2</th>\n",
       "      <th>ADXR3</th>\n",
       "      <th>ADXR4</th>\n",
       "      <th>ADXR5</th>\n",
       "      <th>return</th>\n",
       "    </tr>\n",
       "  </thead>\n",
       "  <tbody>\n",
       "    <tr>\n",
       "      <th>count</th>\n",
       "      <td>7.582000e+04</td>\n",
       "      <td>7.582000e+04</td>\n",
       "      <td>7.582000e+04</td>\n",
       "      <td>7.582000e+04</td>\n",
       "      <td>7.582000e+04</td>\n",
       "      <td>7.582000e+04</td>\n",
       "      <td>7.582000e+04</td>\n",
       "      <td>7.582000e+04</td>\n",
       "      <td>7.582000e+04</td>\n",
       "      <td>7.582000e+04</td>\n",
       "      <td>...</td>\n",
       "      <td>7.582000e+04</td>\n",
       "      <td>7.582000e+04</td>\n",
       "      <td>7.582000e+04</td>\n",
       "      <td>7.582000e+04</td>\n",
       "      <td>7.582000e+04</td>\n",
       "      <td>7.582000e+04</td>\n",
       "      <td>7.582000e+04</td>\n",
       "      <td>7.582000e+04</td>\n",
       "      <td>7.582000e+04</td>\n",
       "      <td>75820.000000</td>\n",
       "    </tr>\n",
       "    <tr>\n",
       "      <th>mean</th>\n",
       "      <td>1.088527e-15</td>\n",
       "      <td>3.083584e-15</td>\n",
       "      <td>-2.604662e-15</td>\n",
       "      <td>-2.052813e-15</td>\n",
       "      <td>-5.202096e-15</td>\n",
       "      <td>-3.151915e-15</td>\n",
       "      <td>-1.582007e-16</td>\n",
       "      <td>-1.262216e-17</td>\n",
       "      <td>4.556864e-18</td>\n",
       "      <td>4.552764e-17</td>\n",
       "      <td>...</td>\n",
       "      <td>-9.977628e-16</td>\n",
       "      <td>-8.623337e-17</td>\n",
       "      <td>-2.382103e-17</td>\n",
       "      <td>-5.775049e-16</td>\n",
       "      <td>-1.380282e-15</td>\n",
       "      <td>-1.365630e-15</td>\n",
       "      <td>4.242013e-16</td>\n",
       "      <td>1.143224e-15</td>\n",
       "      <td>-1.387679e-15</td>\n",
       "      <td>1.000141</td>\n",
       "    </tr>\n",
       "    <tr>\n",
       "      <th>std</th>\n",
       "      <td>1.000007e+00</td>\n",
       "      <td>1.000007e+00</td>\n",
       "      <td>1.000007e+00</td>\n",
       "      <td>1.000007e+00</td>\n",
       "      <td>1.000007e+00</td>\n",
       "      <td>1.000007e+00</td>\n",
       "      <td>1.000007e+00</td>\n",
       "      <td>1.000007e+00</td>\n",
       "      <td>1.000007e+00</td>\n",
       "      <td>1.000007e+00</td>\n",
       "      <td>...</td>\n",
       "      <td>1.000007e+00</td>\n",
       "      <td>1.000007e+00</td>\n",
       "      <td>1.000007e+00</td>\n",
       "      <td>1.000007e+00</td>\n",
       "      <td>1.000007e+00</td>\n",
       "      <td>1.000007e+00</td>\n",
       "      <td>1.000007e+00</td>\n",
       "      <td>1.000007e+00</td>\n",
       "      <td>1.000007e+00</td>\n",
       "      <td>0.008232</td>\n",
       "    </tr>\n",
       "    <tr>\n",
       "      <th>min</th>\n",
       "      <td>-4.416780e+00</td>\n",
       "      <td>-4.563654e+00</td>\n",
       "      <td>-4.837413e+00</td>\n",
       "      <td>-4.826601e+00</td>\n",
       "      <td>-4.796637e+00</td>\n",
       "      <td>-4.733952e+00</td>\n",
       "      <td>-9.053684e+00</td>\n",
       "      <td>-2.587642e+00</td>\n",
       "      <td>-2.683726e+00</td>\n",
       "      <td>-2.664670e+00</td>\n",
       "      <td>...</td>\n",
       "      <td>-5.516054e+00</td>\n",
       "      <td>-9.494200e+00</td>\n",
       "      <td>-7.225035e+00</td>\n",
       "      <td>-2.110357e+00</td>\n",
       "      <td>-2.011759e+00</td>\n",
       "      <td>-1.699124e+00</td>\n",
       "      <td>-1.603500e+00</td>\n",
       "      <td>-1.738680e+00</td>\n",
       "      <td>-1.783131e+00</td>\n",
       "      <td>0.924507</td>\n",
       "    </tr>\n",
       "    <tr>\n",
       "      <th>25%</th>\n",
       "      <td>-6.800262e-01</td>\n",
       "      <td>-6.809530e-01</td>\n",
       "      <td>-6.719659e-01</td>\n",
       "      <td>-6.634925e-01</td>\n",
       "      <td>-6.580497e-01</td>\n",
       "      <td>-6.460189e-01</td>\n",
       "      <td>-4.612603e-01</td>\n",
       "      <td>-6.444472e-01</td>\n",
       "      <td>-6.431398e-01</td>\n",
       "      <td>-6.314281e-01</td>\n",
       "      <td>...</td>\n",
       "      <td>-5.246160e-01</td>\n",
       "      <td>-4.647333e-01</td>\n",
       "      <td>-4.684834e-01</td>\n",
       "      <td>-7.414846e-01</td>\n",
       "      <td>-6.981374e-01</td>\n",
       "      <td>-7.496551e-01</td>\n",
       "      <td>-7.012327e-01</td>\n",
       "      <td>-6.813988e-01</td>\n",
       "      <td>-7.134760e-01</td>\n",
       "      <td>0.997008</td>\n",
       "    </tr>\n",
       "    <tr>\n",
       "      <th>50%</th>\n",
       "      <td>9.727382e-02</td>\n",
       "      <td>1.161628e-01</td>\n",
       "      <td>1.162668e-01</td>\n",
       "      <td>1.196066e-01</td>\n",
       "      <td>1.234756e-01</td>\n",
       "      <td>1.282673e-01</td>\n",
       "      <td>8.948843e-02</td>\n",
       "      <td>-1.286170e-02</td>\n",
       "      <td>-3.120551e-02</td>\n",
       "      <td>-9.219107e-03</td>\n",
       "      <td>...</td>\n",
       "      <td>1.161337e-01</td>\n",
       "      <td>7.891584e-02</td>\n",
       "      <td>8.137809e-02</td>\n",
       "      <td>-1.516340e-01</td>\n",
       "      <td>-2.313490e-01</td>\n",
       "      <td>-2.694156e-01</td>\n",
       "      <td>-2.517926e-01</td>\n",
       "      <td>-2.332882e-01</td>\n",
       "      <td>-2.162557e-01</td>\n",
       "      <td>1.000291</td>\n",
       "    </tr>\n",
       "    <tr>\n",
       "      <th>75%</th>\n",
       "      <td>7.224620e-01</td>\n",
       "      <td>7.122855e-01</td>\n",
       "      <td>6.841689e-01</td>\n",
       "      <td>6.888465e-01</td>\n",
       "      <td>6.871457e-01</td>\n",
       "      <td>6.851221e-01</td>\n",
       "      <td>5.731199e-01</td>\n",
       "      <td>6.589941e-01</td>\n",
       "      <td>6.701591e-01</td>\n",
       "      <td>6.061944e-01</td>\n",
       "      <td>...</td>\n",
       "      <td>5.767884e-01</td>\n",
       "      <td>5.656693e-01</td>\n",
       "      <td>5.726721e-01</td>\n",
       "      <td>5.923935e-01</td>\n",
       "      <td>4.692309e-01</td>\n",
       "      <td>5.005847e-01</td>\n",
       "      <td>4.843630e-01</td>\n",
       "      <td>4.751481e-01</td>\n",
       "      <td>5.602363e-01</td>\n",
       "      <td>1.003696</td>\n",
       "    </tr>\n",
       "    <tr>\n",
       "      <th>max</th>\n",
       "      <td>2.883559e+00</td>\n",
       "      <td>2.826740e+00</td>\n",
       "      <td>3.030190e+00</td>\n",
       "      <td>3.106377e+00</td>\n",
       "      <td>3.125635e+00</td>\n",
       "      <td>3.139932e+00</td>\n",
       "      <td>5.029971e+00</td>\n",
       "      <td>2.730781e+00</td>\n",
       "      <td>2.591061e+00</td>\n",
       "      <td>2.557970e+00</td>\n",
       "      <td>...</td>\n",
       "      <td>4.880521e+00</td>\n",
       "      <td>4.764871e+00</td>\n",
       "      <td>4.029769e+00</td>\n",
       "      <td>4.523771e+00</td>\n",
       "      <td>4.099493e+00</td>\n",
       "      <td>3.855122e+00</td>\n",
       "      <td>3.572393e+00</td>\n",
       "      <td>3.682406e+00</td>\n",
       "      <td>3.532058e+00</td>\n",
       "      <td>1.087726</td>\n",
       "    </tr>\n",
       "  </tbody>\n",
       "</table>\n",
       "<p>8 rows × 43 columns</p>\n",
       "</div>"
      ],
      "text/plain": [
       "               RSIb         RSIb2         RSIb3         RSIb4         RSIb5  \\\n",
       "count  7.582000e+04  7.582000e+04  7.582000e+04  7.582000e+04  7.582000e+04   \n",
       "mean   1.088527e-15  3.083584e-15 -2.604662e-15 -2.052813e-15 -5.202096e-15   \n",
       "std    1.000007e+00  1.000007e+00  1.000007e+00  1.000007e+00  1.000007e+00   \n",
       "min   -4.416780e+00 -4.563654e+00 -4.837413e+00 -4.826601e+00 -4.796637e+00   \n",
       "25%   -6.800262e-01 -6.809530e-01 -6.719659e-01 -6.634925e-01 -6.580497e-01   \n",
       "50%    9.727382e-02  1.161628e-01  1.162668e-01  1.196066e-01  1.234756e-01   \n",
       "75%    7.224620e-01  7.122855e-01  6.841689e-01  6.888465e-01  6.871457e-01   \n",
       "max    2.883559e+00  2.826740e+00  3.030190e+00  3.106377e+00  3.125635e+00   \n",
       "\n",
       "              RSIb6          MOMb           KDb          KDb2          KDb3  \\\n",
       "count  7.582000e+04  7.582000e+04  7.582000e+04  7.582000e+04  7.582000e+04   \n",
       "mean  -3.151915e-15 -1.582007e-16 -1.262216e-17  4.556864e-18  4.552764e-17   \n",
       "std    1.000007e+00  1.000007e+00  1.000007e+00  1.000007e+00  1.000007e+00   \n",
       "min   -4.733952e+00 -9.053684e+00 -2.587642e+00 -2.683726e+00 -2.664670e+00   \n",
       "25%   -6.460189e-01 -4.612603e-01 -6.444472e-01 -6.431398e-01 -6.314281e-01   \n",
       "50%    1.282673e-01  8.948843e-02 -1.286170e-02 -3.120551e-02 -9.219107e-03   \n",
       "75%    6.851221e-01  5.731199e-01  6.589941e-01  6.701591e-01  6.061944e-01   \n",
       "max    3.139932e+00  5.029971e+00  2.730781e+00  2.591061e+00  2.557970e+00   \n",
       "\n",
       "       ...            b7  LINEARREG_SLOPE0  LINEARREG_SLOPE1         ADXR0  \\\n",
       "count  ...  7.582000e+04      7.582000e+04      7.582000e+04  7.582000e+04   \n",
       "mean   ... -9.977628e-16     -8.623337e-17     -2.382103e-17 -5.775049e-16   \n",
       "std    ...  1.000007e+00      1.000007e+00      1.000007e+00  1.000007e+00   \n",
       "min    ... -5.516054e+00     -9.494200e+00     -7.225035e+00 -2.110357e+00   \n",
       "25%    ... -5.246160e-01     -4.647333e-01     -4.684834e-01 -7.414846e-01   \n",
       "50%    ...  1.161337e-01      7.891584e-02      8.137809e-02 -1.516340e-01   \n",
       "75%    ...  5.767884e-01      5.656693e-01      5.726721e-01  5.923935e-01   \n",
       "max    ...  4.880521e+00      4.764871e+00      4.029769e+00  4.523771e+00   \n",
       "\n",
       "              ADXR1         ADXR2         ADXR3         ADXR4         ADXR5  \\\n",
       "count  7.582000e+04  7.582000e+04  7.582000e+04  7.582000e+04  7.582000e+04   \n",
       "mean  -1.380282e-15 -1.365630e-15  4.242013e-16  1.143224e-15 -1.387679e-15   \n",
       "std    1.000007e+00  1.000007e+00  1.000007e+00  1.000007e+00  1.000007e+00   \n",
       "min   -2.011759e+00 -1.699124e+00 -1.603500e+00 -1.738680e+00 -1.783131e+00   \n",
       "25%   -6.981374e-01 -7.496551e-01 -7.012327e-01 -6.813988e-01 -7.134760e-01   \n",
       "50%   -2.313490e-01 -2.694156e-01 -2.517926e-01 -2.332882e-01 -2.162557e-01   \n",
       "75%    4.692309e-01  5.005847e-01  4.843630e-01  4.751481e-01  5.602363e-01   \n",
       "max    4.099493e+00  3.855122e+00  3.572393e+00  3.682406e+00  3.532058e+00   \n",
       "\n",
       "             return  \n",
       "count  75820.000000  \n",
       "mean       1.000141  \n",
       "std        0.008232  \n",
       "min        0.924507  \n",
       "25%        0.997008  \n",
       "50%        1.000291  \n",
       "75%        1.003696  \n",
       "max        1.087726  \n",
       "\n",
       "[8 rows x 43 columns]"
      ]
     },
     "execution_count": 180,
     "metadata": {},
     "output_type": "execute_result"
    }
   ],
   "source": [
    "from sklearn.preprocessing import StandardScaler\n",
    "ss = StandardScaler()\n",
    "dataset_scaled = ss.fit_transform(dataset[feature_names])\n",
    "dataset_scaled = pd.DataFrame(dataset_scaled, index=dataset.index, columns=feature_names)\n",
    "dataset_scaled['return'] = dataset['return']\n",
    "dataset_scaled.describe()"
   ]
  },
  {
   "cell_type": "markdown",
   "metadata": {},
   "source": [
    "## 神經網路 Model"
   ]
  },
  {
   "cell_type": "code",
   "execution_count": 181,
   "metadata": {},
   "outputs": [
    {
     "name": "stdout",
     "output_type": "stream",
     "text": [
      "Model: \"sequential_11\"\n",
      "_________________________________________________________________\n",
      "Layer (type)                 Output Shape              Param #   \n",
      "=================================================================\n",
      "dense_30 (Dense)             (None, 100)               4300      \n",
      "_________________________________________________________________\n",
      "dense_31 (Dense)             (None, 100)               10100     \n",
      "_________________________________________________________________\n",
      "dense_32 (Dense)             (None, 100)               10100     \n",
      "_________________________________________________________________\n",
      "dense_33 (Dense)             (None, 1)                 101       \n",
      "=================================================================\n",
      "Total params: 24,601\n",
      "Trainable params: 24,601\n",
      "Non-trainable params: 0\n",
      "_________________________________________________________________\n"
     ]
    }
   ],
   "source": [
    "from tensorflow import keras\n",
    "from tensorflow.keras import layers\n",
    "\n",
    "model = keras.Sequential()\n",
    "model.add(layers.Dense(100, activation='relu', input_shape=(len(feature_names),)))\n",
    "model.add(layers.Dense(100, activation='relu'))\n",
    "model.add(layers.Dense(100, activation='relu'))\n",
    "model.add(layers.Dense(1, activation='sigmoid'))\n",
    "\n",
    "adam = keras.optimizers.Adam(learning_rate=0.0001,)\n",
    "\n",
    "model.compile(loss='binary_crossentropy', optimizer=adam,)#metrics='accuracy',)\n",
    "\n",
    "model.summary()"
   ]
  },
  {
   "cell_type": "markdown",
   "metadata": {},
   "source": [
    "## 神經網路訓練"
   ]
  },
  {
   "cell_type": "code",
   "execution_count": 182,
   "metadata": {
    "scrolled": true
   },
   "outputs": [
    {
     "name": "stdout",
     "output_type": "stream",
     "text": [
      "Epoch 1/30\n",
      "585/585 [==============================] - ETA: 0s - loss: 0.683 - ETA: 0s - loss: 0.695 - ETA: 0s - loss: 0.694 - ETA: 0s - loss: 0.693 - ETA: 0s - loss: 0.693 - ETA: 0s - loss: 0.692 - ETA: 0s - loss: 0.692 - ETA: 0s - loss: 0.691 - ETA: 0s - loss: 0.690 - ETA: 0s - loss: 0.690 - ETA: 0s - loss: 0.690 - ETA: 0s - loss: 0.689 - ETA: 0s - loss: 0.689 - 1s 2ms/step - loss: 0.6892 - val_loss: 0.6893\n",
      "Epoch 2/30\n",
      "585/585 [==============================] - ETA: 0s - loss: 0.686 - ETA: 0s - loss: 0.682 - ETA: 0s - loss: 0.682 - ETA: 0s - loss: 0.682 - ETA: 0s - loss: 0.682 - ETA: 0s - loss: 0.682 - ETA: 0s - loss: 0.682 - ETA: 0s - loss: 0.682 - ETA: 0s - loss: 0.682 - ETA: 0s - loss: 0.682 - ETA: 0s - loss: 0.682 - ETA: 0s - loss: 0.682 - ETA: 0s - loss: 0.681 - ETA: 0s - loss: 0.681 - 1s 2ms/step - loss: 0.6816 - val_loss: 0.6933\n",
      "Epoch 3/30\n",
      "585/585 [==============================] - ETA: 0s - loss: 0.695 - ETA: 0s - loss: 0.677 - ETA: 0s - loss: 0.679 - ETA: 0s - loss: 0.678 - ETA: 0s - loss: 0.678 - ETA: 0s - loss: 0.678 - ETA: 0s - loss: 0.678 - ETA: 0s - loss: 0.677 - ETA: 0s - loss: 0.677 - ETA: 0s - loss: 0.677 - ETA: 0s - loss: 0.677 - ETA: 0s - loss: 0.676 - ETA: 0s - loss: 0.676 - 1s 2ms/step - loss: 0.6763 - val_loss: 0.6949\n",
      "Epoch 4/30\n",
      "585/585 [==============================] - ETA: 0s - loss: 0.686 - ETA: 0s - loss: 0.675 - ETA: 0s - loss: 0.672 - ETA: 0s - loss: 0.672 - ETA: 0s - loss: 0.672 - ETA: 0s - loss: 0.672 - ETA: 0s - loss: 0.671 - ETA: 0s - loss: 0.671 - ETA: 0s - loss: 0.671 - ETA: 0s - loss: 0.671 - ETA: 0s - loss: 0.671 - ETA: 0s - loss: 0.672 - ETA: 0s - loss: 0.671 - ETA: 0s - loss: 0.671 - 1s 2ms/step - loss: 0.6717 - val_loss: 0.7009\n",
      "Epoch 5/30\n",
      "585/585 [==============================] - ETA: 0s - loss: 0.664 - ETA: 0s - loss: 0.669 - ETA: 0s - loss: 0.668 - ETA: 0s - loss: 0.669 - ETA: 0s - loss: 0.668 - ETA: 0s - loss: 0.668 - ETA: 0s - loss: 0.668 - ETA: 0s - loss: 0.668 - ETA: 0s - loss: 0.668 - ETA: 0s - loss: 0.667 - ETA: 0s - loss: 0.667 - ETA: 0s - loss: 0.667 - ETA: 0s - loss: 0.667 - ETA: 0s - loss: 0.667 - 1s 2ms/step - loss: 0.6673 - val_loss: 0.7053\n",
      "Epoch 6/30\n",
      "585/585 [==============================] - ETA: 0s - loss: 0.668 - ETA: 0s - loss: 0.666 - ETA: 0s - loss: 0.664 - ETA: 0s - loss: 0.663 - ETA: 0s - loss: 0.662 - ETA: 0s - loss: 0.663 - ETA: 0s - loss: 0.663 - ETA: 0s - loss: 0.663 - ETA: 0s - loss: 0.663 - ETA: 0s - loss: 0.663 - ETA: 0s - loss: 0.662 - ETA: 0s - loss: 0.662 - ETA: 0s - loss: 0.663 - ETA: 0s - loss: 0.662 - 1s 2ms/step - loss: 0.6627 - val_loss: 0.7006\n",
      "Epoch 7/30\n",
      "585/585 [==============================] - ETA: 0s - loss: 0.655 - ETA: 1s - loss: 0.660 - ETA: 0s - loss: 0.658 - ETA: 0s - loss: 0.656 - ETA: 0s - loss: 0.657 - ETA: 0s - loss: 0.657 - ETA: 0s - loss: 0.658 - ETA: 0s - loss: 0.657 - ETA: 0s - loss: 0.658 - ETA: 0s - loss: 0.657 - ETA: 0s - loss: 0.657 - ETA: 0s - loss: 0.658 - ETA: 0s - loss: 0.658 - ETA: 0s - loss: 0.658 - 1s 2ms/step - loss: 0.6581 - val_loss: 0.7132\n",
      "Epoch 8/30\n",
      "585/585 [==============================] - ETA: 0s - loss: 0.641 - ETA: 0s - loss: 0.654 - ETA: 0s - loss: 0.655 - ETA: 0s - loss: 0.655 - ETA: 0s - loss: 0.655 - ETA: 0s - loss: 0.654 - ETA: 0s - loss: 0.654 - ETA: 0s - loss: 0.654 - ETA: 0s - loss: 0.654 - ETA: 0s - loss: 0.653 - ETA: 0s - loss: 0.653 - ETA: 0s - loss: 0.653 - ETA: 0s - loss: 0.653 - ETA: 0s - loss: 0.653 - 1s 2ms/step - loss: 0.6534 - val_loss: 0.7100\n",
      "Epoch 9/30\n",
      "585/585 [==============================] - ETA: 0s - loss: 0.634 - ETA: 1s - loss: 0.652 - ETA: 0s - loss: 0.650 - ETA: 0s - loss: 0.650 - ETA: 0s - loss: 0.650 - ETA: 0s - loss: 0.649 - ETA: 0s - loss: 0.649 - ETA: 0s - loss: 0.649 - ETA: 0s - loss: 0.649 - ETA: 0s - loss: 0.649 - ETA: 0s - loss: 0.649 - ETA: 0s - loss: 0.649 - ETA: 0s - loss: 0.649 - ETA: 0s - loss: 0.649 - 1s 2ms/step - loss: 0.6489 - val_loss: 0.7080\n",
      "Epoch 10/30\n",
      "585/585 [==============================] - ETA: 0s - loss: 0.657 - ETA: 0s - loss: 0.646 - ETA: 0s - loss: 0.644 - ETA: 0s - loss: 0.645 - ETA: 0s - loss: 0.644 - ETA: 0s - loss: 0.644 - ETA: 0s - loss: 0.644 - ETA: 0s - loss: 0.644 - ETA: 0s - loss: 0.645 - ETA: 0s - loss: 0.644 - ETA: 0s - loss: 0.644 - ETA: 0s - loss: 0.644 - ETA: 0s - loss: 0.644 - ETA: 0s - loss: 0.644 - 1s 2ms/step - loss: 0.6443 - val_loss: 0.7194\n",
      "Epoch 11/30\n",
      "585/585 [==============================] - ETA: 0s - loss: 0.644 - ETA: 0s - loss: 0.638 - ETA: 0s - loss: 0.641 - ETA: 0s - loss: 0.641 - ETA: 0s - loss: 0.640 - ETA: 0s - loss: 0.638 - ETA: 0s - loss: 0.638 - ETA: 0s - loss: 0.639 - ETA: 0s - loss: 0.640 - ETA: 0s - loss: 0.639 - ETA: 0s - loss: 0.639 - ETA: 0s - loss: 0.639 - ETA: 0s - loss: 0.639 - ETA: 0s - loss: 0.639 - 1s 2ms/step - loss: 0.6395 - val_loss: 0.7156\n",
      "Epoch 12/30\n",
      "585/585 [==============================] - ETA: 0s - loss: 0.652 - ETA: 0s - loss: 0.640 - ETA: 0s - loss: 0.634 - ETA: 0s - loss: 0.632 - ETA: 0s - loss: 0.634 - ETA: 0s - loss: 0.634 - ETA: 0s - loss: 0.635 - ETA: 0s - loss: 0.635 - ETA: 0s - loss: 0.635 - ETA: 0s - loss: 0.635 - ETA: 0s - loss: 0.635 - ETA: 0s - loss: 0.635 - ETA: 0s - loss: 0.634 - ETA: 0s - loss: 0.634 - 1s 2ms/step - loss: 0.6346 - val_loss: 0.7302\n",
      "Epoch 13/30\n",
      "585/585 [==============================] - ETA: 0s - loss: 0.657 - ETA: 0s - loss: 0.627 - ETA: 0s - loss: 0.628 - ETA: 0s - loss: 0.631 - ETA: 0s - loss: 0.631 - ETA: 0s - loss: 0.630 - ETA: 0s - loss: 0.630 - ETA: 0s - loss: 0.630 - ETA: 0s - loss: 0.630 - ETA: 0s - loss: 0.630 - ETA: 0s - loss: 0.630 - ETA: 0s - loss: 0.630 - ETA: 0s - loss: 0.630 - ETA: 0s - loss: 0.630 - 1s 2ms/step - loss: 0.6298 - val_loss: 0.7221\n",
      "Epoch 14/30\n",
      "585/585 [==============================] - ETA: 0s - loss: 0.642 - ETA: 0s - loss: 0.626 - ETA: 0s - loss: 0.624 - ETA: 0s - loss: 0.625 - ETA: 0s - loss: 0.624 - ETA: 0s - loss: 0.626 - ETA: 0s - loss: 0.626 - ETA: 0s - loss: 0.626 - ETA: 0s - loss: 0.626 - ETA: 0s - loss: 0.626 - ETA: 0s - loss: 0.625 - ETA: 0s - loss: 0.625 - ETA: 0s - loss: 0.625 - ETA: 0s - loss: 0.625 - 1s 2ms/step - loss: 0.6250 - val_loss: 0.7312\n",
      "Epoch 15/30\n",
      "585/585 [==============================] - ETA: 0s - loss: 0.573 - ETA: 0s - loss: 0.619 - ETA: 0s - loss: 0.617 - ETA: 0s - loss: 0.618 - ETA: 0s - loss: 0.618 - ETA: 0s - loss: 0.619 - ETA: 0s - loss: 0.620 - ETA: 0s - loss: 0.620 - ETA: 0s - loss: 0.620 - ETA: 0s - loss: 0.621 - ETA: 0s - loss: 0.620 - ETA: 0s - loss: 0.621 - ETA: 0s - loss: 0.620 - ETA: 0s - loss: 0.620 - 1s 2ms/step - loss: 0.6200 - val_loss: 0.7476\n",
      "Epoch 16/30\n",
      "585/585 [==============================] - ETA: 0s - loss: 0.594 - ETA: 0s - loss: 0.619 - ETA: 0s - loss: 0.615 - ETA: 0s - loss: 0.616 - ETA: 0s - loss: 0.617 - ETA: 0s - loss: 0.616 - ETA: 0s - loss: 0.617 - ETA: 0s - loss: 0.616 - ETA: 0s - loss: 0.616 - ETA: 0s - loss: 0.616 - ETA: 0s - loss: 0.615 - ETA: 0s - loss: 0.615 - ETA: 0s - loss: 0.615 - ETA: 0s - loss: 0.614 - 1s 2ms/step - loss: 0.6149 - val_loss: 0.7519\n",
      "Epoch 17/30\n",
      "585/585 [==============================] - ETA: 0s - loss: 0.604 - ETA: 0s - loss: 0.609 - ETA: 0s - loss: 0.610 - ETA: 0s - loss: 0.611 - ETA: 0s - loss: 0.612 - ETA: 0s - loss: 0.611 - ETA: 0s - loss: 0.610 - ETA: 0s - loss: 0.610 - ETA: 0s - loss: 0.610 - ETA: 0s - loss: 0.611 - ETA: 0s - loss: 0.610 - ETA: 0s - loss: 0.611 - ETA: 0s - loss: 0.611 - ETA: 0s - loss: 0.610 - 1s 2ms/step - loss: 0.6101 - val_loss: 0.7520\n",
      "Epoch 18/30\n",
      "585/585 [==============================] - ETA: 0s - loss: 0.595 - ETA: 0s - loss: 0.602 - ETA: 0s - loss: 0.606 - ETA: 0s - loss: 0.606 - ETA: 0s - loss: 0.607 - ETA: 0s - loss: 0.606 - ETA: 0s - loss: 0.607 - ETA: 0s - loss: 0.606 - ETA: 0s - loss: 0.606 - ETA: 0s - loss: 0.605 - ETA: 0s - loss: 0.606 - ETA: 0s - loss: 0.605 - ETA: 0s - loss: 0.605 - ETA: 0s - loss: 0.604 - 1s 2ms/step - loss: 0.6049 - val_loss: 0.7610\n",
      "Epoch 19/30\n",
      "585/585 [==============================] - ETA: 0s - loss: 0.628 - ETA: 0s - loss: 0.596 - ETA: 0s - loss: 0.594 - ETA: 0s - loss: 0.597 - ETA: 0s - loss: 0.598 - ETA: 0s - loss: 0.601 - ETA: 0s - loss: 0.601 - ETA: 0s - loss: 0.600 - ETA: 0s - loss: 0.600 - ETA: 0s - loss: 0.600 - ETA: 0s - loss: 0.600 - ETA: 0s - loss: 0.600 - ETA: 0s - loss: 0.600 - ETA: 0s - loss: 0.600 - 1s 2ms/step - loss: 0.6003 - val_loss: 0.7606\n",
      "Epoch 20/30\n",
      "585/585 [==============================] - ETA: 0s - loss: 0.593 - ETA: 1s - loss: 0.588 - ETA: 0s - loss: 0.594 - ETA: 0s - loss: 0.594 - ETA: 0s - loss: 0.595 - ETA: 0s - loss: 0.595 - ETA: 0s - loss: 0.596 - ETA: 0s - loss: 0.596 - ETA: 0s - loss: 0.595 - ETA: 0s - loss: 0.594 - ETA: 0s - loss: 0.595 - ETA: 0s - loss: 0.595 - ETA: 0s - loss: 0.595 - ETA: 0s - loss: 0.595 - 1s 2ms/step - loss: 0.5956 - val_loss: 0.7976\n",
      "Epoch 21/30\n",
      "585/585 [==============================] - ETA: 0s - loss: 0.646 - ETA: 0s - loss: 0.596 - ETA: 0s - loss: 0.593 - ETA: 0s - loss: 0.591 - ETA: 0s - loss: 0.591 - ETA: 0s - loss: 0.590 - ETA: 0s - loss: 0.591 - ETA: 0s - loss: 0.590 - ETA: 0s - loss: 0.590 - ETA: 0s - loss: 0.590 - ETA: 0s - loss: 0.590 - ETA: 0s - loss: 0.591 - ETA: 0s - loss: 0.590 - ETA: 0s - loss: 0.590 - 1s 2ms/step - loss: 0.5907 - val_loss: 0.7784\n",
      "Epoch 22/30\n",
      "585/585 [==============================] - ETA: 0s - loss: 0.660 - ETA: 0s - loss: 0.589 - ETA: 0s - loss: 0.589 - ETA: 0s - loss: 0.586 - ETA: 0s - loss: 0.587 - ETA: 0s - loss: 0.586 - ETA: 0s - loss: 0.585 - ETA: 0s - loss: 0.587 - ETA: 0s - loss: 0.587 - ETA: 0s - loss: 0.587 - ETA: 0s - loss: 0.587 - ETA: 0s - loss: 0.586 - ETA: 0s - loss: 0.587 - ETA: 0s - loss: 0.586 - 1s 2ms/step - loss: 0.5866 - val_loss: 0.7887\n",
      "Epoch 23/30\n",
      "585/585 [==============================] - ETA: 0s - loss: 0.606 - ETA: 0s - loss: 0.590 - ETA: 0s - loss: 0.584 - ETA: 0s - loss: 0.583 - ETA: 0s - loss: 0.582 - ETA: 0s - loss: 0.583 - ETA: 0s - loss: 0.583 - ETA: 0s - loss: 0.582 - ETA: 0s - loss: 0.581 - ETA: 0s - loss: 0.581 - ETA: 0s - loss: 0.581 - ETA: 0s - loss: 0.581 - ETA: 0s - loss: 0.582 - ETA: 0s - loss: 0.582 - 1s 2ms/step - loss: 0.5821 - val_loss: 0.8010\n",
      "Epoch 24/30\n",
      "585/585 [==============================] - ETA: 0s - loss: 0.509 - ETA: 0s - loss: 0.573 - ETA: 0s - loss: 0.578 - ETA: 0s - loss: 0.579 - ETA: 0s - loss: 0.578 - ETA: 0s - loss: 0.578 - ETA: 0s - loss: 0.579 - ETA: 0s - loss: 0.578 - ETA: 0s - loss: 0.578 - ETA: 0s - loss: 0.577 - ETA: 0s - loss: 0.577 - ETA: 0s - loss: 0.577 - ETA: 0s - loss: 0.577 - ETA: 0s - loss: 0.577 - 1s 2ms/step - loss: 0.5777 - val_loss: 0.8194\n",
      "Epoch 25/30\n",
      "585/585 [==============================] - ETA: 0s - loss: 0.526 - ETA: 0s - loss: 0.575 - ETA: 0s - loss: 0.575 - ETA: 0s - loss: 0.574 - ETA: 0s - loss: 0.574 - ETA: 0s - loss: 0.572 - ETA: 0s - loss: 0.572 - ETA: 0s - loss: 0.572 - ETA: 0s - loss: 0.572 - ETA: 0s - loss: 0.571 - ETA: 0s - loss: 0.571 - ETA: 0s - loss: 0.573 - ETA: 0s - loss: 0.572 - ETA: 0s - loss: 0.573 - 1s 2ms/step - loss: 0.5730 - val_loss: 0.8182\n",
      "Epoch 26/30\n",
      "585/585 [==============================] - ETA: 0s - loss: 0.590 - ETA: 0s - loss: 0.568 - ETA: 0s - loss: 0.569 - ETA: 0s - loss: 0.568 - ETA: 0s - loss: 0.566 - ETA: 0s - loss: 0.566 - ETA: 0s - loss: 0.567 - ETA: 0s - loss: 0.567 - ETA: 0s - loss: 0.567 - ETA: 0s - loss: 0.568 - ETA: 0s - loss: 0.567 - ETA: 0s - loss: 0.568 - ETA: 0s - loss: 0.568 - ETA: 0s - loss: 0.569 - 1s 2ms/step - loss: 0.5691 - val_loss: 0.8156\n",
      "Epoch 27/30\n",
      "585/585 [==============================] - ETA: 0s - loss: 0.574 - ETA: 0s - loss: 0.570 - ETA: 0s - loss: 0.570 - ETA: 0s - loss: 0.568 - ETA: 0s - loss: 0.568 - ETA: 0s - loss: 0.566 - ETA: 0s - loss: 0.566 - ETA: 0s - loss: 0.565 - ETA: 0s - loss: 0.564 - ETA: 0s - loss: 0.564 - ETA: 0s - loss: 0.564 - ETA: 0s - loss: 0.565 - ETA: 0s - loss: 0.565 - ETA: 0s - loss: 0.565 - 1s 2ms/step - loss: 0.5651 - val_loss: 0.8467\n",
      "Epoch 28/30\n",
      "585/585 [==============================] - ETA: 0s - loss: 0.619 - ETA: 0s - loss: 0.564 - ETA: 0s - loss: 0.558 - ETA: 0s - loss: 0.561 - ETA: 0s - loss: 0.561 - ETA: 0s - loss: 0.560 - ETA: 0s - loss: 0.562 - ETA: 0s - loss: 0.561 - ETA: 0s - loss: 0.560 - ETA: 0s - loss: 0.560 - ETA: 0s - loss: 0.561 - ETA: 0s - loss: 0.561 - ETA: 0s - loss: 0.561 - ETA: 0s - loss: 0.561 - 1s 2ms/step - loss: 0.5616 - val_loss: 0.8269\n",
      "Epoch 29/30\n",
      "585/585 [==============================] - ETA: 0s - loss: 0.598 - ETA: 0s - loss: 0.558 - ETA: 0s - loss: 0.558 - ETA: 0s - loss: 0.558 - ETA: 0s - loss: 0.558 - ETA: 0s - loss: 0.557 - ETA: 0s - loss: 0.556 - ETA: 0s - loss: 0.555 - ETA: 0s - loss: 0.556 - ETA: 0s - loss: 0.557 - ETA: 0s - loss: 0.557 - ETA: 0s - loss: 0.557 - ETA: 0s - loss: 0.557 - ETA: 0s - loss: 0.557 - 1s 2ms/step - loss: 0.5573 - val_loss: 0.8632\n",
      "Epoch 30/30\n",
      "585/585 [==============================] - ETA: 0s - loss: 0.620 - ETA: 0s - loss: 0.554 - ETA: 0s - loss: 0.549 - ETA: 0s - loss: 0.548 - ETA: 0s - loss: 0.549 - ETA: 0s - loss: 0.551 - ETA: 0s - loss: 0.552 - ETA: 0s - loss: 0.552 - ETA: 0s - loss: 0.552 - ETA: 0s - loss: 0.553 - ETA: 0s - loss: 0.552 - ETA: 0s - loss: 0.552 - ETA: 0s - loss: 0.552 - ETA: 0s - loss: 0.553 - 1s 2ms/step - loss: 0.5528 - val_loss: 0.8751\n"
     ]
    }
   ],
   "source": [
    "dataset_scaled_train = dataset_scaled[:'2021']\n",
    "\n",
    "checkpoint= './tmp/ACC_weights.hdf5' #如果不是hdf5他不會變成副檔名形式\n",
    "\n",
    "get_best_model =  keras.callbacks.ModelCheckpoint(filepath=checkpoint, monitor=\"accuracy\")\n",
    "\n",
    "history = model.fit(dataset_scaled_train[feature_names],\n",
    "                    dataset_scaled_train['return'] > 1,\n",
    "                    batch_size=100,\n",
    "                    epochs=30,\n",
    "                    validation_split=0.1,\n",
    "                    callbacks=[get_best_model]\n",
    "                   )\n",
    "          \n"
   ]
  },
  {
   "cell_type": "code",
   "execution_count": 186,
   "metadata": {},
   "outputs": [],
   "source": [
    "model.load_weights(filepath=checkpoint,)"
   ]
  },
  {
   "cell_type": "code",
   "execution_count": 187,
   "metadata": {},
   "outputs": [
    {
     "data": {
      "text/plain": [
       "Text(0, 0.5, 'Value')"
      ]
     },
     "execution_count": 187,
     "metadata": {},
     "output_type": "execute_result"
    },
    {
     "data": {
      "image/png": "[encoded data removed]",
      "text/plain": [
       "<Figure size 432x288 with 1 Axes>"
      ]
     },
     "metadata": {
      "needs_background": "light"
     },
     "output_type": "display_data"
    }
   ],
   "source": [
    "import matplotlib.pyplot as plt\n",
    "plt.plot(history.history['loss'],color='blue')\n",
    "plt.plot(history.history ['val_loss'],color='red')\n",
    "plt.xlabel('Times')                    #2\n",
    "plt.ylabel('Value')            #3"
   ]
  },
  {
   "cell_type": "markdown",
   "metadata": {},
   "source": [
    "## 回測"
   ]
  },
  {
   "cell_type": "code",
   "execution_count": 189,
   "metadata": {},
   "outputs": [],
   "source": [
    "ey = model.predict(dataset_scaled[feature_names])\n",
    "ey = pd.Series(ey.swapaxes(0, 1)[0], index=dataset.index)"
   ]
  },
  {
   "cell_type": "code",
   "execution_count": 190,
   "metadata": {},
   "outputs": [
    {
     "data": {
      "text/plain": [
       "<AxesSubplot:xlabel='date'>"
      ]
     },
     "execution_count": 190,
     "metadata": {},
     "output_type": "execute_result"
    },
    {
     "data": {
      "image/png": "[encoded data removed]",
      "text/plain": [
       "<Figure size 432x288 with 1 Axes>"
      ]
     },
     "metadata": {
      "needs_background": "light"
     },
     "output_type": "display_data"
    }
   ],
   "source": [
    "ey.plot()"
   ]
  },
  {
   "cell_type": "code",
   "execution_count": 191,
   "metadata": {},
   "outputs": [
    {
     "data": {
      "text/plain": [
       "<AxesSubplot:xlabel='date'>"
      ]
     },
     "execution_count": 191,
     "metadata": {},
     "output_type": "execute_result"
    },
    {
     "data": {
      "image/png": "[encoded data removed]",
      "text/plain": [
       "<Figure size 432x288 with 1 Axes>"
      ]
     },
     "metadata": {
      "needs_background": "light"
     },
     "output_type": "display_data"
    }
   ],
   "source": [
    "eq = twii[dataset.index]\n",
    "gain = (eq.shift(-1) - eq)\n",
    "\n",
    "signal = (ey > ey.quantile(0.75)).rolling(10).sum() > 0\n",
    "\n",
    "eq = (gain[signal]['2022':]).cumsum()\n",
    "eq.plot()"
   ]
  },
  {
   "cell_type": "code",
   "execution_count": 192,
   "metadata": {},
   "outputs": [
    {
     "data": {
      "text/plain": [
       "255.0"
      ]
     },
     "execution_count": 192,
     "metadata": {},
     "output_type": "execute_result"
    }
   ],
   "source": [
    "(signal.astype(int).diff().abs().fillna(0) * 3)['2022':].sum()"
   ]
  },
  {
   "cell_type": "code",
   "execution_count": null,
   "metadata": {},
   "outputs": [],
   "source": []
  },
  {
   "cell_type": "code",
   "execution_count": null,
   "metadata": {},
   "outputs": [],
   "source": []
  }
 ],
 "metadata": {
  "kernelspec": {
   "display_name": "finlab",
   "language": "python",
   "name": "finlab"
  },
  "language_info": {
   "codemirror_mode": {
    "name": "ipython",
    "version": 3
   },
   "file_extension": ".py",
   "mimetype": "text/x-python",
   "name": "python",
   "nbconvert_exporter": "python",
   "pygments_lexer": "ipython3",
   "version": "3.7.13"
  }
 },
 "nbformat": 4,
 "nbformat_minor": 4
}

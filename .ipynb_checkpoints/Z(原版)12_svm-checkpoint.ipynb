{
 "cells": [
  {
   "cell_type": "markdown",
   "metadata": {},
   "source": [
    "# Support Vector Machine (SVM)"
   ]
  },
  {
   "cell_type": "markdown",
   "metadata": {},
   "source": [
    "## features"
   ]
  },
  {
   "cell_type": "code",
   "execution_count": 1,
   "metadata": {
    "scrolled": true
   },
   "outputs": [
    {
     "name": "stderr",
     "output_type": "stream",
     "text": [
      "D:\\Finlab\\用 Python 理財：打造自己的 AI 股票理專\\finlab\\ml.py:49: FutureWarning: Index.__and__ operating as a set operation is deprecated, in the future this will be a logical operation matching Series.__and__.  Use index.intersection(other) instead\n",
      "  T3900繼續營業部門稅前純益 = T3900繼續營業部門稅前純益[T3900繼續營業部門稅前純益.columns & 收盤價.columns]\n",
      "D:\\Finlab\\用 Python 理財：打造自己的 AI 股票理專\\finlab\\ml.py:52: FutureWarning: Index.__and__ operating as a set operation is deprecated, in the future this will be a logical operation matching Series.__and__.  Use index.intersection(other) instead\n",
      "  T3970經常稅後淨利 = T3970經常稅後淨利[T3970經常稅後淨利.columns & 收盤價.columns]\n",
      "D:\\Finlab\\用 Python 理財：打造自己的 AI 股票理專\\finlab\\ml.py:55: FutureWarning: Index.__and__ operating as a set operation is deprecated, in the future this will be a logical operation matching Series.__and__.  Use index.intersection(other) instead\n",
      "  T2000權益總計 =  T2000權益總計[T2000權益總計.columns & 收盤價.columns]\n",
      "D:\\Finlab\\用 Python 理財：打造自己的 AI 股票理專\\finlab\\ml.py:58: FutureWarning: Index.__and__ operating as a set operation is deprecated, in the future this will be a logical operation matching Series.__and__.  Use index.intersection(other) instead\n",
      "  T3295營業毛利 =  T3295營業毛利[T3295營業毛利.columns & 收盤價.columns]\n",
      "D:\\Finlab\\用 Python 理財：打造自己的 AI 股票理專\\finlab\\ml.py:61: FutureWarning: Index.__and__ operating as a set operation is deprecated, in the future this will be a logical operation matching Series.__and__.  Use index.intersection(other) instead\n",
      "  T3100營業收入淨額 = T3100營業收入淨額[T3100營業收入淨額.columns & 收盤價.columns]\n",
      "D:\\Finlab\\用 Python 理財：打造自己的 AI 股票理專\\finlab\\ml.py:64: FutureWarning: Index.__and__ operating as a set operation is deprecated, in the future this will be a logical operation matching Series.__and__.  Use index.intersection(other) instead\n",
      "  T3700營業外收入及支出 = T3700營業外收入及支出[T3700營業外收入及支出.columns & 收盤價.columns]\n",
      "D:\\Finlab\\用 Python 理財：打造自己的 AI 股票理專\\finlab\\ml.py:72: FutureWarning: Index.__and__ operating as a set operation is deprecated, in the future this will be a logical operation matching Series.__and__.  Use index.intersection(other) instead\n",
      "  T3910所得稅費用 = T3910所得稅費用[T3910所得稅費用.columns & 收盤價.columns]\n",
      "D:\\Finlab\\用 Python 理財：打造自己的 AI 股票理專\\finlab\\ml.py:75: FutureWarning: Index.__and__ operating as a set operation is deprecated, in the future this will be a logical operation matching Series.__and__.  Use index.intersection(other) instead\n",
      "  T3300營業費用 = T3300營業費用[T3300營業費用.columns & 收盤價.columns]\n",
      "D:\\Finlab\\用 Python 理財：打造自己的 AI 股票理專\\finlab\\ml.py:78: FutureWarning: Index.__and__ operating as a set operation is deprecated, in the future this will be a logical operation matching Series.__and__.  Use index.intersection(other) instead\n",
      "  T7211折舊 = T7211折舊[T7211折舊.columns & 收盤價.columns]\n",
      "D:\\Finlab\\用 Python 理財：打造自己的 AI 股票理專\\finlab\\ml.py:81: FutureWarning: Index.__and__ operating as a set operation is deprecated, in the future this will be a logical operation matching Series.__and__.  Use index.intersection(other) instead\n",
      "  T7212攤提 = T7212攤提[T7212攤提.columns & 收盤價.columns]\n",
      "D:\\Finlab\\用 Python 理財：打造自己的 AI 股票理專\\finlab\\ml.py:87: FutureWarning: Index.__and__ operating as a set operation is deprecated, in the future this will be a logical operation matching Series.__and__.  Use index.intersection(other) instead\n",
      "  T0170存貨 = T0170存貨[T0170存貨.columns & 收盤價.columns]\n",
      "D:\\Finlab\\用 Python 理財：打造自己的 AI 股票理專\\finlab\\ml.py:90: FutureWarning: Index.__and__ operating as a set operation is deprecated, in the future this will be a logical operation matching Series.__and__.  Use index.intersection(other) instead\n",
      "  股本 = 股本[股本.columns & 收盤價.columns]\n",
      "D:\\Finlab\\用 Python 理財：打造自己的 AI 股票理專\\finlab\\ml.py:98: FutureWarning: Index.__and__ operating as a set operation is deprecated, in the future this will be a logical operation matching Series.__and__.  Use index.intersection(other) instead\n",
      "  T0400不動產廠房設備合計 =T0400不動產廠房設備合計[T0400不動產廠房設備合計.columns & 收盤價.columns]\n",
      "D:\\Finlab\\用 Python 理財：打造自己的 AI 股票理專\\finlab\\ml.py:101: FutureWarning: Index.__and__ operating as a set operation is deprecated, in the future this will be a logical operation matching Series.__and__.  Use index.intersection(other) instead\n",
      "  T0960非流動資產 = T0960非流動資產[T0960非流動資產.columns & 收盤價.columns]\n",
      "D:\\Finlab\\用 Python 理財：打造自己的 AI 股票理專\\finlab\\ml.py:104: FutureWarning: Index.__and__ operating as a set operation is deprecated, in the future this will be a logical operation matching Series.__and__.  Use index.intersection(other) instead\n",
      "  T0180預付費用及預付款 = T0180預付費用及預付款[T0180預付費用及預付款.columns & 收盤價.columns]\n",
      "D:\\Finlab\\用 Python 理財：打造自己的 AI 股票理專\\finlab\\ml.py:107: FutureWarning: Index.__and__ operating as a set operation is deprecated, in the future this will be a logical operation matching Series.__and__.  Use index.intersection(other) instead\n",
      "  T1800非流動負債 = T1800非流動負債[T1800非流動負債.columns & 收盤價.columns]\n",
      "D:\\Finlab\\用 Python 理財：打造自己的 AI 股票理專\\finlab\\ml.py:110: FutureWarning: Index.__and__ operating as a set operation is deprecated, in the future this will be a logical operation matching Series.__and__.  Use index.intersection(other) instead\n",
      "  T0190其他流動資產 = T0190其他流動資產[T0190其他流動資產.columns & 收盤價.columns]\n",
      "D:\\Finlab\\用 Python 理財：打造自己的 AI 股票理專\\finlab\\ml.py:113: FutureWarning: Index.__and__ operating as a set operation is deprecated, in the future this will be a logical operation matching Series.__and__.  Use index.intersection(other) instead\n",
      "  T1100流動負債 = T1100流動負債[T1100流動負債.columns & 收盤價.columns]\n",
      "D:\\Finlab\\用 Python 理財：打造自己的 AI 股票理專\\finlab\\ml.py:116: FutureWarning: Index.__and__ operating as a set operation is deprecated, in the future this will be a logical operation matching Series.__and__.  Use index.intersection(other) instead\n",
      "  T0100流動資產 =T0100流動資產[T0100流動資產.columns & 收盤價.columns]\n",
      "D:\\Finlab\\用 Python 理財：打造自己的 AI 股票理專\\finlab\\ml.py:119: FutureWarning: Index.__and__ operating as a set operation is deprecated, in the future this will be a logical operation matching Series.__and__.  Use index.intersection(other) instead\n",
      "  T3501財物成本 = T3501財物成本[T3501財物成本.columns & 收盤價.columns]\n",
      "D:\\Finlab\\用 Python 理財：打造自己的 AI 股票理專\\finlab\\ml.py:125: FutureWarning: Index.__and__ operating as a set operation is deprecated, in the future this will be a logical operation matching Series.__and__.  Use index.intersection(other) instead\n",
      "  T3971本期綜合損益總額 = T3971本期綜合損益總額[T3971本期綜合損益總額.columns & 收盤價.columns]\n",
      "D:\\Finlab\\用 Python 理財：打造自己的 AI 股票理專\\finlab\\ml.py:128: FutureWarning: Index.__and__ operating as a set operation is deprecated, in the future this will be a logical operation matching Series.__and__.  Use index.intersection(other) instead\n",
      "  T3395營業利益 = T3395營業利益[T3395營業利益.columns & 收盤價.columns]\n",
      "D:\\Finlab\\用 Python 理財：打造自己的 AI 股票理專\\finlab\\ml.py:137: FutureWarning: Index.__and__ operating as a set operation is deprecated, in the future this will be a logical operation matching Series.__and__.  Use index.intersection(other) instead\n",
      "  R202用人費用率 = R202用人費用率[R202用人費用率.columns & 收盤價.columns]\n",
      "D:\\Finlab\\用 Python 理財：打造自己的 AI 股票理專\\finlab\\ml.py:140: FutureWarning: Index.__and__ operating as a set operation is deprecated, in the future this will be a logical operation matching Series.__and__.  Use index.intersection(other) instead\n",
      "  T3356研究發展費 = T3356研究發展費[T3356研究發展費.columns & 收盤價.columns]\n",
      "D:\\Finlab\\用 Python 理財：打造自己的 AI 股票理專\\finlab\\ml.py:143: FutureWarning: Index.__and__ operating as a set operation is deprecated, in the future this will be a logical operation matching Series.__and__.  Use index.intersection(other) instead\n",
      "  T7210營運現金流 = T7210營運現金流[T7210營運現金流.columns & 收盤價.columns]\n",
      "D:\\Finlab\\用 Python 理財：打造自己的 AI 股票理專\\finlab\\ml.py:146: FutureWarning: Index.__and__ operating as a set operation is deprecated, in the future this will be a logical operation matching Series.__and__.  Use index.intersection(other) instead\n",
      "  T3950歸屬母公司淨利 = T3950歸屬母公司淨利[T3950歸屬母公司淨利.columns & 收盤價.columns]\n",
      "D:\\Finlab\\用 Python 理財：打造自己的 AI 股票理專\\finlab\\ml.py:149: FutureWarning: Index.__and__ operating as a set operation is deprecated, in the future this will be a logical operation matching Series.__and__.  Use index.intersection(other) instead\n",
      "  T1000負債總額 =T1000負債總額[T1000負債總額.columns & 收盤價.columns]\n",
      "D:\\Finlab\\用 Python 理財：打造自己的 AI 股票理專\\finlab\\ml.py:152: FutureWarning: Index.__and__ operating as a set operation is deprecated, in the future this will be a logical operation matching Series.__and__.  Use index.intersection(other) instead\n",
      "  T3200營業成本 = T3200營業成本[T3200營業成本.columns & 收盤價.columns]\n",
      "D:\\Finlab\\用 Python 理財：打造自己的 AI 股票理專\\finlab\\ml.py:156: FutureWarning: Index.__and__ operating as a set operation is deprecated, in the future this will be a logical operation matching Series.__and__.  Use index.intersection(other) instead\n",
      "  T7324取得不動產廠房及設備 = T7324取得不動產廠房及設備[ T7324取得不動產廠房及設備.columns & 收盤價.columns]\n",
      "D:\\Finlab\\用 Python 理財：打造自己的 AI 股票理專\\finlab\\ml.py:158: FutureWarning: Index.__and__ operating as a set operation is deprecated, in the future this will be a logical operation matching Series.__and__.  Use index.intersection(other) instead\n",
      "  應收帳款關係人淨額 = 應收帳款關係人淨額[應收帳款關係人淨額.columns & 收盤價.columns]\n",
      "D:\\Finlab\\用 Python 理財：打造自己的 AI 股票理專\\finlab\\ml.py:161: FutureWarning: Index.__and__ operating as a set operation is deprecated, in the future this will be a logical operation matching Series.__and__.  Use index.intersection(other) instead\n",
      "  應收票據淨額 = 應收票據淨額[應收票據淨額.columns & 收盤價.columns]\n",
      "D:\\Finlab\\用 Python 理財：打造自己的 AI 股票理專\\finlab\\ml.py:164: FutureWarning: Index.__and__ operating as a set operation is deprecated, in the future this will be a logical operation matching Series.__and__.  Use index.intersection(other) instead\n",
      "  應收票據關係人淨額 = 應收票據關係人淨額[應收票據關係人淨額.columns & 收盤價.columns]\n",
      "D:\\Finlab\\用 Python 理財：打造自己的 AI 股票理專\\finlab\\ml.py:167: FutureWarning: Index.__and__ operating as a set operation is deprecated, in the future this will be a logical operation matching Series.__and__.  Use index.intersection(other) instead\n",
      "  應收帳款淨額 = 應收帳款淨額[應收帳款淨額.columns & 收盤價.columns]\n"
     ]
    },
    {
     "data": {
      "text/html": [
       "<div>\n",
       "<style scoped>\n",
       "    .dataframe tbody tr th:only-of-type {\n",
       "        vertical-align: middle;\n",
       "    }\n",
       "\n",
       "    .dataframe tbody tr th {\n",
       "        vertical-align: top;\n",
       "    }\n",
       "\n",
       "    .dataframe thead th {\n",
       "        text-align: right;\n",
       "    }\n",
       "</style>\n",
       "<table border=\"1\" class=\"dataframe\">\n",
       "  <thead>\n",
       "    <tr style=\"text-align: right;\">\n",
       "      <th></th>\n",
       "      <th></th>\n",
       "      <th>T3395營業利益</th>\n",
       "      <th>T7210營運現金流</th>\n",
       "      <th>T3950歸屬母公司淨利</th>\n",
       "      <th>T7211折舊</th>\n",
       "      <th>T0100流動資產</th>\n",
       "      <th>T1100流動負債</th>\n",
       "      <th>T7324取得不動產廠房及設備</th>\n",
       "      <th>T3970經常稅後淨利</th>\n",
       "      <th>R101_ROA稅後息前</th>\n",
       "      <th>R11V_ROA綜合損益</th>\n",
       "      <th>...</th>\n",
       "      <th>R409_淨值成長率</th>\n",
       "      <th>R501_流動比率</th>\n",
       "      <th>R502_速動比率</th>\n",
       "      <th>R503_利息支出率</th>\n",
       "      <th>R678_營運資金</th>\n",
       "      <th>R607_總資產週轉次數</th>\n",
       "      <th>R610_存貨週轉率</th>\n",
       "      <th>R612_固定資產週轉次數</th>\n",
       "      <th>R613_淨值週轉率次</th>\n",
       "      <th>R69B_自由現金流量</th>\n",
       "    </tr>\n",
       "    <tr>\n",
       "      <th>stock_id</th>\n",
       "      <th>date</th>\n",
       "      <th></th>\n",
       "      <th></th>\n",
       "      <th></th>\n",
       "      <th></th>\n",
       "      <th></th>\n",
       "      <th></th>\n",
       "      <th></th>\n",
       "      <th></th>\n",
       "      <th></th>\n",
       "      <th></th>\n",
       "      <th></th>\n",
       "      <th></th>\n",
       "      <th></th>\n",
       "      <th></th>\n",
       "      <th></th>\n",
       "      <th></th>\n",
       "      <th></th>\n",
       "      <th></th>\n",
       "      <th></th>\n",
       "      <th></th>\n",
       "      <th></th>\n",
       "    </tr>\n",
       "  </thead>\n",
       "  <tbody>\n",
       "    <tr>\n",
       "      <th rowspan=\"5\" valign=\"top\">1101</th>\n",
       "      <th>2013-05-15</th>\n",
       "      <td>2026729.0</td>\n",
       "      <td>2274053.0</td>\n",
       "      <td>1911110.0</td>\n",
       "      <td>1571884.0</td>\n",
       "      <td>77246355.0</td>\n",
       "      <td>65913019.0</td>\n",
       "      <td>-211456.0</td>\n",
       "      <td>1999624.0</td>\n",
       "      <td>NaN</td>\n",
       "      <td>NaN</td>\n",
       "      <td>...</td>\n",
       "      <td>NaN</td>\n",
       "      <td>117.194382</td>\n",
       "      <td>83.137456</td>\n",
       "      <td>-8.186859</td>\n",
       "      <td>11333336.0</td>\n",
       "      <td>NaN</td>\n",
       "      <td>NaN</td>\n",
       "      <td>NaN</td>\n",
       "      <td>NaN</td>\n",
       "      <td>NaN</td>\n",
       "    </tr>\n",
       "    <tr>\n",
       "      <th>2013-08-14</th>\n",
       "      <td>4588992.0</td>\n",
       "      <td>6029953.0</td>\n",
       "      <td>949640.0</td>\n",
       "      <td>1543041.0</td>\n",
       "      <td>77139390.0</td>\n",
       "      <td>68971246.0</td>\n",
       "      <td>-1033541.0</td>\n",
       "      <td>3802105.0</td>\n",
       "      <td>-1.233843</td>\n",
       "      <td>0.944284</td>\n",
       "      <td>...</td>\n",
       "      <td>NaN</td>\n",
       "      <td>111.842825</td>\n",
       "      <td>79.609613</td>\n",
       "      <td>-13.298556</td>\n",
       "      <td>8168144.0</td>\n",
       "      <td>0.104927</td>\n",
       "      <td>2.279272</td>\n",
       "      <td>0.258545</td>\n",
       "      <td>0.201496</td>\n",
       "      <td>9467257.0</td>\n",
       "    </tr>\n",
       "    <tr>\n",
       "      <th>2013-11-14</th>\n",
       "      <td>5910634.0</td>\n",
       "      <td>5168764.0</td>\n",
       "      <td>5025600.0</td>\n",
       "      <td>1605424.0</td>\n",
       "      <td>77212043.0</td>\n",
       "      <td>73733391.0</td>\n",
       "      <td>-470935.0</td>\n",
       "      <td>5344662.0</td>\n",
       "      <td>-1.130208</td>\n",
       "      <td>2.481737</td>\n",
       "      <td>...</td>\n",
       "      <td>NaN</td>\n",
       "      <td>104.717879</td>\n",
       "      <td>83.502774</td>\n",
       "      <td>-17.083477</td>\n",
       "      <td>3478652.0</td>\n",
       "      <td>0.110355</td>\n",
       "      <td>2.335831</td>\n",
       "      <td>0.272965</td>\n",
       "      <td>0.211719</td>\n",
       "      <td>12033719.0</td>\n",
       "    </tr>\n",
       "    <tr>\n",
       "      <th>2014-03-31</th>\n",
       "      <td>5249620.0</td>\n",
       "      <td>8500835.0</td>\n",
       "      <td>6450131.0</td>\n",
       "      <td>2118671.0</td>\n",
       "      <td>87788055.0</td>\n",
       "      <td>70398494.0</td>\n",
       "      <td>-1089134.0</td>\n",
       "      <td>3972292.0</td>\n",
       "      <td>-0.339410</td>\n",
       "      <td>3.102975</td>\n",
       "      <td>...</td>\n",
       "      <td>NaN</td>\n",
       "      <td>124.701609</td>\n",
       "      <td>102.946688</td>\n",
       "      <td>-32.624816</td>\n",
       "      <td>17389561.0</td>\n",
       "      <td>0.119738</td>\n",
       "      <td>2.763869</td>\n",
       "      <td>0.302962</td>\n",
       "      <td>0.222264</td>\n",
       "      <td>-6823797.0</td>\n",
       "    </tr>\n",
       "    <tr>\n",
       "      <th>2014-05-15</th>\n",
       "      <td>3684224.0</td>\n",
       "      <td>6895832.0</td>\n",
       "      <td>4015175.0</td>\n",
       "      <td>1594505.0</td>\n",
       "      <td>92121458.0</td>\n",
       "      <td>74388787.0</td>\n",
       "      <td>-940633.0</td>\n",
       "      <td>2791235.0</td>\n",
       "      <td>-1.732411</td>\n",
       "      <td>1.630076</td>\n",
       "      <td>...</td>\n",
       "      <td>8.86688</td>\n",
       "      <td>123.837828</td>\n",
       "      <td>101.776758</td>\n",
       "      <td>-9.792979</td>\n",
       "      <td>17732671.0</td>\n",
       "      <td>0.093998</td>\n",
       "      <td>2.191306</td>\n",
       "      <td>0.245688</td>\n",
       "      <td>0.171327</td>\n",
       "      <td>4901868.0</td>\n",
       "    </tr>\n",
       "  </tbody>\n",
       "</table>\n",
       "<p>5 rows × 48 columns</p>\n",
       "</div>"
      ],
      "text/plain": [
       "                     T3395營業利益  T7210營運現金流  T3950歸屬母公司淨利    T7211折舊  \\\n",
       "stock_id date                                                         \n",
       "1101     2013-05-15  2026729.0   2274053.0     1911110.0  1571884.0   \n",
       "         2013-08-14  4588992.0   6029953.0      949640.0  1543041.0   \n",
       "         2013-11-14  5910634.0   5168764.0     5025600.0  1605424.0   \n",
       "         2014-03-31  5249620.0   8500835.0     6450131.0  2118671.0   \n",
       "         2014-05-15  3684224.0   6895832.0     4015175.0  1594505.0   \n",
       "\n",
       "                      T0100流動資產   T1100流動負債  T7324取得不動產廠房及設備  T3970經常稅後淨利  \\\n",
       "stock_id date                                                               \n",
       "1101     2013-05-15  77246355.0  65913019.0        -211456.0    1999624.0   \n",
       "         2013-08-14  77139390.0  68971246.0       -1033541.0    3802105.0   \n",
       "         2013-11-14  77212043.0  73733391.0        -470935.0    5344662.0   \n",
       "         2014-03-31  87788055.0  70398494.0       -1089134.0    3972292.0   \n",
       "         2014-05-15  92121458.0  74388787.0        -940633.0    2791235.0   \n",
       "\n",
       "                     R101_ROA稅後息前  R11V_ROA綜合損益  ...  R409_淨值成長率   R501_流動比率  \\\n",
       "stock_id date                                    ...                           \n",
       "1101     2013-05-15           NaN           NaN  ...         NaN  117.194382   \n",
       "         2013-08-14     -1.233843      0.944284  ...         NaN  111.842825   \n",
       "         2013-11-14     -1.130208      2.481737  ...         NaN  104.717879   \n",
       "         2014-03-31     -0.339410      3.102975  ...         NaN  124.701609   \n",
       "         2014-05-15     -1.732411      1.630076  ...     8.86688  123.837828   \n",
       "\n",
       "                      R502_速動比率  R503_利息支出率   R678_營運資金  R607_總資產週轉次數  \\\n",
       "stock_id date                                                           \n",
       "1101     2013-05-15   83.137456   -8.186859  11333336.0           NaN   \n",
       "         2013-08-14   79.609613  -13.298556   8168144.0      0.104927   \n",
       "         2013-11-14   83.502774  -17.083477   3478652.0      0.110355   \n",
       "         2014-03-31  102.946688  -32.624816  17389561.0      0.119738   \n",
       "         2014-05-15  101.776758   -9.792979  17732671.0      0.093998   \n",
       "\n",
       "                     R610_存貨週轉率  R612_固定資產週轉次數  R613_淨值週轉率次  R69B_自由現金流量  \n",
       "stock_id date                                                             \n",
       "1101     2013-05-15         NaN            NaN          NaN          NaN  \n",
       "         2013-08-14    2.279272       0.258545     0.201496    9467257.0  \n",
       "         2013-11-14    2.335831       0.272965     0.211719   12033719.0  \n",
       "         2014-03-31    2.763869       0.302962     0.222264   -6823797.0  \n",
       "         2014-05-15    2.191306       0.245688     0.171327    4901868.0  \n",
       "\n",
       "[5 rows x 48 columns]"
      ]
     },
     "execution_count": 1,
     "metadata": {},
     "output_type": "execute_result"
    }
   ],
   "source": [
    "import finlab.ml as ml\n",
    "\n",
    "dataset = ml.fundamental_features()\n",
    "dataset.head()"
   ]
  },
  {
   "cell_type": "code",
   "execution_count": 2,
   "metadata": {},
   "outputs": [
    {
     "data": {
      "text/html": [
       "<div>\n",
       "<style scoped>\n",
       "    .dataframe tbody tr th:only-of-type {\n",
       "        vertical-align: middle;\n",
       "    }\n",
       "\n",
       "    .dataframe tbody tr th {\n",
       "        vertical-align: top;\n",
       "    }\n",
       "\n",
       "    .dataframe thead th {\n",
       "        text-align: right;\n",
       "    }\n",
       "</style>\n",
       "<table border=\"1\" class=\"dataframe\">\n",
       "  <thead>\n",
       "    <tr style=\"text-align: right;\">\n",
       "      <th></th>\n",
       "      <th></th>\n",
       "      <th>R103_ROE稅後</th>\n",
       "      <th>R402_營業毛利成長率</th>\n",
       "    </tr>\n",
       "    <tr>\n",
       "      <th>stock_id</th>\n",
       "      <th>date</th>\n",
       "      <th></th>\n",
       "      <th></th>\n",
       "    </tr>\n",
       "  </thead>\n",
       "  <tbody>\n",
       "    <tr>\n",
       "      <th rowspan=\"5\" valign=\"top\">1101</th>\n",
       "      <th>2014-05-15</th>\n",
       "      <td>1.789978</td>\n",
       "      <td>55.708493</td>\n",
       "    </tr>\n",
       "    <tr>\n",
       "      <th>2014-08-14</th>\n",
       "      <td>3.158575</td>\n",
       "      <td>27.022920</td>\n",
       "    </tr>\n",
       "    <tr>\n",
       "      <th>2014-11-14</th>\n",
       "      <td>3.279737</td>\n",
       "      <td>-5.396195</td>\n",
       "    </tr>\n",
       "    <tr>\n",
       "      <th>2015-03-31</th>\n",
       "      <td>2.554910</td>\n",
       "      <td>-11.807846</td>\n",
       "    </tr>\n",
       "    <tr>\n",
       "      <th>2015-05-15</th>\n",
       "      <td>0.601114</td>\n",
       "      <td>-41.181555</td>\n",
       "    </tr>\n",
       "  </tbody>\n",
       "</table>\n",
       "</div>"
      ],
      "text/plain": [
       "                     R103_ROE稅後  R402_營業毛利成長率\n",
       "stock_id date                                \n",
       "1101     2014-05-15    1.789978     55.708493\n",
       "         2014-08-14    3.158575     27.022920\n",
       "         2014-11-14    3.279737     -5.396195\n",
       "         2015-03-31    2.554910    -11.807846\n",
       "         2015-05-15    0.601114    -41.181555"
      ]
     },
     "execution_count": 2,
     "metadata": {},
     "output_type": "execute_result"
    }
   ],
   "source": [
    "dataset.columns\n",
    "features = ['R103_ROE稅後', 'R402_營業毛利成長率']\n",
    "dataset = dataset[features].dropna(how='any')\n",
    "dataset.head()"
   ]
  },
  {
   "cell_type": "markdown",
   "metadata": {},
   "source": [
    "## add prediction"
   ]
  },
  {
   "cell_type": "code",
   "execution_count": 3,
   "metadata": {
    "scrolled": true
   },
   "outputs": [
    {
     "name": "stderr",
     "output_type": "stream",
     "text": [
      "D:\\Finlab\\用 Python 理財：打造自己的 AI 股票理專\\finlab\\data.py:103: FutureWarning: Index.__or__ operating as a set operation is deprecated, in the future this will be a logical operation matching Series.__or__.  Use index.union(other) instead\n",
      "  all_index = (df.index | item.index).sort_values()\n",
      "D:\\Finlab\\用 Python 理財：打造自己的 AI 股票理專\\finlab\\data.py:103: FutureWarning: Index.__or__ operating as a set operation is deprecated, in the future this will be a logical operation matching Series.__or__.  Use index.union(other) instead\n",
      "  all_index = (df.index | item.index).sort_values()\n",
      "D:\\Finlab\\用 Python 理財：打造自己的 AI 股票理專\\finlab\\data.py:103: FutureWarning: Index.__or__ operating as a set operation is deprecated, in the future this will be a logical operation matching Series.__or__.  Use index.union(other) instead\n",
      "  all_index = (df.index | item.index).sort_values()\n",
      "D:\\Finlab\\用 Python 理財：打造自己的 AI 股票理專\\finlab\\data.py:103: FutureWarning: Index.__or__ operating as a set operation is deprecated, in the future this will be a logical operation matching Series.__or__.  Use index.union(other) instead\n",
      "  all_index = (df.index | item.index).sort_values()\n"
     ]
    },
    {
     "data": {
      "text/html": [
       "<div>\n",
       "<style scoped>\n",
       "    .dataframe tbody tr th:only-of-type {\n",
       "        vertical-align: middle;\n",
       "    }\n",
       "\n",
       "    .dataframe tbody tr th {\n",
       "        vertical-align: top;\n",
       "    }\n",
       "\n",
       "    .dataframe thead th {\n",
       "        text-align: right;\n",
       "    }\n",
       "</style>\n",
       "<table border=\"1\" class=\"dataframe\">\n",
       "  <thead>\n",
       "    <tr style=\"text-align: right;\">\n",
       "      <th></th>\n",
       "      <th></th>\n",
       "      <th>R103_ROE稅後</th>\n",
       "      <th>R402_營業毛利成長率</th>\n",
       "      <th>return</th>\n",
       "    </tr>\n",
       "    <tr>\n",
       "      <th>stock_id</th>\n",
       "      <th>date</th>\n",
       "      <th></th>\n",
       "      <th></th>\n",
       "      <th></th>\n",
       "    </tr>\n",
       "  </thead>\n",
       "  <tbody>\n",
       "    <tr>\n",
       "      <th rowspan=\"5\" valign=\"top\">1101</th>\n",
       "      <th>2014-05-15</th>\n",
       "      <td>1.789978</td>\n",
       "      <td>55.708493</td>\n",
       "      <td>1.073347</td>\n",
       "    </tr>\n",
       "    <tr>\n",
       "      <th>2014-08-14</th>\n",
       "      <td>3.158575</td>\n",
       "      <td>27.022920</td>\n",
       "      <td>0.984816</td>\n",
       "    </tr>\n",
       "    <tr>\n",
       "      <th>2014-11-14</th>\n",
       "      <td>3.279737</td>\n",
       "      <td>-5.396195</td>\n",
       "      <td>0.969163</td>\n",
       "    </tr>\n",
       "    <tr>\n",
       "      <th>2015-03-31</th>\n",
       "      <td>2.554910</td>\n",
       "      <td>-11.807846</td>\n",
       "      <td>0.956818</td>\n",
       "    </tr>\n",
       "    <tr>\n",
       "      <th>2015-05-15</th>\n",
       "      <td>0.601114</td>\n",
       "      <td>-41.181555</td>\n",
       "      <td>0.850077</td>\n",
       "    </tr>\n",
       "  </tbody>\n",
       "</table>\n",
       "</div>"
      ],
      "text/plain": [
       "                     R103_ROE稅後  R402_營業毛利成長率    return\n",
       "stock_id date                                          \n",
       "1101     2014-05-15    1.789978     55.708493  1.073347\n",
       "         2014-08-14    3.158575     27.022920  0.984816\n",
       "         2014-11-14    3.279737     -5.396195  0.969163\n",
       "         2015-03-31    2.554910    -11.807846  0.956818\n",
       "         2015-05-15    0.601114    -41.181555  0.850077"
      ]
     },
     "execution_count": 3,
     "metadata": {},
     "output_type": "execute_result"
    }
   ],
   "source": [
    "ml.add_profit_prediction(dataset)\n",
    "dataset.head()"
   ]
  },
  {
   "cell_type": "code",
   "execution_count": 4,
   "metadata": {
    "scrolled": true
   },
   "outputs": [
    {
     "data": {
      "text/plain": [
       "<AxesSubplot:xlabel='R103_ROE稅後', ylabel='R402_營業毛利成長率'>"
      ]
     },
     "execution_count": 4,
     "metadata": {},
     "output_type": "execute_result"
    },
    {
     "name": "stderr",
     "output_type": "stream",
     "text": [
      "C:\\Users\\User\\.conda\\envs\\finlab\\lib\\site-packages\\IPython\\core\\pylabtools.py:151: UserWarning: Glyph 31237 (\\N{CJK UNIFIED IDEOGRAPH-7A05}) missing from current font.\n",
      "  fig.canvas.print_figure(bytes_io, **kw)\n",
      "C:\\Users\\User\\.conda\\envs\\finlab\\lib\\site-packages\\IPython\\core\\pylabtools.py:151: UserWarning: Glyph 24460 (\\N{CJK UNIFIED IDEOGRAPH-5F8C}) missing from current font.\n",
      "  fig.canvas.print_figure(bytes_io, **kw)\n",
      "C:\\Users\\User\\.conda\\envs\\finlab\\lib\\site-packages\\IPython\\core\\pylabtools.py:151: UserWarning: Glyph 29151 (\\N{CJK UNIFIED IDEOGRAPH-71DF}) missing from current font.\n",
      "  fig.canvas.print_figure(bytes_io, **kw)\n",
      "C:\\Users\\User\\.conda\\envs\\finlab\\lib\\site-packages\\IPython\\core\\pylabtools.py:151: UserWarning: Glyph 26989 (\\N{CJK UNIFIED IDEOGRAPH-696D}) missing from current font.\n",
      "  fig.canvas.print_figure(bytes_io, **kw)\n",
      "C:\\Users\\User\\.conda\\envs\\finlab\\lib\\site-packages\\IPython\\core\\pylabtools.py:151: UserWarning: Glyph 27611 (\\N{CJK UNIFIED IDEOGRAPH-6BDB}) missing from current font.\n",
      "  fig.canvas.print_figure(bytes_io, **kw)\n",
      "C:\\Users\\User\\.conda\\envs\\finlab\\lib\\site-packages\\IPython\\core\\pylabtools.py:151: UserWarning: Glyph 21033 (\\N{CJK UNIFIED IDEOGRAPH-5229}) missing from current font.\n",
      "  fig.canvas.print_figure(bytes_io, **kw)\n",
      "C:\\Users\\User\\.conda\\envs\\finlab\\lib\\site-packages\\IPython\\core\\pylabtools.py:151: UserWarning: Glyph 25104 (\\N{CJK UNIFIED IDEOGRAPH-6210}) missing from current font.\n",
      "  fig.canvas.print_figure(bytes_io, **kw)\n",
      "C:\\Users\\User\\.conda\\envs\\finlab\\lib\\site-packages\\IPython\\core\\pylabtools.py:151: UserWarning: Glyph 38263 (\\N{CJK UNIFIED IDEOGRAPH-9577}) missing from current font.\n",
      "  fig.canvas.print_figure(bytes_io, **kw)\n",
      "C:\\Users\\User\\.conda\\envs\\finlab\\lib\\site-packages\\IPython\\core\\pylabtools.py:151: UserWarning: Glyph 29575 (\\N{CJK UNIFIED IDEOGRAPH-7387}) missing from current font.\n",
      "  fig.canvas.print_figure(bytes_io, **kw)\n"
     ]
    },
    {
     "data": {
      "image/png": "[encoded data removed]",
      "text/plain": [
       "<Figure size 432x288 with 1 Axes>"
      ]
     },
     "metadata": {
      "needs_background": "light"
     },
     "output_type": "display_data"
    }
   ],
   "source": [
    "%matplotlib inline\n",
    "dataset.plot.scatter(features[0], features[1])"
   ]
  },
  {
   "cell_type": "markdown",
   "metadata": {},
   "source": [
    "## remove outliers"
   ]
  },
  {
   "cell_type": "code",
   "execution_count": 5,
   "metadata": {},
   "outputs": [
    {
     "data": {
      "text/plain": [
       "<AxesSubplot:>"
      ]
     },
     "execution_count": 5,
     "metadata": {},
     "output_type": "execute_result"
    },
    {
     "data": {
      "image/png": "[encoded data removed]",
      "text/plain": [
       "<Figure size 432x288 with 1 Axes>"
      ]
     },
     "metadata": {
      "needs_background": "light"
     },
     "output_type": "display_data"
    }
   ],
   "source": [
    "def is_valid(feature, nstd):\n",
    "    ub = feature.mean() + nstd * feature.std()\n",
    "    lb = feature.mean() - nstd * feature.std()\n",
    "\n",
    "    return (feature > lb) & (feature <ub)\n",
    "\n",
    "valid = is_valid(dataset['R103_ROE稅後'], 2) & is_valid(dataset['R402_營業毛利成長率'], 0.05)\n",
    "dataset_rmoutliers = dataset[valid].dropna()\n",
    "\n",
    "dataset_rmoutliers['R103_ROE稅後'].hist(bins=100)\n",
    "#dataset_rmoutliers['R402_營業毛利成長率'].hist(bins=100)"
   ]
  },
  {
   "cell_type": "markdown",
   "metadata": {},
   "source": [
    "## Scale features"
   ]
  },
  {
   "cell_type": "code",
   "execution_count": 6,
   "metadata": {},
   "outputs": [
    {
     "data": {
      "image/png": "[encoded data removed]",
      "text/plain": [
       "<Figure size 432x288 with 1 Axes>"
      ]
     },
     "metadata": {
      "needs_background": "light"
     },
     "output_type": "display_data"
    }
   ],
   "source": [
    "import pandas as pd\n",
    "import sklearn.preprocessing as preprocessing\n",
    "\n",
    "dataset_scaled = pd.DataFrame(preprocessing.scale(dataset_rmoutliers), index=dataset_rmoutliers.index, columns=dataset_rmoutliers.columns)\n",
    "dataset_scaled.head()\n",
    "\n",
    "dataset_scaled['R103_ROE稅後'].hist(bins=100)\n",
    "dataset_scaled['R402_營業毛利成長率'].hist(bins=100, alpha=0.5)\n",
    "dataset_scaled['return'] = dataset_rmoutliers['return']\n"
   ]
  },
  {
   "cell_type": "markdown",
   "metadata": {},
   "source": [
    "## Training"
   ]
  },
  {
   "cell_type": "code",
   "execution_count": 7,
   "metadata": {},
   "outputs": [
    {
     "data": {
      "text/plain": [
       "SVC(gamma='auto', kernel='linear')"
      ]
     },
     "execution_count": 7,
     "metadata": {},
     "output_type": "execute_result"
    }
   ],
   "source": [
    "from sklearn.model_selection import train_test_split\n",
    "\n",
    "dataset_train, dataset_test = train_test_split(dataset_scaled, test_size=0.1, random_state=0)\n",
    "\n",
    "from sklearn.svm import SVC\n",
    "\n",
    "cf = SVC(C=1.0, cache_size=200, class_weight=None, coef0=0.0,\n",
    "  decision_function_shape='ovr', degree=3, gamma='auto',\n",
    "  kernel='linear', max_iter=-1, probability=False, random_state=None,\n",
    "  shrinking=True, tol=0.001, verbose=False)\n",
    "\n",
    "cf.fit(dataset_train[features], dataset_train['return'] > dataset_train['return'].quantile(0.5))"
   ]
  },
  {
   "cell_type": "code",
   "execution_count": 8,
   "metadata": {},
   "outputs": [
    {
     "name": "stderr",
     "output_type": "stream",
     "text": [
      "C:\\Users\\User\\.conda\\envs\\finlab\\lib\\site-packages\\sklearn\\base.py:451: UserWarning: X does not have valid feature names, but SVC was fitted with feature names\n",
      "  \"X does not have valid feature names, but\"\n"
     ]
    },
    {
     "data": {
      "text/plain": [
       "<AxesSubplot:>"
      ]
     },
     "execution_count": 8,
     "metadata": {},
     "output_type": "execute_result"
    },
    {
     "data": {
      "image/png": "[encoded data removed]",
      "text/plain": [
       "<Figure size 432x288 with 1 Axes>"
      ]
     },
     "metadata": {
      "needs_background": "light"
     },
     "output_type": "display_data"
    }
   ],
   "source": [
    "from mlxtend.plotting import plot_decision_regions\n",
    "\n",
    "features_plot = dataset_test[features].values\n",
    "labels_plot = (dataset_test['return'] > dataset_test['return'].quantile(0.5)).astype(int).values\n",
    "\n",
    "plot_decision_regions(features_plot, labels_plot, cf)"
   ]
  },
  {
   "cell_type": "markdown",
   "metadata": {},
   "source": [
    "## backtest"
   ]
  },
  {
   "cell_type": "code",
   "execution_count": 9,
   "metadata": {},
   "outputs": [
    {
     "data": {
      "text/plain": [
       "<AxesSubplot:>"
      ]
     },
     "execution_count": 9,
     "metadata": {},
     "output_type": "execute_result"
    },
    {
     "data": {
      "image/png": "[encoded data removed]",
      "text/plain": [
       "<Figure size 432x288 with 1 Axes>"
      ]
     },
     "metadata": {},
     "output_type": "display_data"
    }
   ],
   "source": [
    "history = dataset_test.copy()\n",
    "history['svm prediction'] = cf.predict(dataset_test[features])\n",
    "history = history.reset_index()\n",
    "\n",
    "dates = sorted(list(set(history['date'])))\n",
    "\n",
    "seasonal_returns1 = []\n",
    "seasonal_returns2 = []\n",
    "for date in dates:\n",
    "    current_stocks = history[history['date'] == date]\n",
    "    buy_stocks = current_stocks[current_stocks['svm prediction'] == True]\n",
    "    sell_stocks = current_stocks[current_stocks['svm prediction'] == False]\n",
    "    \n",
    "    seasonal_return1 = buy_stocks['return'].mean()\n",
    "    seasonal_returns1.append(seasonal_return1)\n",
    "    \n",
    "    seasonal_return2 = sell_stocks['return'].mean()\n",
    "    seasonal_returns2.append(seasonal_return2)\n",
    "\n",
    "import matplotlib.pyplot as plt\n",
    "plt.style.use(\"ggplot\")\n",
    "\n",
    "pd.Series(seasonal_returns1, index=dates).cumprod().plot(color='red')\n",
    "pd.Series(seasonal_returns2, index=dates).cumprod().plot(color='blue')"
   ]
  },
  {
   "cell_type": "code",
   "execution_count": null,
   "metadata": {},
   "outputs": [],
   "source": []
  }
 ],
 "metadata": {
  "kernelspec": {
   "display_name": "finlab",
   "language": "python",
   "name": "finlab"
  },
  "language_info": {
   "codemirror_mode": {
    "name": "ipython",
    "version": 3
   },
   "file_extension": ".py",
   "mimetype": "text/x-python",
   "name": "python",
   "nbconvert_exporter": "python",
   "pygments_lexer": "ipython3",
   "version": "3.7.13"
  }
 },
 "nbformat": 4,
 "nbformat_minor": 4
}

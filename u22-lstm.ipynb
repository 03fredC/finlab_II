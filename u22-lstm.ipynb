{
 "cells": [
  {
   "cell_type": "markdown",
   "metadata": {},
   "source": [
    "# 神經網路實做"
   ]
  },
  {
   "cell_type": "markdown",
   "metadata": {},
   "source": [
    "## 拿取加權指數資料"
   ]
  },
  {
   "cell_type": "code",
   "execution_count": 1,
   "metadata": {},
   "outputs": [
    {
     "name": "stderr",
     "output_type": "stream",
     "text": [
      "D:\\ProgramData\\Miniconda3\\envs\\finlab\\lib\\site-packages\\_distutils_hack\\__init__.py:33: UserWarning: Setuptools is replacing distutils.\n",
      "  warnings.warn(\"Setuptools is replacing distutils.\")\n"
     ]
    },
    {
     "data": {
      "text/plain": [
       "date\n",
       "2006-01-02 09:00:00    6548.34\n",
       "2006-01-02 09:15:00    6478.09\n",
       "2006-01-02 09:30:00    6474.88\n",
       "2006-01-02 09:45:00    6471.12\n",
       "2006-01-02 10:00:00    6480.50\n",
       "Name: 台股指數, dtype: float64"
      ]
     },
     "execution_count": 1,
     "metadata": {},
     "output_type": "execute_result"
    }
   ],
   "source": [
    "from finlab.data import Data\n",
    "\n",
    "data = Data()\n",
    "twii = data.get(\"發行量加權股價指數\")\n",
    "\n",
    "twii = twii['台股指數'].resample(\"15T\").first().dropna()\n",
    "twii.head()"
   ]
  },
  {
   "cell_type": "markdown",
   "metadata": {},
   "source": [
    "## 製作features"
   ]
  },
  {
   "cell_type": "code",
   "execution_count": 2,
   "metadata": {},
   "outputs": [],
   "source": [
    "import talib\n",
    "import numpy as np\n",
    "import pandas as pd\n",
    "\n",
    "sma = talib.SMA(twii, timeperiod=120)\n",
    "wma = talib.WMA(twii, timeperiod=120)\n",
    "mom = talib.MOM(twii, timeperiod=120)\n",
    "k, d = talib.STOCH  (twii, twii, twii, fastk_period=120, slowk_period=60, slowd_period=60)\n",
    "k2, d2 = talib.STOCH(twii, twii, twii, fastk_period=240, slowk_period=120, slowd_period=120)\n",
    "k3, d3 = talib.STOCH(twii, twii, twii, fastk_period=360, slowk_period=180, slowd_period=180)\n",
    "k4, d4 = talib.STOCH(twii, twii, twii, fastk_period=480, slowk_period=240, slowd_period=240)\n",
    "k5, d5 = talib.STOCH(twii, twii, twii, fastk_period=640, slowk_period=320, slowd_period=320)\n",
    "k6, d6 = talib.STOCH(twii, twii, twii, fastk_period=720, slowk_period=360, slowd_period=360)\n",
    "k7, d7 = talib.STOCH(twii, twii, twii, fastk_period=840, slowk_period=420, slowd_period=420)\n",
    "k8, d8 = talib.STOCH(twii, twii, twii, fastk_period=960, slowk_period=480, slowd_period=480)\n",
    "\n",
    "rsi = talib.RSI (twii, timeperiod=120)\n",
    "rsi2 = talib.RSI(twii, timeperiod=240)\n",
    "rsi3 = talib.RSI(twii, timeperiod=480)\n",
    "rsi4 = talib.RSI(twii, timeperiod=640)\n",
    "rsi5 = talib.RSI(twii, timeperiod=720)\n",
    "rsi6 = talib.RSI(twii, timeperiod=840)\n",
    "\n",
    "macd1, macd2, macd3 = talib.MACD(twii, fastperiod=120, slowperiod=60, signalperiod=60)\n",
    "willr = talib.WILLR(twii, twii, twii, timeperiod=120)\n",
    "cci = talib.CCI(twii, twii, twii, timeperiod=120)\n",
    "\n",
    "dataset = pd.DataFrame({\n",
    "    'RSIb': rsi / 50,\n",
    "    'RSIb2': rsi2 / 50,\n",
    "    'RSIb3': rsi3 / 50,\n",
    "    'RSIb4': rsi4 / 50,\n",
    "    'RSIb5': rsi5 / 50,\n",
    "    'RSIb6': rsi6 / 50,\n",
    "    'MOMb': mom - 0,\n",
    "    'KDb': k - d,\n",
    "    'KDb2': k2 - d2,\n",
    "    'KDb3': k3 - d3,\n",
    "    'KDb4': k4 - d4,\n",
    "    'KDb5': k5 - d5,\n",
    "    'KDb6': k6 - d6,\n",
    "    'KDb7': k7 - d7,\n",
    "    'KDb8': k8 - d8,\n",
    "    \n",
    "    'a5':   (twii.rolling(5).mean()   / twii),\n",
    "    'a10':  (twii.rolling(10).mean()  / twii),\n",
    "    'a20':  (twii.rolling(20).mean()  / twii),\n",
    "    'a40':  (twii.rolling(40).mean()  / twii),\n",
    "    'a80':  (twii.rolling(80).mean()  / twii),\n",
    "    'a160': (twii.rolling(160).mean() / twii),\n",
    "    'a320': (twii.rolling(320).mean() / twii),\n",
    "    'a640': (twii.rolling(640).mean() / twii),\n",
    "    'a720': (twii.rolling(720).mean() / twii),\n",
    "    'a840': (twii.rolling(840).mean() / twii),\n",
    "    'a960': (twii.rolling(960).mean() / twii),\n",
    "    'a1024':(twii.rolling(1024).mean() / twii),\n",
    "    'b1': twii/twii.shift(50),\n",
    "    'b2': twii/twii.shift(100),\n",
    "    'b3': twii/twii.shift(150),\n",
    "    'b4': twii/twii.shift(200),\n",
    "    'b5': twii/twii.shift(250),\n",
    "    'b6': twii/twii.shift(300),\n",
    "    'b7': twii/twii.shift(350),\n",
    "    'LINEARREG_SLOPE0': talib.LINEARREG_SLOPE(twii, 60),\n",
    "    'LINEARREG_SLOPE1': talib.LINEARREG_SLOPE(twii, 120),\n",
    "\n",
    "    'ADXR0': talib.ADXR(twii, twii, twii, 60),\n",
    "    'ADXR1': talib.ADXR(twii, twii, twii, 120),\n",
    "    'ADXR2': talib.ADXR(twii, twii, twii, 240),\n",
    "    'ADXR3': talib.ADXR(twii, twii, twii, 360),\n",
    "    'ADXR4': talib.ADXR(twii, twii, twii, 480),\n",
    "    'ADXR5': talib.ADXR(twii, twii, twii, 640),\n",
    "\n",
    "    'return': twii.shift(-10) / twii,\n",
    "})\n",
    "\n",
    "feature_names = list(dataset.columns[:-1])"
   ]
  },
  {
   "cell_type": "markdown",
   "metadata": {},
   "source": [
    "## 簡單處理一下"
   ]
  },
  {
   "cell_type": "code",
   "execution_count": 3,
   "metadata": {},
   "outputs": [
    {
     "name": "stdout",
     "output_type": "stream",
     "text": [
      "before dropping NaN (79002, 43)\n",
      "after dropping NaN (77074, 43)\n"
     ]
    }
   ],
   "source": [
    "print(\"before dropping NaN\", dataset.shape)\n",
    "dataset = dataset.dropna()\n",
    "print(\"after dropping NaN\", dataset.shape)\n"
   ]
  },
  {
   "cell_type": "code",
   "execution_count": 4,
   "metadata": {},
   "outputs": [
    {
     "data": {
      "text/plain": [
       "LGBMClassifier(learning_rate=0.01, random_state=5)"
      ]
     },
     "execution_count": 4,
     "metadata": {},
     "output_type": "execute_result"
    }
   ],
   "source": [
    "import lightgbm as lgb\n",
    "dataset_train = dataset[:'2020']\n",
    "\n",
    "gbm = lgb.LGBMClassifier(n_estimators=100, random_state=5, learning_rate=0.01)\n",
    "\n",
    "gbm.fit(dataset_train[feature_names], dataset_train['return'] > 1)\n"
   ]
  },
  {
   "cell_type": "markdown",
   "metadata": {},
   "source": [
    "## 神經網路Preprocessing"
   ]
  },
  {
   "cell_type": "code",
   "execution_count": 5,
   "metadata": {},
   "outputs": [
    {
     "data": {
      "text/html": [
       "<div>\n",
       "<style scoped>\n",
       "    .dataframe tbody tr th:only-of-type {\n",
       "        vertical-align: middle;\n",
       "    }\n",
       "\n",
       "    .dataframe tbody tr th {\n",
       "        vertical-align: top;\n",
       "    }\n",
       "\n",
       "    .dataframe thead th {\n",
       "        text-align: right;\n",
       "    }\n",
       "</style>\n",
       "<table border=\"1\" class=\"dataframe\">\n",
       "  <thead>\n",
       "    <tr style=\"text-align: right;\">\n",
       "      <th></th>\n",
       "      <th>RSIb</th>\n",
       "      <th>RSIb2</th>\n",
       "      <th>RSIb3</th>\n",
       "      <th>RSIb4</th>\n",
       "      <th>RSIb5</th>\n",
       "      <th>RSIb6</th>\n",
       "      <th>MOMb</th>\n",
       "      <th>KDb</th>\n",
       "      <th>KDb2</th>\n",
       "      <th>KDb3</th>\n",
       "      <th>...</th>\n",
       "      <th>b7</th>\n",
       "      <th>LINEARREG_SLOPE0</th>\n",
       "      <th>LINEARREG_SLOPE1</th>\n",
       "      <th>ADXR0</th>\n",
       "      <th>ADXR1</th>\n",
       "      <th>ADXR2</th>\n",
       "      <th>ADXR3</th>\n",
       "      <th>ADXR4</th>\n",
       "      <th>ADXR5</th>\n",
       "      <th>return</th>\n",
       "    </tr>\n",
       "  </thead>\n",
       "  <tbody>\n",
       "    <tr>\n",
       "      <th>count</th>\n",
       "      <td>7.707400e+04</td>\n",
       "      <td>7.707400e+04</td>\n",
       "      <td>7.707400e+04</td>\n",
       "      <td>7.707400e+04</td>\n",
       "      <td>7.707400e+04</td>\n",
       "      <td>7.707400e+04</td>\n",
       "      <td>7.707400e+04</td>\n",
       "      <td>7.707400e+04</td>\n",
       "      <td>7.707400e+04</td>\n",
       "      <td>7.707400e+04</td>\n",
       "      <td>...</td>\n",
       "      <td>7.707400e+04</td>\n",
       "      <td>7.707400e+04</td>\n",
       "      <td>7.707400e+04</td>\n",
       "      <td>7.707400e+04</td>\n",
       "      <td>7.707400e+04</td>\n",
       "      <td>7.707400e+04</td>\n",
       "      <td>7.707400e+04</td>\n",
       "      <td>7.707400e+04</td>\n",
       "      <td>7.707400e+04</td>\n",
       "      <td>77074.000000</td>\n",
       "    </tr>\n",
       "    <tr>\n",
       "      <th>mean</th>\n",
       "      <td>1.199013e-16</td>\n",
       "      <td>9.335501e-16</td>\n",
       "      <td>-1.323131e-16</td>\n",
       "      <td>-3.053847e-15</td>\n",
       "      <td>-6.476159e-15</td>\n",
       "      <td>-1.493484e-15</td>\n",
       "      <td>4.634548e-17</td>\n",
       "      <td>3.725039e-18</td>\n",
       "      <td>3.003655e-17</td>\n",
       "      <td>-5.315311e-18</td>\n",
       "      <td>...</td>\n",
       "      <td>-1.642748e-15</td>\n",
       "      <td>-3.020941e-17</td>\n",
       "      <td>1.932814e-17</td>\n",
       "      <td>1.102338e-16</td>\n",
       "      <td>-1.162235e-15</td>\n",
       "      <td>-1.507561e-16</td>\n",
       "      <td>-4.859721e-16</td>\n",
       "      <td>7.269761e-16</td>\n",
       "      <td>-6.370998e-16</td>\n",
       "      <td>1.000126</td>\n",
       "    </tr>\n",
       "    <tr>\n",
       "      <th>std</th>\n",
       "      <td>1.000006e+00</td>\n",
       "      <td>1.000006e+00</td>\n",
       "      <td>1.000006e+00</td>\n",
       "      <td>1.000006e+00</td>\n",
       "      <td>1.000006e+00</td>\n",
       "      <td>1.000006e+00</td>\n",
       "      <td>1.000006e+00</td>\n",
       "      <td>1.000006e+00</td>\n",
       "      <td>1.000006e+00</td>\n",
       "      <td>1.000006e+00</td>\n",
       "      <td>...</td>\n",
       "      <td>1.000006e+00</td>\n",
       "      <td>1.000006e+00</td>\n",
       "      <td>1.000006e+00</td>\n",
       "      <td>1.000006e+00</td>\n",
       "      <td>1.000006e+00</td>\n",
       "      <td>1.000006e+00</td>\n",
       "      <td>1.000006e+00</td>\n",
       "      <td>1.000006e+00</td>\n",
       "      <td>1.000006e+00</td>\n",
       "      <td>0.008246</td>\n",
       "    </tr>\n",
       "    <tr>\n",
       "      <th>min</th>\n",
       "      <td>-4.375234e+00</td>\n",
       "      <td>-4.507799e+00</td>\n",
       "      <td>-4.761163e+00</td>\n",
       "      <td>-4.737261e+00</td>\n",
       "      <td>-4.701149e+00</td>\n",
       "      <td>-4.630243e+00</td>\n",
       "      <td>-8.927808e+00</td>\n",
       "      <td>-2.585161e+00</td>\n",
       "      <td>-2.685509e+00</td>\n",
       "      <td>-2.666064e+00</td>\n",
       "      <td>...</td>\n",
       "      <td>-5.481681e+00</td>\n",
       "      <td>-9.356083e+00</td>\n",
       "      <td>-7.124939e+00</td>\n",
       "      <td>-2.106558e+00</td>\n",
       "      <td>-2.010208e+00</td>\n",
       "      <td>-1.696746e+00</td>\n",
       "      <td>-1.612674e+00</td>\n",
       "      <td>-1.754828e+00</td>\n",
       "      <td>-1.800766e+00</td>\n",
       "      <td>0.924507</td>\n",
       "    </tr>\n",
       "    <tr>\n",
       "      <th>25%</th>\n",
       "      <td>-6.827856e-01</td>\n",
       "      <td>-6.832568e-01</td>\n",
       "      <td>-6.702569e-01</td>\n",
       "      <td>-6.652009e-01</td>\n",
       "      <td>-6.607103e-01</td>\n",
       "      <td>-6.520500e-01</td>\n",
       "      <td>-4.593474e-01</td>\n",
       "      <td>-6.393931e-01</td>\n",
       "      <td>-6.447801e-01</td>\n",
       "      <td>-6.281137e-01</td>\n",
       "      <td>...</td>\n",
       "      <td>-5.309859e-01</td>\n",
       "      <td>-4.633679e-01</td>\n",
       "      <td>-4.682248e-01</td>\n",
       "      <td>-7.436624e-01</td>\n",
       "      <td>-6.998095e-01</td>\n",
       "      <td>-7.513924e-01</td>\n",
       "      <td>-7.019419e-01</td>\n",
       "      <td>-6.865189e-01</td>\n",
       "      <td>-7.207257e-01</td>\n",
       "      <td>0.996988</td>\n",
       "    </tr>\n",
       "    <tr>\n",
       "      <th>50%</th>\n",
       "      <td>9.806048e-02</td>\n",
       "      <td>1.166437e-01</td>\n",
       "      <td>1.154802e-01</td>\n",
       "      <td>1.209703e-01</td>\n",
       "      <td>1.264815e-01</td>\n",
       "      <td>1.348818e-01</td>\n",
       "      <td>9.381266e-02</td>\n",
       "      <td>-1.340082e-02</td>\n",
       "      <td>-3.109266e-02</td>\n",
       "      <td>-6.402716e-03</td>\n",
       "      <td>...</td>\n",
       "      <td>1.207952e-01</td>\n",
       "      <td>7.941809e-02</td>\n",
       "      <td>8.620214e-02</td>\n",
       "      <td>-1.502584e-01</td>\n",
       "      <td>-2.283676e-01</td>\n",
       "      <td>-2.733137e-01</td>\n",
       "      <td>-2.531058e-01</td>\n",
       "      <td>-2.308046e-01</td>\n",
       "      <td>-2.123910e-01</td>\n",
       "      <td>1.000282</td>\n",
       "    </tr>\n",
       "    <tr>\n",
       "      <th>75%</th>\n",
       "      <td>7.234538e-01</td>\n",
       "      <td>7.146402e-01</td>\n",
       "      <td>6.891096e-01</td>\n",
       "      <td>6.946357e-01</td>\n",
       "      <td>6.936443e-01</td>\n",
       "      <td>6.914010e-01</td>\n",
       "      <td>5.750143e-01</td>\n",
       "      <td>6.560989e-01</td>\n",
       "      <td>6.714930e-01</td>\n",
       "      <td>6.021685e-01</td>\n",
       "      <td>...</td>\n",
       "      <td>5.833069e-01</td>\n",
       "      <td>5.646887e-01</td>\n",
       "      <td>5.762794e-01</td>\n",
       "      <td>5.918864e-01</td>\n",
       "      <td>4.675324e-01</td>\n",
       "      <td>5.032583e-01</td>\n",
       "      <td>4.954618e-01</td>\n",
       "      <td>5.037636e-01</td>\n",
       "      <td>5.897731e-01</td>\n",
       "      <td>1.003699</td>\n",
       "    </tr>\n",
       "    <tr>\n",
       "      <th>max</th>\n",
       "      <td>2.876612e+00</td>\n",
       "      <td>2.818654e+00</td>\n",
       "      <td>3.017061e+00</td>\n",
       "      <td>3.087917e+00</td>\n",
       "      <td>3.104363e+00</td>\n",
       "      <td>3.114618e+00</td>\n",
       "      <td>4.976245e+00</td>\n",
       "      <td>2.725618e+00</td>\n",
       "      <td>2.594254e+00</td>\n",
       "      <td>2.566409e+00</td>\n",
       "      <td>...</td>\n",
       "      <td>4.872770e+00</td>\n",
       "      <td>4.704428e+00</td>\n",
       "      <td>3.988879e+00</td>\n",
       "      <td>4.483136e+00</td>\n",
       "      <td>4.061787e+00</td>\n",
       "      <td>3.826344e+00</td>\n",
       "      <td>3.569066e+00</td>\n",
       "      <td>3.683582e+00</td>\n",
       "      <td>3.524693e+00</td>\n",
       "      <td>1.087726</td>\n",
       "    </tr>\n",
       "  </tbody>\n",
       "</table>\n",
       "<p>8 rows × 43 columns</p>\n",
       "</div>"
      ],
      "text/plain": [
       "               RSIb         RSIb2         RSIb3         RSIb4         RSIb5  \\\n",
       "count  7.707400e+04  7.707400e+04  7.707400e+04  7.707400e+04  7.707400e+04   \n",
       "mean   1.199013e-16  9.335501e-16 -1.323131e-16 -3.053847e-15 -6.476159e-15   \n",
       "std    1.000006e+00  1.000006e+00  1.000006e+00  1.000006e+00  1.000006e+00   \n",
       "min   -4.375234e+00 -4.507799e+00 -4.761163e+00 -4.737261e+00 -4.701149e+00   \n",
       "25%   -6.827856e-01 -6.832568e-01 -6.702569e-01 -6.652009e-01 -6.607103e-01   \n",
       "50%    9.806048e-02  1.166437e-01  1.154802e-01  1.209703e-01  1.264815e-01   \n",
       "75%    7.234538e-01  7.146402e-01  6.891096e-01  6.946357e-01  6.936443e-01   \n",
       "max    2.876612e+00  2.818654e+00  3.017061e+00  3.087917e+00  3.104363e+00   \n",
       "\n",
       "              RSIb6          MOMb           KDb          KDb2          KDb3  \\\n",
       "count  7.707400e+04  7.707400e+04  7.707400e+04  7.707400e+04  7.707400e+04   \n",
       "mean  -1.493484e-15  4.634548e-17  3.725039e-18  3.003655e-17 -5.315311e-18   \n",
       "std    1.000006e+00  1.000006e+00  1.000006e+00  1.000006e+00  1.000006e+00   \n",
       "min   -4.630243e+00 -8.927808e+00 -2.585161e+00 -2.685509e+00 -2.666064e+00   \n",
       "25%   -6.520500e-01 -4.593474e-01 -6.393931e-01 -6.447801e-01 -6.281137e-01   \n",
       "50%    1.348818e-01  9.381266e-02 -1.340082e-02 -3.109266e-02 -6.402716e-03   \n",
       "75%    6.914010e-01  5.750143e-01  6.560989e-01  6.714930e-01  6.021685e-01   \n",
       "max    3.114618e+00  4.976245e+00  2.725618e+00  2.594254e+00  2.566409e+00   \n",
       "\n",
       "       ...            b7  LINEARREG_SLOPE0  LINEARREG_SLOPE1         ADXR0  \\\n",
       "count  ...  7.707400e+04      7.707400e+04      7.707400e+04  7.707400e+04   \n",
       "mean   ... -1.642748e-15     -3.020941e-17      1.932814e-17  1.102338e-16   \n",
       "std    ...  1.000006e+00      1.000006e+00      1.000006e+00  1.000006e+00   \n",
       "min    ... -5.481681e+00     -9.356083e+00     -7.124939e+00 -2.106558e+00   \n",
       "25%    ... -5.309859e-01     -4.633679e-01     -4.682248e-01 -7.436624e-01   \n",
       "50%    ...  1.207952e-01      7.941809e-02      8.620214e-02 -1.502584e-01   \n",
       "75%    ...  5.833069e-01      5.646887e-01      5.762794e-01  5.918864e-01   \n",
       "max    ...  4.872770e+00      4.704428e+00      3.988879e+00  4.483136e+00   \n",
       "\n",
       "              ADXR1         ADXR2         ADXR3         ADXR4         ADXR5  \\\n",
       "count  7.707400e+04  7.707400e+04  7.707400e+04  7.707400e+04  7.707400e+04   \n",
       "mean  -1.162235e-15 -1.507561e-16 -4.859721e-16  7.269761e-16 -6.370998e-16   \n",
       "std    1.000006e+00  1.000006e+00  1.000006e+00  1.000006e+00  1.000006e+00   \n",
       "min   -2.010208e+00 -1.696746e+00 -1.612674e+00 -1.754828e+00 -1.800766e+00   \n",
       "25%   -6.998095e-01 -7.513924e-01 -7.019419e-01 -6.865189e-01 -7.207257e-01   \n",
       "50%   -2.283676e-01 -2.733137e-01 -2.531058e-01 -2.308046e-01 -2.123910e-01   \n",
       "75%    4.675324e-01  5.032583e-01  4.954618e-01  5.037636e-01  5.897731e-01   \n",
       "max    4.061787e+00  3.826344e+00  3.569066e+00  3.683582e+00  3.524693e+00   \n",
       "\n",
       "             return  \n",
       "count  77074.000000  \n",
       "mean       1.000126  \n",
       "std        0.008246  \n",
       "min        0.924507  \n",
       "25%        0.996988  \n",
       "50%        1.000282  \n",
       "75%        1.003699  \n",
       "max        1.087726  \n",
       "\n",
       "[8 rows x 43 columns]"
      ]
     },
     "execution_count": 5,
     "metadata": {},
     "output_type": "execute_result"
    }
   ],
   "source": [
    "from sklearn.preprocessing import StandardScaler\n",
    "\n",
    "ss = StandardScaler()\n",
    "\n",
    "dataset_scaled = ss.fit_transform(dataset)\n",
    "dataset_scaled = pd.DataFrame(dataset_scaled, columns=dataset.columns, index=dataset.index)\n",
    "dataset_scaled['return'] = dataset['return']\n",
    "dataset_scaled.describe()"
   ]
  },
  {
   "cell_type": "code",
   "execution_count": 6,
   "metadata": {},
   "outputs": [
    {
     "data": {
      "application/vnd.jupyter.widget-view+json": {
       "model_id": "b22925484cb145078146324af93f57c6",
       "version_major": 2,
       "version_minor": 0
      },
      "text/plain": [
       "HBox(children=(IntProgress(value=0, max=77071), HTML(value='')))"
      ]
     },
     "metadata": {},
     "output_type": "display_data"
    },
    {
     "name": "stdout",
     "output_type": "stream",
     "text": [
      "\n"
     ]
    }
   ],
   "source": [
    "import tqdm\n",
    "\n",
    "n = 3 #用前三列\n",
    "\n",
    "X = []\n",
    "y = []\n",
    "indexes = []\n",
    "dataset_scaled_x = dataset_scaled[feature_names]\n",
    "\n",
    "for i in tqdm.tqdm_notebook(range(0, len(dataset_scaled)-n)):\n",
    "    X.append(dataset_scaled_x.iloc[i:i+n].values)\n",
    "    y.append(dataset_scaled['return'].iloc[i+n-1])\n",
    "    indexes.append(dataset_scaled.index[i+n-1])\n",
    "#dataset_scaled.head()"
   ]
  },
  {
   "cell_type": "code",
   "execution_count": 7,
   "metadata": {
    "scrolled": true
   },
   "outputs": [
    {
     "data": {
      "text/plain": [
       "array([[-1.37446468, -1.25455295, -0.89032254, -0.71868138, -0.65366228,\n",
       "        -0.58266071, -0.58912117,  0.80838147,  0.48011022, -0.52317071,\n",
       "        -2.14040379, -2.21283041, -1.86953479, -1.364285  , -0.98016952,\n",
       "         2.6821913 ,  3.93097803,  3.68139704,  2.85865421,  1.90249953,\n",
       "         1.32423226,  1.56149231,  1.39305069,  1.2043558 ,  0.94243202,\n",
       "         0.67314272,  0.57619832, -1.52006797, -0.98476751, -0.79909761,\n",
       "        -1.41298164, -1.41406975, -1.83160707, -2.0359443 , -0.18640032,\n",
       "        -0.07321812, -1.25611819, -0.07950386,  0.45722359,  0.48300929,\n",
       "        -0.43024914, -1.34663473],\n",
       "       [-1.37446468, -1.25455295, -0.89032254, -0.71868138, -0.65366228,\n",
       "        -0.58266071, -0.60886166,  0.73303508,  0.46727702, -0.51344402,\n",
       "        -2.13484891, -2.21902582, -1.87962974, -1.37289659, -0.98912046,\n",
       "         1.38224702,  3.29977962,  3.4039212 ,  2.79534786,  1.87964381,\n",
       "         1.31600134,  1.55228147,  1.39161795,  1.20420191,  0.94305593,\n",
       "         0.67400334,  0.57675278, -1.43680331, -0.92078974, -0.78874693,\n",
       "        -1.3955929 , -1.31317208, -1.71112963, -1.97488196, -0.26921596,\n",
       "        -0.10629038, -1.23678128, -0.07049392,  0.45244019,  0.48720857,\n",
       "        -0.42696838, -1.34435147],\n",
       "       [-1.56989037, -1.40868026, -1.0144649 , -0.83146311, -0.76184819,\n",
       "        -0.68491942, -0.74871431,  0.66796983,  0.4551311 , -0.50204017,\n",
       "        -2.12907327, -2.22509419, -1.88967733, -1.38224014, -0.99892284,\n",
       "         2.84602967,  4.12684779,  4.14608858,  3.45277329,  2.35326619,\n",
       "         1.65830842,  1.79333832,  1.56162206,  1.36346378,  1.08818494,\n",
       "         0.807057  ,  0.70402339, -1.83189671, -1.17276693, -1.07422053,\n",
       "        -1.63516982, -1.48068252, -1.88811128, -2.10061525, -0.38200316,\n",
       "        -0.1476697 , -1.20337414, -0.05728234,  0.44828281,  0.49230313,\n",
       "        -0.42337082, -1.34150896]])"
      ]
     },
     "execution_count": 7,
     "metadata": {},
     "output_type": "execute_result"
    }
   ],
   "source": [
    "X[0] "
   ]
  },
  {
   "cell_type": "code",
   "execution_count": 8,
   "metadata": {},
   "outputs": [],
   "source": [
    "import numpy as np\n",
    "X = np.array(X)\n",
    "y = np.array(y)"
   ]
  },
  {
   "cell_type": "code",
   "execution_count": 9,
   "metadata": {},
   "outputs": [],
   "source": [
    "indexes = np.array(indexes)"
   ]
  },
  {
   "cell_type": "markdown",
   "metadata": {},
   "source": [
    "## 神經網路 Model"
   ]
  },
  {
   "cell_type": "code",
   "execution_count": 10,
   "metadata": {
    "scrolled": true
   },
   "outputs": [
    {
     "name": "stdout",
     "output_type": "stream",
     "text": [
      "Model: \"sequential\"\n",
      "_________________________________________________________________\n",
      "Layer (type)                 Output Shape              Param #   \n",
      "=================================================================\n",
      "lstm (LSTM)                  (None, 3, 100)            57200     \n",
      "_________________________________________________________________\n",
      "lstm_1 (LSTM)                (None, 100)               80400     \n",
      "_________________________________________________________________\n",
      "dense (Dense)                (None, 8)                 808       \n",
      "_________________________________________________________________\n",
      "dense_1 (Dense)              (None, 1)                 9         \n",
      "=================================================================\n",
      "Total params: 138,417\n",
      "Trainable params: 138,417\n",
      "Non-trainable params: 0\n",
      "_________________________________________________________________\n"
     ]
    }
   ],
   "source": [
    "from tensorflow import keras\n",
    "from tensorflow.keras import layers\n",
    "\n",
    "model = keras.models.Sequential()\n",
    "#model.add(keras.layers.Dense(100, activation=\"relu\", input_shape=(len(feature_names),)))\n",
    "model.add(layers.LSTM(100, return_sequences=True, input_shape=X[0].shape))\n",
    "model.add(layers.LSTM(100))\n",
    "model.add(layers.Dense(8))\n",
    "model.add(layers.Dense(1,kernel_initializer=\"uniform\",activation='linear'))\n",
    "\n",
    "adam = keras.optimizers.Adam(0.0006)\n",
    "\n",
    "model.compile(optimizer=adam, loss=\"binary_crossentropy\", metrics=['accuracy'])\n",
    "\n",
    "model.summary()"
   ]
  },
  {
   "cell_type": "markdown",
   "metadata": {},
   "source": [
    "## 神經網路訓練"
   ]
  },
  {
   "cell_type": "code",
   "execution_count": 11,
   "metadata": {
    "scrolled": true
   },
   "outputs": [
    {
     "name": "stdout",
     "output_type": "stream",
     "text": [
      "Epoch 1/300\n",
      "11/11 [==============================] - ETA: 0s - loss: 5.2750 - accuracy: 0.47 - ETA: 1s - loss: 4.8046 - accuracy: 0.47 - ETA: 2s - loss: 4.5360 - accuracy: 0.47 - ETA: 2s - loss: 4.3155 - accuracy: 0.47 - ETA: 1s - loss: 4.1253 - accuracy: 0.47 - ETA: 1s - loss: 3.9609 - accuracy: 0.47 - ETA: 1s - loss: 3.8133 - accuracy: 0.47 - ETA: 1s - loss: 3.6705 - accuracy: 0.47 - ETA: 0s - loss: 3.5418 - accuracy: 0.47 - ETA: 0s - loss: 3.4259 - accuracy: 0.47 - ETA: 0s - loss: 3.3284 - accuracy: 0.47 - 8s 764ms/step - loss: 3.3284 - accuracy: 0.4787 - val_loss: 2.9021 - val_accuracy: 0.4543\n",
      "Epoch 2/300\n",
      "11/11 [==============================] - ETA: 0s - loss: 2.2219 - accuracy: 0.48 - ETA: 1s - loss: 2.2030 - accuracy: 0.48 - ETA: 2s - loss: 2.1893 - accuracy: 0.48 - ETA: 2s - loss: 2.1774 - accuracy: 0.48 - ETA: 2s - loss: 2.1696 - accuracy: 0.47 - ETA: 1s - loss: 2.1554 - accuracy: 0.47 - ETA: 1s - loss: 2.1436 - accuracy: 0.47 - ETA: 0s - loss: 2.1322 - accuracy: 0.47 - ETA: 0s - loss: 2.1193 - accuracy: 0.47 - ETA: 0s - loss: 2.1042 - accuracy: 0.47 - ETA: 0s - loss: 2.0939 - accuracy: 0.47 - 5s 439ms/step - loss: 2.0939 - accuracy: 0.4787 - val_loss: 2.2050 - val_accuracy: 0.4543\n",
      "Epoch 3/300\n",
      "11/11 [==============================] - ETA: 0s - loss: 1.9333 - accuracy: 0.48 - ETA: 1s - loss: 1.9431 - accuracy: 0.48 - ETA: 1s - loss: 1.9372 - accuracy: 0.48 - ETA: 1s - loss: 1.9472 - accuracy: 0.47 - ETA: 1s - loss: 1.9383 - accuracy: 0.47 - ETA: 1s - loss: 1.9318 - accuracy: 0.47 - ETA: 1s - loss: 1.9265 - accuracy: 0.47 - ETA: 0s - loss: 1.9212 - accuracy: 0.47 - ETA: 0s - loss: 1.9123 - accuracy: 0.47 - ETA: 0s - loss: 1.9067 - accuracy: 0.47 - ETA: 0s - loss: 1.9002 - accuracy: 0.47 - 5s 423ms/step - loss: 1.9002 - accuracy: 0.4787 - val_loss: 2.0223 - val_accuracy: 0.4543\n",
      "Epoch 4/300\n",
      "11/11 [==============================] - ETA: 0s - loss: 1.8065 - accuracy: 0.48 - ETA: 1s - loss: 1.8206 - accuracy: 0.48 - ETA: 2s - loss: 1.8243 - accuracy: 0.47 - ETA: 2s - loss: 1.8137 - accuracy: 0.47 - ETA: 1s - loss: 1.8162 - accuracy: 0.47 - ETA: 1s - loss: 1.8103 - accuracy: 0.47 - ETA: 1s - loss: 1.7980 - accuracy: 0.47 - ETA: 1s - loss: 1.7917 - accuracy: 0.47 - ETA: 0s - loss: 1.7847 - accuracy: 0.47 - ETA: 0s - loss: 1.7824 - accuracy: 0.47 - ETA: 0s - loss: 1.7742 - accuracy: 0.47 - 5s 433ms/step - loss: 1.7742 - accuracy: 0.4787 - val_loss: 1.8931 - val_accuracy: 0.4543\n",
      "Epoch 5/300\n",
      "11/11 [==============================] - ETA: 0s - loss: 1.7212 - accuracy: 0.47 - ETA: 1s - loss: 1.7191 - accuracy: 0.47 - ETA: 2s - loss: 1.7153 - accuracy: 0.47 - ETA: 2s - loss: 1.7148 - accuracy: 0.47 - ETA: 1s - loss: 1.7075 - accuracy: 0.47 - ETA: 1s - loss: 1.6938 - accuracy: 0.47 - ETA: 1s - loss: 1.6891 - accuracy: 0.47 - ETA: 1s - loss: 1.6847 - accuracy: 0.47 - ETA: 0s - loss: 1.6793 - accuracy: 0.47 - ETA: 0s - loss: 1.6696 - accuracy: 0.47 - ETA: 0s - loss: 1.6630 - accuracy: 0.4787"
     ]
    },
    {
     "ename": "UnicodeDecodeError",
     "evalue": "'utf-8' codec can't decode byte 0xa6 in position 164: invalid start byte",
     "output_type": "error",
     "traceback": [
      "\u001b[1;31m---------------------------------------------------------------------------\u001b[0m",
      "\u001b[1;31m_FallbackException\u001b[0m                        Traceback (most recent call last)",
      "\u001b[1;32mD:\\ProgramData\\Miniconda3\\envs\\finlab\\lib\\site-packages\\tensorflow\\python\\ops\\gen_io_ops.py\u001b[0m in \u001b[0;36mmerge_v2_checkpoints\u001b[1;34m(checkpoint_prefixes, destination_prefix, delete_old_dirs, name)\u001b[0m\n\u001b[0;32m    492\u001b[0m         \u001b[0mtld\u001b[0m\u001b[1;33m.\u001b[0m\u001b[0mop_callbacks\u001b[0m\u001b[1;33m,\u001b[0m \u001b[0mcheckpoint_prefixes\u001b[0m\u001b[1;33m,\u001b[0m \u001b[0mdestination_prefix\u001b[0m\u001b[1;33m,\u001b[0m\u001b[1;33m\u001b[0m\u001b[1;33m\u001b[0m\u001b[0m\n\u001b[1;32m--> 493\u001b[1;33m         \"delete_old_dirs\", delete_old_dirs)\n\u001b[0m\u001b[0;32m    494\u001b[0m       \u001b[1;32mreturn\u001b[0m \u001b[0m_result\u001b[0m\u001b[1;33m\u001b[0m\u001b[1;33m\u001b[0m\u001b[0m\n",
      "\u001b[1;31m_FallbackException\u001b[0m: This function does not handle the case of the path where all inputs are not already EagerTensors.",
      "\nDuring handling of the above exception, another exception occurred:\n",
      "\u001b[1;31mUnicodeDecodeError\u001b[0m                        Traceback (most recent call last)",
      "\u001b[1;32m~\\AppData\\Local\\Temp\\ipykernel_12504\\2264146317.py\u001b[0m in \u001b[0;36m<module>\u001b[1;34m\u001b[0m\n\u001b[0;32m     19\u001b[0m     \u001b[0mepochs\u001b[0m\u001b[1;33m=\u001b[0m\u001b[1;36m300\u001b[0m\u001b[1;33m,\u001b[0m\u001b[1;33m\u001b[0m\u001b[1;33m\u001b[0m\u001b[0m\n\u001b[0;32m     20\u001b[0m     \u001b[0mvalidation_split\u001b[0m\u001b[1;33m=\u001b[0m\u001b[1;36m0.2\u001b[0m\u001b[1;33m,\u001b[0m\u001b[1;33m\u001b[0m\u001b[1;33m\u001b[0m\u001b[0m\n\u001b[1;32m---> 21\u001b[1;33m     callbacks=[model_checkpoint_callback])\n\u001b[0m",
      "\u001b[1;32mD:\\ProgramData\\Miniconda3\\envs\\finlab\\lib\\site-packages\\tensorflow\\python\\keras\\engine\\training.py\u001b[0m in \u001b[0;36m_method_wrapper\u001b[1;34m(self, *args, **kwargs)\u001b[0m\n\u001b[0;32m     64\u001b[0m   \u001b[1;32mdef\u001b[0m \u001b[0m_method_wrapper\u001b[0m\u001b[1;33m(\u001b[0m\u001b[0mself\u001b[0m\u001b[1;33m,\u001b[0m \u001b[1;33m*\u001b[0m\u001b[0margs\u001b[0m\u001b[1;33m,\u001b[0m \u001b[1;33m**\u001b[0m\u001b[0mkwargs\u001b[0m\u001b[1;33m)\u001b[0m\u001b[1;33m:\u001b[0m\u001b[1;33m\u001b[0m\u001b[1;33m\u001b[0m\u001b[0m\n\u001b[0;32m     65\u001b[0m     \u001b[1;32mif\u001b[0m \u001b[1;32mnot\u001b[0m \u001b[0mself\u001b[0m\u001b[1;33m.\u001b[0m\u001b[0m_in_multi_worker_mode\u001b[0m\u001b[1;33m(\u001b[0m\u001b[1;33m)\u001b[0m\u001b[1;33m:\u001b[0m  \u001b[1;31m# pylint: disable=protected-access\u001b[0m\u001b[1;33m\u001b[0m\u001b[1;33m\u001b[0m\u001b[0m\n\u001b[1;32m---> 66\u001b[1;33m       \u001b[1;32mreturn\u001b[0m \u001b[0mmethod\u001b[0m\u001b[1;33m(\u001b[0m\u001b[0mself\u001b[0m\u001b[1;33m,\u001b[0m \u001b[1;33m*\u001b[0m\u001b[0margs\u001b[0m\u001b[1;33m,\u001b[0m \u001b[1;33m**\u001b[0m\u001b[0mkwargs\u001b[0m\u001b[1;33m)\u001b[0m\u001b[1;33m\u001b[0m\u001b[1;33m\u001b[0m\u001b[0m\n\u001b[0m\u001b[0;32m     67\u001b[0m \u001b[1;33m\u001b[0m\u001b[0m\n\u001b[0;32m     68\u001b[0m     \u001b[1;31m# Running inside `run_distribute_coordinator` already.\u001b[0m\u001b[1;33m\u001b[0m\u001b[1;33m\u001b[0m\u001b[1;33m\u001b[0m\u001b[0m\n",
      "\u001b[1;32mD:\\ProgramData\\Miniconda3\\envs\\finlab\\lib\\site-packages\\tensorflow\\python\\keras\\engine\\training.py\u001b[0m in \u001b[0;36mfit\u001b[1;34m(self, x, y, batch_size, epochs, verbose, callbacks, validation_split, validation_data, shuffle, class_weight, sample_weight, initial_epoch, steps_per_epoch, validation_steps, validation_batch_size, validation_freq, max_queue_size, workers, use_multiprocessing)\u001b[0m\n\u001b[0;32m    874\u001b[0m           \u001b[0mepoch_logs\u001b[0m\u001b[1;33m.\u001b[0m\u001b[0mupdate\u001b[0m\u001b[1;33m(\u001b[0m\u001b[0mval_logs\u001b[0m\u001b[1;33m)\u001b[0m\u001b[1;33m\u001b[0m\u001b[1;33m\u001b[0m\u001b[0m\n\u001b[0;32m    875\u001b[0m \u001b[1;33m\u001b[0m\u001b[0m\n\u001b[1;32m--> 876\u001b[1;33m         \u001b[0mcallbacks\u001b[0m\u001b[1;33m.\u001b[0m\u001b[0mon_epoch_end\u001b[0m\u001b[1;33m(\u001b[0m\u001b[0mepoch\u001b[0m\u001b[1;33m,\u001b[0m \u001b[0mepoch_logs\u001b[0m\u001b[1;33m)\u001b[0m\u001b[1;33m\u001b[0m\u001b[1;33m\u001b[0m\u001b[0m\n\u001b[0m\u001b[0;32m    877\u001b[0m         \u001b[1;32mif\u001b[0m \u001b[0mself\u001b[0m\u001b[1;33m.\u001b[0m\u001b[0mstop_training\u001b[0m\u001b[1;33m:\u001b[0m\u001b[1;33m\u001b[0m\u001b[1;33m\u001b[0m\u001b[0m\n\u001b[0;32m    878\u001b[0m           \u001b[1;32mbreak\u001b[0m\u001b[1;33m\u001b[0m\u001b[1;33m\u001b[0m\u001b[0m\n",
      "\u001b[1;32mD:\\ProgramData\\Miniconda3\\envs\\finlab\\lib\\site-packages\\tensorflow\\python\\keras\\callbacks.py\u001b[0m in \u001b[0;36mon_epoch_end\u001b[1;34m(self, epoch, logs)\u001b[0m\n\u001b[0;32m    363\u001b[0m     \u001b[0mlogs\u001b[0m \u001b[1;33m=\u001b[0m \u001b[0mself\u001b[0m\u001b[1;33m.\u001b[0m\u001b[0m_process_logs\u001b[0m\u001b[1;33m(\u001b[0m\u001b[0mlogs\u001b[0m\u001b[1;33m)\u001b[0m\u001b[1;33m\u001b[0m\u001b[1;33m\u001b[0m\u001b[0m\n\u001b[0;32m    364\u001b[0m     \u001b[1;32mfor\u001b[0m \u001b[0mcallback\u001b[0m \u001b[1;32min\u001b[0m \u001b[0mself\u001b[0m\u001b[1;33m.\u001b[0m\u001b[0mcallbacks\u001b[0m\u001b[1;33m:\u001b[0m\u001b[1;33m\u001b[0m\u001b[1;33m\u001b[0m\u001b[0m\n\u001b[1;32m--> 365\u001b[1;33m       \u001b[0mcallback\u001b[0m\u001b[1;33m.\u001b[0m\u001b[0mon_epoch_end\u001b[0m\u001b[1;33m(\u001b[0m\u001b[0mepoch\u001b[0m\u001b[1;33m,\u001b[0m \u001b[0mlogs\u001b[0m\u001b[1;33m)\u001b[0m\u001b[1;33m\u001b[0m\u001b[1;33m\u001b[0m\u001b[0m\n\u001b[0m\u001b[0;32m    366\u001b[0m \u001b[1;33m\u001b[0m\u001b[0m\n\u001b[0;32m    367\u001b[0m   \u001b[1;32mdef\u001b[0m \u001b[0mon_train_batch_begin\u001b[0m\u001b[1;33m(\u001b[0m\u001b[0mself\u001b[0m\u001b[1;33m,\u001b[0m \u001b[0mbatch\u001b[0m\u001b[1;33m,\u001b[0m \u001b[0mlogs\u001b[0m\u001b[1;33m=\u001b[0m\u001b[1;32mNone\u001b[0m\u001b[1;33m)\u001b[0m\u001b[1;33m:\u001b[0m\u001b[1;33m\u001b[0m\u001b[1;33m\u001b[0m\u001b[0m\n",
      "\u001b[1;32mD:\\ProgramData\\Miniconda3\\envs\\finlab\\lib\\site-packages\\tensorflow\\python\\keras\\callbacks.py\u001b[0m in \u001b[0;36mon_epoch_end\u001b[1;34m(self, epoch, logs)\u001b[0m\n\u001b[0;32m   1175\u001b[0m           \u001b[0mself\u001b[0m\u001b[1;33m.\u001b[0m\u001b[0m_save_model\u001b[0m\u001b[1;33m(\u001b[0m\u001b[0mepoch\u001b[0m\u001b[1;33m=\u001b[0m\u001b[0mepoch\u001b[0m\u001b[1;33m,\u001b[0m \u001b[0mlogs\u001b[0m\u001b[1;33m=\u001b[0m\u001b[0mlogs\u001b[0m\u001b[1;33m)\u001b[0m\u001b[1;33m\u001b[0m\u001b[1;33m\u001b[0m\u001b[0m\n\u001b[0;32m   1176\u001b[0m       \u001b[1;32melse\u001b[0m\u001b[1;33m:\u001b[0m\u001b[1;33m\u001b[0m\u001b[1;33m\u001b[0m\u001b[0m\n\u001b[1;32m-> 1177\u001b[1;33m         \u001b[0mself\u001b[0m\u001b[1;33m.\u001b[0m\u001b[0m_save_model\u001b[0m\u001b[1;33m(\u001b[0m\u001b[0mepoch\u001b[0m\u001b[1;33m=\u001b[0m\u001b[0mepoch\u001b[0m\u001b[1;33m,\u001b[0m \u001b[0mlogs\u001b[0m\u001b[1;33m=\u001b[0m\u001b[0mlogs\u001b[0m\u001b[1;33m)\u001b[0m\u001b[1;33m\u001b[0m\u001b[1;33m\u001b[0m\u001b[0m\n\u001b[0m\u001b[0;32m   1178\u001b[0m     \u001b[1;32mif\u001b[0m \u001b[0mself\u001b[0m\u001b[1;33m.\u001b[0m\u001b[0mmodel\u001b[0m\u001b[1;33m.\u001b[0m\u001b[0m_in_multi_worker_mode\u001b[0m\u001b[1;33m(\u001b[0m\u001b[1;33m)\u001b[0m\u001b[1;33m:\u001b[0m\u001b[1;33m\u001b[0m\u001b[1;33m\u001b[0m\u001b[0m\n\u001b[0;32m   1179\u001b[0m       \u001b[1;31m# For multi-worker training, back up the weights and current training\u001b[0m\u001b[1;33m\u001b[0m\u001b[1;33m\u001b[0m\u001b[1;33m\u001b[0m\u001b[0m\n",
      "\u001b[1;32mD:\\ProgramData\\Miniconda3\\envs\\finlab\\lib\\site-packages\\tensorflow\\python\\keras\\callbacks.py\u001b[0m in \u001b[0;36m_save_model\u001b[1;34m(self, epoch, logs)\u001b[0m\n\u001b[0;32m   1210\u001b[0m               \u001b[0mself\u001b[0m\u001b[1;33m.\u001b[0m\u001b[0mbest\u001b[0m \u001b[1;33m=\u001b[0m \u001b[0mcurrent\u001b[0m\u001b[1;33m\u001b[0m\u001b[1;33m\u001b[0m\u001b[0m\n\u001b[0;32m   1211\u001b[0m               \u001b[1;32mif\u001b[0m \u001b[0mself\u001b[0m\u001b[1;33m.\u001b[0m\u001b[0msave_weights_only\u001b[0m\u001b[1;33m:\u001b[0m\u001b[1;33m\u001b[0m\u001b[1;33m\u001b[0m\u001b[0m\n\u001b[1;32m-> 1212\u001b[1;33m                 \u001b[0mself\u001b[0m\u001b[1;33m.\u001b[0m\u001b[0mmodel\u001b[0m\u001b[1;33m.\u001b[0m\u001b[0msave_weights\u001b[0m\u001b[1;33m(\u001b[0m\u001b[0mfilepath\u001b[0m\u001b[1;33m,\u001b[0m \u001b[0moverwrite\u001b[0m\u001b[1;33m=\u001b[0m\u001b[1;32mTrue\u001b[0m\u001b[1;33m)\u001b[0m\u001b[1;33m\u001b[0m\u001b[1;33m\u001b[0m\u001b[0m\n\u001b[0m\u001b[0;32m   1213\u001b[0m               \u001b[1;32melse\u001b[0m\u001b[1;33m:\u001b[0m\u001b[1;33m\u001b[0m\u001b[1;33m\u001b[0m\u001b[0m\n\u001b[0;32m   1214\u001b[0m                 \u001b[0mself\u001b[0m\u001b[1;33m.\u001b[0m\u001b[0mmodel\u001b[0m\u001b[1;33m.\u001b[0m\u001b[0msave\u001b[0m\u001b[1;33m(\u001b[0m\u001b[0mfilepath\u001b[0m\u001b[1;33m,\u001b[0m \u001b[0moverwrite\u001b[0m\u001b[1;33m=\u001b[0m\u001b[1;32mTrue\u001b[0m\u001b[1;33m)\u001b[0m\u001b[1;33m\u001b[0m\u001b[1;33m\u001b[0m\u001b[0m\n",
      "\u001b[1;32mD:\\ProgramData\\Miniconda3\\envs\\finlab\\lib\\site-packages\\tensorflow\\python\\keras\\engine\\network.py\u001b[0m in \u001b[0;36msave_weights\u001b[1;34m(self, filepath, overwrite, save_format)\u001b[0m\n\u001b[0;32m   1165\u001b[0m              'saved.\\n\\nConsider using a TensorFlow optimizer from `tf.train`.')\n\u001b[0;32m   1166\u001b[0m             % (optimizer,))\n\u001b[1;32m-> 1167\u001b[1;33m       \u001b[0mself\u001b[0m\u001b[1;33m.\u001b[0m\u001b[0m_trackable_saver\u001b[0m\u001b[1;33m.\u001b[0m\u001b[0msave\u001b[0m\u001b[1;33m(\u001b[0m\u001b[0mfilepath\u001b[0m\u001b[1;33m,\u001b[0m \u001b[0msession\u001b[0m\u001b[1;33m=\u001b[0m\u001b[0msession\u001b[0m\u001b[1;33m)\u001b[0m\u001b[1;33m\u001b[0m\u001b[1;33m\u001b[0m\u001b[0m\n\u001b[0m\u001b[0;32m   1168\u001b[0m       \u001b[1;31m# Record this checkpoint so it's visible from tf.train.latest_checkpoint.\u001b[0m\u001b[1;33m\u001b[0m\u001b[1;33m\u001b[0m\u001b[1;33m\u001b[0m\u001b[0m\n\u001b[0;32m   1169\u001b[0m       checkpoint_management.update_checkpoint_state_internal(\n",
      "\u001b[1;32mD:\\ProgramData\\Miniconda3\\envs\\finlab\\lib\\site-packages\\tensorflow\\python\\training\\tracking\\util.py\u001b[0m in \u001b[0;36msave\u001b[1;34m(self, file_prefix, checkpoint_number, session)\u001b[0m\n\u001b[0;32m   1185\u001b[0m     \u001b[0mfile_io\u001b[0m\u001b[1;33m.\u001b[0m\u001b[0mrecursive_create_dir\u001b[0m\u001b[1;33m(\u001b[0m\u001b[0mos\u001b[0m\u001b[1;33m.\u001b[0m\u001b[0mpath\u001b[0m\u001b[1;33m.\u001b[0m\u001b[0mdirname\u001b[0m\u001b[1;33m(\u001b[0m\u001b[0mfile_prefix\u001b[0m\u001b[1;33m)\u001b[0m\u001b[1;33m)\u001b[0m\u001b[1;33m\u001b[0m\u001b[1;33m\u001b[0m\u001b[0m\n\u001b[0;32m   1186\u001b[0m     save_path, new_feed_additions = self._save_cached_when_graph_building(\n\u001b[1;32m-> 1187\u001b[1;33m         file_prefix=file_prefix_tensor, object_graph_tensor=object_graph_tensor)\n\u001b[0m\u001b[0;32m   1188\u001b[0m     \u001b[1;32mif\u001b[0m \u001b[0mnew_feed_additions\u001b[0m\u001b[1;33m:\u001b[0m\u001b[1;33m\u001b[0m\u001b[1;33m\u001b[0m\u001b[0m\n\u001b[0;32m   1189\u001b[0m       \u001b[0mfeed_dict\u001b[0m\u001b[1;33m.\u001b[0m\u001b[0mupdate\u001b[0m\u001b[1;33m(\u001b[0m\u001b[0mnew_feed_additions\u001b[0m\u001b[1;33m)\u001b[0m\u001b[1;33m\u001b[0m\u001b[1;33m\u001b[0m\u001b[0m\n",
      "\u001b[1;32mD:\\ProgramData\\Miniconda3\\envs\\finlab\\lib\\site-packages\\tensorflow\\python\\training\\tracking\\util.py\u001b[0m in \u001b[0;36m_save_cached_when_graph_building\u001b[1;34m(self, file_prefix, object_graph_tensor)\u001b[0m\n\u001b[0;32m   1133\u001b[0m         or context.executing_eagerly() or ops.inside_function()):\n\u001b[0;32m   1134\u001b[0m       \u001b[0msaver\u001b[0m \u001b[1;33m=\u001b[0m \u001b[0mfunctional_saver\u001b[0m\u001b[1;33m.\u001b[0m\u001b[0mMultiDeviceSaver\u001b[0m\u001b[1;33m(\u001b[0m\u001b[0mnamed_saveable_objects\u001b[0m\u001b[1;33m)\u001b[0m\u001b[1;33m\u001b[0m\u001b[1;33m\u001b[0m\u001b[0m\n\u001b[1;32m-> 1135\u001b[1;33m       \u001b[0msave_op\u001b[0m \u001b[1;33m=\u001b[0m \u001b[0msaver\u001b[0m\u001b[1;33m.\u001b[0m\u001b[0msave\u001b[0m\u001b[1;33m(\u001b[0m\u001b[0mfile_prefix\u001b[0m\u001b[1;33m)\u001b[0m\u001b[1;33m\u001b[0m\u001b[1;33m\u001b[0m\u001b[0m\n\u001b[0m\u001b[0;32m   1136\u001b[0m       \u001b[1;32mwith\u001b[0m \u001b[0mops\u001b[0m\u001b[1;33m.\u001b[0m\u001b[0mdevice\u001b[0m\u001b[1;33m(\u001b[0m\u001b[1;34m\"/cpu:0\"\u001b[0m\u001b[1;33m)\u001b[0m\u001b[1;33m:\u001b[0m\u001b[1;33m\u001b[0m\u001b[1;33m\u001b[0m\u001b[0m\n\u001b[0;32m   1137\u001b[0m         \u001b[1;32mwith\u001b[0m \u001b[0mops\u001b[0m\u001b[1;33m.\u001b[0m\u001b[0mcontrol_dependencies\u001b[0m\u001b[1;33m(\u001b[0m\u001b[1;33m[\u001b[0m\u001b[0msave_op\u001b[0m\u001b[1;33m]\u001b[0m\u001b[1;33m)\u001b[0m\u001b[1;33m:\u001b[0m\u001b[1;33m\u001b[0m\u001b[1;33m\u001b[0m\u001b[0m\n",
      "\u001b[1;32mD:\\ProgramData\\Miniconda3\\envs\\finlab\\lib\\site-packages\\tensorflow\\python\\training\\saving\\functional_saver.py\u001b[0m in \u001b[0;36msave\u001b[1;34m(self, file_prefix)\u001b[0m\n\u001b[0;32m    262\u001b[0m         \u001b[1;31m# attempts to delete the temporary directory, \"<user-fed prefix>_temp\".\u001b[0m\u001b[1;33m\u001b[0m\u001b[1;33m\u001b[0m\u001b[1;33m\u001b[0m\u001b[0m\n\u001b[0;32m    263\u001b[0m         return gen_io_ops.merge_v2_checkpoints(\n\u001b[1;32m--> 264\u001b[1;33m             sharded_prefixes, file_prefix, delete_old_dirs=True)\n\u001b[0m\u001b[0;32m    265\u001b[0m \u001b[1;33m\u001b[0m\u001b[0m\n\u001b[0;32m    266\u001b[0m   \u001b[1;32mdef\u001b[0m \u001b[0mrestore\u001b[0m\u001b[1;33m(\u001b[0m\u001b[0mself\u001b[0m\u001b[1;33m,\u001b[0m \u001b[0mfile_prefix\u001b[0m\u001b[1;33m)\u001b[0m\u001b[1;33m:\u001b[0m\u001b[1;33m\u001b[0m\u001b[1;33m\u001b[0m\u001b[0m\n",
      "\u001b[1;32mD:\\ProgramData\\Miniconda3\\envs\\finlab\\lib\\site-packages\\tensorflow\\python\\ops\\gen_io_ops.py\u001b[0m in \u001b[0;36mmerge_v2_checkpoints\u001b[1;34m(checkpoint_prefixes, destination_prefix, delete_old_dirs, name)\u001b[0m\n\u001b[0;32m    497\u001b[0m         return merge_v2_checkpoints_eager_fallback(\n\u001b[0;32m    498\u001b[0m             \u001b[0mcheckpoint_prefixes\u001b[0m\u001b[1;33m,\u001b[0m \u001b[0mdestination_prefix\u001b[0m\u001b[1;33m,\u001b[0m\u001b[1;33m\u001b[0m\u001b[1;33m\u001b[0m\u001b[0m\n\u001b[1;32m--> 499\u001b[1;33m             delete_old_dirs=delete_old_dirs, name=name, ctx=_ctx)\n\u001b[0m\u001b[0;32m    500\u001b[0m       \u001b[1;32mexcept\u001b[0m \u001b[0m_core\u001b[0m\u001b[1;33m.\u001b[0m\u001b[0m_SymbolicException\u001b[0m\u001b[1;33m:\u001b[0m\u001b[1;33m\u001b[0m\u001b[1;33m\u001b[0m\u001b[0m\n\u001b[0;32m    501\u001b[0m         \u001b[1;32mpass\u001b[0m  \u001b[1;31m# Add nodes to the TensorFlow graph.\u001b[0m\u001b[1;33m\u001b[0m\u001b[1;33m\u001b[0m\u001b[0m\n",
      "\u001b[1;32mD:\\ProgramData\\Miniconda3\\envs\\finlab\\lib\\site-packages\\tensorflow\\python\\ops\\gen_io_ops.py\u001b[0m in \u001b[0;36mmerge_v2_checkpoints_eager_fallback\u001b[1;34m(checkpoint_prefixes, destination_prefix, delete_old_dirs, name, ctx)\u001b[0m\n\u001b[0;32m    523\u001b[0m   \u001b[0m_attrs\u001b[0m \u001b[1;33m=\u001b[0m \u001b[1;33m(\u001b[0m\u001b[1;34m\"delete_old_dirs\"\u001b[0m\u001b[1;33m,\u001b[0m \u001b[0mdelete_old_dirs\u001b[0m\u001b[1;33m)\u001b[0m\u001b[1;33m\u001b[0m\u001b[1;33m\u001b[0m\u001b[0m\n\u001b[0;32m    524\u001b[0m   _result = _execute.execute(b\"MergeV2Checkpoints\", 0, inputs=_inputs_flat,\n\u001b[1;32m--> 525\u001b[1;33m                              attrs=_attrs, ctx=ctx, name=name)\n\u001b[0m\u001b[0;32m    526\u001b[0m   \u001b[0m_result\u001b[0m \u001b[1;33m=\u001b[0m \u001b[1;32mNone\u001b[0m\u001b[1;33m\u001b[0m\u001b[1;33m\u001b[0m\u001b[0m\n\u001b[0;32m    527\u001b[0m   \u001b[1;32mreturn\u001b[0m \u001b[0m_result\u001b[0m\u001b[1;33m\u001b[0m\u001b[1;33m\u001b[0m\u001b[0m\n",
      "\u001b[1;32mD:\\ProgramData\\Miniconda3\\envs\\finlab\\lib\\site-packages\\tensorflow\\python\\eager\\execute.py\u001b[0m in \u001b[0;36mquick_execute\u001b[1;34m(op_name, num_outputs, inputs, attrs, ctx, name)\u001b[0m\n\u001b[0;32m     58\u001b[0m     \u001b[0mctx\u001b[0m\u001b[1;33m.\u001b[0m\u001b[0mensure_initialized\u001b[0m\u001b[1;33m(\u001b[0m\u001b[1;33m)\u001b[0m\u001b[1;33m\u001b[0m\u001b[1;33m\u001b[0m\u001b[0m\n\u001b[0;32m     59\u001b[0m     tensors = pywrap_tfe.TFE_Py_Execute(ctx._handle, device_name, op_name,\n\u001b[1;32m---> 60\u001b[1;33m                                         inputs, attrs, num_outputs)\n\u001b[0m\u001b[0;32m     61\u001b[0m   \u001b[1;32mexcept\u001b[0m \u001b[0mcore\u001b[0m\u001b[1;33m.\u001b[0m\u001b[0m_NotOkStatusException\u001b[0m \u001b[1;32mas\u001b[0m \u001b[0me\u001b[0m\u001b[1;33m:\u001b[0m\u001b[1;33m\u001b[0m\u001b[1;33m\u001b[0m\u001b[0m\n\u001b[0;32m     62\u001b[0m     \u001b[1;32mif\u001b[0m \u001b[0mname\u001b[0m \u001b[1;32mis\u001b[0m \u001b[1;32mnot\u001b[0m \u001b[1;32mNone\u001b[0m\u001b[1;33m:\u001b[0m\u001b[1;33m\u001b[0m\u001b[1;33m\u001b[0m\u001b[0m\n",
      "\u001b[1;31mUnicodeDecodeError\u001b[0m: 'utf-8' codec can't decode byte 0xa6 in position 164: invalid start byte"
     ]
    }
   ],
   "source": [
    "# dataset_scaled_train = dataset_scaled[:'2020']\n",
    "\n",
    "import datetime\n",
    "X_train = X[indexes < datetime.datetime(2021, 1, 1)]\n",
    "y_train = y[indexes < datetime.datetime(2021, 1, 1)]\n",
    "\n",
    "checkpoint_filepath = './tmp/checkpoint_u22'\n",
    "model_checkpoint_callback = keras.callbacks.ModelCheckpoint(\n",
    "    filepath=checkpoint_filepath,\n",
    "    save_weights_only=True,\n",
    "    monitor='val_loss',\n",
    "    mode='min',\n",
    "    save_best_only=True)\n",
    "\n",
    "history = model.fit(\n",
    "    X_train,\n",
    "    y_train > 1,\n",
    "    batch_size=5000,\n",
    "    epochs=300,\n",
    "    validation_split=0.2,\n",
    "    callbacks=[model_checkpoint_callback])"
   ]
  },
  {
   "cell_type": "code",
   "execution_count": null,
   "metadata": {},
   "outputs": [],
   "source": [
    "model.load_weights(checkpoint_filepath)"
   ]
  },
  {
   "cell_type": "code",
   "execution_count": null,
   "metadata": {},
   "outputs": [],
   "source": [
    "import matplotlib.pyplot as plt\n",
    "plt.plot(history.history['loss'],color='blue')\n",
    "plt.plot(history.history ['val_loss'],color='red')\n",
    "plt.xlabel('Times')                    #2\n",
    "plt.ylabel('Value')            #3"
   ]
  },
  {
   "cell_type": "markdown",
   "metadata": {},
   "source": [
    "## 回測"
   ]
  },
  {
   "cell_type": "code",
   "execution_count": null,
   "metadata": {},
   "outputs": [],
   "source": [
    "ey = model.predict(X)\n",
    "ey = pd.Series(ey.swapaxes(0,1)[0], index=indexes)\n",
    "ey.plot()\n"
   ]
  },
  {
   "cell_type": "code",
   "execution_count": null,
   "metadata": {},
   "outputs": [],
   "source": [
    "eq = twii[indexes]\n",
    "returns = (eq.shift(-1) - eq)\n",
    "\n",
    "signal = (ey > ey.quantile(0.7)).rolling(10).sum() > 0\n",
    "signal = signal.shift(1).fillna(False)\n",
    "\n",
    "eq = (returns[signal]['2021':]).cumsum()\n",
    "eq.plot()"
   ]
  },
  {
   "cell_type": "code",
   "execution_count": null,
   "metadata": {},
   "outputs": [],
   "source": [
    "(signal.astype(int).diff().abs().fillna(0) * 3)['2021':].sum()"
   ]
  },
  {
   "cell_type": "code",
   "execution_count": null,
   "metadata": {},
   "outputs": [],
   "source": []
  }
 ],
 "metadata": {
  "kernelspec": {
   "display_name": "finlab",
   "language": "python",
   "name": "finlab"
  },
  "language_info": {
   "codemirror_mode": {
    "name": "ipython",
    "version": 3
   },
   "file_extension": ".py",
   "mimetype": "text/x-python",
   "name": "python",
   "nbconvert_exporter": "python",
   "pygments_lexer": "ipython3",
   "version": "3.7.13"
  }
 },
 "nbformat": 4,
 "nbformat_minor": 4
}

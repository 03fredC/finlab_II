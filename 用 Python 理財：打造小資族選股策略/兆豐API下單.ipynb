{
  "nbformat": 4,
  "nbformat_minor": 0,
  "metadata": {
    "colab": {
      "name": "shioaji.ipynb",
      "provenance": [],
      "collapsed_sections": []
    },
    "kernelspec": {
      "name": "python3",
      "display_name": "Python 3"
    }
  },
  "cells": [
    {
      "cell_type": "code",
      "metadata": {
        "id": "WGQ0euKgzoQf"
      },
      "source": [
        "pip install shioaji > log.txt"
      ],
      "execution_count": null,
      "outputs": []
    },
    {
      "cell_type": "markdown",
      "metadata": {
        "id": "qsW2CNV0-Yaw"
      },
      "source": [
        "# 登入帳戶"
      ]
    },
    {
      "cell_type": "code",
      "metadata": {
        "id": "LGDSi2RizqR2",
        "colab": {
          "base_uri": "https://localhost:8080/",
          "height": 54
        },
        "outputId": "2b1747b3-c472-4d41-f6fa-99c43c8630cf"
      },
      "source": [
        "import shioaji as sj\n",
        "\n",
        "api = sj.Shioaji()\n",
        "accounts = api.login(\"user_id\", \"password\")\n"
      ],
      "execution_count": null,
      "outputs": [
        {
          "output_type": "stream",
          "text": [
            "Response Code: 0 | Event Code: 0 | Info: host '203.66.91.161:80', IP 203.66.91.161:80 (host 1 of 1) (host connection attempt 1 of 1) (total connection attempt 1 of 1) | Event: Session up\n"
          ],
          "name": "stdout"
        }
      ]
    },
    {
      "cell_type": "markdown",
      "metadata": {
        "id": "kx1qXPa2-fIQ"
      },
      "source": [
        "# 匯入憑證"
      ]
    },
    {
      "cell_type": "code",
      "metadata": {
        "id": "cRXT_LQr9t6R"
      },
      "source": [
        "from google.colab import files\n",
        "uploaded = files.upload()"
      ],
      "execution_count": null,
      "outputs": []
    },
    {
      "cell_type": "code",
      "metadata": {
        "id": "QQwcpd_LFHSm",
        "colab": {
          "base_uri": "https://localhost:8080/",
          "height": 34
        },
        "outputId": "74613b55-a9dc-42c1-eb34-ced2e84d74cd"
      },
      "source": [
        "!ls"
      ],
      "execution_count": null,
      "outputs": [
        {
          "output_type": "stream",
          "text": [
            "sample_data  shioaji.log  Sinopac.pfx\n"
          ],
          "name": "stdout"
        }
      ]
    },
    {
      "cell_type": "code",
      "metadata": {
        "id": "x9GE9eyx1Ejp",
        "colab": {
          "base_uri": "https://localhost:8080/",
          "height": 51
        },
        "outputId": "101d5cb4-b201-46b4-9615-4ec7cd0f7547"
      },
      "source": [
        "api.activate_ca(\n",
        "    ca_path=\"Sinopac.pfx\",\n",
        "    ca_passwd=\"user_id\",\n",
        "    person_id=\"user_id\",\n",
        ")"
      ],
      "execution_count": null,
      "outputs": [
        {
          "output_type": "stream",
          "text": [
            "Ca Initial Done.\n"
          ],
          "name": "stdout"
        },
        {
          "output_type": "execute_result",
          "data": {
            "text/plain": [
              "0"
            ]
          },
          "metadata": {
            "tags": []
          },
          "execution_count": 8
        }
      ]
    },
    {
      "cell_type": "markdown",
      "metadata": {
        "id": "jtzDUwAu-kmu"
      },
      "source": [
        "# 取得憑證"
      ]
    },
    {
      "cell_type": "code",
      "metadata": {
        "id": "Wm4kne9_j2-r",
        "colab": {
          "base_uri": "https://localhost:8080/",
          "height": 204
        },
        "outputId": "c75aca4f-dd42-4a02-a1f5-87cc0b982492"
      },
      "source": [
        "ticks = api.ticks(api.Contracts.Stocks[\"2330\"], \"2019-03-04\")\n",
        "\n",
        "import pandas as pd\n",
        "df = pd.DataFrame({**ticks})\n",
        "df.ts = pd.to_datetime(df.ts)\n",
        "df.head()"
      ],
      "execution_count": null,
      "outputs": [
        {
          "output_type": "execute_result",
          "data": {
            "text/html": [
              "<div>\n",
              "<style scoped>\n",
              "    .dataframe tbody tr th:only-of-type {\n",
              "        vertical-align: middle;\n",
              "    }\n",
              "\n",
              "    .dataframe tbody tr th {\n",
              "        vertical-align: top;\n",
              "    }\n",
              "\n",
              "    .dataframe thead th {\n",
              "        text-align: right;\n",
              "    }\n",
              "</style>\n",
              "<table border=\"1\" class=\"dataframe\">\n",
              "  <thead>\n",
              "    <tr style=\"text-align: right;\">\n",
              "      <th></th>\n",
              "      <th>bid_volume</th>\n",
              "      <th>ask_price</th>\n",
              "      <th>bid_price</th>\n",
              "      <th>ask_volume</th>\n",
              "      <th>close</th>\n",
              "      <th>ts</th>\n",
              "      <th>volume</th>\n",
              "    </tr>\n",
              "  </thead>\n",
              "  <tbody>\n",
              "    <tr>\n",
              "      <th>0</th>\n",
              "      <td>0</td>\n",
              "      <td>0</td>\n",
              "      <td>0</td>\n",
              "      <td>0</td>\n",
              "      <td>239.5</td>\n",
              "      <td>2019-03-04 09:00:00.842</td>\n",
              "      <td>5082</td>\n",
              "    </tr>\n",
              "    <tr>\n",
              "      <th>1</th>\n",
              "      <td>0</td>\n",
              "      <td>0</td>\n",
              "      <td>0</td>\n",
              "      <td>0</td>\n",
              "      <td>239.5</td>\n",
              "      <td>2019-03-04 09:00:05.873</td>\n",
              "      <td>54</td>\n",
              "    </tr>\n",
              "    <tr>\n",
              "      <th>2</th>\n",
              "      <td>0</td>\n",
              "      <td>0</td>\n",
              "      <td>0</td>\n",
              "      <td>0</td>\n",
              "      <td>239.5</td>\n",
              "      <td>2019-03-04 09:00:10.901</td>\n",
              "      <td>11</td>\n",
              "    </tr>\n",
              "    <tr>\n",
              "      <th>3</th>\n",
              "      <td>0</td>\n",
              "      <td>0</td>\n",
              "      <td>0</td>\n",
              "      <td>0</td>\n",
              "      <td>239.5</td>\n",
              "      <td>2019-03-04 09:00:15.926</td>\n",
              "      <td>32</td>\n",
              "    </tr>\n",
              "    <tr>\n",
              "      <th>4</th>\n",
              "      <td>0</td>\n",
              "      <td>0</td>\n",
              "      <td>0</td>\n",
              "      <td>0</td>\n",
              "      <td>239.5</td>\n",
              "      <td>2019-03-04 09:00:20.949</td>\n",
              "      <td>8</td>\n",
              "    </tr>\n",
              "  </tbody>\n",
              "</table>\n",
              "</div>"
            ],
            "text/plain": [
              "   bid_volume  ask_price  bid_price  ...  close                      ts volume\n",
              "0           0          0          0  ...  239.5 2019-03-04 09:00:00.842   5082\n",
              "1           0          0          0  ...  239.5 2019-03-04 09:00:05.873     54\n",
              "2           0          0          0  ...  239.5 2019-03-04 09:00:10.901     11\n",
              "3           0          0          0  ...  239.5 2019-03-04 09:00:15.926     32\n",
              "4           0          0          0  ...  239.5 2019-03-04 09:00:20.949      8\n",
              "\n",
              "[5 rows x 7 columns]"
            ]
          },
          "metadata": {
            "tags": []
          },
          "execution_count": 15
        }
      ]
    },
    {
      "cell_type": "markdown",
      "metadata": {
        "id": "Ac28ZqCQ-qE5"
      },
      "source": [
        "# 股票倉位調整函式"
      ]
    },
    {
      "cell_type": "code",
      "metadata": {
        "id": "S97JnTU9iicK"
      },
      "source": [
        "import pandas as pd\n",
        "\n",
        "def create_new_orders(target_positions):\n",
        "  \"\"\"create new orders in order to rebalance the old positions to new positions\n",
        "    \n",
        "    Parameters:\n",
        "    target_position (dict): a dictionary with stock_id and the number of lot\n",
        "      \n",
        "      example: \n",
        "\n",
        "        target_positions = {\n",
        "          '2414': 4.0,\n",
        "          '2430': 6.0,\n",
        "          '2616': 3.0,\n",
        "        }\n",
        "\n",
        "    Returns:\n",
        "    dict: new orders which update old positions.\n",
        "\n",
        "      example: if your original positions are {'2414': 2, '2330': 1} then with the target_position example above,\n",
        "               the following return is obtained.\n",
        "\n",
        "        {\n",
        "          '2414': 2.0,\n",
        "          '2330': -1\n",
        "          '2430': 6.0,\n",
        "          '2616': 3.0,\n",
        "        }\n",
        "\n",
        "  \"\"\"\n",
        "\n",
        "  # get present positions\n",
        "  positions = api.list_positions(api.stock_account)\n",
        "  present_positions = {p.code: p.quantity for p in positions}\n",
        "  target_positions = pd.Series(target_positions).astype(int).to_dict()\n",
        "  # print present and target positions\n",
        "  print('Present positions:')\n",
        "  print(pd.Series(present_positions))\n",
        "  print('------------------')\n",
        "  print('Target positions:')\n",
        "  print(pd.Series(target_positions))\n",
        "  print('------------------')\n",
        "\n",
        "  # calculate the difference between present position and target position\n",
        "  all_codes = set(list(target_positions.keys()) + list(present_positions.keys()))\n",
        "  new_orders = (pd.Series(target_positions).reindex(all_codes).fillna(0) - \n",
        "                pd.Series(present_positions).reindex(all_codes).fillna(0)).astype(int)\n",
        "  new_orders = new_orders[new_orders!=0].to_dict()\n",
        "\n",
        "  # print the new orders\n",
        "  print('new orders to rebalance:')\n",
        "  if new_orders:\n",
        "    print(pd.Series(new_orders))\n",
        "  else:\n",
        "    print('None')\n",
        "  print('------------------')\n",
        "  return new_orders\n",
        "\n",
        "def cancel_all_unfilled_orders():\n",
        "  \"\"\"Cancel all unfilled orders\"\"\"\n",
        "\n",
        "  api.update_status(api.stock_account)\n",
        "  for trade in api.list_trades():\n",
        "    if trade.status.status in ['Cancelled', 'Failed', 'Filled']: # Failed PreSubmitted\n",
        "      pass\n",
        "    else:\n",
        "      print('operation: cancel trade\\t', trade)\n",
        "      api.cancel_order(trade)\n",
        "\n",
        "def execute_orders(new_orders):\n",
        "  \n",
        "  # query market data\n",
        "  contracts = [api.Contracts.Stocks.get(code) for code in new_orders.keys()]\n",
        "  market_data = api.snapshots(contracts)\n",
        "  market_data = {snapshot.code: snapshot for snapshot in market_data}\n",
        "\n",
        "  # cancel unrealized orders\n",
        "  cancel_all_unfilled_orders()\n",
        "\n",
        "  # make orders\n",
        "  for code, quantity in new_orders.items():\n",
        "    contract = api.Contracts.Stocks.get(code)\n",
        "    price = market_data[code].close\n",
        "    \n",
        "    action = 'Buy' if quantity > 0 else 'Sell'\n",
        "\n",
        "    if quantity == 0:\n",
        "      continue\n",
        "\n",
        "    order = api.Order(price=price,\n",
        "                    quantity=abs(int(quantity)), \n",
        "                    action=action,\n",
        "                    price_type=\"LMT\",\n",
        "                    order_type=\"ROD\",\n",
        "                    order_lot=\"Common\",\n",
        "                    account=api.stock_account\n",
        "    )\n",
        "    trade = api.place_order(contract, order)\n",
        "    print('operation: new trade:\\t', trade)"
      ],
      "execution_count": null,
      "outputs": []
    },
    {
      "cell_type": "markdown",
      "metadata": {
        "id": "pdJDNYlF-1Gu"
      },
      "source": [
        "# 產生委託單\n",
        "上方已經寫好函式\n",
        "\n",
        "方便大家直接使用\n",
        "\n",
        "以下是介紹：\n",
        "\n",
        ".\n",
        "\n",
        "首先\n",
        "\n",
        "`create_new_orders(target_position)`\n",
        "\n",
        "幫你計算「目標倉位 `target_position`」跟「實際倉位」的股票數量差異\n",
        "\n",
        "然後幫你產生出需要「委託的股票清單」，\n",
        "\n",
        ".\n",
        "\n",
        "此時新的委託單 `new_orders` **不會直接委託**！\n",
        "\n",
        "而讓你確認 `new_orders` 是你想要的委託清單後\n",
        "\n",
        "再用\n",
        "\n",
        "`execute_orders(new_orders) `\n",
        "\n",
        "來下委託單\n",
        "委託單皆會以當前價格「限價」掛單\n"
      ]
    },
    {
      "cell_type": "code",
      "metadata": {
        "id": "_3kY71jkx-9C",
        "colab": {
          "base_uri": "https://localhost:8080/",
          "height": 544
        },
        "outputId": "87b97436-039b-4485-af8f-a453ca8686e4"
      },
      "source": [
        "target_positions = {'2414': 4,\n",
        " '2430': 6,\n",
        " '2616': 3,\n",
        " '3029': 3,\n",
        " '3032': 3,\n",
        " '3056': 3,\n",
        " '3325': 5,\n",
        " '3537': 2,\n",
        " '5609': 3,\n",
        " '6126': 5\n",
        "}\n",
        "\n",
        "new_orders = create_new_orders(target_positions)\n",
        "new_orders"
      ],
      "execution_count": null,
      "outputs": [
        {
          "output_type": "stream",
          "text": [
            "Present positions:\n",
            "2414    4\n",
            "2430    6\n",
            "2616    3\n",
            "3029    3\n",
            "3032    3\n",
            "3056    3\n",
            "3325    5\n",
            "3537    2\n",
            "5609    3\n",
            "6126    6\n",
            "dtype: int64\n",
            "------------------\n",
            "Target positions:\n",
            "2414    4\n",
            "2430    6\n",
            "2616    3\n",
            "3029    3\n",
            "3032    3\n",
            "3056    3\n",
            "3325    5\n",
            "3537    2\n",
            "5609    3\n",
            "6126    5\n",
            "dtype: int64\n",
            "------------------\n",
            "new orders to rebalance:\n",
            "6126   -1\n",
            "dtype: int64\n",
            "------------------\n"
          ],
          "name": "stdout"
        },
        {
          "output_type": "execute_result",
          "data": {
            "text/plain": [
              "{'6126': -1}"
            ]
          },
          "metadata": {
            "tags": []
          },
          "execution_count": 32
        }
      ]
    },
    {
      "cell_type": "code",
      "metadata": {
        "id": "QWiw4A-uBD_a",
        "colab": {
          "base_uri": "https://localhost:8080/",
          "height": 34
        },
        "outputId": "e408f067-cf65-415a-be65-b3833ecdc5d6"
      },
      "source": [
        "new_orders"
      ],
      "execution_count": null,
      "outputs": [
        {
          "output_type": "execute_result",
          "data": {
            "text/plain": [
              "{'6126': -1}"
            ]
          },
          "metadata": {
            "tags": []
          },
          "execution_count": 33
        }
      ]
    },
    {
      "cell_type": "code",
      "metadata": {
        "id": "j-Cyh3Kr8QDl"
      },
      "source": [
        "execute_orders(new_orders)"
      ],
      "execution_count": null,
      "outputs": []
    },
    {
      "cell_type": "code",
      "metadata": {
        "id": "mVP02ha-0ZgH",
        "colab": {
          "base_uri": "https://localhost:8080/",
          "height": 187
        },
        "outputId": "278fce98-47e6-44c0-cafa-a4efca8a0cbb"
      },
      "source": [
        "api.list_positions(api.stock_account)"
      ],
      "execution_count": null,
      "outputs": [
        {
          "output_type": "execute_result",
          "data": {
            "text/plain": [
              "[Position(code='2414', direction=<Action.Buy: 'Buy'>, quantity=4, price=24.18, pnl=-563.0, yd_quantity=4),\n",
              " Position(code='2430', direction=<Action.Buy: 'Buy'>, quantity=6, price=17.78, pnl=-24.0, yd_quantity=6),\n",
              " Position(code='2616', direction=<Action.Buy: 'Buy'>, quantity=3, price=30.74, pnl=-239.0, yd_quantity=3),\n",
              " Position(code='3029', direction=<Action.Buy: 'Buy'>, quantity=3, price=34.75, pnl=-458.0, yd_quantity=3),\n",
              " Position(code='3032', direction=<Action.Buy: 'Buy'>, quantity=3, price=30.14, pnl=-79.0, yd_quantity=3),\n",
              " Position(code='3056', direction=<Action.Buy: 'Buy'>, quantity=3, price=34.5, pnl=293.0, yd_quantity=3),\n",
              " Position(code='3325', direction=<Action.Buy: 'Buy'>, quantity=5, price=18.68, pnl=-543.0, yd_quantity=5),\n",
              " Position(code='3537', direction=<Action.Buy: 'Buy'>, quantity=2, price=41.56, pnl=-485.0, yd_quantity=2),\n",
              " Position(code='5609', direction=<Action.Buy: 'Buy'>, quantity=3, price=32.6, pnl=-3706.0, yd_quantity=3),\n",
              " Position(code='6126', direction=<Action.Buy: 'Buy'>, quantity=6, price=16.62, pnl=-2074.0, yd_quantity=6)]"
            ]
          },
          "metadata": {
            "tags": []
          },
          "execution_count": 6
        }
      ]
    },
    {
      "cell_type": "code",
      "metadata": {
        "id": "rglydByBsr0D",
        "colab": {
          "base_uri": "https://localhost:8080/",
          "height": 34
        },
        "outputId": "7c97d8ac-867b-403b-d9bd-cb257f0dc31c"
      },
      "source": [
        "api.list_profit_loss(api.stock_account,'2020-05-05','2020-05-30')"
      ],
      "execution_count": null,
      "outputs": [
        {
          "output_type": "execute_result",
          "data": {
            "text/plain": [
              "[]"
            ]
          },
          "metadata": {
            "tags": []
          },
          "execution_count": 22
        }
      ]
    }
  ]
}
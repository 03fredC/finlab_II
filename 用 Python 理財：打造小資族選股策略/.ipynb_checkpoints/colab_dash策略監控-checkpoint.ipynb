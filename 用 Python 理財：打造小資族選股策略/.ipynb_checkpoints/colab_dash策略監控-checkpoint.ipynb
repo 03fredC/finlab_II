{
 "cells": [
  {
   "cell_type": "code",
   "execution_count": 1,
   "metadata": {
    "colab": {
     "base_uri": "https://localhost:8080/",
     "height": 69
    },
    "executionInfo": {
     "elapsed": 829,
     "status": "ok",
     "timestamp": 1610089012778,
     "user": {
      "displayName": "Fred Chang",
      "photoUrl": "",
      "userId": "07802060862709492823"
     },
     "user_tz": -480
    },
    "id": "JLkEnRVZtwy0",
    "outputId": "1ecc1e89-470f-49f2-c77e-12ae78dcb365"
   },
   "outputs": [
    {
     "name": "stdout",
     "output_type": "stream",
     "text": [
      "/content\n",
      "Drive already mounted at /content/drive/; to attempt to forcibly remount, call drive.mount(\"/content/drive/\", force_remount=True).\n"
     ]
    },
    {
     "data": {
      "application/vnd.google.colaboratory.intrinsic+json": {
       "type": "string"
      },
      "text/plain": [
       "'/content/drive/MyDrive/Colab Notebooks/Finlab/小資選股策略'"
      ]
     },
     "execution_count": 1,
     "metadata": {
      "tags": []
     },
     "output_type": "execute_result"
    }
   ],
   "source": [
    "# 查看工作路径\n",
    "import os\n",
    " \n",
    "print(os.getcwd())\n",
    " \n",
    " \n",
    "# 修改工作路径\n",
    "import os\n",
    "from google.colab import drive\n",
    "drive.mount('/content/drive/')\n",
    " \n",
    "path = \"/content/drive/MyDrive/Colab Notebooks/Finlab/小資選股策略/\"\n",
    "os.chdir(path)\n",
    "\n",
    "os.getcwd() #查看當前路徑"
   ]
  },
  {
   "cell_type": "markdown",
   "metadata": {
    "id": "Cx62f5K4iM9p"
   },
   "source": [
    "# Setup"
   ]
  },
  {
   "cell_type": "code",
   "execution_count": 5,
   "metadata": {
    "colab": {
     "base_uri": "https://localhost:8080/"
    },
    "executionInfo": {
     "elapsed": 3393,
     "status": "ok",
     "timestamp": 1610087883113,
     "user": {
      "displayName": "Fred Chang",
      "photoUrl": "",
      "userId": "07802060862709492823"
     },
     "user_tz": -480
    },
    "id": "B2Aa64qWsye9",
    "outputId": "7b6a8b8e-ab4f-4b34-a82f-2c781b6bee72"
   },
   "outputs": [
    {
     "name": "stdout",
     "output_type": "stream",
     "text": [
      "Collecting flask-ngrok\n",
      "  Downloading flask_ngrok-0.0.25-py3-none-any.whl (3.1 kB)\n",
      "Requirement already satisfied: requests in d:\\miniconda3\\envs\\finlab\\lib\\site-packages (from flask-ngrok) (2.25.0)\n",
      "Collecting Flask>=0.8\n",
      "  Using cached Flask-1.1.2-py2.py3-none-any.whl (94 kB)\n",
      "Requirement already satisfied: Werkzeug>=0.15 in d:\\miniconda3\\envs\\finlab\\lib\\site-packages (from Flask>=0.8->flask-ngrok) (1.0.1)\n",
      "Requirement already satisfied: Jinja2>=2.10.1 in d:\\miniconda3\\envs\\finlab\\lib\\site-packages (from Flask>=0.8->flask-ngrok) (2.11.2)\n",
      "Collecting click>=5.1\n",
      "  Using cached click-7.1.2-py2.py3-none-any.whl (82 kB)\n",
      "Collecting itsdangerous>=0.24\n",
      "  Using cached itsdangerous-1.1.0-py2.py3-none-any.whl (16 kB)\n",
      "Requirement already satisfied: MarkupSafe>=0.23 in d:\\miniconda3\\envs\\finlab\\lib\\site-packages (from Jinja2>=2.10.1->Flask>=0.8->flask-ngrok) (1.1.1)\n",
      "Requirement already satisfied: chardet<4,>=3.0.2 in d:\\miniconda3\\envs\\finlab\\lib\\site-packages (from requests->flask-ngrok) (3.0.4)\n",
      "Requirement already satisfied: urllib3<1.27,>=1.21.1 in d:\\miniconda3\\envs\\finlab\\lib\\site-packages (from requests->flask-ngrok) (1.25.11)\n",
      "Requirement already satisfied: idna<3,>=2.5 in d:\\miniconda3\\envs\\finlab\\lib\\site-packages (from requests->flask-ngrok) (2.10)\n",
      "Requirement already satisfied: certifi>=2017.4.17 in d:\\miniconda3\\envs\\finlab\\lib\\site-packages (from requests->flask-ngrok) (2020.12.5)\n",
      "Installing collected packages: itsdangerous, click, Flask, flask-ngrok\n",
      "Successfully installed Flask-1.1.2 click-7.1.2 flask-ngrok-0.0.25 itsdangerous-1.1.0\n"
     ]
    }
   ],
   "source": [
    "!pip install flask-ngrok\n"
   ]
  },
  {
   "cell_type": "code",
   "execution_count": null,
   "metadata": {
    "executionInfo": {
     "elapsed": 20774,
     "status": "ok",
     "timestamp": 1610087921143,
     "user": {
      "displayName": "Fred Chang",
      "photoUrl": "",
      "userId": "07802060862709492823"
     },
     "user_tz": -480
    },
    "id": "i6kp2WyDiqA6"
   },
   "outputs": [],
   "source": [
    "# %%sh\n",
    "!pip install -q dash\n",
    "!pip install -q dash_core_components\n",
    "!pip install -q dash_html_components\n",
    "!pip install -q dash_table"
   ]
  },
  {
   "cell_type": "code",
   "execution_count": null,
   "metadata": {
    "colab": {
     "base_uri": "https://localhost:8080/"
    },
    "executionInfo": {
     "elapsed": 12818,
     "status": "ok",
     "timestamp": 1610088867345,
     "user": {
      "displayName": "Fred Chang",
      "photoUrl": "",
      "userId": "07802060862709492823"
     },
     "user_tz": -480
    },
    "id": "uuHS64aNk6oK",
    "outputId": "5ad56eea-6a2f-40e1-c64b-55334f926935"
   },
   "outputs": [],
   "source": [
    "# %%sh\n",
    "# get ngrok\n",
    "!curl -O https://bin.equinox.io/c/4VmDzA7iaHb/ngrok-stable-linux-amd64.zip\n",
    "!unzip ngrok-stable-linux-amd64.zip"
   ]
  },
  {
   "cell_type": "markdown",
   "metadata": {
    "id": "QVb3TaoVtFom"
   },
   "source": [
    "# Dash"
   ]
  },
  {
   "cell_type": "code",
   "execution_count": 2,
   "metadata": {
    "executionInfo": {
     "elapsed": 782,
     "status": "ok",
     "timestamp": 1610090071163,
     "user": {
      "displayName": "Fred Chang",
      "photoUrl": "",
      "userId": "07802060862709492823"
     },
     "user_tz": -480
    },
    "id": "5hKnCayGlyd_"
   },
   "outputs": [],
   "source": [
    "# launch ngrok\n",
    "get_ipython().system_raw('./ngrok http 8050 &')"
   ]
  },
  {
   "cell_type": "code",
   "execution_count": 3,
   "metadata": {
    "colab": {
     "base_uri": "https://localhost:8080/"
    },
    "executionInfo": {
     "elapsed": 714,
     "status": "ok",
     "timestamp": 1610090067901,
     "user": {
      "displayName": "Fred Chang",
      "photoUrl": "",
      "userId": "07802060862709492823"
     },
     "user_tz": -480
    },
    "id": "UK2SIu8qsHPK",
    "outputId": "97a8782a-6503-490d-f7d4-6f1cdd992317"
   },
   "outputs": [
    {
     "name": "stdout",
     "output_type": "stream",
     "text": [
      "Couldn't find program: 'sh'\n"
     ]
    }
   ],
   "source": [
    "%%sh\n",
    "# get url with ngrok\n",
    "curl -s http://localhost:4040/api/tunnels | python3 -c \"import sys, json; print(json.load(sys.stdin)['tunnels'][0]['public_url'])\""
   ]
  },
  {
   "cell_type": "code",
   "execution_count": 4,
   "metadata": {
    "colab": {
     "base_uri": "https://localhost:8080/"
    },
    "executionInfo": {
     "elapsed": 62767,
     "status": "ok",
     "timestamp": 1610090135968,
     "user": {
      "displayName": "Fred Chang",
      "photoUrl": "",
      "userId": "07802060862709492823"
     },
     "user_tz": -480
    },
    "id": "ycoF8TVXjos6",
    "outputId": "68090283-ec99-4646-83fc-731d597dbb82"
   },
   "outputs": [
    {
     "name": "stderr",
     "output_type": "stream",
     "text": [
      "Traceback (most recent call last):\n",
      "  File \"server.py\", line 1, in <module>\n",
      "    import dash\n",
      "ModuleNotFoundError: No module named 'dash'\n"
     ]
    }
   ],
   "source": [
    "get_ipython().system_raw('./ngrok http 8050 &')\n",
    "\n",
    "!curl -s http://localhost:4040/api/tunnels | python3 -c \"import sys, json; print(json.load(sys.stdin)['tunnels'][0]['public_url'])\"\n",
    "!python server.py"
   ]
  }
 ],
 "metadata": {
  "colab": {
   "name": "colab_dash策略監控",
   "provenance": [
    {
     "file_id": "https://github.com/sanpei3/ColaboratoryDash/blob/master/colab_dash.ipynb",
     "timestamp": 1610080638223
    }
   ]
  },
  "kernelspec": {
   "display_name": "Python 3",
   "language": "python",
   "name": "python3"
  },
  "language_info": {
   "codemirror_mode": {
    "name": "ipython",
    "version": 3
   },
   "file_extension": ".py",
   "mimetype": "text/x-python",
   "name": "python",
   "nbconvert_exporter": "python",
   "pygments_lexer": "ipython3",
   "version": "3.6.12"
  }
 },
 "nbformat": 4,
 "nbformat_minor": 1
}

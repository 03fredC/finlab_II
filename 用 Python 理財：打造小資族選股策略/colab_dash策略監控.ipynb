{
 "cells": [
  {
   "cell_type": "code",
   "execution_count": 1,
   "metadata": {
    "colab": {
     "base_uri": "https://localhost:8080/",
     "height": 69
    },
    "executionInfo": {
     "elapsed": 829,
     "status": "ok",
     "timestamp": 1610089012778,
     "user": {
      "displayName": "Fred Chang",
      "photoUrl": "",
      "userId": "07802060862709492823"
     },
     "user_tz": -480
    },
    "id": "JLkEnRVZtwy0",
    "outputId": "1ecc1e89-470f-49f2-c77e-12ae78dcb365"
   },
   "outputs": [
    {
     "name": "stdout",
     "output_type": "stream",
     "text": [
      "D:\\Finlab\\用 Python 理財：打造自己的 AI 股票理專\\用 Python 理財：打造小資族選股策略\n"
     ]
    },
    {
     "ename": "ModuleNotFoundError",
     "evalue": "No module named 'google'",
     "output_type": "error",
     "traceback": [
      "\u001b[1;31m---------------------------------------------------------------------------\u001b[0m",
      "\u001b[1;31mModuleNotFoundError\u001b[0m                       Traceback (most recent call last)",
      "Input \u001b[1;32mIn [1]\u001b[0m, in \u001b[0;36m<cell line: 9>\u001b[1;34m()\u001b[0m\n\u001b[0;32m      7\u001b[0m \u001b[38;5;66;03m# 修改工作路径\u001b[39;00m\n\u001b[0;32m      8\u001b[0m \u001b[38;5;28;01mimport\u001b[39;00m \u001b[38;5;21;01mos\u001b[39;00m\n\u001b[1;32m----> 9\u001b[0m \u001b[38;5;28;01mfrom\u001b[39;00m \u001b[38;5;21;01mgoogle\u001b[39;00m\u001b[38;5;21;01m.\u001b[39;00m\u001b[38;5;21;01mcolab\u001b[39;00m \u001b[38;5;28;01mimport\u001b[39;00m drive\n\u001b[0;32m     10\u001b[0m drive\u001b[38;5;241m.\u001b[39mmount(\u001b[38;5;124m'\u001b[39m\u001b[38;5;124m/content/drive/\u001b[39m\u001b[38;5;124m'\u001b[39m)\n\u001b[0;32m     12\u001b[0m path \u001b[38;5;241m=\u001b[39m \u001b[38;5;124m\"\u001b[39m\u001b[38;5;124m/content/drive/MyDrive/Colab Notebooks/Finlab/小資選股策略/\u001b[39m\u001b[38;5;124m\"\u001b[39m\n",
      "\u001b[1;31mModuleNotFoundError\u001b[0m: No module named 'google'"
     ]
    }
   ],
   "source": [
    "# 查看工作路径\n",
    "import os\n",
    " \n",
    "print(os.getcwd())\n",
    " \n",
    " \n",
    "# 修改工作路径\n",
    "import os\n",
    "from google.colab import drive\n",
    "drive.mount('/content/drive/')\n",
    " \n",
    "path = \"/content/drive/MyDrive/Colab Notebooks/Finlab/小資選股策略/\"\n",
    "os.chdir(path)\n",
    "\n",
    "os.getcwd() #查看當前路徑"
   ]
  },
  {
   "cell_type": "markdown",
   "metadata": {
    "id": "Cx62f5K4iM9p"
   },
   "source": [
    "# Setup"
   ]
  },
  {
   "cell_type": "code",
   "execution_count": 6,
   "metadata": {
    "colab": {
     "base_uri": "https://localhost:8080/"
    },
    "executionInfo": {
     "elapsed": 3393,
     "status": "ok",
     "timestamp": 1610087883113,
     "user": {
      "displayName": "Fred Chang",
      "photoUrl": "",
      "userId": "07802060862709492823"
     },
     "user_tz": -480
    },
    "id": "B2Aa64qWsye9",
    "outputId": "7b6a8b8e-ab4f-4b34-a82f-2c781b6bee72"
   },
   "outputs": [
    {
     "name": "stdout",
     "output_type": "stream",
     "text": [
      "Active code page: 65001\n",
      "Requirement already satisfied: flask-ngrok in d:\\miniconda3\\lib\\site-packages (0.0.25)\n",
      "Requirement already satisfied: Flask>=0.8 in d:\\miniconda3\\lib\\site-packages (from flask-ngrok) (2.2.2)\n",
      "Requirement already satisfied: requests in d:\\miniconda3\\lib\\site-packages (from flask-ngrok) (2.28.1)\n",
      "Requirement already satisfied: itsdangerous>=2.0 in d:\\miniconda3\\lib\\site-packages (from Flask>=0.8->flask-ngrok) (2.1.2)\n",
      "Requirement already satisfied: Werkzeug>=2.2.2 in d:\\miniconda3\\lib\\site-packages (from Flask>=0.8->flask-ngrok) (2.2.2)\n",
      "Requirement already satisfied: importlib-metadata>=3.6.0 in c:\\users\\user\\appdata\\roaming\\python\\python39\\site-packages (from Flask>=0.8->flask-ngrok) (4.12.0)\n",
      "Requirement already satisfied: click>=8.0 in d:\\miniconda3\\lib\\site-packages (from Flask>=0.8->flask-ngrok) (8.1.3)\n",
      "Requirement already satisfied: Jinja2>=3.0 in c:\\users\\user\\appdata\\roaming\\python\\python39\\site-packages (from Flask>=0.8->flask-ngrok) (3.1.2)\n",
      "Requirement already satisfied: charset-normalizer<3,>=2 in d:\\miniconda3\\lib\\site-packages (from requests->flask-ngrok) (2.0.4)\n",
      "Requirement already satisfied: idna<4,>=2.5 in d:\\miniconda3\\lib\\site-packages (from requests->flask-ngrok) (3.3)\n",
      "Requirement already satisfied: certifi>=2017.4.17 in d:\\miniconda3\\lib\\site-packages (from requests->flask-ngrok) (2022.6.15)\n",
      "Requirement already satisfied: urllib3<1.27,>=1.21.1 in d:\\miniconda3\\lib\\site-packages (from requests->flask-ngrok) (1.26.9)\n",
      "Requirement already satisfied: colorama in d:\\miniconda3\\lib\\site-packages (from click>=8.0->Flask>=0.8->flask-ngrok) (0.4.5)\n",
      "Requirement already satisfied: zipp>=0.5 in c:\\users\\user\\appdata\\roaming\\python\\python39\\site-packages (from importlib-metadata>=3.6.0->Flask>=0.8->flask-ngrok) (3.8.1)\n",
      "Requirement already satisfied: MarkupSafe>=2.0 in c:\\users\\user\\appdata\\roaming\\python\\python39\\site-packages (from Jinja2>=3.0->Flask>=0.8->flask-ngrok) (2.1.1)\n"
     ]
    }
   ],
   "source": [
    "!pip install flask-ngrok"
   ]
  },
  {
   "cell_type": "code",
   "execution_count": 8,
   "metadata": {
    "executionInfo": {
     "elapsed": 20774,
     "status": "ok",
     "timestamp": 1610087921143,
     "user": {
      "displayName": "Fred Chang",
      "photoUrl": "",
      "userId": "07802060862709492823"
     },
     "user_tz": -480
    },
    "id": "i6kp2WyDiqA6"
   },
   "outputs": [
    {
     "name": "stdout",
     "output_type": "stream",
     "text": [
      "^C\n",
      "^C\n",
      "^C\n",
      "^C\n"
     ]
    }
   ],
   "source": [
    "# %%sh\n",
    "!pip install -q dash\n",
    "!pip install -q dash_core_components\n",
    "!pip install -q dash_html_components\n",
    "!pip install -q dash_table"
   ]
  },
  {
   "cell_type": "code",
   "execution_count": null,
   "metadata": {
    "colab": {
     "base_uri": "https://localhost:8080/"
    },
    "executionInfo": {
     "elapsed": 12818,
     "status": "ok",
     "timestamp": 1610088867345,
     "user": {
      "displayName": "Fred Chang",
      "photoUrl": "",
      "userId": "07802060862709492823"
     },
     "user_tz": -480
    },
    "id": "uuHS64aNk6oK",
    "outputId": "5ad56eea-6a2f-40e1-c64b-55334f926935"
   },
   "outputs": [],
   "source": [
    "# %%sh\n",
    "# get ngrok\n",
    "#!curl -O https://bin.equinox.io/c/4VmDzA7iaHb/ngrok-stable-linux-amd64.zip\n",
    "!unzip ngrok-stable-linux-amd64.zip"
   ]
  },
  {
   "cell_type": "markdown",
   "metadata": {
    "id": "QVb3TaoVtFom"
   },
   "source": [
    "# Dash"
   ]
  },
  {
   "cell_type": "code",
   "execution_count": null,
   "metadata": {
    "executionInfo": {
     "elapsed": 782,
     "status": "ok",
     "timestamp": 1610090071163,
     "user": {
      "displayName": "Fred Chang",
      "photoUrl": "",
      "userId": "07802060862709492823"
     },
     "user_tz": -480
    },
    "id": "5hKnCayGlyd_"
   },
   "outputs": [],
   "source": [
    "# launch ngrok\n",
    "get_ipython().system_raw('./ngrok http 8050 &')"
   ]
  },
  {
   "cell_type": "code",
   "execution_count": 9,
   "metadata": {
    "colab": {
     "base_uri": "https://localhost:8080/"
    },
    "executionInfo": {
     "elapsed": 714,
     "status": "ok",
     "timestamp": 1610090067901,
     "user": {
      "displayName": "Fred Chang",
      "photoUrl": "",
      "userId": "07802060862709492823"
     },
     "user_tz": -480
    },
    "id": "UK2SIu8qsHPK",
    "outputId": "97a8782a-6503-490d-f7d4-6f1cdd992317"
   },
   "outputs": [
    {
     "name": "stdout",
     "output_type": "stream",
     "text": [
      "Couldn't find program: 'sh'\n",
      "Active code page: 65001\n",
      "Active code page: 65001\n"
     ]
    }
   ],
   "source": [
    "%%sh\n",
    "# get url with ngrok\n",
    "curl -s http://localhost:4040/api/tunnels | python3 -c \"import sys, json; print(json.load(sys.stdin)['tunnels'][0]['public_url'])\""
   ]
  },
  {
   "cell_type": "code",
   "execution_count": 10,
   "metadata": {
    "colab": {
     "base_uri": "https://localhost:8080/"
    },
    "executionInfo": {
     "elapsed": 62767,
     "status": "ok",
     "timestamp": 1610090135968,
     "user": {
      "displayName": "Fred Chang",
      "photoUrl": "",
      "userId": "07802060862709492823"
     },
     "user_tz": -480
    },
    "id": "ycoF8TVXjos6",
    "outputId": "68090283-ec99-4646-83fc-731d597dbb82"
   },
   "outputs": [
    {
     "name": "stdout",
     "output_type": "stream",
     "text": [
      "Active code page: 65001\n",
      "Active code page: 65001\n"
     ]
    },
    {
     "name": "stderr",
     "output_type": "stream",
     "text": [
      "Traceback (most recent call last):\n",
      "  File \"D:\\Finlab\\用 Python 理財：打造自己的 AI 股票理專\\用 Python 理財：打造小資族選股策略\\server.py\", line 1, in <module>\n",
      "    import dash\n",
      "ModuleNotFoundError: No module named 'dash'\n"
     ]
    }
   ],
   "source": [
    "get_ipython().system_raw('./ngrok http 8050 &')\n",
    "\n",
    "!curl -s http://localhost:4040/api/tunnels | python3 -c \"import sys, json; print(json.load(sys.stdin)['tunnels'][0]['public_url'])\"\n",
    "!python server.py"
   ]
  }
 ],
 "metadata": {
  "colab": {
   "name": "colab_dash策略監控",
   "provenance": [
    {
     "file_id": "https://github.com/sanpei3/ColaboratoryDash/blob/master/colab_dash.ipynb",
     "timestamp": 1610080638223
    }
   ]
  },
  "kernelspec": {
   "display_name": "Python 3 (ipykernel)",
   "language": "python",
   "name": "python3"
  },
  "language_info": {
   "codemirror_mode": {
    "name": "ipython",
    "version": 3
   },
   "file_extension": ".py",
   "mimetype": "text/x-python",
   "name": "python",
   "nbconvert_exporter": "python",
   "pygments_lexer": "ipython3",
   "version": "3.9.12"
  }
 },
 "nbformat": 4,
 "nbformat_minor": 4
}

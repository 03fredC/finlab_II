{
 "cells": [
  {
   "cell_type": "code",
   "execution_count": 2,
   "metadata": {},
   "outputs": [],
   "source": [
    "from finlab.data import Data\n",
    "\n",
    "# 可以從 data 中讀取資料\n",
    "data = Data()"
   ]
  },
  {
   "cell_type": "code",
   "execution_count": 3,
   "metadata": {},
   "outputs": [],
   "source": [
    "# 從 close, high, low 取從最新的一筆資料往前算，2000筆資料\n",
    "close = data.get('收盤價', 2000)\n",
    "high = data.get('最高價', 2000)\n",
    "low = data.get('最低價', 2000)"
   ]
  },
  {
   "cell_type": "code",
   "execution_count": 4,
   "metadata": {},
   "outputs": [
    {
     "data": {
      "text/plain": [
       "<AxesSubplot:xlabel='date'>"
      ]
     },
     "execution_count": 4,
     "metadata": {},
     "output_type": "execute_result"
    },
    {
     "data": {
      "image/png": "[encoded data removed]",
      "text/plain": [
       "<Figure size 432x288 with 2 Axes>"
      ]
     },
     "metadata": {
      "needs_background": "light"
     },
     "output_type": "display_data"
    }
   ],
   "source": [
    "import talib\n",
    "import pandas as pd\n",
    "\n",
    "stock_id='2330'\n",
    "# 利用 talib 來計算 0050 這檔股票的指標\n",
    "kd = talib.STOCH(high[stock_id].ffill().values, \n",
    "                 low[stock_id].ffill().values, \n",
    "                 close[stock_id].ffill().values,\n",
    "                 fastk_period=9, slowk_period=3\n",
    "                 , slowd_period=3, slowk_matype=1, slowd_matype=1)\n",
    "\n",
    "# 將 kd 值 分別轉換成 k、d 兩條 series\n",
    "k = pd.Series(kd[0], index=close[stock_id].index)\n",
    "d = pd.Series(kd[1], index=close[stock_id].index)\n",
    "\n",
    "# & 代表 「且」 的意思，這邊的條件就是\n",
    "# k.shift(1) 可以想成「昨天」的意思，同理 k.shift(2) 就是前天\n",
    "# 當（今天的 k > d ）且 （昨天的 k < d） 且 （今天的 k < 30） 時，買入\n",
    "\n",
    "buy = (k > d) & (k.shift(1) < d.shift(1)) & (k < 30)\n",
    "\n",
    "# 起始資金為 30 萬，這段可以參考「老師的話」當中的範例\n",
    "arr = [30]\n",
    "for v, p in zip(buy[1:], close[stock_id].shift(-2)/close[stock_id].shift(-1)):\n",
    "    arr.append(arr[-1]*p + v)\n",
    "\n",
    "# 畫圖\n",
    "%matplotlib inline\n",
    "\n",
    "# 先畫出 0050 收盤價\n",
    "close[stock_id].plot(secondary_y=True, color='gray')\n",
    "\n",
    "# 畫出投資獲利\n",
    "pd.Series(arr, index=close[stock_id].index).plot()\n",
    "\n",
    "# 畫出買入的時間點\n",
    "buy.astype(int).plot()\n",
    "\n",
    "# 畫出一樣的金額假如放在銀行，的資產變化\n",
    "(buy.astype(int).cumsum() + 30).plot()"
   ]
  },
  {
   "cell_type": "code",
   "execution_count": 13,
   "metadata": {},
   "outputs": [
    {
     "data": {
      "text/plain": [
       "stock_id\n",
       "1217    True\n",
       "1219    True\n",
       "1220    True\n",
       "1541    True\n",
       "1558    True\n",
       "1587    True\n",
       "1616    True\n",
       "1617    True\n",
       "1618    True\n",
       "1709    True\n",
       "1712    True\n",
       "1735    True\n",
       "1806    True\n",
       "1817    True\n",
       "2010    True\n",
       "2013    True\n",
       "2028    True\n",
       "2062    True\n",
       "2069    True\n",
       "2402    True\n",
       "2427    True\n",
       "2430    True\n",
       "2431    True\n",
       "2440    True\n",
       "2453    True\n",
       "2459    True\n",
       "2461    True\n",
       "2472    True\n",
       "2476    True\n",
       "2546    True\n",
       "        ... \n",
       "3013    True\n",
       "3015    True\n",
       "3032    True\n",
       "3033    True\n",
       "3311    True\n",
       "3312    True\n",
       "3528    True\n",
       "3550    True\n",
       "3605    True\n",
       "3617    True\n",
       "3694    True\n",
       "4306    True\n",
       "4439    True\n",
       "4720    True\n",
       "4722    True\n",
       "4739    True\n",
       "4961    True\n",
       "4989    True\n",
       "5515    True\n",
       "5538    True\n",
       "5906    True\n",
       "6112    True\n",
       "6201    True\n",
       "6281    True\n",
       "6674    True\n",
       "8103    True\n",
       "8215    True\n",
       "8261    True\n",
       "8411    True\n",
       "9924    True\n",
       "Length: 67, dtype: bool"
      ]
     },
     "execution_count": 13,
     "metadata": {},
     "output_type": "execute_result"
    }
   ],
   "source": [
    "from strategies.Finlab策略 import strategy\n",
    "from finlab.data import Data\n",
    "data = Data()\n",
    "\n",
    "strategy(data)"
   ]
  }
 ],
 "metadata": {
  "kernelspec": {
   "display_name": "Python 3",
   "language": "python",
   "name": "python3"
  },
  "language_info": {
   "codemirror_mode": {
    "name": "ipython",
    "version": 3
   },
   "file_extension": ".py",
   "mimetype": "text/x-python",
   "name": "python",
   "nbconvert_exporter": "python",
   "pygments_lexer": "ipython3",
   "version": "3.8.5"
  }
 },
 "nbformat": 4,
 "nbformat_minor": 4
}

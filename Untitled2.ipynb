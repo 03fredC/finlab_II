{
 "cells": [
  {
   "cell_type": "code",
   "execution_count": 1,
   "id": "27d91ec1",
   "metadata": {},
   "outputs": [],
   "source": [
    "import numpy as np"
   ]
  },
  {
   "cell_type": "code",
   "execution_count": 5,
   "id": "5c8cff0e",
   "metadata": {},
   "outputs": [],
   "source": [
    "xx = np.random.rand(2,3,4)"
   ]
  },
  {
   "cell_type": "code",
   "execution_count": 7,
   "id": "476dd3d8",
   "metadata": {},
   "outputs": [
    {
     "data": {
      "text/plain": [
       "array([[[200.29223143,  78.96040655,  23.0644513 , 193.80579682],\n",
       "        [154.83938838,  37.77001609,  38.00365248, 169.10925314],\n",
       "        [ 94.66540493,  17.41785178, 195.94256789, 111.62319892]],\n",
       "\n",
       "       [[ 57.72702243, 132.64268368, 123.87021747, 188.69919914],\n",
       "        [209.13932994,  22.54460693,   5.38403287, 167.46967045],\n",
       "        [201.25019722, 123.55507314, 148.01421315, 111.88836659]]])"
      ]
     },
     "execution_count": 7,
     "metadata": {},
     "output_type": "execute_result"
    }
   ],
   "source": [
    "xx * 255"
   ]
  },
  {
   "cell_type": "code",
   "execution_count": null,
   "id": "16b52127",
   "metadata": {},
   "outputs": [],
   "source": []
  }
 ],
 "metadata": {
  "kernelspec": {
   "display_name": "finlab",
   "language": "python",
   "name": "finlab"
  },
  "language_info": {
   "codemirror_mode": {
    "name": "ipython",
    "version": 3
   },
   "file_extension": ".py",
   "mimetype": "text/x-python",
   "name": "python",
   "nbconvert_exporter": "python",
   "pygments_lexer": "ipython3",
   "version": "3.7.16"
  }
 },
 "nbformat": 4,
 "nbformat_minor": 5
}

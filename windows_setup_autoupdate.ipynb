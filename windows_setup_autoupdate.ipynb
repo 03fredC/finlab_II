{
 "cells": [
  {
   "cell_type": "markdown",
   "metadata": {},
   "source": [
    "# 操作說明\n",
    "\n",
    "windows 要用檔案排程器來操作，請參考hahow課程中「章節1 - 單元5」的老師的話來操作喔！"
   ]
  },
  {
   "cell_type": "code",
   "execution_count": 1,
   "metadata": {},
   "outputs": [
    {
     "name": "stdout",
     "output_type": "stream",
     "text": [
      "程式或指令碼: C:\\Users\\User\\.conda\\envs\\finlab\\python.exe\n",
      "新增引數: D:\\Finlab\\AI選股策略\\auto_update.py\n",
      "開始位置: D:\\Finlab\\AI選股策略\n"
     ]
    }
   ],
   "source": [
    "import os\n",
    "\n",
    "# 找出課程位置\n",
    "import os\n",
    "course_path = os.getcwd()\n",
    "\n",
    "# 找到 python 執行檔位置\n",
    "import sys\n",
    "python_path = (sys.executable)\n",
    "\n",
    "\n",
    "print('程式或指令碼:', python_path)\n",
    "print('新增引數:', os.path.join(course_path, 'auto_update.py'))\n",
    "print('開始位置:', course_path)"
   ]
  },
  {
   "cell_type": "code",
   "execution_count": null,
   "metadata": {},
   "outputs": [],
   "source": [
    "!conda install -c conda-forge/label/gcc7 nodejs"
   ]
  }
 ],
 "metadata": {
  "kernelspec": {
   "display_name": "finlab",
   "language": "python",
   "name": "finlab"
  },
  "language_info": {
   "codemirror_mode": {
    "name": "ipython",
    "version": 3
   },
   "file_extension": ".py",
   "mimetype": "text/x-python",
   "name": "python",
   "nbconvert_exporter": "python",
   "pygments_lexer": "ipython3",
   "version": "3.7.13"
  }
 },
 "nbformat": 4,
 "nbformat_minor": 4
}
